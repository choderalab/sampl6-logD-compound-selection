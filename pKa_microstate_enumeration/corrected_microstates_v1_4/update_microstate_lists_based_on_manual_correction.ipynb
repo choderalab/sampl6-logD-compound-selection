{
 "cells": [
  {
   "cell_type": "markdown",
   "metadata": {},
   "source": [
    "# Updating Microstate Lists Based on Manual Correction\n",
    "\n",
    "This jupyter notebook incorporates a participant's suggested microstates (Robert Fraczkiewicz) and removes dublicated microstates(resonance structures and cis-trans isomers) detected by visual inspection. "
   ]
  },
  {
   "cell_type": "code",
   "execution_count": null,
   "metadata": {
    "collapsed": true
   },
   "outputs": [],
   "source": []
  }
 ],
 "metadata": {
  "kernelspec": {
   "display_name": "Python 3",
   "language": "python",
   "name": "python3"
  },
  "language_info": {
   "codemirror_mode": {
    "name": "ipython",
    "version": 3
   },
   "file_extension": ".py",
   "mimetype": "text/x-python",
   "name": "python",
   "nbconvert_exporter": "python",
   "pygments_lexer": "ipython3",
   "version": "3.5.3"
  }
 },
 "nbformat": 4,
 "nbformat_minor": 2
}

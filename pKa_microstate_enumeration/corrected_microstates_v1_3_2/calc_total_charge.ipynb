{
 "cells": [
  {
   "cell_type": "markdown",
   "metadata": {},
   "source": [
    "# How to calculate total charge of a molecule?"
   ]
  },
  {
   "cell_type": "code",
   "execution_count": 4,
   "metadata": {
    "collapsed": true
   },
   "outputs": [],
   "source": [
    "from openeye import oechem, oedepict\n",
    "import oenotebook as oenb\n",
    "import pandas as pd\n",
    "\n",
    "def depict_smiles(smiles):\n",
    "    mol = oechem.OEMol()\n",
    "    oechem.OESmilesToMol(mol,smiles)\n",
    "    return oenb.draw_mol(mol)"
   ]
  },
  {
   "cell_type": "code",
   "execution_count": 15,
   "metadata": {
    "collapsed": true
   },
   "outputs": [],
   "source": [
    "def get_total_charge(smiles):\n",
    "    mol = oechem.OEMol()\n",
    "    oechem.OESmilesToMol(mol,smiles)\n",
    "    \n",
    "    total_charge = 0\n",
    "    for a in mol.GetAtomIter():\n",
    "        total_charge += a.GetFormalCharge()\n",
    "    return total_charge\n",
    "\n",
    "def compare_total_charge(smiles1, smiles2):\n",
    "    total_charge1 = get_total_charge(smiles1)\n",
    "    total_charge2 = get_total_charge(smiles2)\n",
    "    if total_charge1 == total_charge2:\n",
    "        return True\n",
    "    else:\n",
    "        return False"
   ]
  },
  {
   "cell_type": "code",
   "execution_count": 13,
   "metadata": {},
   "outputs": [
    {
     "data": {
      "image/png": "[encoded data removed]",
      "text/plain": [
       "<IPython.core.display.Image object>"
      ]
     },
     "execution_count": 13,
     "metadata": {},
     "output_type": "execute_result"
    }
   ],
   "source": [
    "smiles = \"[H]NC1=[NH+]C=[NH+]C2=C1C=NN2c3ccccc3\"\n",
    "depict_smiles(smiles)"
   ]
  },
  {
   "cell_type": "code",
   "execution_count": 14,
   "metadata": {},
   "outputs": [
    {
     "data": {
      "text/plain": [
       "2"
      ]
     },
     "execution_count": 14,
     "metadata": {},
     "output_type": "execute_result"
    }
   ],
   "source": [
    "get_total_charge(smiles)"
   ]
  },
  {
   "cell_type": "code",
   "execution_count": 16,
   "metadata": {},
   "outputs": [
    {
     "data": {
      "text/plain": [
       "True"
      ]
     },
     "execution_count": 16,
     "metadata": {},
     "output_type": "execute_result"
    }
   ],
   "source": [
    "smiles1 = \"[H]NC1=[NH+]C=[NH+]C2=C1C=NN2c3ccccc3\"\n",
    "smiles2 = \"NC1=[NH+]C=[NH+]C2=C1C=NN2c3ccccc3\"\n",
    "compare_total_charge(smiles1, smiles2)"
   ]
  },
  {
   "cell_type": "code",
   "execution_count": 18,
   "metadata": {},
   "outputs": [
    {
     "data": {
      "text/plain": [
       "False"
      ]
     },
     "execution_count": 18,
     "metadata": {},
     "output_type": "execute_result"
    }
   ],
   "source": [
    "smiles1 = 'c1cc2c(cc1O)c3c(o2)C(=[OH+])NCCC3'\n",
    "smiles2 = 'c1cc2c(cc1[O-])c3c(o2)C(=NCCC3)[O-]'\n",
    "compare_total_charge(smiles1, smiles2)"
   ]
  },
  {
   "cell_type": "code",
   "execution_count": null,
   "metadata": {
    "collapsed": true
   },
   "outputs": [],
   "source": []
  }
 ],
 "metadata": {
  "kernelspec": {
   "display_name": "Python 3",
   "language": "python",
   "name": "python3"
  },
  "language_info": {
   "codemirror_mode": {
    "name": "ipython",
    "version": 3
   },
   "file_extension": ".py",
   "mimetype": "text/x-python",
   "name": "python",
   "nbconvert_exporter": "python",
   "pygments_lexer": "ipython3",
   "version": "3.5.3"
  }
 },
 "nbformat": 4,
 "nbformat_minor": 2
}

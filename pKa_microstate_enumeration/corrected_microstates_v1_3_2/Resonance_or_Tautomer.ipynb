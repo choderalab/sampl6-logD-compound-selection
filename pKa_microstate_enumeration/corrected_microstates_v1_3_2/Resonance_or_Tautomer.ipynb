{
 "cells": [
  {
   "cell_type": "code",
   "execution_count": 1,
   "metadata": {
    "collapsed": true
   },
   "outputs": [],
   "source": [
    "from openeye import oechem, oequacpac"
   ]
  },
  {
   "cell_type": "markdown",
   "metadata": {},
   "source": [
    "# Check two smiles\n",
    "\n",
    "On a first pass, I wrote methods to check if two provided smiles are different microstates or resonance structuress of each other. \n",
    "Below, is a method for how to get a list of microstates that are not resonance structures.\n",
    "- Caitlin Bannan, 2017/11/20"
   ]
  },
  {
   "cell_type": "code",
   "execution_count": 2,
   "metadata": {
    "collapsed": true
   },
   "outputs": [],
   "source": [
    "def get_labeled_mol(smiles, label='heavy'):\n",
    "    \"\"\"\n",
    "    returns an OEMol with heavy atoms labeled with a specific indice\n",
    "    \"\"\"\n",
    "    mol = oechem.OEMol()\n",
    "    if not oechem.OESmilesToMol(mol, smiles):\n",
    "        print(\"Couldn't parse smiles (%s) returning None\" % smiles)\n",
    "        return None\n",
    "    \n",
    "    for idx, a in enumerate(mol.GetAtomIter(oechem.OEIsHeavy())):\n",
    "        a.SetData('heavy', idx)\n",
    "    \n",
    "    return mol"
   ]
  },
  {
   "cell_type": "code",
   "execution_count": 14,
   "metadata": {
    "collapsed": true
   },
   "outputs": [],
   "source": [
    "def find_tautomer(mol1, new_taut):\n",
    "    \"\"\"\n",
    "    returns a tautomer of mol1 that has the same cannonical smile as smiles2(new_taut)\n",
    "    \"\"\"\n",
    "    taut_opts = oequacpac.OETautomerOptions()\n",
    "    taut_opts.SetCarbonHybridization(True)\n",
    "    taut_opts.SetLevel(5)\n",
    "    taut_opts.SetMaxSearchTime(60.0)\n",
    "    taut_opts.SetRankTautomers(True)\n",
    "    taut_opts.SetSaveStereo(True) \n",
    "\n",
    "    mol = oechem.OEMol(mol1)\n",
    "    temp_mol = oechem.OEMol()\n",
    "    oechem.OESmilesToMol(temp_mol, new_taut)\n",
    "    smiles = oechem.OEMolToSmiles(temp_mol)\n",
    "\n",
    "    if smiles == oechem.OEMolToSmiles(mol):\n",
    "        print(\"initial mol is the same as the tautomer\")\n",
    "        return mol\n",
    "    \n",
    "    for taut in oequacpac.OEEnumerateTautomers(mol, taut_opts):\n",
    "        s = oechem.OEMolToSmiles(taut)\n",
    "        if s == smiles:\n",
    "            return oechem.OEMol(taut)\n",
    "        \n",
    "    return None"
   ]
  },
  {
   "cell_type": "code",
   "execution_count": 4,
   "metadata": {
    "collapsed": true
   },
   "outputs": [],
   "source": [
    "def is_resonance(mol1, mol2, label='heavy'):\n",
    "    \"\"\"\n",
    "    Returns True is the two molecules are resonance structures of each other\n",
    "    \n",
    "    This assumes that each heavy atom in mol1 and mol2 have been mapped correct so \n",
    "    identical heavy atoms have the same label 'heavy atom': # in the atom data\n",
    "    \"\"\"\n",
    "    H_counts = dict()\n",
    "    for a in mol1.GetAtomIter(oechem.OEIsHeavy()):\n",
    "        H_counts[a.GetData(label)] = a.GetTotalHCount()\n",
    "\n",
    "    for a in mol2.GetAtomIter(oechem.OEIsHeavy()):\n",
    "        if a.GetTotalHCount() != H_counts[a.GetData(label)]:\n",
    "            return False\n",
    "    \n",
    "    return True"
   ]
  },
  {
   "cell_type": "code",
   "execution_count": 7,
   "metadata": {
    "collapsed": true
   },
   "outputs": [],
   "source": [
    "def test_smiles(smiles1, smiles2):\n",
    "    mol1 = get_labeled_mol(smiles1)\n",
    "    mol2 = find_tautomer(mol1, smiles2)\n",
    "    if mol2 is not None:\n",
    "        res = is_resonance(mol1, mol2)\n",
    "        print(\"These are resonance structures: %s\" % res)\n",
    "        return res\n",
    "    else:\n",
    "        print(\"Could not find tautomer with smiles (%s)\" % smiles2)\n",
    "        return None"
   ]
  },
  {
   "cell_type": "markdown",
   "metadata": {},
   "source": [
    "# Example for different microstates"
   ]
  },
  {
   "cell_type": "code",
   "execution_count": 8,
   "metadata": {},
   "outputs": [
    {
     "name": "stdout",
     "output_type": "stream",
     "text": [
      "Could not find tautomer with smiles (c1cc2c(cc1[O-])c3c(o2)C(=NCCC3)[O-])\n"
     ]
    }
   ],
   "source": [
    "# These are two different microstates\n",
    "taut1 = 'c1cc2c(cc1O)c3c(o2)C(=[OH+])NCCC3'\n",
    "taut2 = 'c1cc2c(cc1[O-])c3c(o2)C(=NCCC3)[O-]'\n",
    "test_smiles(taut1, taut2)"
   ]
  },
  {
   "cell_type": "markdown",
   "metadata": {},
   "source": [
    "# Example for same microstate different resonance"
   ]
  },
  {
   "cell_type": "code",
   "execution_count": 9,
   "metadata": {},
   "outputs": [
    {
     "name": "stdout",
     "output_type": "stream",
     "text": [
      "These are resonance structures: True\n"
     ]
    },
    {
     "data": {
      "text/plain": [
       "True"
      ]
     },
     "execution_count": 9,
     "metadata": {},
     "output_type": "execute_result"
    }
   ],
   "source": [
    "# These two are resonance structures of the same microstate:\n",
    "res1 = 'c1cc2=[O+]C3=C(NCCCC3=c2cc1O)[O-]'\n",
    "res2 = 'c1cc2c(cc1O)c3c(o2)C(=O)NCCC3'\n",
    "test_smiles(res1, res2)"
   ]
  },
  {
   "cell_type": "code",
   "execution_count": 10,
   "metadata": {},
   "outputs": [
    {
     "name": "stdout",
     "output_type": "stream",
     "text": [
      "These are resonance structures: True\n"
     ]
    },
    {
     "data": {
      "text/plain": [
       "True"
      ]
     },
     "execution_count": 10,
     "metadata": {},
     "output_type": "execute_result"
    }
   ],
   "source": [
    "res1 = \"COc1ccc(cc1)c2c-3c([nH]c[nH+]c3[o+]c2c4ccc(cc4)OC)NCCO\" #SM24_mcir003\n",
    "res2 = \"COc1ccc(cc1)c2c3c([nH+]c[nH+]c3oc2c4ccc(cc4)OC)NCCO\" #SM24_micro020\n",
    "test_smiles(res1, res2)"
   ]
  },
  {
   "cell_type": "code",
   "execution_count": 11,
   "metadata": {},
   "outputs": [
    {
     "name": "stdout",
     "output_type": "stream",
     "text": [
      "These are resonance structures: True\n"
     ]
    },
    {
     "data": {
      "text/plain": [
       "True"
      ]
     },
     "execution_count": 11,
     "metadata": {},
     "output_type": "execute_result"
    }
   ],
   "source": [
    "res1 = \"COc1ccc(cc1)c2c3c(=[NH+]CCO)[nH]cnc3oc2c4ccc(cc4)OC\" #SM24_mcir011\n",
    "res2 =  \"COc1ccc(cc1)c2c3c(=[NH+]CCO)[nH+]c[n-]c3oc2c4ccc(cc4)OC \"#SM24_micro016\n",
    "test_smiles(res1, res2)"
   ]
  },
  {
   "cell_type": "code",
   "execution_count": 17,
   "metadata": {},
   "outputs": [
    {
     "name": "stdout",
     "output_type": "stream",
     "text": [
      "These are resonance structures: True\n"
     ]
    },
    {
     "data": {
      "text/plain": [
       "True"
      ]
     },
     "execution_count": 17,
     "metadata": {},
     "output_type": "execute_result"
    }
   ],
   "source": [
    "# resonance\n",
    "res1 = \"c1ccc(cc1)Cc2nnc(s2)N=C(c3cccs3)[O-]\"  #SM03_micro002\n",
    "res2 = \"c1ccc(cc1)Cc2[n-][n-]c(=NC(=O)c3cccs3)[s+]2\"  #SM03_micro018\n",
    "\n",
    "test_smiles(res1, res2)"
   ]
  },
  {
   "cell_type": "code",
   "execution_count": 18,
   "metadata": {},
   "outputs": [
    {
     "name": "stdout",
     "output_type": "stream",
     "text": [
      "These are resonance structures: True\n"
     ]
    },
    {
     "data": {
      "text/plain": [
       "True"
      ]
     },
     "execution_count": 18,
     "metadata": {},
     "output_type": "execute_result"
    }
   ],
   "source": [
    "# resonance\n",
    "res1 = \"c1ccc(cc1)Cc2nnc(s2)/N=C(/c3cccs3)\\[O-]\"  #SM03_micro007\n",
    "res2 = \"c1ccc(cc1)Cc2[n-][n-]c(=NC(=O)c3cccs3)[s+]2\"  #SM03_micro018\n",
    "\n",
    "test_smiles(res1, res2)"
   ]
  },
  {
   "cell_type": "markdown",
   "metadata": {},
   "source": [
    "# Example for same microstate different geometric isomers"
   ]
  },
  {
   "cell_type": "code",
   "execution_count": 16,
   "metadata": {},
   "outputs": [
    {
     "name": "stdout",
     "output_type": "stream",
     "text": [
      "Could not find tautomer with smiles (c1ccc(cc1)Cc2nnc(s2)/N=C(/c3cccs3)\\[O-])\n"
     ]
    }
   ],
   "source": [
    "# Geometric isomers\n",
    "res1 = \"c1ccc(cc1)Cc2nnc(s2)N=C(c3cccs3)[O-]\"  #SM03_micro002\n",
    "res2 = \"c1ccc(cc1)Cc2nnc(s2)/N=C(/c3cccs3)\\[O-]\"  #SM03_micro007\n",
    "test_smiles(res1, res2)"
   ]
  },
  {
   "cell_type": "markdown",
   "metadata": {
    "collapsed": true
   },
   "source": [
    "# Find all Microstates\n",
    "\n",
    "Here's how I would go about finding all the microstates.\n",
    "However, I just put in some basic tautomer options, they probably do need to be adjusted. "
   ]
  },
  {
   "cell_type": "code",
   "execution_count": 11,
   "metadata": {
    "collapsed": true
   },
   "outputs": [],
   "source": [
    "def find_all_microstates(mol1):\n",
    "    \"\"\"\n",
    "    returns a list of microstates that are not resonance structures of mol1\n",
    "    \n",
    "    NOTE - you will probably want to adjust the tautomer options\n",
    "    \"\"\"\n",
    "    taut_opts = oequacpac.OETautomerOptions()\n",
    "    taut_opts.SetCarbonHybridization(True)\n",
    "    taut_opts.SetLevel(5)\n",
    "    taut_opts.SetMaxSearchTime(60.0)\n",
    "    taut_opts.SetRankTautomers(True)\n",
    "    taut_opts.SetSaveStereo(True)\n",
    "\n",
    "    mol = oechem.OEMol(mol1)\n",
    "    for idx, a in enumerate(mol.GetAtomIter(oechem.OEIsHeavy())):\n",
    "        a.SetData('heavy', idx)\n",
    "\n",
    "    microstates = list()\n",
    "    for taut in oequacpac.OEEnumerateTautomers(mol, taut_opts):\n",
    "        if not is_resonance(mol, taut):\n",
    "            microstates.append(oechem.OEMol(taut))\n",
    "\n",
    "    return microstates"
   ]
  }
 ],
 "metadata": {
  "kernelspec": {
   "display_name": "Python 3",
   "language": "python",
   "name": "python3"
  },
  "language_info": {
   "codemirror_mode": {
    "name": "ipython",
    "version": 3
   },
   "file_extension": ".py",
   "mimetype": "text/x-python",
   "name": "python",
   "nbconvert_exporter": "python",
   "pygments_lexer": "ipython3",
   "version": "3.5.3"
  }
 },
 "nbformat": 4,
 "nbformat_minor": 2
}

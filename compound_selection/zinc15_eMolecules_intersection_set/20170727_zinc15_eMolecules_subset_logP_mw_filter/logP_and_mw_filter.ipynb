{
 "cells": [
  {
   "cell_type": "code",
   "execution_count": 2,
   "metadata": {
    "collapsed": true
   },
   "outputs": [],
   "source": [
    "#!/usr/bin/env python3\n",
    "\n",
    "# This script takes a csv file for a set molecules with a SMILES column as input. OpenEye \n",
    "# functionalities are used to calculate XlogP\n",
    "\n",
    "import pandas as pd\n",
    "import numpy as np\n",
    "from openeye import oechem, oedepict, oemolprop\n",
    "import oenotebook as oenb\n",
    "import matplotlib.pyplot as plt\n",
    "%matplotlib inline"
   ]
  },
  {
   "cell_type": "markdown",
   "metadata": {},
   "source": [
    "## 1. Filtering by logP"
   ]
  },
  {
   "cell_type": "code",
   "execution_count": 3,
   "metadata": {},
   "outputs": [
    {
     "name": "stdout",
     "output_type": "stream",
     "text": [
      "Initial number of molecules:  180\n"
     ]
    },
    {
     "data": {
      "text/html": [
       "<div>\n",
       "<style>\n",
       "    .dataframe thead tr:only-child th {\n",
       "        text-align: right;\n",
       "    }\n",
       "\n",
       "    .dataframe thead th {\n",
       "        text-align: left;\n",
       "    }\n",
       "\n",
       "    .dataframe tbody tr th {\n",
       "        vertical-align: top;\n",
       "    }\n",
       "</style>\n",
       "<table border=\"1\" class=\"dataframe\">\n",
       "  <thead>\n",
       "    <tr style=\"text-align: right;\">\n",
       "      <th></th>\n",
       "      <th>eMolecules ID</th>\n",
       "      <th>canonical isomeric SMILES</th>\n",
       "      <th>eMolecules SMILES</th>\n",
       "      <th>pKas in [3,11]</th>\n",
       "      <th>XlogP</th>\n",
       "    </tr>\n",
       "  </thead>\n",
       "  <tbody>\n",
       "    <tr>\n",
       "      <th>0</th>\n",
       "      <td>7616001</td>\n",
       "      <td>c1cc2c(c(sc2nc1)C(=O)N)N</td>\n",
       "      <td>NC(=O)c1sc2c(c1N)cccn2</td>\n",
       "      <td>[3.454, 10.685]</td>\n",
       "      <td>0.257</td>\n",
       "    </tr>\n",
       "    <tr>\n",
       "      <th>1</th>\n",
       "      <td>1570822</td>\n",
       "      <td>c1cc2cccnc2c(c1)NC(=O)c3ccc(cc3)Cl</td>\n",
       "      <td>Clc1ccc(cc1)C(=O)Nc1cccc2c1nccc2</td>\n",
       "      <td>[3.95]</td>\n",
       "      <td>3.588</td>\n",
       "    </tr>\n",
       "    <tr>\n",
       "      <th>2</th>\n",
       "      <td>44750813</td>\n",
       "      <td>Cc1cnc(s1)Nc2ccccn2</td>\n",
       "      <td>Cc1cnc(s1)Nc1ccccn1</td>\n",
       "      <td>[3.718, 6.011]</td>\n",
       "      <td>1.472</td>\n",
       "    </tr>\n",
       "    <tr>\n",
       "      <th>3</th>\n",
       "      <td>859659</td>\n",
       "      <td>c1ccc(cc1)c2cc(c(s2)N)C(=O)N</td>\n",
       "      <td>NC(=O)c1cc(sc1N)c1ccccc1</td>\n",
       "      <td>[9.967]</td>\n",
       "      <td>2.157</td>\n",
       "    </tr>\n",
       "    <tr>\n",
       "      <th>4</th>\n",
       "      <td>1155596</td>\n",
       "      <td>COc1ccc(cc1)NC(=O)/C=C/c2ccccc2</td>\n",
       "      <td>COc1ccc(cc1)NC(=O)/C=C/c1ccccc1</td>\n",
       "      <td>[5.1]</td>\n",
       "      <td>3.48</td>\n",
       "    </tr>\n",
       "  </tbody>\n",
       "</table>\n",
       "</div>"
      ],
      "text/plain": [
       "   eMolecules ID           canonical isomeric SMILES  \\\n",
       "0        7616001            c1cc2c(c(sc2nc1)C(=O)N)N   \n",
       "1        1570822  c1cc2cccnc2c(c1)NC(=O)c3ccc(cc3)Cl   \n",
       "2       44750813                 Cc1cnc(s1)Nc2ccccn2   \n",
       "3         859659        c1ccc(cc1)c2cc(c(s2)N)C(=O)N   \n",
       "4        1155596     COc1ccc(cc1)NC(=O)/C=C/c2ccccc2   \n",
       "\n",
       "                  eMolecules SMILES   pKas in [3,11]  XlogP  \n",
       "0            NC(=O)c1sc2c(c1N)cccn2  [3.454, 10.685]  0.257  \n",
       "1  Clc1ccc(cc1)C(=O)Nc1cccc2c1nccc2           [3.95]  3.588  \n",
       "2               Cc1cnc(s1)Nc1ccccn1   [3.718, 6.011]  1.472  \n",
       "3          NC(=O)c1cc(sc1N)c1ccccc1          [9.967]  2.157  \n",
       "4   COc1ccc(cc1)NC(=O)/C=C/c1ccccc1            [5.1]   3.48  "
      ]
     },
     "execution_count": 3,
     "metadata": {},
     "output_type": "execute_result"
    }
   ],
   "source": [
    "###### IMPORT PKA FILTERED MOLECULE LIST FROM CSV FILE ######\n",
    "df_pKa = pd.read_csv(\"df_pKa_interval_3-11_spread.csv\")\n",
    "\n",
    "df_XlogP = df_pKa.loc[:, (\"eMolecules ID\", \"canonical isomeric SMILES\", \"eMolecules SMILES\", \"pKas in [3,11]\")]\n",
    "\n",
    "print(\"Initial number of molecules: \", df_XlogP.shape[0])\n",
    "# df_XlogP.head()\n",
    "\n",
    "# make new column for XlogP data \n",
    "df_XlogP[\"XlogP\"] = None\n",
    "\n",
    "for i, row in enumerate(df_XlogP.iterrows()):\n",
    "    smiles = df_XlogP.loc[i,\"canonical isomeric SMILES\"]\n",
    "    mol = oechem.OEGraphMol()\n",
    "    oechem.OESmilesToMol(mol, str(smiles))\n",
    "    \n",
    "    try: \n",
    "        logP=oemolprop.OEGetXLogP(mol)\n",
    "    except RuntimeError:\n",
    "            print(\"Error: i=\",i,\" \", df_molecules.ix[i, \"NAME\"])\n",
    "            logP=float(\"NaN\")\n",
    "            \n",
    "    df_XlogP.loc[i,\"XlogP\"] = float(logP)\n",
    "    del mol\n",
    "df_XlogP.head()"
   ]
  },
  {
   "cell_type": "code",
   "execution_count": 4,
   "metadata": {},
   "outputs": [
    {
     "name": "stdout",
     "output_type": "stream",
     "text": [
      "Number of molecules in logP interval:  178\n"
     ]
    },
    {
     "data": {
      "text/html": [
       "<div>\n",
       "<style>\n",
       "    .dataframe thead tr:only-child th {\n",
       "        text-align: right;\n",
       "    }\n",
       "\n",
       "    .dataframe thead th {\n",
       "        text-align: left;\n",
       "    }\n",
       "\n",
       "    .dataframe tbody tr th {\n",
       "        vertical-align: top;\n",
       "    }\n",
       "</style>\n",
       "<table border=\"1\" class=\"dataframe\">\n",
       "  <thead>\n",
       "    <tr style=\"text-align: right;\">\n",
       "      <th></th>\n",
       "      <th>eMolecules ID</th>\n",
       "      <th>canonical isomeric SMILES</th>\n",
       "      <th>eMolecules SMILES</th>\n",
       "      <th>pKas in [3,11]</th>\n",
       "      <th>XlogP</th>\n",
       "    </tr>\n",
       "  </thead>\n",
       "  <tbody>\n",
       "    <tr>\n",
       "      <th>0</th>\n",
       "      <td>7616001</td>\n",
       "      <td>c1cc2c(c(sc2nc1)C(=O)N)N</td>\n",
       "      <td>NC(=O)c1sc2c(c1N)cccn2</td>\n",
       "      <td>[3.454, 10.685]</td>\n",
       "      <td>0.257</td>\n",
       "    </tr>\n",
       "    <tr>\n",
       "      <th>1</th>\n",
       "      <td>1570822</td>\n",
       "      <td>c1cc2cccnc2c(c1)NC(=O)c3ccc(cc3)Cl</td>\n",
       "      <td>Clc1ccc(cc1)C(=O)Nc1cccc2c1nccc2</td>\n",
       "      <td>[3.95]</td>\n",
       "      <td>3.588</td>\n",
       "    </tr>\n",
       "    <tr>\n",
       "      <th>2</th>\n",
       "      <td>44750813</td>\n",
       "      <td>Cc1cnc(s1)Nc2ccccn2</td>\n",
       "      <td>Cc1cnc(s1)Nc1ccccn1</td>\n",
       "      <td>[3.718, 6.011]</td>\n",
       "      <td>1.472</td>\n",
       "    </tr>\n",
       "    <tr>\n",
       "      <th>3</th>\n",
       "      <td>859659</td>\n",
       "      <td>c1ccc(cc1)c2cc(c(s2)N)C(=O)N</td>\n",
       "      <td>NC(=O)c1cc(sc1N)c1ccccc1</td>\n",
       "      <td>[9.967]</td>\n",
       "      <td>2.157</td>\n",
       "    </tr>\n",
       "    <tr>\n",
       "      <th>4</th>\n",
       "      <td>1155596</td>\n",
       "      <td>COc1ccc(cc1)NC(=O)/C=C/c2ccccc2</td>\n",
       "      <td>COc1ccc(cc1)NC(=O)/C=C/c1ccccc1</td>\n",
       "      <td>[5.1]</td>\n",
       "      <td>3.48</td>\n",
       "    </tr>\n",
       "  </tbody>\n",
       "</table>\n",
       "</div>"
      ],
      "text/plain": [
       "   eMolecules ID           canonical isomeric SMILES  \\\n",
       "0        7616001            c1cc2c(c(sc2nc1)C(=O)N)N   \n",
       "1        1570822  c1cc2cccnc2c(c1)NC(=O)c3ccc(cc3)Cl   \n",
       "2       44750813                 Cc1cnc(s1)Nc2ccccn2   \n",
       "3         859659        c1ccc(cc1)c2cc(c(s2)N)C(=O)N   \n",
       "4        1155596     COc1ccc(cc1)NC(=O)/C=C/c2ccccc2   \n",
       "\n",
       "                  eMolecules SMILES   pKas in [3,11]  XlogP  \n",
       "0            NC(=O)c1sc2c(c1N)cccn2  [3.454, 10.685]  0.257  \n",
       "1  Clc1ccc(cc1)C(=O)Nc1cccc2c1nccc2           [3.95]  3.588  \n",
       "2               Cc1cnc(s1)Nc1ccccn1   [3.718, 6.011]  1.472  \n",
       "3          NC(=O)c1cc(sc1N)c1ccccc1          [9.967]  2.157  \n",
       "4   COc1ccc(cc1)NC(=O)/C=C/c1ccccc1            [5.1]   3.48  "
      ]
     },
     "execution_count": 4,
     "metadata": {},
     "output_type": "execute_result"
    }
   ],
   "source": [
    "##### ELIMINATE MOLECULES OUTSIDE ACCEPTABLE LOGP INTEVAL: -1 <= logP <= 6  #####\n",
    "\n",
    "# Select molecules within desired logP interval\n",
    "df_XlogP_interval = df_XlogP.loc[(-1 <= df_XlogP[\"XlogP\"])]\n",
    "df_XlogP_interval = df_XlogP_interval.loc[(df_XlogP_interval[\"XlogP\"] <= 6)].reindex()\n",
    "\n",
    "print(\"Number of molecules in logP interval: \", df_XlogP_interval.shape[0])\n",
    "\n",
    "# Save dataframe of molecules that are withing XlogP interval criteria.\n",
    "df_XlogP_interval.to_csv(\"df_XlogP_interval.csv\")\n",
    "\n",
    "df_XlogP_interval.head()"
   ]
  },
  {
   "cell_type": "code",
   "execution_count": 5,
   "metadata": {},
   "outputs": [
    {
     "data": {
      "text/plain": [
       "<matplotlib.text.Text at 0x113c13080>"
      ]
     },
     "execution_count": 5,
     "metadata": {},
     "output_type": "execute_result"
    },
    {
     "data": {
      "image/png": "[encoded data removed]",
      "text/plain": [
       "<matplotlib.figure.Figure at 0x113b8d1d0>"
      ]
     },
     "metadata": {},
     "output_type": "display_data"
    }
   ],
   "source": [
    "XlogP_values = df_XlogP_interval.loc[:, \"XlogP\"]\n",
    "plt.hist(XlogP_values, bins=12)\n",
    "plt.xlabel(\"XlogP\")\n",
    "plt.ylabel(\"molecule count\")"
   ]
  },
  {
   "cell_type": "markdown",
   "metadata": {
    "collapsed": true
   },
   "source": [
    "## 2. Filtering by Molecular Weight"
   ]
  },
  {
   "cell_type": "code",
   "execution_count": 6,
   "metadata": {},
   "outputs": [
    {
     "data": {
      "text/html": [
       "<div>\n",
       "<style>\n",
       "    .dataframe thead tr:only-child th {\n",
       "        text-align: right;\n",
       "    }\n",
       "\n",
       "    .dataframe thead th {\n",
       "        text-align: left;\n",
       "    }\n",
       "\n",
       "    .dataframe tbody tr th {\n",
       "        vertical-align: top;\n",
       "    }\n",
       "</style>\n",
       "<table border=\"1\" class=\"dataframe\">\n",
       "  <thead>\n",
       "    <tr style=\"text-align: right;\">\n",
       "      <th></th>\n",
       "      <th>eMolecules ID</th>\n",
       "      <th>canonical isomeric SMILES</th>\n",
       "      <th>eMolecules SMILES</th>\n",
       "      <th>pKas in [3,11]</th>\n",
       "      <th>XlogP</th>\n",
       "      <th>MolWt</th>\n",
       "      <th>Availability (mg)</th>\n",
       "      <th>Price</th>\n",
       "    </tr>\n",
       "  </thead>\n",
       "  <tbody>\n",
       "    <tr>\n",
       "      <th>0</th>\n",
       "      <td>7616001</td>\n",
       "      <td>c1cc2c(c(sc2nc1)C(=O)N)N</td>\n",
       "      <td>NC(=O)c1sc2c(c1N)cccn2</td>\n",
       "      <td>[3.454, 10.685]</td>\n",
       "      <td>0.257</td>\n",
       "      <td>193.226</td>\n",
       "      <td>970.0</td>\n",
       "      <td>168.0</td>\n",
       "    </tr>\n",
       "    <tr>\n",
       "      <th>1</th>\n",
       "      <td>1570822</td>\n",
       "      <td>c1cc2cccnc2c(c1)NC(=O)c3ccc(cc3)Cl</td>\n",
       "      <td>Clc1ccc(cc1)C(=O)Nc1cccc2c1nccc2</td>\n",
       "      <td>[3.95]</td>\n",
       "      <td>3.588</td>\n",
       "      <td>282.724</td>\n",
       "      <td>176.0</td>\n",
       "      <td>168.0</td>\n",
       "    </tr>\n",
       "    <tr>\n",
       "      <th>2</th>\n",
       "      <td>44750813</td>\n",
       "      <td>Cc1cnc(s1)Nc2ccccn2</td>\n",
       "      <td>Cc1cnc(s1)Nc1ccccn1</td>\n",
       "      <td>[3.718, 6.011]</td>\n",
       "      <td>1.472</td>\n",
       "      <td>191.253</td>\n",
       "      <td>1015.0</td>\n",
       "      <td>168.0</td>\n",
       "    </tr>\n",
       "    <tr>\n",
       "      <th>3</th>\n",
       "      <td>859659</td>\n",
       "      <td>c1ccc(cc1)c2cc(c(s2)N)C(=O)N</td>\n",
       "      <td>NC(=O)c1cc(sc1N)c1ccccc1</td>\n",
       "      <td>[9.967]</td>\n",
       "      <td>2.157</td>\n",
       "      <td>218.275</td>\n",
       "      <td>19471.5</td>\n",
       "      <td>223.0</td>\n",
       "    </tr>\n",
       "    <tr>\n",
       "      <th>4</th>\n",
       "      <td>1155596</td>\n",
       "      <td>COc1ccc(cc1)NC(=O)/C=C/c2ccccc2</td>\n",
       "      <td>COc1ccc(cc1)NC(=O)/C=C/c1ccccc1</td>\n",
       "      <td>[5.1]</td>\n",
       "      <td>3.48</td>\n",
       "      <td>253.296</td>\n",
       "      <td>100.0</td>\n",
       "      <td>168.0</td>\n",
       "    </tr>\n",
       "  </tbody>\n",
       "</table>\n",
       "</div>"
      ],
      "text/plain": [
       "   eMolecules ID           canonical isomeric SMILES  \\\n",
       "0        7616001            c1cc2c(c(sc2nc1)C(=O)N)N   \n",
       "1        1570822  c1cc2cccnc2c(c1)NC(=O)c3ccc(cc3)Cl   \n",
       "2       44750813                 Cc1cnc(s1)Nc2ccccn2   \n",
       "3         859659        c1ccc(cc1)c2cc(c(s2)N)C(=O)N   \n",
       "4        1155596     COc1ccc(cc1)NC(=O)/C=C/c2ccccc2   \n",
       "\n",
       "                  eMolecules SMILES   pKas in [3,11]  XlogP    MolWt  \\\n",
       "0            NC(=O)c1sc2c(c1N)cccn2  [3.454, 10.685]  0.257  193.226   \n",
       "1  Clc1ccc(cc1)C(=O)Nc1cccc2c1nccc2           [3.95]  3.588  282.724   \n",
       "2               Cc1cnc(s1)Nc1ccccn1   [3.718, 6.011]  1.472  191.253   \n",
       "3          NC(=O)c1cc(sc1N)c1ccccc1          [9.967]  2.157  218.275   \n",
       "4   COc1ccc(cc1)NC(=O)/C=C/c1ccccc1            [5.1]   3.48  253.296   \n",
       "\n",
       "   Availability (mg)  Price  \n",
       "0              970.0  168.0  \n",
       "1              176.0  168.0  \n",
       "2             1015.0  168.0  \n",
       "3            19471.5  223.0  \n",
       "4              100.0  168.0  "
      ]
     },
     "execution_count": 6,
     "metadata": {},
     "output_type": "execute_result"
    }
   ],
   "source": [
    "df_eMol = pd.read_csv(\"isosmiles-list-search-tier1-100mg.csv\")\n",
    "df_eMol_mw = df_eMol.loc[:,(\"eMolecules ID\",\"MolWt\",\"Availability (mg)\", \"Price\")]\n",
    "\n",
    "# Merge dataframes based on eMolecules ID\n",
    "df_mw = df_XlogP_interval.merge(df_eMol_mw, on=\"eMolecules ID\")\n",
    "df_mw.head()"
   ]
  },
  {
   "cell_type": "code",
   "execution_count": 7,
   "metadata": {},
   "outputs": [
    {
     "data": {
      "text/html": [
       "<div>\n",
       "<style>\n",
       "    .dataframe thead tr:only-child th {\n",
       "        text-align: right;\n",
       "    }\n",
       "\n",
       "    .dataframe thead th {\n",
       "        text-align: left;\n",
       "    }\n",
       "\n",
       "    .dataframe tbody tr th {\n",
       "        vertical-align: top;\n",
       "    }\n",
       "</style>\n",
       "<table border=\"1\" class=\"dataframe\">\n",
       "  <thead>\n",
       "    <tr style=\"text-align: right;\">\n",
       "      <th></th>\n",
       "      <th>eMolecules ID</th>\n",
       "      <th>canonical isomeric SMILES</th>\n",
       "      <th>eMolecules SMILES</th>\n",
       "      <th>pKas in [3,11]</th>\n",
       "      <th>XlogP</th>\n",
       "      <th>MolWt</th>\n",
       "      <th>Availability (mg)</th>\n",
       "      <th>Price</th>\n",
       "      <th>group</th>\n",
       "    </tr>\n",
       "  </thead>\n",
       "  <tbody>\n",
       "    <tr>\n",
       "      <th>0</th>\n",
       "      <td>7616001</td>\n",
       "      <td>c1cc2c(c(sc2nc1)C(=O)N)N</td>\n",
       "      <td>NC(=O)c1sc2c(c1N)cccn2</td>\n",
       "      <td>[3.454, 10.685]</td>\n",
       "      <td>0.257</td>\n",
       "      <td>193.226</td>\n",
       "      <td>970.0</td>\n",
       "      <td>168.0</td>\n",
       "      <td>fragment-like</td>\n",
       "    </tr>\n",
       "    <tr>\n",
       "      <th>1</th>\n",
       "      <td>1570822</td>\n",
       "      <td>c1cc2cccnc2c(c1)NC(=O)c3ccc(cc3)Cl</td>\n",
       "      <td>Clc1ccc(cc1)C(=O)Nc1cccc2c1nccc2</td>\n",
       "      <td>[3.95]</td>\n",
       "      <td>3.588</td>\n",
       "      <td>282.724</td>\n",
       "      <td>176.0</td>\n",
       "      <td>168.0</td>\n",
       "      <td>fragment-like</td>\n",
       "    </tr>\n",
       "    <tr>\n",
       "      <th>2</th>\n",
       "      <td>44750813</td>\n",
       "      <td>Cc1cnc(s1)Nc2ccccn2</td>\n",
       "      <td>Cc1cnc(s1)Nc1ccccn1</td>\n",
       "      <td>[3.718, 6.011]</td>\n",
       "      <td>1.472</td>\n",
       "      <td>191.253</td>\n",
       "      <td>1015.0</td>\n",
       "      <td>168.0</td>\n",
       "      <td>fragment-like</td>\n",
       "    </tr>\n",
       "    <tr>\n",
       "      <th>3</th>\n",
       "      <td>859659</td>\n",
       "      <td>c1ccc(cc1)c2cc(c(s2)N)C(=O)N</td>\n",
       "      <td>NC(=O)c1cc(sc1N)c1ccccc1</td>\n",
       "      <td>[9.967]</td>\n",
       "      <td>2.157</td>\n",
       "      <td>218.275</td>\n",
       "      <td>19471.5</td>\n",
       "      <td>223.0</td>\n",
       "      <td>fragment-like</td>\n",
       "    </tr>\n",
       "    <tr>\n",
       "      <th>4</th>\n",
       "      <td>1155596</td>\n",
       "      <td>COc1ccc(cc1)NC(=O)/C=C/c2ccccc2</td>\n",
       "      <td>COc1ccc(cc1)NC(=O)/C=C/c1ccccc1</td>\n",
       "      <td>[5.1]</td>\n",
       "      <td>3.48</td>\n",
       "      <td>253.296</td>\n",
       "      <td>100.0</td>\n",
       "      <td>168.0</td>\n",
       "      <td>fragment-like</td>\n",
       "    </tr>\n",
       "  </tbody>\n",
       "</table>\n",
       "</div>"
      ],
      "text/plain": [
       "   eMolecules ID           canonical isomeric SMILES  \\\n",
       "0        7616001            c1cc2c(c(sc2nc1)C(=O)N)N   \n",
       "1        1570822  c1cc2cccnc2c(c1)NC(=O)c3ccc(cc3)Cl   \n",
       "2       44750813                 Cc1cnc(s1)Nc2ccccn2   \n",
       "3         859659        c1ccc(cc1)c2cc(c(s2)N)C(=O)N   \n",
       "4        1155596     COc1ccc(cc1)NC(=O)/C=C/c2ccccc2   \n",
       "\n",
       "                  eMolecules SMILES   pKas in [3,11]  XlogP    MolWt  \\\n",
       "0            NC(=O)c1sc2c(c1N)cccn2  [3.454, 10.685]  0.257  193.226   \n",
       "1  Clc1ccc(cc1)C(=O)Nc1cccc2c1nccc2           [3.95]  3.588  282.724   \n",
       "2               Cc1cnc(s1)Nc1ccccn1   [3.718, 6.011]  1.472  191.253   \n",
       "3          NC(=O)c1cc(sc1N)c1ccccc1          [9.967]  2.157  218.275   \n",
       "4   COc1ccc(cc1)NC(=O)/C=C/c1ccccc1            [5.1]   3.48  253.296   \n",
       "\n",
       "   Availability (mg)  Price          group  \n",
       "0              970.0  168.0  fragment-like  \n",
       "1              176.0  168.0  fragment-like  \n",
       "2             1015.0  168.0  fragment-like  \n",
       "3            19471.5  223.0  fragment-like  \n",
       "4              100.0  168.0  fragment-like  "
      ]
     },
     "execution_count": 7,
     "metadata": {},
     "output_type": "execute_result"
    }
   ],
   "source": [
    "# I will group compounds according to molecular weight into 2 groups.\n",
    "# Fragment-like: 150<= mw <350\n",
    "# Drug-like: 350< mw <=500\n",
    "\n",
    "df_mw[\"group\"] = None\n",
    "for i, row in enumerate(df_mw.iterrows()):\n",
    "    mw =df_mw.loc[i,\"MolWt\"]\n",
    "    if (150 <= mw) and (mw < 350):\n",
    "        df_mw.loc[i,\"group\"]= \"fragment-like\"\n",
    "    elif (350 < mw) and (mw <= 500):\n",
    "        df_mw.loc[i,\"group\"]= \"drug-like\"\n",
    "    else:\n",
    "        continue\n",
    "\n",
    "df_mw.head()"
   ]
  },
  {
   "cell_type": "code",
   "execution_count": 8,
   "metadata": {},
   "outputs": [
    {
     "name": "stdout",
     "output_type": "stream",
     "text": [
      "Number of compounds suitable for fragment-like group:  126\n",
      "Number of compounds suitable for drug-like group:  47\n"
     ]
    }
   ],
   "source": [
    "df_frag = df_mw.loc[df_mw[\"group\"] == \"fragment-like\"]\n",
    "print(\"Number of compounds suitable for fragment-like group: \", df_frag.shape[0])\n",
    "\n",
    "df_drug = df_mw.loc[df_mw[\"group\"] == \"drug-like\"]\n",
    "print(\"Number of compounds suitable for drug-like group: \", df_drug.shape[0])"
   ]
  },
  {
   "cell_type": "code",
   "execution_count": 9,
   "metadata": {},
   "outputs": [
    {
     "data": {
      "text/plain": [
       "(0, 6)"
      ]
     },
     "execution_count": 9,
     "metadata": {},
     "output_type": "execute_result"
    },
    {
     "data": {
      "image/png": "[encoded data removed]",
      "text/plain": [
       "<matplotlib.figure.Figure at 0x113ca5c88>"
      ]
     },
     "metadata": {},
     "output_type": "display_data"
    }
   ],
   "source": [
    "# Let's check the logP distribution of fragment-like group\n",
    "XlogP_values = df_frag.loc[:, \"XlogP\"]\n",
    "plt.hist(XlogP_values, bins=10)\n",
    "plt.xlabel(\"XlogP\")\n",
    "plt.ylabel(\"molecule count\")\n",
    "plt.xlim(0,6)"
   ]
  },
  {
   "cell_type": "code",
   "execution_count": 10,
   "metadata": {},
   "outputs": [
    {
     "data": {
      "text/plain": [
       "(0, 10)"
      ]
     },
     "execution_count": 10,
     "metadata": {},
     "output_type": "execute_result"
    },
    {
     "data": {
      "image/png": "[encoded data removed]",
      "text/plain": [
       "<matplotlib.figure.Figure at 0x116002e10>"
      ]
     },
     "metadata": {},
     "output_type": "display_data"
    }
   ],
   "source": [
    "# Let's check the logP distribution of drug-like group\n",
    "XlogP_values = df_drug.loc[:, \"XlogP\"]\n",
    "plt.hist(XlogP_values, bins=10)\n",
    "plt.xlabel(\"XlogP\")\n",
    "plt.ylabel(\"molecule count\")\n",
    "plt.xlim(0,6)\n",
    "plt.ylim(0,10)"
   ]
  },
  {
   "cell_type": "markdown",
   "metadata": {},
   "source": [
    "## 3. Filtering based on number of rotatable bonds"
   ]
  },
  {
   "cell_type": "code",
   "execution_count": 11,
   "metadata": {},
   "outputs": [
    {
     "data": {
      "text/html": [
       "<div>\n",
       "<style>\n",
       "    .dataframe thead tr:only-child th {\n",
       "        text-align: right;\n",
       "    }\n",
       "\n",
       "    .dataframe thead th {\n",
       "        text-align: left;\n",
       "    }\n",
       "\n",
       "    .dataframe tbody tr th {\n",
       "        vertical-align: top;\n",
       "    }\n",
       "</style>\n",
       "<table border=\"1\" class=\"dataframe\">\n",
       "  <thead>\n",
       "    <tr style=\"text-align: right;\">\n",
       "      <th></th>\n",
       "      <th>eMolecules ID</th>\n",
       "      <th>canonical isomeric SMILES</th>\n",
       "      <th>eMolecules SMILES</th>\n",
       "      <th>pKas in [3,11]</th>\n",
       "      <th>XlogP</th>\n",
       "      <th>MolWt</th>\n",
       "      <th>Availability (mg)</th>\n",
       "      <th>Price</th>\n",
       "      <th>group</th>\n",
       "      <th>N_Rot</th>\n",
       "    </tr>\n",
       "  </thead>\n",
       "  <tbody>\n",
       "    <tr>\n",
       "      <th>0</th>\n",
       "      <td>7616001</td>\n",
       "      <td>c1cc2c(c(sc2nc1)C(=O)N)N</td>\n",
       "      <td>NC(=O)c1sc2c(c1N)cccn2</td>\n",
       "      <td>[3.454, 10.685]</td>\n",
       "      <td>0.257</td>\n",
       "      <td>193.226</td>\n",
       "      <td>970.0</td>\n",
       "      <td>168.0</td>\n",
       "      <td>fragment-like</td>\n",
       "      <td>1</td>\n",
       "    </tr>\n",
       "    <tr>\n",
       "      <th>1</th>\n",
       "      <td>1570822</td>\n",
       "      <td>c1cc2cccnc2c(c1)NC(=O)c3ccc(cc3)Cl</td>\n",
       "      <td>Clc1ccc(cc1)C(=O)Nc1cccc2c1nccc2</td>\n",
       "      <td>[3.95]</td>\n",
       "      <td>3.588</td>\n",
       "      <td>282.724</td>\n",
       "      <td>176.0</td>\n",
       "      <td>168.0</td>\n",
       "      <td>fragment-like</td>\n",
       "      <td>3</td>\n",
       "    </tr>\n",
       "    <tr>\n",
       "      <th>2</th>\n",
       "      <td>44750813</td>\n",
       "      <td>Cc1cnc(s1)Nc2ccccn2</td>\n",
       "      <td>Cc1cnc(s1)Nc1ccccn1</td>\n",
       "      <td>[3.718, 6.011]</td>\n",
       "      <td>1.472</td>\n",
       "      <td>191.253</td>\n",
       "      <td>1015.0</td>\n",
       "      <td>168.0</td>\n",
       "      <td>fragment-like</td>\n",
       "      <td>2</td>\n",
       "    </tr>\n",
       "    <tr>\n",
       "      <th>3</th>\n",
       "      <td>859659</td>\n",
       "      <td>c1ccc(cc1)c2cc(c(s2)N)C(=O)N</td>\n",
       "      <td>NC(=O)c1cc(sc1N)c1ccccc1</td>\n",
       "      <td>[9.967]</td>\n",
       "      <td>2.157</td>\n",
       "      <td>218.275</td>\n",
       "      <td>19471.5</td>\n",
       "      <td>223.0</td>\n",
       "      <td>fragment-like</td>\n",
       "      <td>2</td>\n",
       "    </tr>\n",
       "    <tr>\n",
       "      <th>4</th>\n",
       "      <td>1155596</td>\n",
       "      <td>COc1ccc(cc1)NC(=O)/C=C/c2ccccc2</td>\n",
       "      <td>COc1ccc(cc1)NC(=O)/C=C/c1ccccc1</td>\n",
       "      <td>[5.1]</td>\n",
       "      <td>3.48</td>\n",
       "      <td>253.296</td>\n",
       "      <td>100.0</td>\n",
       "      <td>168.0</td>\n",
       "      <td>fragment-like</td>\n",
       "      <td>5</td>\n",
       "    </tr>\n",
       "  </tbody>\n",
       "</table>\n",
       "</div>"
      ],
      "text/plain": [
       "   eMolecules ID           canonical isomeric SMILES  \\\n",
       "0        7616001            c1cc2c(c(sc2nc1)C(=O)N)N   \n",
       "1        1570822  c1cc2cccnc2c(c1)NC(=O)c3ccc(cc3)Cl   \n",
       "2       44750813                 Cc1cnc(s1)Nc2ccccn2   \n",
       "3         859659        c1ccc(cc1)c2cc(c(s2)N)C(=O)N   \n",
       "4        1155596     COc1ccc(cc1)NC(=O)/C=C/c2ccccc2   \n",
       "\n",
       "                  eMolecules SMILES   pKas in [3,11]  XlogP    MolWt  \\\n",
       "0            NC(=O)c1sc2c(c1N)cccn2  [3.454, 10.685]  0.257  193.226   \n",
       "1  Clc1ccc(cc1)C(=O)Nc1cccc2c1nccc2           [3.95]  3.588  282.724   \n",
       "2               Cc1cnc(s1)Nc1ccccn1   [3.718, 6.011]  1.472  191.253   \n",
       "3          NC(=O)c1cc(sc1N)c1ccccc1          [9.967]  2.157  218.275   \n",
       "4   COc1ccc(cc1)NC(=O)/C=C/c1ccccc1            [5.1]   3.48  253.296   \n",
       "\n",
       "   Availability (mg)  Price          group N_Rot  \n",
       "0              970.0  168.0  fragment-like     1  \n",
       "1              176.0  168.0  fragment-like     3  \n",
       "2             1015.0  168.0  fragment-like     2  \n",
       "3            19471.5  223.0  fragment-like     2  \n",
       "4              100.0  168.0  fragment-like     5  "
      ]
     },
     "execution_count": 11,
     "metadata": {},
     "output_type": "execute_result"
    }
   ],
   "source": [
    "# Number of non-terminal rotatable bonds (excluding -OH)\n",
    "\n",
    "df_mw[\"N_Rot\"]=None\n",
    "\n",
    "for i, row in enumerate(df_mw.iterrows()):\n",
    "    smiles = df_mw.loc[i,\"canonical isomeric SMILES\"]\n",
    "    mol = oechem.OEGraphMol()\n",
    "    oechem.OESmilesToMol(mol, smiles)\n",
    "    \n",
    "    rotcounts = []\n",
    "    nrots = oechem.OECount(mol, oechem.OEIsRotor())\n",
    "    while nrots >= len(rotcounts):\n",
    "        rotcounts.append(0)\n",
    "    rotcounts[nrots] += 1\n",
    "    \n",
    "    del mol\n",
    "    number_of_rotatable_bonds = len(rotcounts) - 1\n",
    "    #print (\"Max rotors:\", number_of_rotatable_bonds)\n",
    "    #print(df_mw.loc[i,\"eMolecules ID\"])\n",
    "    \n",
    "    df_mw.loc[i,\"N_Rot\"]= number_of_rotatable_bonds \n",
    "\n",
    "df_mw.head()"
   ]
  },
  {
   "cell_type": "code",
   "execution_count": 12,
   "metadata": {},
   "outputs": [
    {
     "name": "stdout",
     "output_type": "stream",
     "text": [
      "Number of compounds suitable for fragment-like group:  76\n"
     ]
    }
   ],
   "source": [
    "# Number of rotatable bonds in fragment-like group shoud be <= 3\n",
    "df_frag = df_mw.loc[df_mw[\"group\"] == \"fragment-like\"]\n",
    "df_frag_nrot_interval = df_frag.loc[df_frag[\"N_Rot\"] <= 3]\n",
    "\n",
    "print(\"Number of compounds suitable for fragment-like group: \", df_frag_nrot_interval.shape[0])"
   ]
  },
  {
   "cell_type": "code",
   "execution_count": 13,
   "metadata": {},
   "outputs": [
    {
     "name": "stdout",
     "output_type": "stream",
     "text": [
      "Number of compounds suitable for drug-like group:  45\n"
     ]
    }
   ],
   "source": [
    "# Number of rotatable bonds in fragment-like group shoud be <= 8\n",
    "df_drug = df_mw.loc[df_mw[\"group\"] == \"drug-like\"]\n",
    "df_drug_nrot_interval = df_drug.loc[df_drug[\"N_Rot\"] <= 8]\n",
    "\n",
    "print(\"Number of compounds suitable for drug-like group: \", df_drug_nrot_interval.shape[0])"
   ]
  },
  {
   "cell_type": "markdown",
   "metadata": {},
   "source": [
    "## 4. Filtering based on possible UV-chromophores"
   ]
  },
  {
   "cell_type": "code",
   "execution_count": 14,
   "metadata": {
    "collapsed": true
   },
   "outputs": [],
   "source": [
    "# Example molecule\n",
    "\n",
    "#smiles = \"Cc1cnc(s1)Nc2ccccn2\"\n",
    "#mol = oechem.OEGraphMol()\n",
    "#oechem.OESmilesToMol(mol, str(smiles))\n",
    "\n",
    "# create a substructure search object - non-aromatic carbonyl\n",
    "#UV_chromophore_SMARTS = \"[n,o,c][c,n,o]cc\"\n",
    "#queried_substructure = UV_chromophore_SMARTS\n",
    "#ss = oechem.OESubSearch(queried_substructure)\n",
    "#oechem.OEPrepareSearch(mol, ss)\n",
    "\n",
    "# loop over matches to count\n",
    "#matched_ss_list=[]\n",
    "#UV_chromophore_count = 0\n",
    "#for index, match in enumerate(ss.Match(mol)):\n",
    "#    if ss.SingleMatch(mol) == True:\n",
    "#        matched_ss_list.append((index, match))\n",
    "#        UV_chromophore_count = len(matched_ss_list)\n",
    "\n",
    "#print(UV_chromophore_count)"
   ]
  },
  {
   "cell_type": "code",
   "execution_count": 15,
   "metadata": {},
   "outputs": [
    {
     "data": {
      "text/html": [
       "<div>\n",
       "<style>\n",
       "    .dataframe thead tr:only-child th {\n",
       "        text-align: right;\n",
       "    }\n",
       "\n",
       "    .dataframe thead th {\n",
       "        text-align: left;\n",
       "    }\n",
       "\n",
       "    .dataframe tbody tr th {\n",
       "        vertical-align: top;\n",
       "    }\n",
       "</style>\n",
       "<table border=\"1\" class=\"dataframe\">\n",
       "  <thead>\n",
       "    <tr style=\"text-align: right;\">\n",
       "      <th></th>\n",
       "      <th>eMolecules ID</th>\n",
       "      <th>canonical isomeric SMILES</th>\n",
       "      <th>eMolecules SMILES</th>\n",
       "      <th>pKas in [3,11]</th>\n",
       "      <th>XlogP</th>\n",
       "      <th>MolWt</th>\n",
       "      <th>Availability (mg)</th>\n",
       "      <th>Price</th>\n",
       "      <th>group</th>\n",
       "      <th>N_Rot</th>\n",
       "      <th>N_UV_chrom</th>\n",
       "    </tr>\n",
       "  </thead>\n",
       "  <tbody>\n",
       "    <tr>\n",
       "      <th>0</th>\n",
       "      <td>7616001</td>\n",
       "      <td>c1cc2c(c(sc2nc1)C(=O)N)N</td>\n",
       "      <td>NC(=O)c1sc2c(c1N)cccn2</td>\n",
       "      <td>[3.454, 10.685]</td>\n",
       "      <td>0.257</td>\n",
       "      <td>193.226</td>\n",
       "      <td>970.0</td>\n",
       "      <td>168.0</td>\n",
       "      <td>fragment-like</td>\n",
       "      <td>1</td>\n",
       "      <td>15</td>\n",
       "    </tr>\n",
       "    <tr>\n",
       "      <th>1</th>\n",
       "      <td>1570822</td>\n",
       "      <td>c1cc2cccnc2c(c1)NC(=O)c3ccc(cc3)Cl</td>\n",
       "      <td>Clc1ccc(cc1)C(=O)Nc1cccc2c1nccc2</td>\n",
       "      <td>[3.95]</td>\n",
       "      <td>3.588</td>\n",
       "      <td>282.724</td>\n",
       "      <td>176.0</td>\n",
       "      <td>168.0</td>\n",
       "      <td>fragment-like</td>\n",
       "      <td>3</td>\n",
       "      <td>41</td>\n",
       "    </tr>\n",
       "    <tr>\n",
       "      <th>2</th>\n",
       "      <td>44750813</td>\n",
       "      <td>Cc1cnc(s1)Nc2ccccn2</td>\n",
       "      <td>Cc1cnc(s1)Nc1ccccn1</td>\n",
       "      <td>[3.718, 6.011]</td>\n",
       "      <td>1.472</td>\n",
       "      <td>191.253</td>\n",
       "      <td>1015.0</td>\n",
       "      <td>168.0</td>\n",
       "      <td>fragment-like</td>\n",
       "      <td>2</td>\n",
       "      <td>9</td>\n",
       "    </tr>\n",
       "    <tr>\n",
       "      <th>3</th>\n",
       "      <td>859659</td>\n",
       "      <td>c1ccc(cc1)c2cc(c(s2)N)C(=O)N</td>\n",
       "      <td>NC(=O)c1cc(sc1N)c1ccccc1</td>\n",
       "      <td>[9.967]</td>\n",
       "      <td>2.157</td>\n",
       "      <td>218.275</td>\n",
       "      <td>19471.5</td>\n",
       "      <td>223.0</td>\n",
       "      <td>fragment-like</td>\n",
       "      <td>2</td>\n",
       "      <td>24</td>\n",
       "    </tr>\n",
       "    <tr>\n",
       "      <th>4</th>\n",
       "      <td>1155596</td>\n",
       "      <td>COc1ccc(cc1)NC(=O)/C=C/c2ccccc2</td>\n",
       "      <td>COc1ccc(cc1)NC(=O)/C=C/c1ccccc1</td>\n",
       "      <td>[5.1]</td>\n",
       "      <td>3.48</td>\n",
       "      <td>253.296</td>\n",
       "      <td>100.0</td>\n",
       "      <td>168.0</td>\n",
       "      <td>fragment-like</td>\n",
       "      <td>5</td>\n",
       "      <td>24</td>\n",
       "    </tr>\n",
       "  </tbody>\n",
       "</table>\n",
       "</div>"
      ],
      "text/plain": [
       "   eMolecules ID           canonical isomeric SMILES  \\\n",
       "0        7616001            c1cc2c(c(sc2nc1)C(=O)N)N   \n",
       "1        1570822  c1cc2cccnc2c(c1)NC(=O)c3ccc(cc3)Cl   \n",
       "2       44750813                 Cc1cnc(s1)Nc2ccccn2   \n",
       "3         859659        c1ccc(cc1)c2cc(c(s2)N)C(=O)N   \n",
       "4        1155596     COc1ccc(cc1)NC(=O)/C=C/c2ccccc2   \n",
       "\n",
       "                  eMolecules SMILES   pKas in [3,11]  XlogP    MolWt  \\\n",
       "0            NC(=O)c1sc2c(c1N)cccn2  [3.454, 10.685]  0.257  193.226   \n",
       "1  Clc1ccc(cc1)C(=O)Nc1cccc2c1nccc2           [3.95]  3.588  282.724   \n",
       "2               Cc1cnc(s1)Nc1ccccn1   [3.718, 6.011]  1.472  191.253   \n",
       "3          NC(=O)c1cc(sc1N)c1ccccc1          [9.967]  2.157  218.275   \n",
       "4   COc1ccc(cc1)NC(=O)/C=C/c1ccccc1            [5.1]   3.48  253.296   \n",
       "\n",
       "   Availability (mg)  Price          group N_Rot N_UV_chrom  \n",
       "0              970.0  168.0  fragment-like     1         15  \n",
       "1              176.0  168.0  fragment-like     3         41  \n",
       "2             1015.0  168.0  fragment-like     2          9  \n",
       "3            19471.5  223.0  fragment-like     2         24  \n",
       "4              100.0  168.0  fragment-like     5         24  "
      ]
     },
     "execution_count": 15,
     "metadata": {},
     "output_type": "execute_result"
    }
   ],
   "source": [
    "# For UV-metric pKa measurement UV chromophores absorbing in 200-400 nm are necessary.\n",
    "# I will use presence of C=C-C=C, C=C-C=O or C=C-C=N  substructures as an indictato of UV-chromophore\n",
    "# 1.3-butadiene absorbs at 217 nm\n",
    "\n",
    "df_mw[\"N_UV_chrom\"]=None\n",
    "\n",
    "UV_chromophore_SMARTS = \"[n,o,c][c,n,o]cc\"\n",
    "\n",
    "for i, row in enumerate(df_mw.iterrows()):\n",
    "\n",
    "    # Count number UV absorbing conjugated-pi systems using SMARTS matching\n",
    "\n",
    "    smiles = df_mw.loc[i,\"canonical isomeric SMILES\"]\n",
    "    mol = oechem.OEGraphMol()\n",
    "    oechem.OESmilesToMol(mol, str(smiles))\n",
    "\n",
    "    #create a substructure search object\n",
    "    queried_substructure = UV_chromophore_SMARTS\n",
    "    ss = oechem.OESubSearch(queried_substructure)\n",
    "    oechem.OEPrepareSearch(mol, ss)\n",
    "\n",
    "    # loop over matches to count\n",
    "    matched_ss_list=[]\n",
    "    UV_chromophore_count = 0\n",
    "    for index, match in enumerate(ss.Match(mol)):\n",
    "        if ss.SingleMatch(mol) == True:\n",
    "            matched_ss_list.append((index, match))\n",
    "            UV_chromophore_count = len(matched_ss_list)\n",
    "    \n",
    "    df_mw.loc[i, \"N_UV_chrom\"] = UV_chromophore_count\n",
    "\n",
    "df_mw.head()"
   ]
  },
  {
   "cell_type": "code",
   "execution_count": 16,
   "metadata": {},
   "outputs": [
    {
     "name": "stdout",
     "output_type": "stream",
     "text": [
      "Number of compounds suitable for fragment-like group:  126\n",
      "Number of compounds suitable for drug-like group:  47\n",
      "Minimum number of UV-chromophore units in fragment-like group:  8\n",
      "Minimum number of UV-chromophore units in drug-like group:  12\n"
     ]
    }
   ],
   "source": [
    "df_frag = df_mw.loc[df_mw[\"group\"] == \"fragment-like\"].reset_index(drop=True)\n",
    "print(\"Number of compounds suitable for fragment-like group: \", df_frag.shape[0])\n",
    "\n",
    "df_drug = df_mw.loc[df_mw[\"group\"] == \"drug-like\"].reindex().reset_index(drop=True)\n",
    "print(\"Number of compounds suitable for drug-like group: \", df_drug.shape[0])\n",
    "\n",
    "# What is the minimum number of UV-chromophore matches in the drug-like and fragment-like group?\n",
    "print(\"Minimum number of UV-chromophore units in fragment-like group: \", min(df_frag[\"N_UV_chrom\"]) )\n",
    "print(\"Minimum number of UV-chromophore units in drug-like group: \", min(df_drug[\"N_UV_chrom\"]))"
   ]
  },
  {
   "cell_type": "code",
   "execution_count": 17,
   "metadata": {
    "collapsed": true
   },
   "outputs": [],
   "source": [
    "## 5. Filter out expensive molecules ( price > 250 USD)\n",
    "\n",
    "#df_frag = df_frag.loc[df_frag[\"Price\"] <= 250.0].reset_index(drop=True)\n",
    "#print(\"Number of fragment-like compounds w/ price <= 250: \", df_frag.shape[0] )\n",
    "\n",
    "#df_drug = df_drug.loc[df_drug[\"Price\"] <= 250.0].reset_index(drop=True)\n",
    "#print(\"Number of drug-like compounds w/ price <= 250: \", df_drug.shape[0] )"
   ]
  },
  {
   "cell_type": "code",
   "execution_count": 18,
   "metadata": {
    "collapsed": true
   },
   "outputs": [],
   "source": [
    "#df_frag_cheap = df_frag.loc[df_frag[\"Price\"] <= 200.0].reset_index(drop=True)\n",
    "#print(\"Number of fragment-like compounds w/ price <= 250: \", df_frag_cheap.shape[0] )\n",
    "\n",
    "#df_drug_cheap = df_drug.loc[df_drug[\"Price\"] <= 200.0].reset_index(drop=True)\n",
    "#print(\"Number of drug-like compounds w/ price <= 250: \", df_drug_cheap.shape[0] )"
   ]
  },
  {
   "cell_type": "markdown",
   "metadata": {},
   "source": [
    "## 5. Eliminate compounds with NaN price or availability"
   ]
  },
  {
   "cell_type": "code",
   "execution_count": 19,
   "metadata": {},
   "outputs": [
    {
     "name": "stdout",
     "output_type": "stream",
     "text": [
      "Number of fragment-like molecules with price and 100 mg availability: 111\n",
      "Number of drug-like molecules with price and 100 mg availability: 40\n"
     ]
    }
   ],
   "source": [
    "# Eliminate entries without price in fragment-like set\n",
    "df_frag = df_frag[np.isfinite(df_frag[\"Price\"])].reset_index(drop=True)\n",
    "\n",
    "# Eliminate entries with availability less than 100 mg\n",
    "df_frag = df_frag[df_frag[\"Availability (mg)\"] >= 100.0].reset_index(drop=True)\n",
    "print(\"Number of fragment-like molecules with price and 100 mg availability:\",df_frag.shape[0])\n",
    "\n",
    "# Eliminate entries without price in drug-like ste\n",
    "df_drug = df_drug[np.isfinite(df_drug[\"Price\"])].reset_index(drop=True)\n",
    "\n",
    "# Eliminate entries with availability less than 100 mg\n",
    "df_drug = df_drug[df_drug[\"Availability (mg)\"] >= 100.0].reset_index(drop=True)\n",
    "print(\"Number of drug-like molecules with price and 100 mg availability:\",df_drug.shape[0])"
   ]
  },
  {
   "cell_type": "markdown",
   "metadata": {},
   "source": [
    "## 6. Sort molecules in each group by their price"
   ]
  },
  {
   "cell_type": "code",
   "execution_count": 19,
   "metadata": {
    "collapsed": true
   },
   "outputs": [],
   "source": [
    "df_frag = df_frag.sort_values(by = \"Price\", ascending = True, inplace=False).reset_index(drop=True)\n",
    "df_drug = df_drug.sort_values(by = \"Price\", ascending = True, inplace=False).reset_index(drop=True)"
   ]
  },
  {
   "cell_type": "markdown",
   "metadata": {},
   "source": [
    "## 7. Select molecules for even coverage of logP dynamic range\n",
    "\n",
    "While selecting from each logP bin, I will prioritize cheaper compounds, based on the price sorted dataframes.\n",
    "\n",
    "### 7.1. Fragment-like group"
   ]
  },
  {
   "cell_type": "code",
   "execution_count": 20,
   "metadata": {},
   "outputs": [
    {
     "name": "stdout",
     "output_type": "stream",
     "text": [
      "Dynamic range of XlogP is from -0.07 to 4.79\n",
      "Bin lefts: \n",
      " [-0.07300001  0.12132     0.31564001  0.50996003  0.70428004  0.89860005\n",
      "  1.09292007  1.28724008  1.48156009  1.67588011  1.87020012  2.06452013\n",
      "  2.25884015  2.45316016  2.64748018  2.84180019  3.0361202   3.23044022\n",
      "  3.42476023  3.61908024  3.81340026  4.00772027  4.20204028  4.3963603\n",
      "  4.59068031]\n",
      "Bin rights: \n",
      " [ 0.12132     0.31564001  0.50996003  0.70428004  0.89860005  1.09292007\n",
      "  1.28724008  1.48156009  1.67588011  1.87020012  2.06452013  2.25884015\n",
      "  2.45316016  2.64748018  2.84180019  3.0361202   3.23044022  3.42476023\n",
      "  3.61908024  3.81340026  4.00772027  4.20204028  4.3963603   4.59068031\n",
      "  4.78500032]\n",
      "Can't find 3 molecules in bin 0. Only 0 molecule(s) found.\n",
      "Can't find 3 molecules in bin 1. Only 1 molecule(s) found.\n",
      "Can't find 3 molecules in bin 2. Only 0 molecule(s) found.\n",
      "Can't find 3 molecules in bin 3. Only 1 molecule(s) found.\n",
      "Can't find 3 molecules in bin 5. Only 1 molecule(s) found.\n",
      "Can't find 3 molecules in bin 6. Only 0 molecule(s) found.\n",
      "Can't find 3 molecules in bin 8. Only 2 molecule(s) found.\n",
      "Can't find 3 molecules in bin 10. Only 1 molecule(s) found.\n",
      "Can't find 3 molecules in bin 24. Only 1 molecule(s) found.\n",
      "Found 55 compounds spanning the dynamic range, out of 75 desired. Current set size is 55.\n"
     ]
    }
   ],
   "source": [
    "#Establish dynamic range\n",
    "XlogPs = np.array(df_frag[\"XlogP\"])\n",
    "\n",
    "minval = XlogPs.min()\n",
    "maxval = XlogPs.max()\n",
    "\n",
    "print(\"Dynamic range of XlogP is from %.2f to %.2f\" % (minval, maxval))\n",
    "\n",
    "#Let's make 10 bins and try drawing for 5 compounds per bin\n",
    "nbins = 25\n",
    "n_per_bin = 3 \n",
    "bin_lefts = np.arange( minval, maxval, (maxval-minval)/float(nbins) )\n",
    "bin_rights = np.array( [bin_lefts[i+1] for i in range(nbins-1)] + [maxval] )\n",
    "\n",
    "print(\"Bin lefts: \\n\", bin_lefts)\n",
    "print(\"Bin rights: \\n\", bin_rights)\n",
    "\n",
    "range_ids = []\n",
    "\n",
    "#Pick compounds\n",
    "picked_ids=[]\n",
    "df_frag[\"Selection\"] = None\n",
    "df_frag[\"Bin index\"] = None\n",
    "df_frag[\"Priority\"] = None\n",
    "\n",
    "for bin_index in range(nbins):\n",
    "    \n",
    "    fnd_in_bin = 0\n",
    "    \n",
    "    for i, row in enumerate(df_frag.iterrows()):\n",
    "        eMolecules_ID = df_frag.loc[i,'eMolecules ID'] #identifier\n",
    "        XlogP = float(df_frag.loc[i,'XlogP'])\n",
    "        \n",
    "        if XlogP > bin_lefts[bin_index] and XlogP <= bin_rights[bin_index] and eMolecules_ID not in picked_ids:\n",
    "            range_ids.append( eMolecules_ID )\n",
    "            fnd_in_bin +=1\n",
    "            \n",
    "            df_frag.loc[i, \"Selection\"] = \"picked\"\n",
    "            df_frag.loc[i, \"Bin index\"] = bin_index\n",
    "            df_frag.loc[i, \"Priority\"] = fnd_in_bin\n",
    "            \n",
    "            picked_ids.append(eMolecules_ID)\n",
    "\n",
    "        if fnd_in_bin==n_per_bin: break\n",
    "\n",
    "    if fnd_in_bin < n_per_bin:\n",
    "        print (\"Can't find %s molecules in bin %s. Only %s molecule(s) found.\" % (n_per_bin, bin_index, fnd_in_bin) )\n",
    "\n",
    "\n",
    "print(\"Found %s compounds spanning the dynamic range, out of %s desired. Current set size is %s.\" % (len(range_ids), nbins*n_per_bin, len(picked_ids)) )\n"
   ]
  },
  {
   "cell_type": "code",
   "execution_count": 21,
   "metadata": {},
   "outputs": [
    {
     "data": {
      "text/plain": [
       "(0, 10)"
      ]
     },
     "execution_count": 21,
     "metadata": {},
     "output_type": "execute_result"
    },
    {
     "data": {
      "image/png": "[encoded data removed]",
      "text/plain": [
       "<matplotlib.figure.Figure at 0x11d535908>"
      ]
     },
     "metadata": {},
     "output_type": "display_data"
    }
   ],
   "source": [
    "df_frag_picked = df_frag.loc[df_frag[\"Selection\"]==\"picked\"].reset_index(drop=True)\n",
    "df_frag_picked.to_csv(\"df_frag_picked.csv\")\n",
    "\n",
    "# Let's check the logP distribution of fragment-like group\n",
    "XlogP_values = df_frag_picked.loc[:, \"XlogP\"]\n",
    "plt.hist(XlogP_values, bins=nbins)\n",
    "plt.xlabel(\"XlogP\")\n",
    "plt.ylabel(\"molecule count\")\n",
    "plt.xlim(0,6)\n",
    "plt.ylim(0,10)"
   ]
  },
  {
   "cell_type": "code",
   "execution_count": 22,
   "metadata": {
    "collapsed": true
   },
   "outputs": [],
   "source": [
    "# Pick cheapest 25 molecules\n",
    "\n",
    "# Sort selected molecules by bin index\n",
    "df_frag_picked = df_frag_picked.sort_values(by = [\"Bin index\", \"Price\"], ascending = [True, True], inplace=False)\n",
    "df_frag_picked.head(10)\n",
    "\n",
    "# Select 25 cheapest compounds with even bin distribution\n",
    "df_frag_picked[\"Final list\"] = None\n",
    "\n",
    "molecules_added_to_set = 0\n",
    "\n",
    "# In first pass select the cheapest molecule in each bin\n",
    "for bin_index in range(nbins):\n",
    "    df_bin = df_frag_picked[df_frag_picked[\"Bin index\"] == bin_index].reset_index(drop=True)\n",
    "    \n",
    "    if molecules_added_to_set == 25:\n",
    "        break\n",
    "    else:\n",
    "\n",
    "        # Skip if there is no molecule in bin\n",
    "        if df_bin.shape[0] == 0:\n",
    "            continue\n",
    "    \n",
    "        # If multiple molecules are in the bin\n",
    "        elif df_bin.shape[0] >= 1:\n",
    "            #select the cheapest molecule\n",
    "            molecules_added_to_set += 1\n",
    "            eMol_ID = df_bin.loc[0, \"eMolecules ID\"] # 1st cheapest molecule\n",
    "            df_frag_picked.loc[df_frag_picked[\"eMolecules ID\"] == eMol_ID, \"Final list\"] = True\n",
    "        \n",
    "# In the second pass select the next cheapest un selected molecule in each bin\n",
    "for bin_index in range(nbins):\n",
    "    df_bin = df_frag_picked[df_frag_picked[\"Bin index\"] == bin_index].reset_index(drop=True)\n",
    "    \n",
    "    if molecules_added_to_set == 25:\n",
    "        break\n",
    "    else:\n",
    "        # Skip if there is no molecule in bin\n",
    "        if df_bin.shape[0] == 0:\n",
    "            continue\n",
    "        \n",
    "        elif df_bin.shape[0] == 1:\n",
    "            continue\n",
    "    \n",
    "        # If multiple molecules are in the bin\n",
    "        elif df_bin.shape[0] > 1:\n",
    "            #select the next cheapest molecule\n",
    "            molecules_added_to_set += 1\n",
    "            eMol_ID = df_bin.loc[1, \"eMolecules ID\"] # 2nd cheapest molecule\n",
    "            df_frag_picked.loc[df_frag_picked[\"eMolecules ID\"] == eMol_ID, \"Final list\"] = True\n",
    "\n",
    "# In the third pass select the next cheapest unselected molecule in each bin\n",
    "for bin_index in range(nbins):\n",
    "    df_bin = df_frag_picked[df_frag_picked[\"Bin index\"] == bin_index].reset_index(drop=True)\n",
    "    \n",
    "    if molecules_added_to_set == 25:\n",
    "        break\n",
    "    else:\n",
    "        # Skip if there is no molecule in bin\n",
    "        if df_bin.shape[0] == 0:\n",
    "            continue\n",
    "        \n",
    "        elif df_bin.shape[0] == 1:\n",
    "            continue\n",
    "    \n",
    "        # If multiple molecules are in the bin\n",
    "        elif df_bin.shape[0] > 1:\n",
    "            #select the next cheapest molecule\n",
    "            molecules_added_to_set += 1\n",
    "            eMol_ID = df_bin.loc[2, \"eMolecules ID\"] # 2nd cheapest molecule\n",
    "            df_frag_picked.loc[df_frag_picked[\"eMolecules ID\"] == eMol_ID, \"Final list\"] = True"
   ]
  },
  {
   "cell_type": "code",
   "execution_count": 23,
   "metadata": {},
   "outputs": [
    {
     "data": {
      "text/plain": [
       "(0, 10)"
      ]
     },
     "execution_count": 23,
     "metadata": {},
     "output_type": "execute_result"
    },
    {
     "data": {
      "image/png": "[encoded data removed]",
      "text/plain": [
       "<matplotlib.figure.Figure at 0x11d716a20>"
      ]
     },
     "metadata": {},
     "output_type": "display_data"
    }
   ],
   "source": [
    "# Let's check the logP distribution of final fragment-like group\n",
    "df_frag_final = df_frag_picked[df_frag_picked[\"Final list\"] == True].reset_index(drop=True)\n",
    "df_frag_final.to_csv(\"df_frag_final.csv\")\n",
    "\n",
    "XlogP_values = df_frag_final.loc[:, \"XlogP\"]\n",
    "plt.hist(XlogP_values, bins=nbins)\n",
    "plt.xlabel(\"XlogP\")\n",
    "plt.ylabel(\"molecule count\")\n",
    "plt.xlim(0,6)\n",
    "plt.ylim(0,10)"
   ]
  },
  {
   "cell_type": "code",
   "execution_count": 24,
   "metadata": {},
   "outputs": [
    {
     "name": "stdout",
     "output_type": "stream",
     "text": [
      "Cost for fragment set for 100 mg is 5114.0 USD.\n"
     ]
    }
   ],
   "source": [
    "# Calculate cost for fragment set\n",
    "fragment_set_cost_100mg = 0\n",
    "\n",
    "for i, row in enumerate(df_frag_final.iterrows()):\n",
    "    cost = df_frag_final.loc[i, \"Price\"]\n",
    "    #print(cost)\n",
    "    fragment_set_cost_100mg += cost\n",
    "print(\"Cost for fragment set for 100 mg is {} USD.\".format(fragment_set_cost_100mg))"
   ]
  },
  {
   "cell_type": "code",
   "execution_count": 25,
   "metadata": {},
   "outputs": [
    {
     "data": {
      "text/html": [
       "<table border=\"1\" class=\"dataframe\">\n",
       "  <thead>\n",
       "    <tr style=\"text-align: right;\">\n",
       "      <th></th>\n",
       "      <th>Molecule</th>\n",
       "    </tr>\n",
       "  </thead>\n",
       "  <tbody>\n",
       "  </tbody>\n",
       "</table>"
      ],
      "text/plain": [
       "<IPython.core.display.HTML object>"
      ]
     },
     "execution_count": 25,
     "metadata": {},
     "output_type": "execute_result"
    }
   ],
   "source": [
    "# Import database as eonb for visualization\n",
    "frag_final_smiles = df_frag_final.loc[:,\"canonical isomeric SMILES\"].tolist()\n",
    "\n",
    "file_name = \"frag_final.smi\"\n",
    "writer = open(file_name, \"w\")\n",
    "\n",
    "for smiles in frag_final_smiles:\n",
    "    writer.write(\"%s\\n\" %smiles)\n",
    "\n",
    "df_frag_final_oenb = oenb.read_file_to_dataframe(filename=\"frag_final.smi\")\n",
    "oenb.render_dataframe(df_frag_final_oenb, width=300, height=300)"
   ]
  },
  {
   "cell_type": "markdown",
   "metadata": {},
   "source": [
    "### 6.2. Drug-like group"
   ]
  },
  {
   "cell_type": "code",
   "execution_count": 26,
   "metadata": {},
   "outputs": [
    {
     "name": "stdout",
     "output_type": "stream",
     "text": [
      "Dynamic range of XlogP is from 2.31 to 5.90\n",
      "Bin lefts: \n",
      " [ 2.31400013  2.45744013  2.60088013  2.74432013  2.88776012  3.03120012\n",
      "  3.17464012  3.31808012  3.46152012  3.60496012  3.74840012  3.89184011\n",
      "  4.03528011  4.17872011  4.32216011  4.46560011  4.60904011  4.75248011\n",
      "  4.8959201   5.0393601   5.1828001   5.3262401   5.4696801   5.6131201\n",
      "  5.7565601 ]\n",
      "Bin rights: \n",
      " [ 2.45744013  2.60088013  2.74432013  2.88776012  3.03120012  3.17464012\n",
      "  3.31808012  3.46152012  3.60496012  3.74840012  3.89184011  4.03528011\n",
      "  4.17872011  4.32216011  4.46560011  4.60904011  4.75248011  4.8959201\n",
      "  5.0393601   5.1828001   5.3262401   5.4696801   5.6131201   5.7565601\n",
      "  5.9000001 ]\n",
      "Can't find 3 molecules in bin 0. Only 0 molecule(s) found.\n",
      "Can't find 3 molecules in bin 1. Only 0 molecule(s) found.\n",
      "Can't find 3 molecules in bin 2. Only 1 molecule(s) found.\n",
      "Can't find 3 molecules in bin 3. Only 2 molecule(s) found.\n",
      "Can't find 3 molecules in bin 5. Only 2 molecule(s) found.\n",
      "Can't find 3 molecules in bin 8. Only 1 molecule(s) found.\n",
      "Can't find 3 molecules in bin 9. Only 0 molecule(s) found.\n",
      "Can't find 3 molecules in bin 10. Only 0 molecule(s) found.\n",
      "Can't find 3 molecules in bin 11. Only 0 molecule(s) found.\n",
      "Can't find 3 molecules in bin 12. Only 1 molecule(s) found.\n",
      "Can't find 3 molecules in bin 14. Only 0 molecule(s) found.\n",
      "Can't find 3 molecules in bin 15. Only 2 molecule(s) found.\n",
      "Can't find 3 molecules in bin 16. Only 1 molecule(s) found.\n",
      "Can't find 3 molecules in bin 17. Only 2 molecule(s) found.\n",
      "Can't find 3 molecules in bin 18. Only 1 molecule(s) found.\n",
      "Can't find 3 molecules in bin 21. Only 1 molecule(s) found.\n",
      "Can't find 3 molecules in bin 22. Only 1 molecule(s) found.\n",
      "Can't find 3 molecules in bin 23. Only 1 molecule(s) found.\n",
      "Found 37 compounds spanning the dynamic range, out of 75 desired. Current set size is 37.\n"
     ]
    }
   ],
   "source": [
    "#Establish dynamic range\n",
    "XlogPs = np.array(df_drug[\"XlogP\"])\n",
    "\n",
    "minval = XlogPs.min()\n",
    "maxval = XlogPs.max()\n",
    "\n",
    "print(\"Dynamic range of XlogP is from %.2f to %.2f\" % (minval, maxval))\n",
    "\n",
    "#Let's make 10 bins and try drawing for 3 compounds per bin\n",
    "nbins = 25\n",
    "n_per_bin = 3\n",
    "bin_lefts = np.arange( minval, maxval, (maxval-minval)/float(nbins) )\n",
    "bin_rights = np.array( [bin_lefts[i+1] for i in range(nbins-1)] + [maxval] )\n",
    "\n",
    "print(\"Bin lefts: \\n\", bin_lefts)\n",
    "print(\"Bin rights: \\n\", bin_rights)\n",
    "\n",
    "range_ids = []\n",
    "\n",
    "#Pick compounds\n",
    "picked_ids=[]\n",
    "df_drug[\"Selection\"]=None\n",
    "df_drug[\"Bin index\"] = None\n",
    "df_drug[\"Priority\"] = None\n",
    "\n",
    "for bin_index in range(nbins):\n",
    "    \n",
    "    fnd_in_bin = 0\n",
    "    \n",
    "    for i, row in enumerate(df_drug.iterrows()):\n",
    "        eMolecules_ID = df_drug.loc[i,'eMolecules ID'] #identifier\n",
    "        XlogP = float(df_drug.loc[i,'XlogP'])\n",
    "        \n",
    "        if XlogP > bin_lefts[bin_index] and XlogP <= bin_rights[bin_index] and eMolecules_ID not in picked_ids:\n",
    "            range_ids.append( eMolecules_ID )\n",
    "            fnd_in_bin +=1\n",
    "            \n",
    "            df_drug.loc[i, \"Selection\"] = \"picked\"\n",
    "            df_drug.loc[i, \"Bin index\"] = bin_index\n",
    "            df_drug.loc[i, \"Priority\"] = fnd_in_bin\n",
    "            \n",
    "            picked_ids.append(eMolecules_ID)\n",
    "\n",
    "        if fnd_in_bin==n_per_bin: break\n",
    "\n",
    "    if fnd_in_bin < n_per_bin:\n",
    "        print (\"Can't find %s molecules in bin %s. Only %s molecule(s) found.\" % (n_per_bin, bin_index, fnd_in_bin) )\n",
    "\n",
    "\n",
    "print(\"Found %s compounds spanning the dynamic range, out of %s desired. Current set size is %s.\" % (len(range_ids), nbins*n_per_bin, len(picked_ids)) )"
   ]
  },
  {
   "cell_type": "code",
   "execution_count": 27,
   "metadata": {},
   "outputs": [
    {
     "data": {
      "text/plain": [
       "(0, 10)"
      ]
     },
     "execution_count": 27,
     "metadata": {},
     "output_type": "execute_result"
    },
    {
     "data": {
      "image/png": "[encoded data removed]",
      "text/plain": [
       "<matplotlib.figure.Figure at 0x11d6c4c50>"
      ]
     },
     "metadata": {},
     "output_type": "display_data"
    }
   ],
   "source": [
    "df_drug_picked = df_drug.loc[df_drug[\"Selection\"]==\"picked\"].reset_index(drop=True)\n",
    "df_drug_picked.to_csv(\"df_drug_picked.csv\")\n",
    "\n",
    "# Let's check the logP distribution of fragment-like group\n",
    "XlogP_values = df_drug_picked.loc[:, \"XlogP\"]\n",
    "plt.hist(XlogP_values, bins=nbins)\n",
    "plt.xlabel(\"XlogP\")\n",
    "plt.ylabel(\"molecule count\")\n",
    "plt.xlim(0,6)\n",
    "plt.ylim(0,10)"
   ]
  },
  {
   "cell_type": "code",
   "execution_count": 28,
   "metadata": {
    "collapsed": true
   },
   "outputs": [],
   "source": [
    "# Pick cheapest 25 molecules\n",
    "\n",
    "# Sort selected molecules by bin index\n",
    "df_drug_picked = df_drug_picked.sort_values(by = [\"Bin index\", \"Price\"], ascending = [True, True], inplace=False)\n",
    "\n",
    "# Select 25 cheapest compounds with even bin distribution\n",
    "df_drug_picked[\"Final list\"] = None\n",
    "\n",
    "molecules_added_to_set = 0\n",
    "\n",
    "# In first pass select the cheapest molecule in each bin\n",
    "for bin_index in range(nbins):\n",
    "    df_bin = df_drug_picked[df_drug_picked[\"Bin index\"] == bin_index].reset_index(drop=True)\n",
    "    \n",
    "    if molecules_added_to_set == 25:\n",
    "        break\n",
    "    else:\n",
    "\n",
    "        # Skip if there is no molecule in bin\n",
    "        if df_bin.shape[0] == 0:\n",
    "            continue\n",
    "    \n",
    "        # If multiple molecules are in the bin\n",
    "        elif df_bin.shape[0] >= 1:\n",
    "            #select the cheapest molecule\n",
    "            molecules_added_to_set += 1\n",
    "            eMol_ID = df_bin.loc[0, \"eMolecules ID\"] # 1st cheapest molecule\n",
    "            df_drug_picked.loc[df_drug_picked[\"eMolecules ID\"] == eMol_ID, \"Final list\"] = True\n",
    "        \n",
    "# In the second pass select the next cheapest un selected molecule in each bin\n",
    "for bin_index in range(nbins):\n",
    "    df_bin = df_drug_picked[df_drug_picked[\"Bin index\"] == bin_index].reset_index(drop=True)\n",
    "    \n",
    "    if molecules_added_to_set == 25:\n",
    "        break\n",
    "    else:\n",
    "        # Skip if there is no molecule in bin\n",
    "        if df_bin.shape[0] == 0:\n",
    "            continue\n",
    "        \n",
    "        elif df_bin.shape[0] == 1:\n",
    "            continue\n",
    "    \n",
    "        # If multiple molecules are in the bin\n",
    "        elif df_bin.shape[0] > 1:\n",
    "            #select the next cheapest molecule\n",
    "            molecules_added_to_set += 1\n",
    "            eMol_ID = df_bin.loc[1, \"eMolecules ID\"] # 2nd cheapest molecule\n",
    "            df_drug_picked.loc[df_drug_picked[\"eMolecules ID\"] == eMol_ID, \"Final list\"] = True\n",
    "\n",
    "# In the third pass select the next cheapest unselected molecule in each bin\n",
    "for bin_index in range(nbins):\n",
    "    df_bin = df_drug_picked[df_drug_picked[\"Bin index\"] == bin_index].reset_index(drop=True)\n",
    "    \n",
    "    if molecules_added_to_set == 25:\n",
    "        break\n",
    "    else:\n",
    "        # Skip if there is no molecule in bin\n",
    "        if df_bin.shape[0] == 0:\n",
    "            continue\n",
    "        \n",
    "        elif df_bin.shape[0] == 1:\n",
    "            continue\n",
    "    \n",
    "        # If multiple molecules are in the bin\n",
    "        elif df_bin.shape[0] > 1:\n",
    "            #select the next cheapest molecule\n",
    "            molecules_added_to_set += 1\n",
    "            eMol_ID = df_bin.loc[2, \"eMolecules ID\"] # 2nd cheapest molecule\n",
    "            df_drug_picked.loc[df_drug_picked[\"eMolecules ID\"] == eMol_ID, \"Final list\"] = True"
   ]
  },
  {
   "cell_type": "code",
   "execution_count": 29,
   "metadata": {},
   "outputs": [
    {
     "data": {
      "text/plain": [
       "(0, 10)"
      ]
     },
     "execution_count": 29,
     "metadata": {},
     "output_type": "execute_result"
    },
    {
     "data": {
      "image/png": "[encoded data removed]",
      "text/plain": [
       "<matplotlib.figure.Figure at 0x11d729588>"
      ]
     },
     "metadata": {},
     "output_type": "display_data"
    }
   ],
   "source": [
    "# Let's check the logP distribution of final drug-like group\n",
    "df_drug_final = df_drug_picked[df_drug_picked[\"Final list\"] == True].reset_index(drop=True)\n",
    "df_drug_final.to_csv(\"df_drug_final.csv\")\n",
    "\n",
    "XlogP_values = df_drug_final.loc[:, \"XlogP\"]\n",
    "plt.hist(XlogP_values, bins=nbins)\n",
    "plt.xlabel(\"XlogP\")\n",
    "plt.ylabel(\"molecule count\")\n",
    "plt.xlim(0,6)\n",
    "plt.ylim(0,10)"
   ]
  },
  {
   "cell_type": "code",
   "execution_count": 30,
   "metadata": {},
   "outputs": [
    {
     "name": "stdout",
     "output_type": "stream",
     "text": [
      "Cost for drug set for 100 mg is 5115.0 USD.\n"
     ]
    }
   ],
   "source": [
    "# Calculate cost for drug set\n",
    "drug_set_cost_100mg = 0\n",
    "\n",
    "for i, row in enumerate(df_drug_final.iterrows()):\n",
    "    cost = df_drug_final.loc[i, \"Price\"]\n",
    "    #print(cost)\n",
    "    drug_set_cost_100mg += cost\n",
    "print(\"Cost for drug set for 100 mg is {} USD.\".format(drug_set_cost_100mg))"
   ]
  },
  {
   "cell_type": "code",
   "execution_count": 31,
   "metadata": {},
   "outputs": [
    {
     "data": {
      "text/html": [
       "<table border=\"1\" class=\"dataframe\">\n",
       "  <thead>\n",
       "    <tr style=\"text-align: right;\">\n",
       "      <th></th>\n",
       "      <th>Molecule</th>\n",
       "    </tr>\n",
       "  </thead>\n",
       "  <tbody>\n",
       "  </tbody>\n",
       "</table>"
      ],
      "text/plain": [
       "<IPython.core.display.HTML object>"
      ]
     },
     "execution_count": 31,
     "metadata": {},
     "output_type": "execute_result"
    }
   ],
   "source": [
    "# Import database as eonb for visualization\n",
    "drug_picked_smiles = df_drug_picked.loc[:,\"canonical isomeric SMILES\"].tolist()\n",
    "\n",
    "file_name = \"drug_picked.smi\"\n",
    "writer = open(file_name, \"w\")\n",
    "\n",
    "for smiles in drug_picked_smiles:\n",
    "    writer.write(\"%s\\n\" %smiles)\n",
    "\n",
    "df_drug_picked_oenb = oenb.read_file_to_dataframe(filename=\"drug_picked.smi\")\n",
    "oenb.render_dataframe(df_drug_picked_oenb, width=300, height=300)"
   ]
  },
  {
   "cell_type": "markdown",
   "metadata": {},
   "source": [
    "## 6. Eliminate multiple compounds with aminothiozole group\n",
    "Aminothiozole group could be reactive and it is uncommon in medicinal screening libraries. Without this filter they showed up too frequenty in fragment and drug sets."
   ]
  },
  {
   "cell_type": "code",
   "execution_count": 34,
   "metadata": {},
   "outputs": [
    {
     "name": "stdout",
     "output_type": "stream",
     "text": [
      "1\n"
     ]
    }
   ],
   "source": [
    "# Example molecule\n",
    "\n",
    "smiles = \"NC1=CN=CS1\"\n",
    "mol = oechem.OEGraphMol()\n",
    "oechem.OESmilesToMol(mol, str(smiles))\n",
    "\n",
    "# create a substructure search object for aminothiozole\n",
    "# [NX3,nX3]c1=[nX2]c=cs1\n",
    "aminothiozole_SMARTS = \"c~1sc(~c[nX2]~1)[NX3,nX3]\" #\"c~1sc~c[nX2]~1\"\n",
    "queried_substructure = aminothiozole_SMARTS\n",
    "ss = oechem.OESubSearch(queried_substructure)\n",
    "oechem.OEPrepareSearch(mol, ss)\n",
    "\n",
    "# loop over matches to count\n",
    "matched_ss_list=[]\n",
    "count = 0\n",
    "for index, match in enumerate(ss.Match(mol)):\n",
    "    if ss.SingleMatch(mol) == True:\n",
    "        matched_ss_list.append((index, match))\n",
    "        count = len(matched_ss_list)\n",
    "\n",
    "print(count)"
   ]
  }
 ],
 "metadata": {
  "kernelspec": {
   "display_name": "Python 3",
   "language": "python",
   "name": "python3"
  },
  "language_info": {
   "codemirror_mode": {
    "name": "ipython",
    "version": 3
   },
   "file_extension": ".py",
   "mimetype": "text/x-python",
   "name": "python",
   "nbconvert_exporter": "python",
   "pygments_lexer": "ipython3",
   "version": "3.5.3"
  }
 },
 "nbformat": 4,
 "nbformat_minor": 2
}

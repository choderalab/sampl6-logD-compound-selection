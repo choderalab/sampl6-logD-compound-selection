{
 "cells": [
  {
   "cell_type": "code",
   "execution_count": 2,
   "metadata": {
    "collapsed": true
   },
   "outputs": [],
   "source": [
    "#!/usr/bin/env python3\n",
    "\n",
    "# This script takes a csv file for a set molecules with a SMILES column as input. OpenEye \n",
    "# functionalities are used to calculate XlogP\n",
    "\n",
    "import pandas as pd\n",
    "import numpy as np\n",
    "from openeye import oechem, oedepict, oemolprop\n",
    "import oenotebook as oenb\n",
    "import matplotlib.pyplot as plt\n",
    "%matplotlib inline"
   ]
  },
  {
   "cell_type": "markdown",
   "metadata": {},
   "source": [
    "## 1. Filtering by logP"
   ]
  },
  {
   "cell_type": "code",
   "execution_count": 3,
   "metadata": {},
   "outputs": [
    {
     "name": "stdout",
     "output_type": "stream",
     "text": [
      "Initial number of molecules:  180\n"
     ]
    },
    {
     "data": {
      "text/html": [
       "<div>\n",
       "<style>\n",
       "    .dataframe thead tr:only-child th {\n",
       "        text-align: right;\n",
       "    }\n",
       "\n",
       "    .dataframe thead th {\n",
       "        text-align: left;\n",
       "    }\n",
       "\n",
       "    .dataframe tbody tr th {\n",
       "        vertical-align: top;\n",
       "    }\n",
       "</style>\n",
       "<table border=\"1\" class=\"dataframe\">\n",
       "  <thead>\n",
       "    <tr style=\"text-align: right;\">\n",
       "      <th></th>\n",
       "      <th>eMolecules ID</th>\n",
       "      <th>canonical isomeric SMILES</th>\n",
       "      <th>eMolecules SMILES</th>\n",
       "      <th>pKas in [3,11]</th>\n",
       "      <th>XlogP</th>\n",
       "    </tr>\n",
       "  </thead>\n",
       "  <tbody>\n",
       "    <tr>\n",
       "      <th>0</th>\n",
       "      <td>7616001</td>\n",
       "      <td>c1cc2c(c(sc2nc1)C(=O)N)N</td>\n",
       "      <td>NC(=O)c1sc2c(c1N)cccn2</td>\n",
       "      <td>[3.454, 10.685]</td>\n",
       "      <td>0.257</td>\n",
       "    </tr>\n",
       "    <tr>\n",
       "      <th>1</th>\n",
       "      <td>1570822</td>\n",
       "      <td>c1cc2cccnc2c(c1)NC(=O)c3ccc(cc3)Cl</td>\n",
       "      <td>Clc1ccc(cc1)C(=O)Nc1cccc2c1nccc2</td>\n",
       "      <td>[3.95]</td>\n",
       "      <td>3.588</td>\n",
       "    </tr>\n",
       "    <tr>\n",
       "      <th>2</th>\n",
       "      <td>44750813</td>\n",
       "      <td>Cc1cnc(s1)Nc2ccccn2</td>\n",
       "      <td>Cc1cnc(s1)Nc1ccccn1</td>\n",
       "      <td>[3.718, 6.011]</td>\n",
       "      <td>1.472</td>\n",
       "    </tr>\n",
       "    <tr>\n",
       "      <th>3</th>\n",
       "      <td>859659</td>\n",
       "      <td>c1ccc(cc1)c2cc(c(s2)N)C(=O)N</td>\n",
       "      <td>NC(=O)c1cc(sc1N)c1ccccc1</td>\n",
       "      <td>[9.967]</td>\n",
       "      <td>2.157</td>\n",
       "    </tr>\n",
       "    <tr>\n",
       "      <th>4</th>\n",
       "      <td>1155596</td>\n",
       "      <td>COc1ccc(cc1)NC(=O)/C=C/c2ccccc2</td>\n",
       "      <td>COc1ccc(cc1)NC(=O)/C=C/c1ccccc1</td>\n",
       "      <td>[5.1]</td>\n",
       "      <td>3.48</td>\n",
       "    </tr>\n",
       "  </tbody>\n",
       "</table>\n",
       "</div>"
      ],
      "text/plain": [
       "   eMolecules ID           canonical isomeric SMILES  \\\n",
       "0        7616001            c1cc2c(c(sc2nc1)C(=O)N)N   \n",
       "1        1570822  c1cc2cccnc2c(c1)NC(=O)c3ccc(cc3)Cl   \n",
       "2       44750813                 Cc1cnc(s1)Nc2ccccn2   \n",
       "3         859659        c1ccc(cc1)c2cc(c(s2)N)C(=O)N   \n",
       "4        1155596     COc1ccc(cc1)NC(=O)/C=C/c2ccccc2   \n",
       "\n",
       "                  eMolecules SMILES   pKas in [3,11]  XlogP  \n",
       "0            NC(=O)c1sc2c(c1N)cccn2  [3.454, 10.685]  0.257  \n",
       "1  Clc1ccc(cc1)C(=O)Nc1cccc2c1nccc2           [3.95]  3.588  \n",
       "2               Cc1cnc(s1)Nc1ccccn1   [3.718, 6.011]  1.472  \n",
       "3          NC(=O)c1cc(sc1N)c1ccccc1          [9.967]  2.157  \n",
       "4   COc1ccc(cc1)NC(=O)/C=C/c1ccccc1            [5.1]   3.48  "
      ]
     },
     "execution_count": 3,
     "metadata": {},
     "output_type": "execute_result"
    }
   ],
   "source": [
    "###### IMPORT PKA FILTERED MOLECULE LIST FROM CSV FILE ######\n",
    "df_pKa = pd.read_csv(\"df_pKa_interval_3-11_spread.csv\")\n",
    "\n",
    "df_XlogP = df_pKa.loc[:, (\"eMolecules ID\", \"canonical isomeric SMILES\", \"eMolecules SMILES\", \"pKas in [3,11]\")]\n",
    "\n",
    "print(\"Initial number of molecules: \", df_XlogP.shape[0])\n",
    "# df_XlogP.head()\n",
    "\n",
    "# make new column for XlogP data \n",
    "df_XlogP[\"XlogP\"] = None\n",
    "\n",
    "for i, row in enumerate(df_XlogP.iterrows()):\n",
    "    smiles = df_XlogP.loc[i,\"canonical isomeric SMILES\"]\n",
    "    mol = oechem.OEGraphMol()\n",
    "    oechem.OESmilesToMol(mol, str(smiles))\n",
    "    \n",
    "    try: \n",
    "        logP=oemolprop.OEGetXLogP(mol)\n",
    "    except RuntimeError:\n",
    "            print(\"Error: i=\",i,\" \", df_molecules.ix[i, \"NAME\"])\n",
    "            logP=float(\"NaN\")\n",
    "            \n",
    "    df_XlogP.loc[i,\"XlogP\"] = float(logP)\n",
    "    del mol\n",
    "df_XlogP.head()"
   ]
  },
  {
   "cell_type": "code",
   "execution_count": 4,
   "metadata": {},
   "outputs": [
    {
     "name": "stdout",
     "output_type": "stream",
     "text": [
      "Number of molecules in logP interval:  178\n"
     ]
    },
    {
     "data": {
      "text/html": [
       "<div>\n",
       "<style>\n",
       "    .dataframe thead tr:only-child th {\n",
       "        text-align: right;\n",
       "    }\n",
       "\n",
       "    .dataframe thead th {\n",
       "        text-align: left;\n",
       "    }\n",
       "\n",
       "    .dataframe tbody tr th {\n",
       "        vertical-align: top;\n",
       "    }\n",
       "</style>\n",
       "<table border=\"1\" class=\"dataframe\">\n",
       "  <thead>\n",
       "    <tr style=\"text-align: right;\">\n",
       "      <th></th>\n",
       "      <th>eMolecules ID</th>\n",
       "      <th>canonical isomeric SMILES</th>\n",
       "      <th>eMolecules SMILES</th>\n",
       "      <th>pKas in [3,11]</th>\n",
       "      <th>XlogP</th>\n",
       "    </tr>\n",
       "  </thead>\n",
       "  <tbody>\n",
       "    <tr>\n",
       "      <th>0</th>\n",
       "      <td>7616001</td>\n",
       "      <td>c1cc2c(c(sc2nc1)C(=O)N)N</td>\n",
       "      <td>NC(=O)c1sc2c(c1N)cccn2</td>\n",
       "      <td>[3.454, 10.685]</td>\n",
       "      <td>0.257</td>\n",
       "    </tr>\n",
       "    <tr>\n",
       "      <th>1</th>\n",
       "      <td>1570822</td>\n",
       "      <td>c1cc2cccnc2c(c1)NC(=O)c3ccc(cc3)Cl</td>\n",
       "      <td>Clc1ccc(cc1)C(=O)Nc1cccc2c1nccc2</td>\n",
       "      <td>[3.95]</td>\n",
       "      <td>3.588</td>\n",
       "    </tr>\n",
       "    <tr>\n",
       "      <th>2</th>\n",
       "      <td>44750813</td>\n",
       "      <td>Cc1cnc(s1)Nc2ccccn2</td>\n",
       "      <td>Cc1cnc(s1)Nc1ccccn1</td>\n",
       "      <td>[3.718, 6.011]</td>\n",
       "      <td>1.472</td>\n",
       "    </tr>\n",
       "    <tr>\n",
       "      <th>3</th>\n",
       "      <td>859659</td>\n",
       "      <td>c1ccc(cc1)c2cc(c(s2)N)C(=O)N</td>\n",
       "      <td>NC(=O)c1cc(sc1N)c1ccccc1</td>\n",
       "      <td>[9.967]</td>\n",
       "      <td>2.157</td>\n",
       "    </tr>\n",
       "    <tr>\n",
       "      <th>4</th>\n",
       "      <td>1155596</td>\n",
       "      <td>COc1ccc(cc1)NC(=O)/C=C/c2ccccc2</td>\n",
       "      <td>COc1ccc(cc1)NC(=O)/C=C/c1ccccc1</td>\n",
       "      <td>[5.1]</td>\n",
       "      <td>3.48</td>\n",
       "    </tr>\n",
       "  </tbody>\n",
       "</table>\n",
       "</div>"
      ],
      "text/plain": [
       "   eMolecules ID           canonical isomeric SMILES  \\\n",
       "0        7616001            c1cc2c(c(sc2nc1)C(=O)N)N   \n",
       "1        1570822  c1cc2cccnc2c(c1)NC(=O)c3ccc(cc3)Cl   \n",
       "2       44750813                 Cc1cnc(s1)Nc2ccccn2   \n",
       "3         859659        c1ccc(cc1)c2cc(c(s2)N)C(=O)N   \n",
       "4        1155596     COc1ccc(cc1)NC(=O)/C=C/c2ccccc2   \n",
       "\n",
       "                  eMolecules SMILES   pKas in [3,11]  XlogP  \n",
       "0            NC(=O)c1sc2c(c1N)cccn2  [3.454, 10.685]  0.257  \n",
       "1  Clc1ccc(cc1)C(=O)Nc1cccc2c1nccc2           [3.95]  3.588  \n",
       "2               Cc1cnc(s1)Nc1ccccn1   [3.718, 6.011]  1.472  \n",
       "3          NC(=O)c1cc(sc1N)c1ccccc1          [9.967]  2.157  \n",
       "4   COc1ccc(cc1)NC(=O)/C=C/c1ccccc1            [5.1]   3.48  "
      ]
     },
     "execution_count": 4,
     "metadata": {},
     "output_type": "execute_result"
    }
   ],
   "source": [
    "##### ELIMINATE MOLECULES OUTSIDE ACCEPTABLE LOGP INTEVAL: -1 <= logP <= 6  #####\n",
    "\n",
    "# Select molecules within desired logP interval\n",
    "df_XlogP_interval = df_XlogP.loc[(-1 <= df_XlogP[\"XlogP\"])]\n",
    "df_XlogP_interval = df_XlogP_interval.loc[(df_XlogP_interval[\"XlogP\"] <= 6)].reindex()\n",
    "\n",
    "print(\"Number of molecules in logP interval: \", df_XlogP_interval.shape[0])\n",
    "\n",
    "# Save dataframe of molecules that are withing XlogP interval criteria.\n",
    "df_XlogP_interval.to_csv(\"df_XlogP_interval.csv\")\n",
    "\n",
    "df_XlogP_interval.head()"
   ]
  },
  {
   "cell_type": "code",
   "execution_count": 5,
   "metadata": {},
   "outputs": [
    {
     "data": {
      "text/plain": [
       "<matplotlib.text.Text at 0x116b9def0>"
      ]
     },
     "execution_count": 5,
     "metadata": {},
     "output_type": "execute_result"
    },
    {
     "data": {
      "image/png": "[encoded data removed]",
      "text/plain": [
       "<matplotlib.figure.Figure at 0x116a9dd30>"
      ]
     },
     "metadata": {},
     "output_type": "display_data"
    }
   ],
   "source": [
    "XlogP_values = df_XlogP_interval.loc[:, \"XlogP\"]\n",
    "plt.hist(XlogP_values, bins=12)\n",
    "plt.xlabel(\"XlogP\")\n",
    "plt.ylabel(\"molecule count\")"
   ]
  },
  {
   "cell_type": "markdown",
   "metadata": {
    "collapsed": true
   },
   "source": [
    "## 2. Filtering by Molecular Weight"
   ]
  },
  {
   "cell_type": "code",
   "execution_count": 6,
   "metadata": {},
   "outputs": [
    {
     "data": {
      "text/html": [
       "<div>\n",
       "<style>\n",
       "    .dataframe thead tr:only-child th {\n",
       "        text-align: right;\n",
       "    }\n",
       "\n",
       "    .dataframe thead th {\n",
       "        text-align: left;\n",
       "    }\n",
       "\n",
       "    .dataframe tbody tr th {\n",
       "        vertical-align: top;\n",
       "    }\n",
       "</style>\n",
       "<table border=\"1\" class=\"dataframe\">\n",
       "  <thead>\n",
       "    <tr style=\"text-align: right;\">\n",
       "      <th></th>\n",
       "      <th>eMolecules ID</th>\n",
       "      <th>canonical isomeric SMILES</th>\n",
       "      <th>eMolecules SMILES</th>\n",
       "      <th>pKas in [3,11]</th>\n",
       "      <th>XlogP</th>\n",
       "      <th>MolWt</th>\n",
       "      <th>Availability (mg)</th>\n",
       "      <th>Price</th>\n",
       "    </tr>\n",
       "  </thead>\n",
       "  <tbody>\n",
       "    <tr>\n",
       "      <th>0</th>\n",
       "      <td>7616001</td>\n",
       "      <td>c1cc2c(c(sc2nc1)C(=O)N)N</td>\n",
       "      <td>NC(=O)c1sc2c(c1N)cccn2</td>\n",
       "      <td>[3.454, 10.685]</td>\n",
       "      <td>0.257</td>\n",
       "      <td>193.226</td>\n",
       "      <td>970.0</td>\n",
       "      <td>168.0</td>\n",
       "    </tr>\n",
       "    <tr>\n",
       "      <th>1</th>\n",
       "      <td>1570822</td>\n",
       "      <td>c1cc2cccnc2c(c1)NC(=O)c3ccc(cc3)Cl</td>\n",
       "      <td>Clc1ccc(cc1)C(=O)Nc1cccc2c1nccc2</td>\n",
       "      <td>[3.95]</td>\n",
       "      <td>3.588</td>\n",
       "      <td>282.724</td>\n",
       "      <td>176.0</td>\n",
       "      <td>168.0</td>\n",
       "    </tr>\n",
       "    <tr>\n",
       "      <th>2</th>\n",
       "      <td>44750813</td>\n",
       "      <td>Cc1cnc(s1)Nc2ccccn2</td>\n",
       "      <td>Cc1cnc(s1)Nc1ccccn1</td>\n",
       "      <td>[3.718, 6.011]</td>\n",
       "      <td>1.472</td>\n",
       "      <td>191.253</td>\n",
       "      <td>1015.0</td>\n",
       "      <td>168.0</td>\n",
       "    </tr>\n",
       "    <tr>\n",
       "      <th>3</th>\n",
       "      <td>859659</td>\n",
       "      <td>c1ccc(cc1)c2cc(c(s2)N)C(=O)N</td>\n",
       "      <td>NC(=O)c1cc(sc1N)c1ccccc1</td>\n",
       "      <td>[9.967]</td>\n",
       "      <td>2.157</td>\n",
       "      <td>218.275</td>\n",
       "      <td>19471.5</td>\n",
       "      <td>223.0</td>\n",
       "    </tr>\n",
       "    <tr>\n",
       "      <th>4</th>\n",
       "      <td>1155596</td>\n",
       "      <td>COc1ccc(cc1)NC(=O)/C=C/c2ccccc2</td>\n",
       "      <td>COc1ccc(cc1)NC(=O)/C=C/c1ccccc1</td>\n",
       "      <td>[5.1]</td>\n",
       "      <td>3.48</td>\n",
       "      <td>253.296</td>\n",
       "      <td>100.0</td>\n",
       "      <td>168.0</td>\n",
       "    </tr>\n",
       "  </tbody>\n",
       "</table>\n",
       "</div>"
      ],
      "text/plain": [
       "   eMolecules ID           canonical isomeric SMILES  \\\n",
       "0        7616001            c1cc2c(c(sc2nc1)C(=O)N)N   \n",
       "1        1570822  c1cc2cccnc2c(c1)NC(=O)c3ccc(cc3)Cl   \n",
       "2       44750813                 Cc1cnc(s1)Nc2ccccn2   \n",
       "3         859659        c1ccc(cc1)c2cc(c(s2)N)C(=O)N   \n",
       "4        1155596     COc1ccc(cc1)NC(=O)/C=C/c2ccccc2   \n",
       "\n",
       "                  eMolecules SMILES   pKas in [3,11]  XlogP    MolWt  \\\n",
       "0            NC(=O)c1sc2c(c1N)cccn2  [3.454, 10.685]  0.257  193.226   \n",
       "1  Clc1ccc(cc1)C(=O)Nc1cccc2c1nccc2           [3.95]  3.588  282.724   \n",
       "2               Cc1cnc(s1)Nc1ccccn1   [3.718, 6.011]  1.472  191.253   \n",
       "3          NC(=O)c1cc(sc1N)c1ccccc1          [9.967]  2.157  218.275   \n",
       "4   COc1ccc(cc1)NC(=O)/C=C/c1ccccc1            [5.1]   3.48  253.296   \n",
       "\n",
       "   Availability (mg)  Price  \n",
       "0              970.0  168.0  \n",
       "1              176.0  168.0  \n",
       "2             1015.0  168.0  \n",
       "3            19471.5  223.0  \n",
       "4              100.0  168.0  "
      ]
     },
     "execution_count": 6,
     "metadata": {},
     "output_type": "execute_result"
    }
   ],
   "source": [
    "df_eMol = pd.read_csv(\"isosmiles-list-search-tier1-100mg.csv\")\n",
    "df_eMol_mw = df_eMol.loc[:,(\"eMolecules ID\",\"MolWt\",\"Availability (mg)\", \"Price\")]\n",
    "\n",
    "# Merge dataframes based on eMolecules ID\n",
    "df_mw = df_XlogP_interval.merge(df_eMol_mw, on=\"eMolecules ID\")\n",
    "df_mw.head()"
   ]
  },
  {
   "cell_type": "code",
   "execution_count": 7,
   "metadata": {},
   "outputs": [
    {
     "data": {
      "text/html": [
       "<div>\n",
       "<style>\n",
       "    .dataframe thead tr:only-child th {\n",
       "        text-align: right;\n",
       "    }\n",
       "\n",
       "    .dataframe thead th {\n",
       "        text-align: left;\n",
       "    }\n",
       "\n",
       "    .dataframe tbody tr th {\n",
       "        vertical-align: top;\n",
       "    }\n",
       "</style>\n",
       "<table border=\"1\" class=\"dataframe\">\n",
       "  <thead>\n",
       "    <tr style=\"text-align: right;\">\n",
       "      <th></th>\n",
       "      <th>eMolecules ID</th>\n",
       "      <th>canonical isomeric SMILES</th>\n",
       "      <th>eMolecules SMILES</th>\n",
       "      <th>pKas in [3,11]</th>\n",
       "      <th>XlogP</th>\n",
       "      <th>MolWt</th>\n",
       "      <th>Availability (mg)</th>\n",
       "      <th>Price</th>\n",
       "      <th>group</th>\n",
       "    </tr>\n",
       "  </thead>\n",
       "  <tbody>\n",
       "    <tr>\n",
       "      <th>0</th>\n",
       "      <td>7616001</td>\n",
       "      <td>c1cc2c(c(sc2nc1)C(=O)N)N</td>\n",
       "      <td>NC(=O)c1sc2c(c1N)cccn2</td>\n",
       "      <td>[3.454, 10.685]</td>\n",
       "      <td>0.257</td>\n",
       "      <td>193.226</td>\n",
       "      <td>970.0</td>\n",
       "      <td>168.0</td>\n",
       "      <td>fragment-like</td>\n",
       "    </tr>\n",
       "    <tr>\n",
       "      <th>1</th>\n",
       "      <td>1570822</td>\n",
       "      <td>c1cc2cccnc2c(c1)NC(=O)c3ccc(cc3)Cl</td>\n",
       "      <td>Clc1ccc(cc1)C(=O)Nc1cccc2c1nccc2</td>\n",
       "      <td>[3.95]</td>\n",
       "      <td>3.588</td>\n",
       "      <td>282.724</td>\n",
       "      <td>176.0</td>\n",
       "      <td>168.0</td>\n",
       "      <td>fragment-like</td>\n",
       "    </tr>\n",
       "    <tr>\n",
       "      <th>2</th>\n",
       "      <td>44750813</td>\n",
       "      <td>Cc1cnc(s1)Nc2ccccn2</td>\n",
       "      <td>Cc1cnc(s1)Nc1ccccn1</td>\n",
       "      <td>[3.718, 6.011]</td>\n",
       "      <td>1.472</td>\n",
       "      <td>191.253</td>\n",
       "      <td>1015.0</td>\n",
       "      <td>168.0</td>\n",
       "      <td>fragment-like</td>\n",
       "    </tr>\n",
       "    <tr>\n",
       "      <th>3</th>\n",
       "      <td>859659</td>\n",
       "      <td>c1ccc(cc1)c2cc(c(s2)N)C(=O)N</td>\n",
       "      <td>NC(=O)c1cc(sc1N)c1ccccc1</td>\n",
       "      <td>[9.967]</td>\n",
       "      <td>2.157</td>\n",
       "      <td>218.275</td>\n",
       "      <td>19471.5</td>\n",
       "      <td>223.0</td>\n",
       "      <td>fragment-like</td>\n",
       "    </tr>\n",
       "    <tr>\n",
       "      <th>4</th>\n",
       "      <td>1155596</td>\n",
       "      <td>COc1ccc(cc1)NC(=O)/C=C/c2ccccc2</td>\n",
       "      <td>COc1ccc(cc1)NC(=O)/C=C/c1ccccc1</td>\n",
       "      <td>[5.1]</td>\n",
       "      <td>3.48</td>\n",
       "      <td>253.296</td>\n",
       "      <td>100.0</td>\n",
       "      <td>168.0</td>\n",
       "      <td>fragment-like</td>\n",
       "    </tr>\n",
       "  </tbody>\n",
       "</table>\n",
       "</div>"
      ],
      "text/plain": [
       "   eMolecules ID           canonical isomeric SMILES  \\\n",
       "0        7616001            c1cc2c(c(sc2nc1)C(=O)N)N   \n",
       "1        1570822  c1cc2cccnc2c(c1)NC(=O)c3ccc(cc3)Cl   \n",
       "2       44750813                 Cc1cnc(s1)Nc2ccccn2   \n",
       "3         859659        c1ccc(cc1)c2cc(c(s2)N)C(=O)N   \n",
       "4        1155596     COc1ccc(cc1)NC(=O)/C=C/c2ccccc2   \n",
       "\n",
       "                  eMolecules SMILES   pKas in [3,11]  XlogP    MolWt  \\\n",
       "0            NC(=O)c1sc2c(c1N)cccn2  [3.454, 10.685]  0.257  193.226   \n",
       "1  Clc1ccc(cc1)C(=O)Nc1cccc2c1nccc2           [3.95]  3.588  282.724   \n",
       "2               Cc1cnc(s1)Nc1ccccn1   [3.718, 6.011]  1.472  191.253   \n",
       "3          NC(=O)c1cc(sc1N)c1ccccc1          [9.967]  2.157  218.275   \n",
       "4   COc1ccc(cc1)NC(=O)/C=C/c1ccccc1            [5.1]   3.48  253.296   \n",
       "\n",
       "   Availability (mg)  Price          group  \n",
       "0              970.0  168.0  fragment-like  \n",
       "1              176.0  168.0  fragment-like  \n",
       "2             1015.0  168.0  fragment-like  \n",
       "3            19471.5  223.0  fragment-like  \n",
       "4              100.0  168.0  fragment-like  "
      ]
     },
     "execution_count": 7,
     "metadata": {},
     "output_type": "execute_result"
    }
   ],
   "source": [
    "# I will group compounds according to molecular weight into 2 groups.\n",
    "# Fragment-like: 150<= mw <350\n",
    "# Drug-like: 350< mw <=500\n",
    "\n",
    "df_mw[\"group\"] = None\n",
    "for i, row in enumerate(df_mw.iterrows()):\n",
    "    mw =df_mw.loc[i,\"MolWt\"]\n",
    "    if (150 <= mw) and (mw < 350):\n",
    "        df_mw.loc[i,\"group\"]= \"fragment-like\"\n",
    "    elif (350 < mw) and (mw <= 500):\n",
    "        df_mw.loc[i,\"group\"]= \"drug-like\"\n",
    "    else:\n",
    "        continue\n",
    "\n",
    "df_mw.head()"
   ]
  },
  {
   "cell_type": "code",
   "execution_count": 8,
   "metadata": {},
   "outputs": [
    {
     "name": "stdout",
     "output_type": "stream",
     "text": [
      "Number of compounds suitable for fragment-like group:  126\n",
      "Number of compounds suitable for drug-like group:  47\n"
     ]
    }
   ],
   "source": [
    "df_frag = df_mw.loc[df_mw[\"group\"] == \"fragment-like\"]\n",
    "print(\"Number of compounds suitable for fragment-like group: \", df_frag.shape[0])\n",
    "\n",
    "df_drug = df_mw.loc[df_mw[\"group\"] == \"drug-like\"]\n",
    "print(\"Number of compounds suitable for drug-like group: \", df_drug.shape[0])"
   ]
  },
  {
   "cell_type": "code",
   "execution_count": 9,
   "metadata": {},
   "outputs": [
    {
     "data": {
      "text/plain": [
       "(0, 6)"
      ]
     },
     "execution_count": 9,
     "metadata": {},
     "output_type": "execute_result"
    },
    {
     "data": {
      "image/png": "[encoded data removed]",
      "text/plain": [
       "<matplotlib.figure.Figure at 0x116a9d898>"
      ]
     },
     "metadata": {},
     "output_type": "display_data"
    }
   ],
   "source": [
    "# Let's check the logP distribution of fragment-like group\n",
    "XlogP_values = df_frag.loc[:, \"XlogP\"]\n",
    "plt.hist(XlogP_values, bins=10)\n",
    "plt.xlabel(\"XlogP\")\n",
    "plt.ylabel(\"molecule count\")\n",
    "plt.xlim(0,6)"
   ]
  },
  {
   "cell_type": "code",
   "execution_count": 10,
   "metadata": {},
   "outputs": [
    {
     "data": {
      "text/plain": [
       "(0, 10)"
      ]
     },
     "execution_count": 10,
     "metadata": {},
     "output_type": "execute_result"
    },
    {
     "data": {
      "image/png": "[encoded data removed]",
      "text/plain": [
       "<matplotlib.figure.Figure at 0x118ed7198>"
      ]
     },
     "metadata": {},
     "output_type": "display_data"
    }
   ],
   "source": [
    "# Let's check the logP distribution of drug-like group\n",
    "XlogP_values = df_drug.loc[:, \"XlogP\"]\n",
    "plt.hist(XlogP_values, bins=10)\n",
    "plt.xlabel(\"XlogP\")\n",
    "plt.ylabel(\"molecule count\")\n",
    "plt.xlim(0,6)\n",
    "plt.ylim(0,10)"
   ]
  },
  {
   "cell_type": "markdown",
   "metadata": {},
   "source": [
    "## 3. Filtering based on number of rotatable bonds"
   ]
  },
  {
   "cell_type": "code",
   "execution_count": 11,
   "metadata": {},
   "outputs": [
    {
     "data": {
      "text/html": [
       "<div>\n",
       "<style>\n",
       "    .dataframe thead tr:only-child th {\n",
       "        text-align: right;\n",
       "    }\n",
       "\n",
       "    .dataframe thead th {\n",
       "        text-align: left;\n",
       "    }\n",
       "\n",
       "    .dataframe tbody tr th {\n",
       "        vertical-align: top;\n",
       "    }\n",
       "</style>\n",
       "<table border=\"1\" class=\"dataframe\">\n",
       "  <thead>\n",
       "    <tr style=\"text-align: right;\">\n",
       "      <th></th>\n",
       "      <th>eMolecules ID</th>\n",
       "      <th>canonical isomeric SMILES</th>\n",
       "      <th>eMolecules SMILES</th>\n",
       "      <th>pKas in [3,11]</th>\n",
       "      <th>XlogP</th>\n",
       "      <th>MolWt</th>\n",
       "      <th>Availability (mg)</th>\n",
       "      <th>Price</th>\n",
       "      <th>group</th>\n",
       "      <th>N_Rot</th>\n",
       "    </tr>\n",
       "  </thead>\n",
       "  <tbody>\n",
       "    <tr>\n",
       "      <th>0</th>\n",
       "      <td>7616001</td>\n",
       "      <td>c1cc2c(c(sc2nc1)C(=O)N)N</td>\n",
       "      <td>NC(=O)c1sc2c(c1N)cccn2</td>\n",
       "      <td>[3.454, 10.685]</td>\n",
       "      <td>0.257</td>\n",
       "      <td>193.226</td>\n",
       "      <td>970.0</td>\n",
       "      <td>168.0</td>\n",
       "      <td>fragment-like</td>\n",
       "      <td>1</td>\n",
       "    </tr>\n",
       "    <tr>\n",
       "      <th>1</th>\n",
       "      <td>1570822</td>\n",
       "      <td>c1cc2cccnc2c(c1)NC(=O)c3ccc(cc3)Cl</td>\n",
       "      <td>Clc1ccc(cc1)C(=O)Nc1cccc2c1nccc2</td>\n",
       "      <td>[3.95]</td>\n",
       "      <td>3.588</td>\n",
       "      <td>282.724</td>\n",
       "      <td>176.0</td>\n",
       "      <td>168.0</td>\n",
       "      <td>fragment-like</td>\n",
       "      <td>3</td>\n",
       "    </tr>\n",
       "    <tr>\n",
       "      <th>2</th>\n",
       "      <td>44750813</td>\n",
       "      <td>Cc1cnc(s1)Nc2ccccn2</td>\n",
       "      <td>Cc1cnc(s1)Nc1ccccn1</td>\n",
       "      <td>[3.718, 6.011]</td>\n",
       "      <td>1.472</td>\n",
       "      <td>191.253</td>\n",
       "      <td>1015.0</td>\n",
       "      <td>168.0</td>\n",
       "      <td>fragment-like</td>\n",
       "      <td>2</td>\n",
       "    </tr>\n",
       "    <tr>\n",
       "      <th>3</th>\n",
       "      <td>859659</td>\n",
       "      <td>c1ccc(cc1)c2cc(c(s2)N)C(=O)N</td>\n",
       "      <td>NC(=O)c1cc(sc1N)c1ccccc1</td>\n",
       "      <td>[9.967]</td>\n",
       "      <td>2.157</td>\n",
       "      <td>218.275</td>\n",
       "      <td>19471.5</td>\n",
       "      <td>223.0</td>\n",
       "      <td>fragment-like</td>\n",
       "      <td>2</td>\n",
       "    </tr>\n",
       "    <tr>\n",
       "      <th>4</th>\n",
       "      <td>1155596</td>\n",
       "      <td>COc1ccc(cc1)NC(=O)/C=C/c2ccccc2</td>\n",
       "      <td>COc1ccc(cc1)NC(=O)/C=C/c1ccccc1</td>\n",
       "      <td>[5.1]</td>\n",
       "      <td>3.48</td>\n",
       "      <td>253.296</td>\n",
       "      <td>100.0</td>\n",
       "      <td>168.0</td>\n",
       "      <td>fragment-like</td>\n",
       "      <td>5</td>\n",
       "    </tr>\n",
       "  </tbody>\n",
       "</table>\n",
       "</div>"
      ],
      "text/plain": [
       "   eMolecules ID           canonical isomeric SMILES  \\\n",
       "0        7616001            c1cc2c(c(sc2nc1)C(=O)N)N   \n",
       "1        1570822  c1cc2cccnc2c(c1)NC(=O)c3ccc(cc3)Cl   \n",
       "2       44750813                 Cc1cnc(s1)Nc2ccccn2   \n",
       "3         859659        c1ccc(cc1)c2cc(c(s2)N)C(=O)N   \n",
       "4        1155596     COc1ccc(cc1)NC(=O)/C=C/c2ccccc2   \n",
       "\n",
       "                  eMolecules SMILES   pKas in [3,11]  XlogP    MolWt  \\\n",
       "0            NC(=O)c1sc2c(c1N)cccn2  [3.454, 10.685]  0.257  193.226   \n",
       "1  Clc1ccc(cc1)C(=O)Nc1cccc2c1nccc2           [3.95]  3.588  282.724   \n",
       "2               Cc1cnc(s1)Nc1ccccn1   [3.718, 6.011]  1.472  191.253   \n",
       "3          NC(=O)c1cc(sc1N)c1ccccc1          [9.967]  2.157  218.275   \n",
       "4   COc1ccc(cc1)NC(=O)/C=C/c1ccccc1            [5.1]   3.48  253.296   \n",
       "\n",
       "   Availability (mg)  Price          group N_Rot  \n",
       "0              970.0  168.0  fragment-like     1  \n",
       "1              176.0  168.0  fragment-like     3  \n",
       "2             1015.0  168.0  fragment-like     2  \n",
       "3            19471.5  223.0  fragment-like     2  \n",
       "4              100.0  168.0  fragment-like     5  "
      ]
     },
     "execution_count": 11,
     "metadata": {},
     "output_type": "execute_result"
    }
   ],
   "source": [
    "# Number of non-terminal rotatable bonds (excluding -OH)\n",
    "\n",
    "df_mw[\"N_Rot\"]=None\n",
    "\n",
    "for i, row in enumerate(df_mw.iterrows()):\n",
    "    smiles = df_mw.loc[i,\"canonical isomeric SMILES\"]\n",
    "    mol = oechem.OEGraphMol()\n",
    "    oechem.OESmilesToMol(mol, smiles)\n",
    "    \n",
    "    rotcounts = []\n",
    "    nrots = oechem.OECount(mol, oechem.OEIsRotor())\n",
    "    while nrots >= len(rotcounts):\n",
    "        rotcounts.append(0)\n",
    "    rotcounts[nrots] += 1\n",
    "    \n",
    "    del mol\n",
    "    number_of_rotatable_bonds = len(rotcounts) - 1\n",
    "    #print (\"Max rotors:\", number_of_rotatable_bonds)\n",
    "    #print(df_mw.loc[i,\"eMolecules ID\"])\n",
    "    \n",
    "    df_mw.loc[i,\"N_Rot\"]= number_of_rotatable_bonds \n",
    "\n",
    "df_mw.head()"
   ]
  },
  {
   "cell_type": "code",
   "execution_count": 12,
   "metadata": {},
   "outputs": [
    {
     "name": "stdout",
     "output_type": "stream",
     "text": [
      "Number of compounds suitable for fragment-like group:  76\n"
     ]
    }
   ],
   "source": [
    "# Number of rotatable bonds in fragment-like group shoud be <= 3\n",
    "df_frag = df_mw.loc[df_mw[\"group\"] == \"fragment-like\"]\n",
    "df_frag_nrot_interval = df_frag.loc[df_frag[\"N_Rot\"] <= 3]\n",
    "\n",
    "print(\"Number of compounds suitable for fragment-like group: \", df_frag_nrot_interval.shape[0])"
   ]
  },
  {
   "cell_type": "code",
   "execution_count": 13,
   "metadata": {},
   "outputs": [
    {
     "name": "stdout",
     "output_type": "stream",
     "text": [
      "Number of compounds suitable for drug-like group:  45\n"
     ]
    }
   ],
   "source": [
    "# Number of rotatable bonds in fragment-like group shoud be <= 8\n",
    "df_drug = df_mw.loc[df_mw[\"group\"] == \"drug-like\"]\n",
    "df_drug_nrot_interval = df_drug.loc[df_drug[\"N_Rot\"] <= 8]\n",
    "\n",
    "print(\"Number of compounds suitable for drug-like group: \", df_drug_nrot_interval.shape[0])"
   ]
  },
  {
   "cell_type": "markdown",
   "metadata": {},
   "source": [
    "## 4. Filtering based on possible UV-chromophores"
   ]
  },
  {
   "cell_type": "code",
   "execution_count": 14,
   "metadata": {
    "collapsed": true
   },
   "outputs": [],
   "source": [
    "# Example molecule\n",
    "\n",
    "#smiles = \"Cc1cnc(s1)Nc2ccccn2\"\n",
    "#mol = oechem.OEGraphMol()\n",
    "#oechem.OESmilesToMol(mol, str(smiles))\n",
    "\n",
    "# create a substructure search object - non-aromatic carbonyl\n",
    "#UV_chromophore_SMARTS = \"[n,o,c][c,n,o]cc\"\n",
    "#queried_substructure = UV_chromophore_SMARTS\n",
    "#ss = oechem.OESubSearch(queried_substructure)\n",
    "#oechem.OEPrepareSearch(mol, ss)\n",
    "\n",
    "# loop over matches to count\n",
    "#matched_ss_list=[]\n",
    "#UV_chromophore_count = 0\n",
    "#for index, match in enumerate(ss.Match(mol)):\n",
    "#    if ss.SingleMatch(mol) == True:\n",
    "#        matched_ss_list.append((index, match))\n",
    "#        UV_chromophore_count = len(matched_ss_list)\n",
    "\n",
    "#print(UV_chromophore_count)"
   ]
  },
  {
   "cell_type": "code",
   "execution_count": 15,
   "metadata": {},
   "outputs": [
    {
     "data": {
      "text/html": [
       "<div>\n",
       "<style>\n",
       "    .dataframe thead tr:only-child th {\n",
       "        text-align: right;\n",
       "    }\n",
       "\n",
       "    .dataframe thead th {\n",
       "        text-align: left;\n",
       "    }\n",
       "\n",
       "    .dataframe tbody tr th {\n",
       "        vertical-align: top;\n",
       "    }\n",
       "</style>\n",
       "<table border=\"1\" class=\"dataframe\">\n",
       "  <thead>\n",
       "    <tr style=\"text-align: right;\">\n",
       "      <th></th>\n",
       "      <th>eMolecules ID</th>\n",
       "      <th>canonical isomeric SMILES</th>\n",
       "      <th>eMolecules SMILES</th>\n",
       "      <th>pKas in [3,11]</th>\n",
       "      <th>XlogP</th>\n",
       "      <th>MolWt</th>\n",
       "      <th>Availability (mg)</th>\n",
       "      <th>Price</th>\n",
       "      <th>group</th>\n",
       "      <th>N_Rot</th>\n",
       "      <th>N_UV_chrom</th>\n",
       "    </tr>\n",
       "  </thead>\n",
       "  <tbody>\n",
       "    <tr>\n",
       "      <th>0</th>\n",
       "      <td>7616001</td>\n",
       "      <td>c1cc2c(c(sc2nc1)C(=O)N)N</td>\n",
       "      <td>NC(=O)c1sc2c(c1N)cccn2</td>\n",
       "      <td>[3.454, 10.685]</td>\n",
       "      <td>0.257</td>\n",
       "      <td>193.226</td>\n",
       "      <td>970.0</td>\n",
       "      <td>168.0</td>\n",
       "      <td>fragment-like</td>\n",
       "      <td>1</td>\n",
       "      <td>15</td>\n",
       "    </tr>\n",
       "    <tr>\n",
       "      <th>1</th>\n",
       "      <td>1570822</td>\n",
       "      <td>c1cc2cccnc2c(c1)NC(=O)c3ccc(cc3)Cl</td>\n",
       "      <td>Clc1ccc(cc1)C(=O)Nc1cccc2c1nccc2</td>\n",
       "      <td>[3.95]</td>\n",
       "      <td>3.588</td>\n",
       "      <td>282.724</td>\n",
       "      <td>176.0</td>\n",
       "      <td>168.0</td>\n",
       "      <td>fragment-like</td>\n",
       "      <td>3</td>\n",
       "      <td>41</td>\n",
       "    </tr>\n",
       "    <tr>\n",
       "      <th>2</th>\n",
       "      <td>44750813</td>\n",
       "      <td>Cc1cnc(s1)Nc2ccccn2</td>\n",
       "      <td>Cc1cnc(s1)Nc1ccccn1</td>\n",
       "      <td>[3.718, 6.011]</td>\n",
       "      <td>1.472</td>\n",
       "      <td>191.253</td>\n",
       "      <td>1015.0</td>\n",
       "      <td>168.0</td>\n",
       "      <td>fragment-like</td>\n",
       "      <td>2</td>\n",
       "      <td>9</td>\n",
       "    </tr>\n",
       "    <tr>\n",
       "      <th>3</th>\n",
       "      <td>859659</td>\n",
       "      <td>c1ccc(cc1)c2cc(c(s2)N)C(=O)N</td>\n",
       "      <td>NC(=O)c1cc(sc1N)c1ccccc1</td>\n",
       "      <td>[9.967]</td>\n",
       "      <td>2.157</td>\n",
       "      <td>218.275</td>\n",
       "      <td>19471.5</td>\n",
       "      <td>223.0</td>\n",
       "      <td>fragment-like</td>\n",
       "      <td>2</td>\n",
       "      <td>24</td>\n",
       "    </tr>\n",
       "    <tr>\n",
       "      <th>4</th>\n",
       "      <td>1155596</td>\n",
       "      <td>COc1ccc(cc1)NC(=O)/C=C/c2ccccc2</td>\n",
       "      <td>COc1ccc(cc1)NC(=O)/C=C/c1ccccc1</td>\n",
       "      <td>[5.1]</td>\n",
       "      <td>3.48</td>\n",
       "      <td>253.296</td>\n",
       "      <td>100.0</td>\n",
       "      <td>168.0</td>\n",
       "      <td>fragment-like</td>\n",
       "      <td>5</td>\n",
       "      <td>24</td>\n",
       "    </tr>\n",
       "  </tbody>\n",
       "</table>\n",
       "</div>"
      ],
      "text/plain": [
       "   eMolecules ID           canonical isomeric SMILES  \\\n",
       "0        7616001            c1cc2c(c(sc2nc1)C(=O)N)N   \n",
       "1        1570822  c1cc2cccnc2c(c1)NC(=O)c3ccc(cc3)Cl   \n",
       "2       44750813                 Cc1cnc(s1)Nc2ccccn2   \n",
       "3         859659        c1ccc(cc1)c2cc(c(s2)N)C(=O)N   \n",
       "4        1155596     COc1ccc(cc1)NC(=O)/C=C/c2ccccc2   \n",
       "\n",
       "                  eMolecules SMILES   pKas in [3,11]  XlogP    MolWt  \\\n",
       "0            NC(=O)c1sc2c(c1N)cccn2  [3.454, 10.685]  0.257  193.226   \n",
       "1  Clc1ccc(cc1)C(=O)Nc1cccc2c1nccc2           [3.95]  3.588  282.724   \n",
       "2               Cc1cnc(s1)Nc1ccccn1   [3.718, 6.011]  1.472  191.253   \n",
       "3          NC(=O)c1cc(sc1N)c1ccccc1          [9.967]  2.157  218.275   \n",
       "4   COc1ccc(cc1)NC(=O)/C=C/c1ccccc1            [5.1]   3.48  253.296   \n",
       "\n",
       "   Availability (mg)  Price          group N_Rot N_UV_chrom  \n",
       "0              970.0  168.0  fragment-like     1         15  \n",
       "1              176.0  168.0  fragment-like     3         41  \n",
       "2             1015.0  168.0  fragment-like     2          9  \n",
       "3            19471.5  223.0  fragment-like     2         24  \n",
       "4              100.0  168.0  fragment-like     5         24  "
      ]
     },
     "execution_count": 15,
     "metadata": {},
     "output_type": "execute_result"
    }
   ],
   "source": [
    "# For UV-metric pKa measurement UV chromophores absorbing in 200-400 nm are necessary.\n",
    "# I will use presence of C=C-C=C, C=C-C=O or C=C-C=N  substructures as an indictato of UV-chromophore\n",
    "# 1.3-butadiene absorbs at 217 nm\n",
    "\n",
    "df_mw[\"N_UV_chrom\"]=None\n",
    "\n",
    "UV_chromophore_SMARTS = \"[n,o,c][c,n,o]cc\"\n",
    "\n",
    "for i, row in enumerate(df_mw.iterrows()):\n",
    "\n",
    "    # Count number UV absorbing conjugated-pi systems using SMARTS matching\n",
    "\n",
    "    smiles = df_mw.loc[i,\"canonical isomeric SMILES\"]\n",
    "    mol = oechem.OEGraphMol()\n",
    "    oechem.OESmilesToMol(mol, str(smiles))\n",
    "\n",
    "    #create a substructure search object\n",
    "    queried_substructure = UV_chromophore_SMARTS\n",
    "    ss = oechem.OESubSearch(queried_substructure)\n",
    "    oechem.OEPrepareSearch(mol, ss)\n",
    "\n",
    "    # loop over matches to count\n",
    "    matched_ss_list=[]\n",
    "    UV_chromophore_count = 0\n",
    "    for index, match in enumerate(ss.Match(mol)):\n",
    "        if ss.SingleMatch(mol) == True:\n",
    "            matched_ss_list.append((index, match))\n",
    "            UV_chromophore_count = len(matched_ss_list)\n",
    "    \n",
    "    df_mw.loc[i, \"N_UV_chrom\"] = UV_chromophore_count\n",
    "\n",
    "df_mw.head()"
   ]
  },
  {
   "cell_type": "code",
   "execution_count": 16,
   "metadata": {},
   "outputs": [
    {
     "name": "stdout",
     "output_type": "stream",
     "text": [
      "Number of compounds suitable for fragment-like group:  126\n",
      "Number of compounds suitable for drug-like group:  47\n",
      "Minimum number of UV-chromophore units in fragment-like group:  8\n",
      "Minimum number of UV-chromophore units in drug-like group:  12\n"
     ]
    }
   ],
   "source": [
    "df_frag = df_mw.loc[df_mw[\"group\"] == \"fragment-like\"].reset_index(drop=True)\n",
    "print(\"Number of compounds suitable for fragment-like group: \", df_frag.shape[0])\n",
    "\n",
    "df_drug = df_mw.loc[df_mw[\"group\"] == \"drug-like\"].reindex().reset_index(drop=True)\n",
    "print(\"Number of compounds suitable for drug-like group: \", df_drug.shape[0])\n",
    "\n",
    "# What is the minimum number of UV-chromophore matches in the drug-like and fragment-like group?\n",
    "print(\"Minimum number of UV-chromophore units in fragment-like group: \", min(df_frag[\"N_UV_chrom\"]) )\n",
    "print(\"Minimum number of UV-chromophore units in drug-like group: \", min(df_drug[\"N_UV_chrom\"]))"
   ]
  },
  {
   "cell_type": "code",
   "execution_count": 17,
   "metadata": {
    "collapsed": true
   },
   "outputs": [],
   "source": [
    "## 5. Filter out expensive molecules ( price > 250 USD)\n",
    "\n",
    "#df_frag = df_frag.loc[df_frag[\"Price\"] <= 250.0].reset_index(drop=True)\n",
    "#print(\"Number of fragment-like compounds w/ price <= 250: \", df_frag.shape[0] )\n",
    "\n",
    "#df_drug = df_drug.loc[df_drug[\"Price\"] <= 250.0].reset_index(drop=True)\n",
    "#print(\"Number of drug-like compounds w/ price <= 250: \", df_drug.shape[0] )"
   ]
  },
  {
   "cell_type": "code",
   "execution_count": 18,
   "metadata": {
    "collapsed": true
   },
   "outputs": [],
   "source": [
    "#df_frag_cheap = df_frag.loc[df_frag[\"Price\"] <= 200.0].reset_index(drop=True)\n",
    "#print(\"Number of fragment-like compounds w/ price <= 250: \", df_frag_cheap.shape[0] )\n",
    "\n",
    "#df_drug_cheap = df_drug.loc[df_drug[\"Price\"] <= 200.0].reset_index(drop=True)\n",
    "#print(\"Number of drug-like compounds w/ price <= 250: \", df_drug_cheap.shape[0] )"
   ]
  },
  {
   "cell_type": "markdown",
   "metadata": {},
   "source": [
    "## 5. Eliminate compounds with NaN price or availability"
   ]
  },
  {
   "cell_type": "code",
   "execution_count": 19,
   "metadata": {},
   "outputs": [
    {
     "name": "stdout",
     "output_type": "stream",
     "text": [
      "Number of fragment-like molecules with price and 100 mg availability: 111\n",
      "Number of drug-like molecules with price and 100 mg availability: 40\n"
     ]
    }
   ],
   "source": [
    "# Eliminate entries without price in fragment-like set\n",
    "df_frag = df_frag[np.isfinite(df_frag[\"Price\"])].reset_index(drop=True)\n",
    "\n",
    "# Eliminate entries with availability less than 100 mg\n",
    "df_frag = df_frag[df_frag[\"Availability (mg)\"] >= 100.0].reset_index(drop=True)\n",
    "print(\"Number of fragment-like molecules with price and 100 mg availability:\",df_frag.shape[0])\n",
    "\n",
    "# Eliminate entries without price in drug-like ste\n",
    "df_drug = df_drug[np.isfinite(df_drug[\"Price\"])].reset_index(drop=True)\n",
    "\n",
    "# Eliminate entries with availability less than 100 mg\n",
    "df_drug = df_drug[df_drug[\"Availability (mg)\"] >= 100.0].reset_index(drop=True)\n",
    "print(\"Number of drug-like molecules with price and 100 mg availability:\",df_drug.shape[0])"
   ]
  },
  {
   "cell_type": "markdown",
   "metadata": {},
   "source": [
    "## 6. Sort molecules in each group by their price"
   ]
  },
  {
   "cell_type": "code",
   "execution_count": 20,
   "metadata": {
    "collapsed": true
   },
   "outputs": [],
   "source": [
    "df_frag = df_frag.sort_values(by = \"Price\", ascending = True, inplace=False).reset_index(drop=True)\n",
    "df_drug = df_drug.sort_values(by = \"Price\", ascending = True, inplace=False).reset_index(drop=True)"
   ]
  },
  {
   "cell_type": "markdown",
   "metadata": {},
   "source": [
    "## 7. Include molecules with ring scaffolds of FDA approved PKIs\n",
    "Murcko fragments of FDA approved Protein Kinase Inhibitors were created. I analyzed the frequency of appearance of ring fragments. The following rings were seen multiple times:\n",
    "1. pyridine\n",
    "2. piperazine\n",
    "3. quinazoline\n",
    "4. quinoline\n",
    "5. pyrimidine\n",
    "6. indazole\n",
    "7. pyrazole\n",
    "8. imidazole\n",
    "\n",
    "I aim to include at least one molecule of each of these frequent rings in the SAMPL6 fragment-like set.\n",
    "\n",
    "### 7.1 Fragment-like compounds with PKI scaffolds"
   ]
  },
  {
   "cell_type": "code",
   "execution_count": 21,
   "metadata": {},
   "outputs": [
    {
     "name": "stdout",
     "output_type": "stream",
     "text": [
      "Molecule that has pyridine: c1cc2cccnc2c(c1)NC(=O)c3cc(cnc3)Br\n",
      "Molecule that has quinoline: CCOC(=O)c1c(c2cc(ccc2[nH]c1=O)Cl)c3ccccc3\n",
      "Molecule that has imidazole: c1ccc2c(c1)ncn2c3ccc(cc3)O\n",
      "Molecule that has pyrazole: c1ccc(cc1)NC(=O)c2c3ccccc3[nH]n2\n",
      "Could not found a molecule that has piperazine!\n",
      "Could not found a molecule that has indazole!\n",
      "Molecule that has pyrimidine: COc1cccc(c1)Nc2c3ccccc3ncn2.Cl\n",
      "Molecule that has quinazoline: c1ccc2c(c1)c(ncn2)NCc3ccc(cc3)Cl\n"
     ]
    }
   ],
   "source": [
    "ring_smarts = {'pyridine':\"c1cccc[nX2]1\",\n",
    "               'piperazine': \"[NX3]1CC[NX3]CC1\",\n",
    "               'quinazoline': \"c:1:c:2:c(:c:c:c:1):n:c:n:c:2\",\n",
    "               'quinoline': \"c:1:c:2:c(:c:c:c:1):n:c:c:c:2\",\n",
    "               'pyrimidine': \"c1[nX2]ccc[nX2]1\",\n",
    "               'indazole': \"c1c2c(ccc1)nnc2\",\n",
    "               'pyrazole': \"c1cnnc1\",\n",
    "               'imidazole': \"c1nccn1\"}\n",
    "\n",
    "#How to record selected compounds\n",
    "picked_ids=[]\n",
    "df_frag[\"Selection\"] = None\n",
    "df_frag[\"Bin index\"] = None\n",
    "df_frag[\"Priority\"] = None\n",
    "\n",
    "# Find the cheapest compound that matches each ring \n",
    "for key, value in ring_smarts.items():\n",
    "    queried_substructure = value\n",
    "    \n",
    "    # Iterate over compounds in the increasing price order\n",
    "    for i, row in df_frag.iterrows():\n",
    "        smiles = row[\"canonical isomeric SMILES\"]\n",
    "        \n",
    "        # Substructure search\n",
    "        mol = oechem.OEGraphMol()\n",
    "        oechem.OESmilesToMol(mol, str(smiles))\n",
    "        ss = oechem.OESubSearch(queried_substructure)\n",
    "        oechem.OEPrepareSearch(mol, ss)\n",
    "\n",
    "        # loop over matches to count\n",
    "        matched_ss_list=[]\n",
    "        count = 0\n",
    "        for index, match in enumerate(ss.Match(mol)):\n",
    "            if ss.SingleMatch(mol) == True:\n",
    "                matched_ss_list.append((index, match))\n",
    "                count = len(matched_ss_list)\n",
    "        \n",
    "        # If substructure matches and molecule already not selected\n",
    "        if (count >= 1) and (df_frag.loc[i, \"Selection\"] != \"picked\"):\n",
    "            df_frag.loc[i,\"Selection\"] = \"picked\"\n",
    "            df_frag.loc[i,\"Priority\"] = 1\n",
    "            print(\"Molecule that has {}: {}\".format(key, smiles))\n",
    "            break\n",
    " \n",
    "    # If no match found\n",
    "    if count == 0:\n",
    "        print(\"Could not found a molecule that has {}!\".format(key))\n",
    " "
   ]
  },
  {
   "cell_type": "markdown",
   "metadata": {},
   "source": [
    "### 7.2 Drug-like compounds with PKI scaffolds"
   ]
  },
  {
   "cell_type": "code",
   "execution_count": 22,
   "metadata": {},
   "outputs": [
    {
     "name": "stdout",
     "output_type": "stream",
     "text": [
      "Molecule that has pyridine: c1cc2c(cc(c(c2nc1)O)I)I\n",
      "Could not found a molecule that has quinoline!\n",
      "Could not found a molecule that has imidazole!\n",
      "Molecule that has pyrazole: CC(C)(C)c1cc(n(n1)c2ccccc2)NC(=O)Nc3cccc(c3Cl)Cl\n",
      "Molecule that has piperazine: CN1CCN(CC1)c2c(cccc2Cl)NC(=O)c3ccc(o3)Br\n",
      "Could not found a molecule that has indazole!\n",
      "Molecule that has pyrimidine: CCOC(=O)c1ccc(cc1)Nc2cc(nc(n2)Nc3ccc(cc3)C(=O)OCC)C\n",
      "Molecule that has quinazoline: COc1cc2c(cc1OCCCN3CCOCC3)c(ncn2)Nc4ccc(c(c4)Cl)F\n"
     ]
    }
   ],
   "source": [
    "#How to record selected compounds\n",
    "picked_ids=[]\n",
    "df_drug[\"Selection\"] = None\n",
    "df_drug[\"Bin index\"] = None\n",
    "df_drug[\"Priority\"] = None\n",
    "\n",
    "# Find the cheapest compound that matches each ring \n",
    "for key, value in ring_smarts.items():\n",
    "    queried_substructure = value\n",
    "    \n",
    "    # Iterate over compounds in the increasing price order\n",
    "    for i, row in df_drug.iterrows():\n",
    "        smiles = row[\"canonical isomeric SMILES\"]\n",
    "        \n",
    "        # Substructure search\n",
    "        mol = oechem.OEGraphMol()\n",
    "        oechem.OESmilesToMol(mol, str(smiles))\n",
    "        ss = oechem.OESubSearch(queried_substructure)\n",
    "        oechem.OEPrepareSearch(mol, ss)\n",
    "\n",
    "        # loop over matches to count\n",
    "        matched_ss_list=[]\n",
    "        count = 0\n",
    "        for index, match in enumerate(ss.Match(mol)):\n",
    "            if ss.SingleMatch(mol) == True:\n",
    "                matched_ss_list.append((index, match))\n",
    "                count = len(matched_ss_list)\n",
    "        \n",
    "        # If substructure matches and molecule already not selected\n",
    "        if (count >= 1) and (df_drug.loc[i, \"Selection\"] != \"picked\"):\n",
    "            df_drug.loc[i,\"Selection\"] = \"picked\"\n",
    "            df_drug.loc[i,\"Priority\"] = 1\n",
    "            print(\"Molecule that has {}: {}\".format(key, smiles))\n",
    "            break\n",
    " \n",
    "    # If no match found\n",
    "    if count == 0:\n",
    "        print(\"Could not found a molecule that has {}!\".format(key))"
   ]
  },
  {
   "cell_type": "markdown",
   "metadata": {},
   "source": [
    "## 8. Limit frequently appearing rings\n",
    "\n",
    "### Limit multiple compounds with aminothiozole group\n",
    "Aminothiozole group could be reactive and it is uncommon in medicinal screening libraries. Without this filter they showed up too frequenty in my fragment and drug sets. I will include only 1 molecule with 2-aminothiazole group.\n",
    "\n",
    "### Limit the other frequent groups\n",
    "1. thiophene\n",
    "2. 5-methylenethiazolidine-2,4-dione\n",
    "3. 1,3,4-thiadiazole\n",
    "\n",
    "Without this filter they showed up too frequenty in my fragment and drug sets. \n",
    "I will select one compound from these groups and eliminate replicates.\n",
    "\n",
    "#### 8.1. Fragment-like group"
   ]
  },
  {
   "cell_type": "code",
   "execution_count": 23,
   "metadata": {},
   "outputs": [
    {
     "name": "stdout",
     "output_type": "stream",
     "text": [
      "Molecule that has aminothiazole: c1ccc(cc1)C(=O)NCC(=O)Nc2nc3ccccc3s2\n",
      "Molecule that has 5-methylenethiazolidine-2,4-dione: c1cc(c(cc1c2ccc(o2)/C=C/3\\C(=O)NC(=O)S3)Cl)F\n",
      "Molecule that has 1,3,4-thiadiazole: c1ccc(cc1)Cc2nnc(s2)NC(=O)c3cccs3\n",
      "Molecule that has thiophene: c1nc(c2c3c(sc2n1)CCC3)N\n"
     ]
    }
   ],
   "source": [
    "ring_smarts_to_limit = {\n",
    "               'aminothiazole': \"[c,C]~1(~[nX2,NX2]~[c,C]~[c,C]~[s,S]~1)[NX3,nX3]\",\n",
    "               'thiophene': \"c1cscc1\",\n",
    "               '5-methylenethiazolidine-2,4-dione': \"[NX3,nX3]1[c,C]([s,S][c,C]([c,C]1=[O,o])=[C,c])=[O,o]\",\n",
    "               '1,3,4-thiadiazole': \"n1:csc:n1\"}\n",
    "\n",
    "# Find the cheapest compound that matches each ring \n",
    "for key, value in ring_smarts_to_limit.items():\n",
    "    queried_substructure = value\n",
    "    \n",
    "    # Iterate over compounds in the increasing price order\n",
    "    for i, row in df_frag.iterrows():\n",
    "        smiles = row[\"canonical isomeric SMILES\"]\n",
    "        \n",
    "        # Substructure search\n",
    "        mol = oechem.OEGraphMol()\n",
    "        oechem.OESmilesToMol(mol, str(smiles))\n",
    "        ss = oechem.OESubSearch(queried_substructure)\n",
    "        oechem.OEPrepareSearch(mol, ss)\n",
    "\n",
    "        # loop over matches to count\n",
    "        matched_ss_list=[]\n",
    "        count = 0\n",
    "        for index, match in enumerate(ss.Match(mol)):\n",
    "            if ss.SingleMatch(mol) == True:\n",
    "                matched_ss_list.append((index, match))\n",
    "                count = len(matched_ss_list)\n",
    "        \n",
    "        # If substructure matches and molecule already not selected\n",
    "        if (count >= 1) and (df_frag.loc[i, \"Selection\"] != \"picked\"):\n",
    "            df_frag.loc[i,\"Selection\"] = \"picked\"\n",
    "            df_frag.loc[i,\"Priority\"] = 1\n",
    "            print(\"Molecule that has {}: {}\".format(key, smiles))\n",
    "            break\n",
    " \n",
    "    # If no match found\n",
    "    if count == 0:\n",
    "        print(\"Could not found a molecule that has {}!\".format(key))\n",
    " "
   ]
  },
  {
   "cell_type": "markdown",
   "metadata": {},
   "source": [
    "#### 8.2. Drug-like group"
   ]
  },
  {
   "cell_type": "code",
   "execution_count": 24,
   "metadata": {},
   "outputs": [
    {
     "name": "stdout",
     "output_type": "stream",
     "text": [
      "Molecule that has aminothiazole: CCOc1ccc2c(c1)sc(n2)NC(=O)Cc3ccc(c(c3)Cl)Cl\n",
      "Molecule that has 5-methylenethiazolidine-2,4-dione: c1cc(cc(c1)OCc2ccc(cc2Cl)Cl)/C=C/3\\C(=O)NC(=O)S3\n",
      "Molecule that has 1,3,4-thiadiazole: c1ccc(c(c1)C(=O)Nc2nnc(s2)SCc3ccc(cc3)F)Cl\n",
      "Molecule that has thiophene: Cc1ccc(cc1C)c2csc(c2C(=O)N)NC(=O)CCCC(=O)O\n"
     ]
    }
   ],
   "source": [
    "# Find the cheapest compound that matches each ring \n",
    "for key, value in ring_smarts_to_limit.items():\n",
    "    queried_substructure = value\n",
    "    \n",
    "    # Iterate over compounds in the increasing price order\n",
    "    for i, row in df_drug.iterrows():\n",
    "        smiles = row[\"canonical isomeric SMILES\"]\n",
    "        \n",
    "        # Substructure search\n",
    "        mol = oechem.OEGraphMol()\n",
    "        oechem.OESmilesToMol(mol, str(smiles))\n",
    "        ss = oechem.OESubSearch(queried_substructure)\n",
    "        oechem.OEPrepareSearch(mol, ss)\n",
    "\n",
    "        # loop over matches to count\n",
    "        matched_ss_list=[]\n",
    "        count = 0\n",
    "        for index, match in enumerate(ss.Match(mol)):\n",
    "            if ss.SingleMatch(mol) == True:\n",
    "                matched_ss_list.append((index, match))\n",
    "                count = len(matched_ss_list)\n",
    "        \n",
    "        # If substructure matches and molecule already not selected\n",
    "        if (count >= 1) and (df_drug.loc[i, \"Selection\"] != \"picked\"):\n",
    "            df_drug.loc[i,\"Selection\"] = \"picked\"\n",
    "            df_drug.loc[i,\"Priority\"] = 1\n",
    "            print(\"Molecule that has {}: {}\".format(key, smiles))\n",
    "            break\n",
    " \n",
    "    # If no match found\n",
    "    if count == 0:\n",
    "        print(\"Could not found a molecule that has {}!\".format(key))\n",
    " "
   ]
  },
  {
   "cell_type": "markdown",
   "metadata": {},
   "source": [
    "## 9. Select molecules for even coverage of logP dynamic range\n",
    "\n",
    "While selecting from each logP bin, first compounds selected for their ring substructres will be assigned to each bin. Then for selecting more compounds I will prioritize cheaper compounds, based on the price sorted dataframes.\n",
    "\n",
    "### 9.1. Fragment-like group"
   ]
  },
  {
   "cell_type": "code",
   "execution_count": 25,
   "metadata": {},
   "outputs": [
    {
     "name": "stdout",
     "output_type": "stream",
     "text": [
      "Dynamic range of XlogP is from -0.07 to 4.79\n",
      "Bin lefts: \n",
      " [-0.07300001  0.12132     0.31564001  0.50996003  0.70428004  0.89860005\n",
      "  1.09292007  1.28724008  1.48156009  1.67588011  1.87020012  2.06452013\n",
      "  2.25884015  2.45316016  2.64748018  2.84180019  3.0361202   3.23044022\n",
      "  3.42476023  3.61908024  3.81340026  4.00772027  4.20204028  4.3963603\n",
      "  4.59068031]\n",
      "Bin rights: \n",
      " [ 0.12132     0.31564001  0.50996003  0.70428004  0.89860005  1.09292007\n",
      "  1.28724008  1.48156009  1.67588011  1.87020012  2.06452013  2.25884015\n",
      "  2.45316016  2.64748018  2.84180019  3.0361202   3.23044022  3.42476023\n",
      "  3.61908024  3.81340026  4.00772027  4.20204028  4.3963603   4.59068031\n",
      "  4.78500032]\n",
      "Molecule 1228629 is already selected from bin 18.\n",
      "Molecule 1865544 is already selected from bin 16.\n",
      "Molecule 23354217 is already selected from bin 14.\n",
      "Molecule 18893169 is already selected from bin 15.\n",
      "Molecule 30719859 is already selected from bin 18.\n",
      "Molecule 37095168 is already selected from bin 11.\n",
      "Molecule 25775231 is already selected from bin 20.\n",
      "Molecule 703997 is already selected from bin 23.\n",
      "Molecule 2867544 is already selected from bin 5.\n",
      "Molecule 13419113 is already selected from bin 13.\n",
      "Selecting more compounds from each bin...\n",
      "Can't find 3 molecules in bin 0. Only 0 molecule(s) found.\n",
      "Can't find 3 molecules in bin 1. Only 0 molecule(s) found.\n",
      "Can't find 3 molecules in bin 2. Only 0 molecule(s) found.\n",
      "Can't find 3 molecules in bin 3. Only 1 molecule(s) found.\n",
      "Can't find 3 molecules in bin 5. Only 1 molecule(s) found.\n",
      "Can't find 3 molecules in bin 6. Only 0 molecule(s) found.\n",
      "Can't find 3 molecules in bin 7. Only 1 molecule(s) found.\n",
      "Can't find 3 molecules in bin 8. Only 1 molecule(s) found.\n",
      "Can't find 3 molecules in bin 10. Only 0 molecule(s) found.\n",
      "Can't find 3 molecules in bin 13. Only 2 molecule(s) found.\n",
      "Can't find 3 molecules in bin 21. Only 1 molecule(s) found.\n",
      "Can't find 3 molecules in bin 22. Only 1 molecule(s) found.\n",
      "Can't find 3 molecules in bin 23. Only 1 molecule(s) found.\n",
      "Can't find 3 molecules in bin 24. Only 0 molecule(s) found.\n",
      "Found 42 compounds spanning the dynamic range, out of 75 desired. \n"
     ]
    }
   ],
   "source": [
    "# Establish dynamic range\n",
    "XlogPs = np.array(df_frag[\"XlogP\"])\n",
    "\n",
    "minval = XlogPs.min()\n",
    "maxval = XlogPs.max()\n",
    "\n",
    "print(\"Dynamic range of XlogP is from %.2f to %.2f\" % (minval, maxval))\n",
    "\n",
    "# Let's make 10 bins and try drawing for 5 compounds per bin\n",
    "nbins = 25\n",
    "n_per_bin = 3 \n",
    "bin_lefts = np.arange( minval, maxval, (maxval-minval)/float(nbins) )\n",
    "bin_rights = np.array( [bin_lefts[i+1] for i in range(nbins-1)] + [maxval] )\n",
    "\n",
    "print(\"Bin lefts: \\n\", bin_lefts)\n",
    "print(\"Bin rights: \\n\", bin_rights)\n",
    "\n",
    "# Place compounds selected for their substructures to correponding bins\n",
    "range_ids = []\n",
    "for i, row in df_frag.iterrows():\n",
    "    \n",
    "    # Iterate over selected compounds\n",
    "    if df_frag.loc[i, \"Selection\"] == \"picked\":\n",
    "        eMolecules_ID = df_frag.loc[i,'eMolecules ID'] #identifier\n",
    "        XlogP = float(df_frag.loc[i,'XlogP'])\n",
    "        \n",
    "        # iterate over bins to find the right bin\n",
    "        for bin_index in range(nbins):\n",
    "            # how many compounds are in that bin so far?\n",
    "            fnd_in_bin = df_frag.loc[df_frag[\"Bin index\"]== bin_index].shape[0]\n",
    "            \n",
    "            if (XlogP > bin_lefts[bin_index]) and (XlogP <= bin_rights[bin_index]):\n",
    "                range_ids.append( eMolecules_ID )\n",
    "                fnd_in_bin +=1\n",
    "                df_frag.loc[i, \"Bin index\"] = bin_index\n",
    "                df_frag.loc[i, \"Priority\"] = fnd_in_bin\n",
    "                print(\"Molecule {} is already selected from bin {}.\".format(eMolecules_ID, bin_index))\n",
    "\n",
    "print(\"Selecting more compounds from each bin...\")\n",
    "\n",
    "# Select more compound from each bin\n",
    "for bin_index in range(nbins):\n",
    "    \n",
    "    # how many compounds are in that bin so far?\n",
    "    fnd_in_bin = df_frag.loc[df_frag[\"Bin index\"]== bin_index].shape[0]\n",
    "    \n",
    "    for i, row in enumerate(df_frag.iterrows()):\n",
    "        eMolecules_ID = df_frag.loc[i,'eMolecules ID'] #identifier\n",
    "        XlogP = float(df_frag.loc[i,'XlogP'])\n",
    "        \n",
    "        if (XlogP > bin_lefts[bin_index]) and (XlogP <= bin_rights[bin_index]) and (df_frag.loc[i, \"Selection\"] != \"picked\"):\n",
    "            \n",
    "            # Skip molecule if it has a limited ring group, because we have already picked one.\n",
    "            # substructure search\n",
    "            count = 0\n",
    "            for ring, smarts in ring_smarts_to_limit.items(): \n",
    "            \n",
    "                smiles = df_frag.loc[i,'canonical isomeric SMILES']\n",
    "                mol = oechem.OEGraphMol()\n",
    "                oechem.OESmilesToMol(mol, str(smiles))\n",
    "\n",
    "                queried_substructure = smarts\n",
    "                ss = oechem.OESubSearch(queried_substructure)\n",
    "                oechem.OEPrepareSearch(mol, ss)\n",
    "\n",
    "                # loop over matches to count\n",
    "                matched_ss_list=[]\n",
    "                for index, match in enumerate(ss.Match(mol)):\n",
    "                    if ss.SingleMatch(mol) == True:\n",
    "                        matched_ss_list.append((index, match))\n",
    "                        count = count + len(matched_ss_list) \n",
    "                    \n",
    "            # skip the molecule if one of the limited substructes exists in the molecule\n",
    "            if count >= 1:\n",
    "                continue\n",
    "                \n",
    "            # Pick the compound\n",
    "            range_ids.append( eMolecules_ID )\n",
    "            fnd_in_bin +=1\n",
    "            \n",
    "            df_frag.loc[i, \"Selection\"] = \"picked\"\n",
    "            df_frag.loc[i, \"Bin index\"] = bin_index\n",
    "            df_frag.loc[i, \"Priority\"] = fnd_in_bin\n",
    "                \n",
    "\n",
    "        if fnd_in_bin == n_per_bin: break\n",
    "\n",
    "    if fnd_in_bin < n_per_bin:\n",
    "        print (\"Can't find %s molecules in bin %s. Only %s molecule(s) found.\" % (n_per_bin, bin_index, fnd_in_bin) )\n",
    "\n",
    "\n",
    "print(\"Found %s compounds spanning the dynamic range, out of %s desired. \" % (len(range_ids), nbins*n_per_bin) )"
   ]
  },
  {
   "cell_type": "code",
   "execution_count": 26,
   "metadata": {},
   "outputs": [
    {
     "data": {
      "text/plain": [
       "(0, 10)"
      ]
     },
     "execution_count": 26,
     "metadata": {},
     "output_type": "execute_result"
    },
    {
     "data": {
      "image/png": "[encoded data removed]",
      "text/plain": [
       "<matplotlib.figure.Figure at 0x116c5a940>"
      ]
     },
     "metadata": {},
     "output_type": "display_data"
    }
   ],
   "source": [
    "df_frag_picked = df_frag.loc[df_frag[\"Selection\"]==\"picked\"].reset_index(drop=True)\n",
    "df_frag_picked.to_csv(\"df_frag_picked.csv\")\n",
    "\n",
    "# Let's check the logP distribution of fragment-like group\n",
    "XlogP_values = df_frag_picked.loc[:, \"XlogP\"]\n",
    "plt.hist(XlogP_values, bins=nbins)\n",
    "plt.xlabel(\"XlogP\")\n",
    "plt.ylabel(\"molecule count\")\n",
    "plt.xlim(0,6)\n",
    "plt.ylim(0,10)"
   ]
  },
  {
   "cell_type": "code",
   "execution_count": 27,
   "metadata": {
    "collapsed": true
   },
   "outputs": [],
   "source": [
    "# Pick cheapest 25 molecules\n",
    "\n",
    "# Sort selected molecules by bin index\n",
    "df_frag_picked = df_frag_picked.sort_values(by = [\"Bin index\", \"Price\"], ascending = [True, True], inplace=False)\n",
    "df_frag_picked.head(10)\n",
    "\n",
    "# Select 25 cheapest compounds with even bin distribution\n",
    "df_frag_picked[\"Final list\"] = None\n",
    "\n",
    "molecules_added_to_set = 0\n",
    "\n",
    "# In first pass select the cheapest molecule in each bin\n",
    "for bin_index in range(nbins):\n",
    "    df_bin = df_frag_picked[df_frag_picked[\"Bin index\"] == bin_index].reset_index(drop=True)\n",
    "    \n",
    "    if molecules_added_to_set == 25:\n",
    "        break\n",
    "    else:\n",
    "\n",
    "        # Skip if there is no molecule in bin\n",
    "        if df_bin.shape[0] == 0:\n",
    "            continue\n",
    "    \n",
    "        # If multiple molecules are in the bin\n",
    "        elif df_bin.shape[0] >= 1:\n",
    "            #select the cheapest molecule\n",
    "            molecules_added_to_set += 1\n",
    "            eMol_ID = df_bin.loc[0, \"eMolecules ID\"] # 1st cheapest molecule\n",
    "            df_frag_picked.loc[df_frag_picked[\"eMolecules ID\"] == eMol_ID, \"Final list\"] = True\n",
    "        \n",
    "# In the second pass select the next cheapest un selected molecule in each bin\n",
    "for bin_index in range(nbins):\n",
    "    df_bin = df_frag_picked[df_frag_picked[\"Bin index\"] == bin_index].reset_index(drop=True)\n",
    "    \n",
    "    if molecules_added_to_set == 25:\n",
    "        break\n",
    "    else:\n",
    "        # Skip if there is no molecule in bin\n",
    "        if df_bin.shape[0] == 0:\n",
    "            continue\n",
    "        \n",
    "        elif df_bin.shape[0] == 1:\n",
    "            continue\n",
    "    \n",
    "        # If multiple molecules are in the bin\n",
    "        elif df_bin.shape[0] > 1:\n",
    "            #select the next cheapest molecule\n",
    "            molecules_added_to_set += 1\n",
    "            eMol_ID = df_bin.loc[1, \"eMolecules ID\"] # 2nd cheapest molecule\n",
    "            df_frag_picked.loc[df_frag_picked[\"eMolecules ID\"] == eMol_ID, \"Final list\"] = True\n",
    "\n",
    "# In the third pass select the next cheapest unselected molecule in each bin\n",
    "for bin_index in range(nbins):\n",
    "    df_bin = df_frag_picked[df_frag_picked[\"Bin index\"] == bin_index].reset_index(drop=True)\n",
    "    \n",
    "    if molecules_added_to_set == 25:\n",
    "        break\n",
    "    else:\n",
    "        # Skip if there is no molecule in bin\n",
    "        if df_bin.shape[0] == 0:\n",
    "            continue\n",
    "        \n",
    "        elif df_bin.shape[0] == 1:\n",
    "            continue\n",
    "    \n",
    "        # If multiple molecules are in the bin\n",
    "        elif df_bin.shape[0] > 1:\n",
    "            #select the next cheapest molecule\n",
    "            molecules_added_to_set += 1\n",
    "            eMol_ID = df_bin.loc[2, \"eMolecules ID\"] # 2nd cheapest molecule\n",
    "            df_frag_picked.loc[df_frag_picked[\"eMolecules ID\"] == eMol_ID, \"Final list\"] = True"
   ]
  },
  {
   "cell_type": "code",
   "execution_count": 28,
   "metadata": {},
   "outputs": [
    {
     "data": {
      "text/plain": [
       "(0, 10)"
      ]
     },
     "execution_count": 28,
     "metadata": {},
     "output_type": "execute_result"
    },
    {
     "data": {
      "image/png": "[encoded data removed]",
      "text/plain": [
       "<matplotlib.figure.Figure at 0x118d55710>"
      ]
     },
     "metadata": {},
     "output_type": "display_data"
    }
   ],
   "source": [
    "# Let's check the logP distribution of final fragment-like group\n",
    "df_frag_final = df_frag_picked[df_frag_picked[\"Final list\"] == True].reset_index(drop=True)\n",
    "df_frag_final.to_csv(\"df_frag_final.csv\")\n",
    "\n",
    "XlogP_values = df_frag_final.loc[:, \"XlogP\"]\n",
    "plt.hist(XlogP_values, bins=nbins)\n",
    "plt.xlabel(\"XlogP\")\n",
    "plt.ylabel(\"molecule count\")\n",
    "plt.xlim(0,6)\n",
    "plt.ylim(0,10)"
   ]
  },
  {
   "cell_type": "code",
   "execution_count": 29,
   "metadata": {},
   "outputs": [
    {
     "name": "stdout",
     "output_type": "stream",
     "text": [
      "Cost for fragment set for 100 mg is 5479.0 USD.\n"
     ]
    }
   ],
   "source": [
    "# Calculate cost for fragment set\n",
    "fragment_set_cost_100mg = 0\n",
    "\n",
    "for i, row in enumerate(df_frag_final.iterrows()):\n",
    "    cost = df_frag_final.loc[i, \"Price\"]\n",
    "    #print(cost)\n",
    "    fragment_set_cost_100mg += cost\n",
    "print(\"Cost for fragment set for 100 mg is {} USD.\".format(fragment_set_cost_100mg))"
   ]
  },
  {
   "cell_type": "code",
   "execution_count": 39,
   "metadata": {},
   "outputs": [
    {
     "data": {
      "text/html": [
       "<table border=\"1\" class=\"dataframe\">\n",
       "  <thead>\n",
       "    <tr style=\"text-align: right;\">\n",
       "      <th></th>\n",
       "      <th>Molecule</th>\n",
       "    </tr>\n",
       "  </thead>\n",
       "  <tbody>\n",
       "    <tr>\n",
       "      <th>0</th>\n",
       "      <td><img src=\"data:image/png;base64,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\"></td>\n",
       "    </tr>\n",
       "    <tr>\n",
       "      <th>1</th>\n",
       "      <td><img src=\"data:image/png;base64,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\"></td>\n",
       "    </tr>\n",
       "    <tr>\n",
       "      <th>2</th>\n",
       "      <td><img src=\"data:image/png;base64,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\"></td>\n",
       "    </tr>\n",
       "    <tr>\n",
       "      <th>3</th>\n",
       "      <td><img src=\"data:image/png;base64,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\"></td>\n",
       "    </tr>\n",
       "    <tr>\n",
       "      <th>4</th>\n",
       "      <td><img src=\"data:image/png;base64,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\"></td>\n",
       "    </tr>\n",
       "    <tr>\n",
       "      <th>5</th>\n",
       "      <td><img src=\"data:image/png;base64,iVBORw0KGgoAAAANSUhEUgAAAMgAAADICAYAAACtWK6eAAAAAXNSR0IArs4c6QAAAAlwSFlzAAAWJQAAFiUBSVIk8AAAHbFJREFUeAHtXQeUFMUWfSxiQGFRUBEFyQZEEFfA8PlLlCCiGFFURFQwh8/HYwIUFPiIHlAQTIAiIJgDoqIIgn4FxEgSSUpWAcFPkvrv1mz19MzONju7M7Nd3e+ds9s9XT3dVbfqTuV3Sy1YsEBt3bqVxAQBQSAWgQoVKlCWkCMWFPkkCBgEtmzZQgeYD7m5ueZUjoJA6BGYOXOmxiAr9EgIAIKABwJCEA9wJEgQEIJIGRAEPBAQgniAI0GCgBBEyoAg4IGAEMQDHAkSBIQgUgYEAQ8EhCAe4EiQICAEkTIgCHggIATxAEeCBAEhiJQBQcADASGIBzgSJAgIQaQMCAIeCAhBPMCRIEFACCJlQBDwQEAI4gGOBAkCQhApA4KABwJCEA9wJEgQEIJIGRAEPBAQgniAI0GCgBBEyoAg4IGAEMQDHAkSBIQgUgYEAQ8EhCAe4EiQICAEkTIgCHggIATxAEeCBAEhiJQBQcADASGIBzgSJAgIQaQMCAIeCAhBPMCRIEFACCJlQBDwQEAI4gGOBAkCQhAuA4sWEWUxErNmxRaIQw8l+usvovHjiS6+ODZszhyiRo1ir8mn4CEgBMnL04MPJurRg+h//wteJkuKio6AECQPu+rViZo1I7rvvqKDKd8MHgKORmHwkpZ8ioYOJapfn+iSS4jOPDP2+5CsO/vs6LVt24jKlIl+lrNgIiAEceUrq/7Sk08Sde9O9PXXrgA+Pe00IhDIGMKHD498Wrky0jQ76SQTKsegICAEicvJTp2IJk4k6tcvNiA7m6hBg+i17dsj56tXE40bR3T00UQbNxL985/Re+TMfgSkD5IgD0eMIBo7lmjnzgSBcZeqVSPq2zdSg2DUSyxYCAhBEuTnkUcSDRtGtG9fgsAEl555hqhKFaKcnASBcslqBEp98sknCinIzc21OiElFflPPyW6/36iFi2IOnQgaty4pGIi700lAjMxKsMmfRANQ/Tfnj2RScPSpaPXvM7Q55g92+sOCbMZAWliuXJPcV2KkagmTVwX5TTUCEgN4sr+XbuIli8nwqy6mCAABKQGkXIgCHggIATxAEeCBAEhiJQBQcADASFIAnAUeutiggAjIARxFQNDjN27ubcuJggwAkIQVzEoVQrEmMqbpya5rsppmBGQYd58uX8JL2PHOG+3fCFyIXwISA0SvjyXFCeBgBAkCbDk1vAhIAQJX55LipNAQAiSBFhya/gQEIKEL88lxUkgIARJAiy5NXwICEHCl+eS4iQQEIIkAZbcGj4EhCDhy3NJcRIICEESgGXWZCUIkkshQ0AIkpfhu3fvpiFDhuhPu3hr4Qj2/fP333+HrDhIcuMREIIwIu+88w7Vq1eP/Vv1dfC57bbbqGHDhvTxxx871+QkfAiEmiBLly6l9u3bU8eOHemnn36ik08+mT766CN68803qVatWvT9999Ty5Yt2VfvJbRq1arwlQ5JcTiXu//555/073//m0455RSaNm0aVWCnvE888QR98803mhDnn38+/fDDDzRw4EA6lN0lTp06lb2dnMTuSPuxPILoI4SKN3Ach78w2L59+9TYsWNV5cqVsWVQZWVlqR49eqiNGzcWmPxffvlFXXHFFfp+fKdatWpqypQpBd5f0gE7duwo6SgE4v2GF6FpYn311VcsaXAmdevWjdavX09nnXUW4doz7Df0SPgaLcCOPfZYmjBhAn322Wfs4f00Ws3eqtHkatGiBX333XcFfCuzl5GOe+65hw4//HBd402ePDmzEQjy2wxTAkH7BIlYs2aXatjwTa4BztC1QJUqVdSLL76Y4M7opSeffFJxk0vxaFb0Ip/xqJZ6+umnVaVKlfSzSpcurW655Rb1+++/x9yX7g+Ix+zZs9Udd9yhazQun04Nh3MmtdqyZUu6oxHo5xtekDkJWmp371bqsceUKlt2Dxcexc2pyYp/ZRX3PzyTimbYIYccogtcnTp1FI9w5bv/jz/+ULfeeqs64IAD9H0VK1bUxEHBTZft3btXzZgxQ910003qmGOOyUcIEJUHGNQZZ0R+CC699NJ0RSUUzzW8CCRBpk9X6sQT4Zok8teo0a/8i7uq0BkLcHhEyymEPNKleMQr3/d5lEtxU8u5j4eF1axZs/LdV9QLqMHee+89dd111zm1lqktatSooe6++241d+5cBVIbW758uSpXrpyOEzcfzWU5JolAIAmyaZNSnTpFiVG3ruICliQyebfv2bNHPf744yo7O1sXtgMPPFDxyJfatm1bvgfyKJc6/vjjHaJ06dJFrVmzJt99hbnAo2Tq9ddfV127dnXebUhxIrP+3nvvVfPnz/d8FPeZdFzKli2rFi1a5HmvBCZGwEqCoNXQqlVsgoYMUap378i14cMj5OAfUPWf/yiFZlZxDSNc+AXHiBcKKpo348aNi/nVxjv++usvxcPATvOMh4fVgAED1M6dO/cbBTT7uGOt0CzC9wwhcDz11FNV//79FWqrZOyaa67Rz2nQoEGh4pDMs8Nwr7UE4R9FNWZMNIvcBMGP++jRSq1bFw1P1dm8efMUj4I5hbdp06aKR4/yPZ4nFBWPcjn31axZU73xxhv57kM/Zvz48VzjdVIHH3ywcz9IgX7EoEGD1LJly/J9L9GFdZzgG264QS1cuNAJBunQh8Lz0F8SSw4BawnCP8rq6KMVN2EiCXYTJDkIkr8bbX0UatNJLlWqlK5dNmzYkO9hALh+/fpOwW/Tpo2aM2eOevbZZ1Xbtm1VmTJlnDDUTmeffbZu0oFgydrLL7+sn1W9evWY0SuQGk1DkOTtt99O9rGhvt9agnBLRIEU7dpF8i+TBDElBr/Offr0cQof+inDhg1T6Le4DSNPGDLm+QmHDCis+MMQMTr4Tz31FNd4xavyeKFlgaNXj/FQHt6Hoelff/3VHT0590DAaoJwuVM5OYpnxSNkMX0Qj/SmJQgjWx06dHAKPy9HUR988EG+d23evFnh1x0F9bjjjtO1yCaMKKTQeC2ZM3qFWsoYaj3UWHg3CJnOoWjzziAcDUGsnEmHPNrzzxOvpyJat46zvoSM2/h6JTAPxVLdunWJR4yIm1LUuXPnmDVbPE9C3AHXseT+AHGnn/gXPaWxxuLKUaNG6WdiJfLixYv1OTcDWaZ6HMtUH80rk7P53VNS+t6gP8xKgiBT6tcn6tmT6KmnSj6L2rVrp5edYD8Jz0EQD9M6BTSTsbvyyivp6quvJh5Ro8svv5ywrwV21FFHsaz1eD6byMeL6Isv9GX5VwgErCUI0nbffUT8I64N0mnnnEP07ruRz5n+z51h6t27N/HIE33K0rdYt1USxn0axqSOXpmMFcvG2rZtQxdeuIY/HkBduhBt3WpC5OiFgFUEwRq8vJaKThOXSd6zQbwTkGjWLKI5c4h/vb2Sm/4wNGWaNWuW/hcV8IbDDjuMJk6cSCDs8OFbeGckA5NnkyfXpjPOIFq5kujGG81VOXohYBVBvBKCKUKYOUY+hfP/6aefTnfdNZITP47uvrsBrV0bwaFMGW5kTSRuBhLhxwb9ODFvBKwkyGuvEW9yIpoxwztxYQ4dOLA775BcQ3v2ZNNVVxHt2xdBg/vyNBLcYeO+PPGmSjEPBKwkyJdfRtrQ8+Z5pCzkQVlZpXghalUevSIevSIaPDgKSNeupEmzYwfRW29Fr8tZfgSsJEj+ZMiVRAjw4BWNH0/EI7304IMUM3o1ZgxraU0luummRN+UawYBIYhBIqBHnpbhfgjR3r1EV1wRHb06mEW0LrqIeynjSNcyv/0WBYA3KFLjxtHPYT4TgoQg9x95hCgnh2jFisjcUXySt2+P9Efir8tnCqdXk7BlvHv0atIkohdeiEWA5xRp4ULpj8SiEvlkZQ2ybBl6lkfT8uUznTStXs05TMfwRN1Y55qcRBGoXTu66uDOO6PXcXbQQUTPPUd0881EW7bEhoX9k5Uqt3v3zuV828jt6v/yMVfn4d69C/i4nq/N5mM3fU3+xSKA4d5ffyV2qRp7HZ+aNiX21kIE8kjHPYqPlQRhH256ePKEE6IJqVkzco4wsYIRYO9ABdqAAZE1bjVqFHhL6AKsJEjocilDCS5blthPGLE7VqJTT83QS33+Giv7ID7H1OrosT88XhFsdRJSGnmpQVIKpz0Pw9KT/3IX7vrreX1vXCnAJKJYBAGpQUJaEv71L2L3q9F1WSGFYb/JFoLsF6Lg3cAbINmbPRHmR/7xj+ClL5UpEoKkEk0LnsV+u9mBd2RbAKs78MYuCyJdglEUgpQg+Jl+NfbKYC5k0ybivfNEaGaJeSMQGIJA2gAyauzBwzvFaQ5lr+rE/nLT/JaiPR47L1lAi/eoRxYpYpWvmDcCgSEIFKAgmQbtjpIw9oFF7ANLS7exEzjfkQR7aB54ILL0HSt4K1cuCZTse2fcAJ99CfBDjKdPn85bXO+iH3/8UUendevWWt7ND3FDHLZtI+2oYc8e4ngS17J+iZn/42FlDcIu/jWyENwsSc3AJUuWEDuO0806kKM2rwiEACg7j6Py5cs7uQ83PO/muVt5gZfSQhcRstOZsl69iH7+mahRI6JHH83UW4PxHisJYiTTQBCWBKBJWMOdQWPH08TqTuybqz7BaRy7HqWhQ4dq4U8IgBpjD4PEfnPpBF40BlFQGBy6QVkXvqqu4h4zO7ZOK8nRnOIoEDs7YZyIvZ2Y2MmxUAgYF4u2uYtk/XLVqFEj+DLRf3D+nMjbeirTBZenDz64gaUQfuZ39tD+dW+88caEIqBffPGFggd4Ez/2NKIgaPPQQw8pSBKY6zhC8gDSB5BA2J8CVjLpgebPYYdh7CripjWZ74b9XsMLqxWm4GcWfmjZF5UucPC2ziKdau3atSnPX6hW1asXKWwocDVrPqdYNjrfe6CKC/EbxAWFH57guVmVT08EvnQhcWAk0wxhIIUASQR4kS+uziDr/WhysEivWJIIBIIgJs1QfYK39YMOOkgXSnaepljjXEGtqbi2ZIlS550XJUbt2kq98srufI+FgA6EbqDqhMKOgg41qMLUCJA8gJrVOeec4wj14BmlSh3IROzDPwJKFcXXNXOVvc4rtX17vujKhf0gECiCmLRCn+/CCy/UBRQFDB7Vi6ppzvo26s47Fet4RMhRvnzEk3yc8K1+NfQ5qlat6rwXAjorVqww0UrqiNoPkgjNmkH7sDT/teQ/xc05xd7ZlRo5Mr9A0FFHKfXww7GvYVlF9e67sdfkU+ERCCRBTPLRP4F0WaTZksVKS0NY5WmFCd7vkVs3rKcRIQZr27B6k1IJNHLUpEnLVO3affPeQ7pPlEoRz59/3sLqubu0FoohKsiCOLEatWMgSIUKSn33nXNJCUGiWBTlLNAEASDon4xmPbYKFdrrX2DeaMpqUEqtX79/uFjvRn+neXPFsmb570fT5aqrcM8+fV+lSueo559/Pq3aG6jRQFyIlKLjjZrEGAgCyWtWblMYSIAJQSI4FPV/4AligNm8eYtq3vwr1jT/WxdmNJUGD1YqUVPJfOfTT5WaNs18ih65m8GjUIpHnSIEKlPmb9W69ResfOutvR59QnrOQBDUcCAF9/u1CUGKh7UhiJXzINx0KrRVrJjNrjdzeJY7izp2jMwq9+lD7Lc2si4p0YPgnD1+tvntt4nnXCIeCuGy8+KLiZYsyeJJwSbsDJonGXxgTz9NNGwY5lp8EJmARCHwBDH5BB0R+KHlSW5e1EjsMojo9tsjoSwMRVmMBCQU3HboocRiNJErEOtZvTqyPJzlP2jKFCK/OTeoWpWof3+i7t2jzqrd6ZHz5BHgYhEu42VSLC5D9OKLRO6tpXDF2aMH8ax2YjwwIw3pADjMLkH5j8SRc12F7gdmy+GwWqz4CISOIIAMGofwcM6Lbh2rXj1S8KFalchatSKWNYvUNInC/XINS9iffTaSRr/EyeZ4yGpeV+7xciqtfYgV87y9xBrbsCE2qvCiaJqGsSHyKVkEQlmDFAQSRHl4S4duw+/cWdBddlz/5Rc74un3WApB4nKoUyeiBg2I+vWLC7DoI5R/0WHHKl6x4iEgBEmA34gRxHLJRLbWIhh9g2FgQax4CAhBEuB35JGR+QSj65fgFl9fwpYUOIP75BMi3roiVgwEhCAMHhxe5+2WdaCEGhPmy+Gv1jY74gii5s2JBTxF86O4eScEKS6CPv0+5NVgr74aOcr/oiEgBCkabr7/1gUXwIOJ4v3vf3MziwUKxYqEgBCkSLD5/0uQf65UaRELCpVmN6Of+j/CPo2hEMSnGZOKaN1ww3x+zM3sL2x0Kh4XymcIQQKc7T17Nudm1ih6//13eWY9b9VlgNObjqQJQdKBqk+eedxxx1GTJk00Od5//32fxMquaAhB7MqvpGN7Ud5w1tSpU5P+rnxBdNIDXwYMQeDZcdeuXYFPb6oTKDVIqhH12fNq8K6u01gEhF0j0Ycffuiz2Pk/OkIQ/+dRsWN4MfYHs70qs4ZJYykESRoy+75gmllv8Z5jyDSIFR4BIUjhsbL2TjjPhrjQ77//Dlez1qajJCIuBCkJ1EvgnaYWkWZWcuALQZLDy9q7DUFeeeUVYqd61qYj0xHnXQNiYUAAOiql2VsFtE3KlSvHGulnEXuWp8aNG+u/Y489NgwwJJ1GIUjSkNn3BfYxSFdffbVTc0CVa8aMGfrPpIZlGjRRDGlycnLo8MMPN8GhPQpBQpD1UMNicR4tC8fOtYn1VOhLVvVkwSHnuG7dOi0fBwk5GOubaEk5U8OAOJhPYVmHECAWTWIp+CDFx9zc3OhVOQsMAo888gjdx86+WDuFFy2+X2A+s6CPJoshztdff51PGu4A3scL2Tk3aU5mH65ougXNZs6cqZMkBAlazrrSwx7n6brrrmO3qlmEzrnpqLtuKfAU8yWQ1QZhDGmgsxjfwWf5OGJ5Oac/g5oGs/e2mxDE9hzcT/zfZm/bLCakC/TIkSOpF6Rui2lYMr9gwYIY0vwM+dw4K1OmjBYqhUCprWYIIn0QW3PQI95z5syhyy67TJOjb9++MeT47LPP6LXXXqOHH36Y8OufjLG8HLFMnP4z39u8ebPuy5j+DIuX0m+//aZlryF1fSAcBdtsRgeheGoK8m2/IMDNIsWjT+hXsjIWS2O5DCrA0G9EGP9CukJSe8r9Ev0OXkGc2gdn8GmGFzJRaPOvW1zc16xZw7ombfVcB5pXaFoZW7ZsmW72bN++XeuzN0uji/ouXbro1wZh1l4IYkqQ5Uesszr33HOJZahZnqEZux192RldWr9+vQ7btGkTtWvXjtB5xzBuuswMBmDIOL5Tn653puu5QpB0IZvB56LzfN5559EiVgJi8VIWCnrLma/APhDUKqy6q7ffsuove11Mbddz48aNtHDhQifFJ7EnPszcoy9iOrtOoGUnQhDLMiw+uhiOvfTSS+nzzz+n6tWr67mO7OxsfRt2EHZib9zfsGIQVvRiV2GyHfP49yX6fOWVV1KjRo00QU14UPagCEFMjlp67MGyWCj4lSpVounTpxOWjMD2sWNhFFz8gmOd1QesPVexYsW0pBLzHtx/1rP15gWmmfX666/ruJjrth2FILblmCu+fViNdBy7cEet8N5771HdunWd0FtuuUXvIKzAoieYQa9WrZoTluqTRLVFw4YNqWbNmoT+D4adbTUhiKU598QTT9CQIUMIk3IYLcIMtrH+rOQ5atQo3Q/BhOEpp5xigtJybM6esrGwETPvS5cudd5hahGbR7OEIE522nOCEaq77rpLj0S98MILeoTKxH706NEs/tNPj2BNmjQpZlLP3JPqI0h6PjQX2NxkMARBM8tWE4JYlnPoS3Tr1k23+YeyqCL6GcZQEG+++Wb98WkWTUcHPVNmyOAmCBY1wnndatbPxnouG00IYlGuzWMNahTEPSz80bt3b12LmOhjGfsVLGqCeQcsI0HnPZPWpk0bvRFr/vz5tHLlSv1qzLUkIk4m41XcdwlBiotghr7vngnH5qfBgwc7b/722291E2cna8ahBrn//vudsEydYDl9hw4d9OvctYgQJFM5EOL3YCIOE4CYCW/fvj0999xzzkz4qlWr9ETg1q1b6RLWrx4+fHiJIZWIDGezGD02aC1fvlzPx5RY5Ir4YqlBighcJr+G3X6oHbCvY/z48TEz4WPGjCGEt2jRgl566SV9Tybj5n4XlrEccsghhBW9a9eu1UGIM9aFwdw1i75gwT8hiAWZ1IB1qbEpCZN/8Us3MN+BIV+seyrppeWYjwFJMGmIJfXGTM1iowNtIYjJRZ8f0QGHYWeg2zBzfvvttxMvY3dfLrFzQwZ3bZGbm0tHsLIo1ootXry4xOJWlBcLQYqCWgl8x8xWY1kJvJL41bBoEjXZ7NmzdZ8J8cTiSDPkbFstIgTxa0mLixeWijRt2pR27Nih117FBfvmY/ny5al169Z6uNm95dYQ3F2z+CbSHhERgniA47cgjFLBsGTdz5aomdWqVSvtdgjL4hPtY/dreoQgfs2ZBPHCrzAm39DM8rPmIJpTaFZ9/PHHencjkoJmV8eOHXWqbKpFhCAJCqJfL9nSzEKHHB1zzPhj85axRDWLCfPrUQji15wpIF62NLNMPOHtxBh2NmIoGOuysH/eBhOC2JBLrjja0szCgkpMYt57771O7DGJaOZJ4ArVBhOC2JBLrjhWrVqVzjzzTN0Heeedd1wh/jpFn+P666+nKlWqxESsTp06+jP2sthgQhAbcikujqb54vfRrLhoa8cOI0aM0Jexh90GE4LYkEtxcTTNLGyzxbyIDYZFlVhoCb9cWBUwbdo0G6JNQhArsik2ktiEZJpZGPL1u8FnFzroWFTZsmVLwi7IdPrlSiUeQpBUopnBZ8HVDyx+bVYGo1CoV2FZDOY/sAYLiy6xiLGkF1UWKuJ5NwlBkkHLR/fa0MzC6mM0p+bOnau9qqBJiKUoNpkQxKbccsUVvq6gM4hfaL+OZt16662E9VjweALXQ/EjWq7k+PZUCOLbrNl/xPzczIKyFZxnQ7INs+lwR2qjCUFszLW8OJtmFkaEMDrkF8OuR8i+YTfhhAkTMuJ6KF1pF4KkC9kMPBdNFuz5LqiZhVEjtPtxzJTBLZHxqIL98Z07d87Uq9PyHiFIWmDN3EO9mlndu3fXnkZAJMzAY7HgoEGD9CpbeH1PtUGeDe/AIsV77rnH8dGV6vdk8nki4plJtNPwLjhHQOHH0Cm8nri33mKO5PHHHyf404LXE7dhHgIe392KtRiGhfueohjkFTBoAF+8Xbt21c4lbJnrSJTemez0GyYE0TDY/Q+COdjiCpekRt3JnSI4UYDPXLdiLTYuQR7BbSAZSAI/vyAOjtD5QF/Cy6ADAnLgHdhNCGLCHanNZghCRostg/Jv8qoUI8Drm7QmIK+ULfSTWWBTQbOQR5oUr7xV9erVU0wE/Rwu2M6xXLlyil0KKdZNT/hs3rileCuwvp89uituuiW8z7aLhhdSg9j8M5cXd3TCzRwDlqGYZhOOcBdU2Mm5P//8k+A61CjWosaBX13Yo48+qvsVea/UB7g5RSccw7jVWbwHIj6VK1d232LtualBhCDWZmFsxNEcgpIUOshuQz8AzSTTZMIRzajCLveAV8clS5ZohxHxzaaePXsSvMljByFmy9GnCYoJQYKSk650cDNGF2b88ptaAKQpqK/hJg0K9/76Gq5X0YABA+iBBx7QnhQ/+ugj3Qdxh9t+LgSxPQcLGX/uaxCcW7tJg4WDWCflNjTD0BwDaQxxMDqWyMaOHUvXXnutJhQcMFxwwQWJbrP6mhDE6uwrXuRNX8M9qmX6Gu4noz9hRrRAmpycHE00rM6FeCiWkvTq1cv9lcCcC0ECk5WpSciGDRucZpmpbbCPI97Qp0FTDnvNBw4cGB8cmM9CkMBkZfoSAskCQxZzRJMNTTFMPgbZDEFSqygfZMRCmLZatWoR/szkI4Z1MZSLScGwmBAkLDmdgnSWLl3a6pW5RYHAew1BUZ4o3xEEAoSAECRAmSlJST0CQpDUYypPDBACQpAAZaYkJfUICEFSj6k8MUAICEEClJmSlNQjIARJPabyxAAhIAQJUGZKUlKPgBAk9ZjKEwOEgDOTbtaeBChtkhRBoNgIZGVnZxf7IfIAQSCICFSoUIH+Dz+qb0XEHsDUAAAAAElFTkSuQmCC\"></td>\n",
       "    </tr>\n",
       "    <tr>\n",
       "      <th>6</th>\n",
       "      <td><img src=\"data:image/png;base64,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\"></td>\n",
       "    </tr>\n",
       "    <tr>\n",
       "      <th>7</th>\n",
       "      <td><img src=\"data:image/png;base64,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\"></td>\n",
       "    </tr>\n",
       "    <tr>\n",
       "      <th>8</th>\n",
       "      <td><img src=\"data:image/png;base64,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\"></td>\n",
       "    </tr>\n",
       "    <tr>\n",
       "      <th>9</th>\n",
       "      <td><img src=\"data:image/png;base64,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\"></td>\n",
       "    </tr>\n",
       "    <tr>\n",
       "      <th>10</th>\n",
       "      <td><img src=\"data:image/png;base64,iVBORw0KGgoAAAANSUhEUgAAAMgAAADICAYAAACtWK6eAAAAAXNSR0IArs4c6QAAAAlwSFlzAAAWJQAAFiUBSVIk8AAAIAVJREFUeAHtXQmYFMUVfoABghoxoBI8UA7REIKIiiAqXhhOuRRjUECRqEAiiIofMSaiHCoRMIJXBOQSFAKCghHioiAIiqhA8EI0HoEoAkEkEqy8v8Zqundnendnunu6el593+5Md3VXVf9d/9T16v0V1q5dq3bu3EkSBAFBwItA9erVqaKQwwuKHAkCBoEdO3bQQeagdevW5qt8CgIFj0BRUZHGoGLBIyEACAI+CAhBfMCRKEFACCJ1QBDwQUAI4gOORAkCQhCpA4KADwJCEB9wJEoQEIJIHRAEfBAQgviAI1GCgBBE6oAg4IOAEMQHHIkSBIQgUgcEAR8EhCA+4EiUICAEkTogCPggIATxAUeiBAEhiNQBQcAHASGIDzgSJQgIQaQOCAI+CAhBfMCRKEFACCJ1QBDwQUAI4gOORAkCQhCpA4KADwJCEB9wJEoQEIJIHRAEfBAQgviAI1GCgBBE6oAg4IOAEMQHHIkSBIQgUgcEAR8EhCA+4EiUICAEkTogCPggIATxAUeiBAEhiNQBQcAHASGIDzgSJQgIQaQOCAI+CAhBfMCRqGgQ+Oijj2jWrFnUv39/+vGPf0zdunWLJuMy5OJIsJXhWrlEEMgZga+//ppee+01evXVV2nlypW0atUq+te//uVJd+7cuTRhwgS64YYbPOfzcSAEyQfqBZKnUoreffddTQIQAX9vv/027d+/34NAjRo1qHnz5nTmmWcSRGXHjBlDAwcOpCOPPJK6d+/uuTbqAyFI1IgnOL+vvvqKVq9e7RACrQTOucNBBx1Ep556qiYDCIG/Bg0auC+hmjVr0m233UY9e/YkkOe8887zxEd5IASJEu0E5YVWYP369Q4Z0Dq88847hFbDHY4++mgPGZo1a0Y//OEP3ZeU+D506FD6/PPPafz48dS5c2datmwZnXLKKSWui+KEECQKlBOQB8YJppuET4wjMJ5wB1T84q3DMccc476kzN/Hjh1L27ZtoyeffJLatm1Lr7zyCp1wwgllvj+oC4UgQSGZwHSuvvpq+uyzz2jTpk2EmabioV69etSiRQtn/NCkSRP6wQ9+UPyyrI4rVKhAU6ZMoS+++IKWLFlCbdq0oRUrVuhxSVYJZnmTECRL4JJ+GyrnpEmTnMf80Y9+RGeccYbTXcKgGmOFIMPs2bN1+scdd5xOtnLlyvTXv/6VWrduTa+//jq1a9eOioqK6JBDDgkyW9+0hCC+8BRuJAbYCO3bt6fRo0fTySefTBUrhrdshm5bjx49CF0ydKeOPfZYnT/I8Nxzz9FZZ52lSdK1a1dauHAhgTxRhPCeOIrSSx6hIICB9rx583Taw4cPp0aNGoVKDmSEscvZZ59Nn3zyCf3iF7+g7du3O8+G6d7nn3+eatWqRS+88AL16tWrxGSAc3HAX4QgAQOahOTQ18csEgbFTZs2jeSR0CI888wz1LhxY9q4cSN17NiRvvnmGyfvunXr0qJFiwhdPQzcBw0a5MSF+UUIEia6lqY9Z84cXfKoTT6qV69Oixcvpjp16uhu1mWXXUb/+9//HBQx1YuWrUqVKjRu3DgaNWqUExfWFyFIWMhanC4GxgjFV7Exo/Xf//431CerXbu27k5hAgBjjX79+nnyw6LhtGnTdJcPi4nuiQTPhQEdCEECAjIpyaxZs0ZP6WKBD7NWJrz33nt0/PHH69Vtcy6sz4YNG9Kzzz5LBx98sCYAiOAOIO4DDzygT4FAIFJYQQgSFrKWpuvuXmEtwgT0+/ft20eHHXaYORXqJ8j59NNP63UVdKXQpXIHGDLefvvtuguGrhhmvsIIQpAwULU4TTdB3I+R6bz7mqC/YzbrL3/5C4GoGJSDpO5w55130rXXXqsH8xjUY3AfeHjxxRcV/iQIAm+++SYMqRRPqyq2tXIAef/99/V5bj0Uj0Gc81F9uffee3X+PNOleJrXky0P4hXba+l4XjtR//znPz3x2R4YXkgLEvhPjr0JokuD0KVLF8+6h2k98Csd1QKdG8UhQ4YQ/r799ltdNqyqm1CpUiWaOXOmXkNhctDFF1/sWUMx12X7KQTJFrkE3meIUHx6N9P5KCG455579ATB7t27tckJt2pO9lWrVvVdQ3EuzOKLECQL0JJ4C0zV0YfHllf3/gv8KmNmCzNK+HXOV8A45PHHH9er7LDyRVncOxFLW0PJttxCkGyRS9h9pnt1ySWXEDY1mYDWg/vx+le7tH0c5p6wPmEpjHJihmvz5s3aDH7Xrl1OdqWtoTgXluOLEKQcYCX50kzdqEzn84UFWjKskWCtZN26dXpDlXvxsrQ1lHKX24zWsx3ty332I8C/xnoWiO2c1N69e50HYnssxRa8ivv46j//+Y9zPg5ftmzZorjF0OXmhUPPrBvKx3ZbigfwOp73tZS7yIYX0oKU+ycleTeYVqJDhw7azsk8IUxOvvvuO93fj3IPhsnf7xP2WrDbwtgD3a6lS5d6LscayoABA/Q5Y5nsuaCMBwc6m2W8QS5LHgKGIHGcvfJDG5a/f/vb3zRBsLOxeDAOI+BvK9tQAU0JbsauLQmFhwD2X2AHHwbg//73v6latWoahC+//FLvv8DsEWaN8EttU4AV8FFHHaXXRDBDd+KJJ5ar+Ni5iCBdLA1D4f6DkzbuoOsZIUMOoDF//nxt53TBBRdYRw6U/6WXXtLk+OlPf1pucuB+E4QgBokC/czUvTLTvsW7XbbAZEz24TYolyAEyQU9y+9F12n58uV6YI4BugnwbohBL8w4cq1gJs2oP83AHGYzuQQhSC7oWX6vmaWCS51DDz3UeZoFCxZou6dzzjkncM8lTiYhfoHPLoyt4ADitNNOyyknIUhO8Nl9c6bulTlffEehLU8bVPcKzysEseWtB1xOeA3hGUy9IalTp05O6vCWCA8imL3KtXviJBrxF0OQIMovBIn45cUlO3gQwVQoDBMPP/xwp1hYfIM3kZYtW9JPfvIT57wtX+BN/h//+Ic2ukQXMdcgBMkVQUvvzzRLBW/qcK2Ty+JaPiExrQcmHdxGl9mWSVbSs0XO4vtgAYsVaHSjis9SYcEYs1i2BkOQILpXwEBaEFtrQg7l5i2s2gEDVsfd3asckozFrXBLBH0SLHhiZi6IIAQJAkXL0kCrAedrsFWK0o1n2DBh9R9WASCH2yogl3yFILmgZ+m9ELGBs2iMNbCfOyo3nmHDFXT3CuUVgoT91mKafj7ceIYJxY4dOwgGhhiYu60Ccs1TCJIrghbfjyneqVOnOm48J0+ebO3TYJchHNthahf76oMKQpCgkLQ0nUsvvVRrAaL4cMKGimZjCKN7BRyEIDbWhoDLjDUPtxtP6JfbFHibsN5diDIXn7bO9TmEILkimJD7jRvPPXv26D48VqNtCRDVgYnM6aefrg0Ugyy3ECRINC1Pa+LEiQS3P7DTgt8pWMTaEEz3KujWA88uBLGhBkRURuz/gIPoVq1akXHjafZ1R1SEcmcDvXaY5yMEtXruLoQQxI2GfCe48USF+9nPfqY9LWLK1C2FFjeIsOELUtHwhwWh0aCDECRoRBOQnnHjCWcO0N2A+ix+qaMKmK6Fg2p0+aDVDu8l0ABJF8LsXiE/MVZMh7qcIyhMwaAR8stoUaDkBK2OoANMQ2CiDhsq+ADGJzwmur0lIs9MEtRBba3N9FxCkEzIyHndbcG6CDybwHE03OiMGDEiJ2Q+/fRTDxmwPba49TCsjE866SQ9KwU/vJidgkx08bB27VotFwefvG65uOLX5XIsBMkFvQK4t3nz5vTUU08Rdh2OHDlS+8r6zW9+U6YnxwAfBHC3DpCXLh6wd9wQAZ/YRw47sdKCaT0w8wZShRGEIGGgmrA027Ztq1sQWP7eeOONxApUdPnll2d8Sghs4g8aHuhCuQPM69EiuAlRq1Yt9yVl+o4u2IwZM/S1YcxemUIIQQwS8umLwJVXXklbt26lm2++WZvIQ6b5wgsvTHvPrFmzCKq48NbYtGlThxAgRf369dPe43cS/oE3bdrkaYlYLk7bXsE4MUyvoEIQvzcjcR4EIIMG0ZoxY8ZQ165dtfVsurEB9rtjrIFp12y2vX788ceaDKZrhhkt9i7vKQu6VJhtQ/cKuiFhBSFIWMgmNF3sRkRLMm3aNO2udMWKFSVaBVjTltWiFj6AMXtlZrBACji0Kx7gzd3dNcM4JQqP80KQ4m9Cjn0RwC83ZrTg6BrugWCSgrUSzHCVFmDnhZknQwZ8fvDBByVuQ/cNBHCPUzDuyUcQguQDdcvzRJcGzuXOP/983RWCFseyZcs8M09wKbR+/XrPuGHDhg0lFhyhGIVumrt1qFu3bmwQEoLE5lXYVRAjhYaFRCzsYfPVwIEDCYNndJPeeOONEiYqGI+4B+0gRaNGjbQP4Lg+vRAkrm/GgnKhK4TV9p///Oe669SnTx+n1OiKNWjQwNNNAjlg62VTEILY9LZiWFYMnrGYiD0ZME+5/vrrNSkwhkiCSyEhSAwrnU1FwlgD07AIS5Ys0SYiNpW/tLKKNW9pCEm8LwJwgI0NVlBygv1U0oIQJGlvNOLnsV0qoTS4hCClISTxGRGACYgxGLRVqi3jw30fIQQpDSGJz4gAdvNhVR32VZjJSmIQgiTxrUb0TJkkFCLKPpJshCCRwJy8TGDGbra7JrV7hbcmBEle3Y3kiV599VXtFgj71rEintQgBEnqmw35uczsVZJbD0AoBAm5IiU1eSFIUt+sPFfOCMAQ8cMPP9QinxD7THKQFiTJbzekZ0vNXqVkosNylhBS0cudrBCk3JDJDWPHdmUQNrGrz26JB0OMFRP/ioN9QN7zRHv2NOO95jvYWUK9YBOPYWpCkBi+lDgXiTcS6tC7d3UmSZxLGkzZpIsVDI4Fk4ohSLfk9670OxWCFEzVzv1B2dUVvfUWsbsdYnekuadnQwpCEBveUkzKaFqPjh2JfVHFpFAhF0MIEjLASUreEKR79yQ9lf+zCEH88ZHY7xGAGhv7oWZnbURt2hQOLEKQAN71t99+S/BdCyfMixYtCiDF+CVRpQrRCScQ3XADsWeS+JUvrBIJQXJEFvoZkCuDK05sHmrXrh317NlT+6bNMelY3X7EEUSbNxONHh2rYoVeGCFIlhDDe3n79u21ZDK+w2EBiAGP5tOnT9fiM6NGjSqhlJRldnJbnhAQgpQTeHgZv/XWW3Wr8dxzz9Fhhx1G999/P7399ts0depUgr44PJ9Dt/u2227TngONCms5s8rb5ex2lwVpiB55xFuEhx4ifjbvuaQfCUHK+Iaxgw4EgJrqPffcQ/AHdc0112gdDIjKGDf/cKQGU/ClS5dqEsE5M9SZIELzzjvvlDG3eFx2xx1En30Wj7LkqxRCkDIgDxkxmHVfddVVBAmxFi1aaP+zjz32GB2BznmaAMfOMAsfN26c1rFYvHixVmuFAM2uXbvS3BG/U/37pwbl8StZdCUSgvhgDZ2Kvn37aleaq1at0vsfnnjiCYImRrNmzXzuTEWhVYGeH8Yo1157rfZsft9999GJJ55IkydPLiFPVmqCEV/AXOZWj1ijMOKMY5SdECTNy0D3CeMKVGRIH8PdP8YdkCvGdG6mPRDffPMNPfnkk7Rjxw5PqnDy/Ah36NESwRs6Zrvg6PnMM8/ULZHn4hgdYGp3wgRikhOxHmdBBiFIsdduvJUPHjxYyxNjpgq6FpiRKk3RCGT65S9/qb2agxBwrOYO8G4OX1KYEoajZ8gEgCQgC0iTj4AB+aOPEotzpicBqxqwFiERw1GYgX2rKvwVeuDBtOrcuTMkWfUftx6KZ6nKBQvr8inWyXDSYEIoJkTaNHbv3q14lktVqVJFX8+yx4q7X4oXHdNeH+RJLqb6858Vl1WpSpUgQ5v6mzcvlcu2baljk+fWrUodfrhS3bop1aWLOZvsT8MLMl+S/biZnw4VddiwYU5FPfTQQxXPUimWGc58Uykxs2fPVuwOxyHKr371KwXypAsslaw6duzoXMuzZIpX49NdmtO5N97YogYMWKFatlSqQoUDpKhcWal27ZSaPFmp/ftTWRQnCM5OnJi6RwiS02uw6+aZM2cqFrHXlZPHFYpnqRTPUgXyEKzHp37/+98rXjjU6bMikxoxYoTau3dv2vR5lkuBHKYFA2lAnlwCTyvrPHlCwUmXaB2XKdUSTJum1I4dJXNIRxCQp3lzaUFKopXAMzz9qs4++2yn0rDjM7Vy5cpQnnTLli3cNenm5FWvXj3FMslp80L3Ct0sdLdAFHS/0A3jxcm016c7yQuW6g9/+INq3LixkyfSqlr1EFW//lVq2rQ9ihvNrAP4zdBxa5R1ElbcaHpWBdXF+uKLL9R1112nKlasqCsPK6cqHlgrHkyH/tJ44VCxzZZTaVn4Um3atCltvqxFrnr37s1doQr6+tq1a3PF5p/7DIFnxzSRMG4yLRA+WUdct4rz589XPMOW4e7ynd65UynuhXI+irEr3702XV1QBOFpW/XAAw/wQPNwXYF42lbxLJXaibcdYdi3b58aP368pxw33XRTxnKwe0/u1jR3Kj1PEStWc9KEZullhXuPP/54Jx6k4IVLxWsuCl22sAb8U6emCMK9RiZ5hABGmFXBEITliRXbSzmVqE2bNortpSKEumRWrDGu+vXr57RkrDGuJk2alLYlQ+uGODald54BBHe3FGhh+vfvr/BS8WMQRbjyyhRJTjlF8bgqihyjzaNgCNKjRw9dmUASFnuJFuVSclu7dq1q1aqVU9nPOOMMhVYjXUBrN2TIEOfaY489VreCvKqflljp0gjy3K5disc0KZL89rdBphyPtAqGILzApyvVoEGD4oF8mlKwebzihUNdTow7MP7AOCRdMLNibM+VLjrSc2vWKMWNGZdbqYULI8069MwMQRK/ks4Dcu6NkGNtqw9i9u+KK67Qlr4wj69cubK204KtF9eCEiU1VsMlIvJwgpWeacQIZPwwe1k8lzZu/DwPpQg3y8QTJFz4gkud10m4so3QZi2XXnopwRo4k81XcLnmntJNNxGbzayiffteYsPOK0uY1+SeQ35TKFiCwAwduwA/gTeCGAVeJyFeiSdYDdsQsLFq9epRbPZ/FK1cuVTvlbGh3GUtY8ESBEaJ2MD0FjyhScgJgdq1j+LNZFN0i3f77bcT1KeSEgqWIEl5gXF5josvvpgtfgfrnZawaLZlU1hp+AlBSkNI4suMwMiRI/VGMojrsMVCme+L84VCkDi/HcvKho1l2DCGfTNsCKpn4yx7hBLFFYKUgERO5IJA/fr16cEHH9RJDBgwQO/CzCW9fN8rBMn3G0hg/nBuwXtgtOujyy+/nOB50tYgBLH1zcW83BMnTiRMWcOzy9ChQ2Ne2szFE4JkxkZickCAd2bqcQjGJWPHjrXWZ7EQJIdKILf6I8Ab0eiuu+7SJjO9evUiti/zvyGGsUKQGL4UW4sELy2858VTfDjKu+iii4hN/LUHF0+kBQdCEAtekg1FHD58OPHmLu0eyV1e2JNhERHh448/1guJ7vi4fxeCxP0NWVA+eJr84x//SLCcPuecczwl5m3FxM4r9DnYv8XJGtlT0AwHQpAMwMjpsiEAL5Iw19+/f7/2Pnnuuec6N7LrJMI0L3t40X6NBw4c6MTZ8kUIYsubimk54XMYXSd0r+68805PKW+55RZ68803tadJs3joucCCAyGIBS8prkWEe9Wnn36a2E2RntJ1d58WLlxI7KBCbwCD2Ulpblvj+oxCkLi+mZiXa+PGjezPlx36cnj44YdZv5AFDL8Pn7GoCPwNI2ATWFk84X9/a+w+hCCxeyXxLxB7h9ROuuHNHkTAOMMEOOyGB3z2QaZnr2ACb3MQgtj89vJU9sGDb9YbzSAPwf7GPKUYzSqff//734ldGdGUKalNVJ4LLDs4yLLySnHzjMDo0Rto4sQxVKlSBTZt70PYS28CRIYwpYu1D5ADJLE9SAti+xuMsPyffko0cmRDzrEyd7G6E/ROTMAOQkz3QnyIPT46i4Mm3tbPgiUIZl4QzKetLzCqckMLiFWuWVToINaCJ3Yq4V0Q/PWvf03YSXga+wLCwDwpoWAJglVdCGuyZ8PYvUt2WhY761fU+aIiolq1iHcKpmSiDXCDBy/h7lYr7m7VcCx4TZztnwU7BmHP7rHrBkADEd0TrCHAbAMr0CyBkPc69sorxKYkKVKwEja7+DlQJIh8jh+PH5kLWRf+OMKOwiSFgm1B4vQSYa6B6VCWR9DkQLcPLVwcyLFzJ/HYgnhsQcQL41qv0GCHjYLswITNTKpSmzbbaNiwjiYqMZ+JJgjsg1hnUL+s559/PnZbP1E+7Lxr0KCBVtXFMUw3IBuN/dzFw0cffaS3seL8448/TpCpDjv060fE2bIUNhEb7HoCC//yjkHinYPEK+pHeuISc2Cc9IbuDTjiDHguvoTKEtSd5s6dG3FJ0mf3wgsveAR1IP65bt26tBdDR/F3v/sdq0RV1Q6uufLpTwgBsXGg1hxhD5Fp783l5KOPphxTQzCHNU494dlnU1qHcF69erUnKhEHhheJU5jimRSP5BmbQGjZALe6E/u9VWxEl5cXyeMMj2hn3bp1M5IW2iDsglRB/8OQolOnToqNAlWHDh0c4VHEwSs8S0prCbfNmzfn/GwgRLVqKYKw83lPgIwj6/RwmRQLnnqiEnOQOIIU/5WFaObdd9/tiGZCWObPrH1co0YNXdkqsf4x5Ni4mxLJS+VxhtbzMOI3PM5QvOqcUU0Xuh/QTjTEgHYIVKXcARIIM2bM0D8I1bg2m2vxeeqpp+rnzyTz5k4n3XfWHdIE6NOnZOyFF6biWIuItUlKxifhTGIIgl9Z6Pe59TV69uyZUXZ5+/bt6res+GIqKoR1xowZE5pcGYjJ4wxVs2ZNXYHRLerbt29G/Q8eZyh23elUdjwXWhE8p1/4+uuvFVvW6nshZe0mC1rPYcPuYFm2jX5JlIiDcvX+/d7T+D3hxkqxvCMrAnvjknSUCIKsYQWXFi1aOJWhPGq1kGFr27atcy8PlNWCBQsCfcdLlizxjINat26toLCbLqAFdMtGQyiHHUGzIm35JWkhNY1nYUcJjh5iijAVVZ06G9XQoUqx7mfWoahIqffey/p2K260miDQMmcrUkcFFvp9kzJo/JX2NhYtWqROPvlkhyjsYECtX7++tNt843kWSmGsYH7FMc6YM2dO2nvQMkxlVUzTAuIeto5VvAkp7fXlPQkhT57BU61b91OVK7fnMn3Ff6kuUp06irt9SnFvztNVMjrpDz/szY0bQtWli/dcUo+sJMjevd+pK65YoA4++CRd+ViNSd16660qVzkyqM/yuoPza4vxCUQxIRtdngCpZSjPolyo6OjqQAIOv+jpAsYUGFsYIqEFxNgjrMC9PfXiiymNc+65OUQBYVjy0FGsNQTh3x3uqh4ojRDkABax+/bMM4p/Zfd8/1Kn61/o999/P9Byfvnll5oYvDNOV1rIRoM4IFBZAloxVHaMM6655pqM4wy0DmzYp6/F9ZilYuvXUscZZSlDWa/BkAZjfuYzS0krLrNSL7+cutsQZPhwpS655ECKQpADWMTm20YeV2K2BL9y+DviiG3qwQdXhVq+DRs2cJ5tnArMSlQKXbHSAgiGcQTUa9MFDKTvuOMOZYQ48Yn1jWzGGenSz+WcWzLeEAQNHz+6mj07lbIQJBeEA773q68UzzYpxT/mmhj8Y86/5op/zQPOyCc5DHR5U5BDFAzqs9FYNzNtxxxzjJMW5KkxYxXHYAiCsvF6K2u0K8WTfzwbJ2OQcr+vyZMVa32XvK1lS8XTkyXP81KEOuQQxZXDG8drdzynnzq3eLHiadEUMXg4oK6/XvF4wHt9VEcY5GIaGNPB6A6h+4VpYkwXlyWsXLlSsccPhxhsDq6WL19ellvzdo2bICgEz5qzNHVhEiQvtlgwfPMTIJo/n3hPM9F556VsfSZMIKpRg6tnHgKcL8OQkMc7hD0PXF+0ISHspyZwwWA/lS5AHJTXY6hly5Zas4/HGVpQBu45zzrrrHS3xPbcmDFEeCdLlsS2iKEVLC8EaduWaOtWounT0z/XffcRvfYa8d5mosaN018T9Vle6KOHHnpIu/OHRDOPN4hnuqhJkybEdlVOcWCiDi+DDRs25Oebri1yhw0bpoVkeF3CCmln52G+/8I7A7Qe+pw5xWOSfxzIfpDNm4l/Zb1g8eayjKFSJeLKRtShA/GeDCKue55QrRqxqxjPqdgcNGbGLl26lObNm0dDhgzRuuY8oOdn6cAt3nnaKtdIS1922WVaFrlOnTqxKX+2BYFVLzZKFVoIrAXBlkz3X2lAsmd86t6d2LdSaVfGM75z584E31Dw4oH9G9jkhM1OIAf8QL388ss0a9YsspEc2BCFEaA78P4tYp8MNHeu+2zyvwfSgtStSyyS4gVrzRrvcbqju+8mOukk4u2l6WLjf44XBHkT0S2ErlO3bt2ITV/YqcFIGjRokJVdqfgjHn0JAyGIX7GhKb98eaobxfXIE6pXJ/rTn1IDdps9xMC9Dc9MeZ5NDpKBQGBdrExwsBM+7noQvf56+iuwnRPbmMvS4qRPQc4KAuEhEDpB4A2fx7PUqFHmh+Bdp+zkOHO8xAgC+UKgAqwWkTmbYodSBsyfb99O1Lu311VMKJlJooJAQAgUFRXplEJvQXi5QG/6h9sYzHJJEARsQiD0QfrVV9sEh5RVEPAiEHoL4s1OjgQBuxAQgtj1vqS0ESMgBIkYcMnOLgSEIHa9LyltxAgIQSIGXLKzCwEhiF3vS0obMQJCkIgBl+zsQkAIYtf7ktJGjIAQJGLAJTu7EBCC2PW+pLQRIyAEiRhwyc4uBIQgdr0vKW3ECAhBIgZcsrMLASGIXe9LShsxAkKQiAGX7OxCwNkPYnZQ2VV8Ka0gEC4CFdnnbLg5SOqCgKUIVGe3O/8Hj3VrLKfJLmAAAAAASUVORK5CYII=\"></td>\n",
       "    </tr>\n",
       "    <tr>\n",
       "      <th>11</th>\n",
       "      <td><img src=\"data:image/png;base64,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\"></td>\n",
       "    </tr>\n",
       "    <tr>\n",
       "      <th>12</th>\n",
       "      <td><img src=\"data:image/png;base64,iVBORw0KGgoAAAANSUhEUgAAAMgAAADICAYAAACtWK6eAAAAAXNSR0IArs4c6QAAAAlwSFlzAAAWJQAAFiUBSVIk8AAAH6FJREFUeAHtXQmUFcUVfSyyqCiCLGJwRRAVhYgSIyAEVCAo7ixiABMWSRA0ROIWRwloDBiXgDGIYsSDS6JBQox6ICwqxgWBKAqKCwjRxI0dAqRybw3Vf5mZz5/5v7vrz7x3zkx3/+6uqr5dt+tV1av3qi1dutRs3LhRVBQBRSAVgfr160t1JUcqKHqkCDgEvvnmG6npDrp06eJ2dasIVHkEFixYYDGoXuWRUAAUgQwIKEEygKOnFAEliNYBRSADAkqQDODoKUVACaJ1QBHIgIASJAM4ekoRUIJoHVAEMiCgBMkAjp5SBJQgWgcUgQwIKEEygKOnFAEliNYBRSADAkqQDODoKUVACaJ1QBHIgIASJAM4ekoRUIJoHVAEMiCgBMkAjp5SBJQgWgcUgQwIKEEygKOnFAEliNYBRSADAkqQDODoKUVACaJ1QBHIgIASJAM4ekoRUIJoHVAEMiCgBMkAjp5SBJQgWgcUgQwIKEEygKOnFAEliNYBRSADAkqQDODoKUVACaJ1QBHIgIASJAM4ekoRUIJoHVAEMiCgBMkAjp5SBJQgWgcUgQwIKEEygBPmqaVLRbp2Tc3h+utFpk5N/U2P4kVACRIv/pq75wgoQTx/QVq8eBEIgnjGW4yqmfubb4qcfnri2detE7n55sSx7sWPQKUjyLvvviutW7eOH9ksSnDqqSJ//3viQvZBVPxCoNKoWO+8844cf/zxcsIJJ8hpp50ma9as8QtpLU1BIlDwBGGw99GjR0vbtm1l1apVUq1aNXnjjTfkxBNPlBtvvFG2bt1akC9GC+0HAgVLkP/9738ybdo0Oe644+Tee+8VY4z8+Mc/lpUrV8qgQYPkv//9r0ycOFFatWols2bN8gPtpFJ8+9up6hVP3X67yMiRSRfpbuwIFCRBXn75ZatGDRs2TL744gvp0qWLvPXWW/Lb3/7WqlkzZsyQJUuWoAN8uqxfv14GDBggnTp1stfEjvjeArz0kshBB4l8/HGiRLfcIvL73yeOdS9+BAqKIBs2bJCBAwdKx44dZSlm2o444gh58skn0dH9u7Rp0yYFzQ4dOsirr74qDz30kDRp0kReQo1s3769jBgxwpIq5eKYDtAIypAhgtYvpgJotvtEoCAIsnPnTrnjjjusuvTYY49J3bp15Re/+IW89957cumll5b5kOyPDEENXL16tVx77bVSo0YNeeCBB6Rly5a2tdmzZ0+Z90ZxokcPkVq1RO67L4rcNI+KIOA9QebMmWM73NdjDHTLli1y8cUXC4dyb731VksUPjQr+v33329biEWLFpXA4SDoMpMnT5YVK1bIueeeK19//bWMGjXKduzZ+kQhmzeLLF+emhP4Kw8/LPLrXwtInHpOj/xAwFuCcESqZ8+ecv7559shW45KzZs3T/74xz/KkUceGaBHQpyKCYWR6N2+iZk3thZlCYeB//a3v8ns2bPl2GOPlbffflu+973v2Vbok08+Keu2Cv8OHsojjwieQaRRIwEhRV58MTW5Zs1E7r5bMLBAoqee0yMPEMAX1PDPF9m4caMZO3as2W+//QzgMfXr1zf33HOP2bVrV0oR165da/r27Wuv4XVHHXWUefrpp1OuyXSwY8cOM2HCBHPAAQfYNKC2maKiIrNt27ZMt+3z3Oeff26GDXvZdOy4Fc/A3kXxX/XqxnTtasyGDcVJLF5szCWXJJIbPNiYpk2NeeCBxG+6Fx8Cjhfs4HpBEAzbmocffhiVpKmtsNVRozBKZf7zn/+koLR9+3Yzfvx4s//++9vruL3tttsMf6+IfPrppwajXDYtEg2tk0ErVa6kmMZ9991nMJpmqldvF5CiZk1jzj7bmN/9zpjPPktNMp0gmzYZc/TRSpBUlOI7crzwgiD/+Mc/DEadgkp65plnGqhLJdB55plnUImODq677LLLDFuSfMhi1Nh27Vi5xf5B9TL//Oc/y0z6o48+MpMmTTJnnHGGwWBAcF+tWnVNq1YzzE03fWC+/LLM28s88dRTxjRqZMxf/1rmJXoiAgS8IMhn+KxilCmoYM2aNTMzZ84s8fgwIzHdu3cPKuHJJ59sFixYUOK6XH9AZx9f+9+ZQw891OaFUS+Dzrz56quvbNLoFxlMPhr0eYKykFBsxS666CKDETZDFTEXmT69WCVDEcz69bmkpPfmgkDsBCEx6tSpYyta7dq1DUapzObNm1OeCWYkZsyYMaYmdBVWxAYNGpgpU6aY3bt3p1yX7wMS4ic/+YkhQZhvrVq1TMOGDVNIUa9ePdOvXz+rjsGcJW9FgKZpevQoJgn7LOCsSgwIxE4Qp8qcd9555oMPPkiBgF/yBx980DRu3NhWSlbUq666CipLBXSWlJTLd0AViyqUK+shhxxiYMZinn32WcNOfliCfr7tsIObGEgIKxdNNxMC3hCEnfNkYX8EM95BpezcubNZtmxZ8iWR7v/73/+2ZTnwwAMN7Lsiy/v55w1UT4PW05glSyLLVjPai4AjiFfzIBjKtXZVtMZt3ry5PP7447Jw4UI55ZRT8BGPVzh7j6HnyApxzjkiY8eK7N4t0r+/yMaNkWWtGSUh4NWCKVbAcePGWZMQmoag85tUVL92f43pb1oKcyIzLJkwQWTBApHXXxcZPlzwwQgrJ023LASqsSnhSVrERim0k6LQbN3tR5l/tnlhHkbQF8JMeCOBumVvW4e1sTSUpKl9ppn7bPPIdB3XfbVrJ0JTlenTRa68MtPVei5fCGCU1CbllYqVr4cLOx2Motks3DbM/GARE7gCuvpqwaKwMHPTtNMRUIKkI+LhMSz85YorBKsjRfr1E4Fxs0pECChBIgI612ymTBFp0UJk2TKR557LNTW9P1sEvOqkZ1voqnhdvXoisPy3HfXu3asiAvE8sxIkHtwrlCus9aWoqEK36k0VREBVrAoCF+dtbEHYYXdCwxSuK1HJPwJKkPxjGkmKXIk4f34kWVXpTJQgnr/+7dtFLrpI5LbbUgt6550iP/qRyKZNqb/rUX4RUILkF8+8pzZmjMgzz5Rcqtu5s0jfvgJnFHnPUhNMQkAJkgSGb7t/+lOxn6w6dUQ4zJsubFXgDkzmzk0/o8f5QkBHsfKFZJ7TWbtWZOjQ4kQnTRI5+eSSGdB2cuZMkd69S57TX/KDgLYg+cExr6nQu8nllwvcExV7RIFH1TKFjuxVzSoTnpxPKEFyhjD/CVB1omvSww8XeIZMpA+PR3LmmcVqF7wgBUICwemkSggIqIoVAqi5JEm/dzRzr45PF9Wnhg2LU6O7r8GDi+2x6M/3mGNyyUXvzRYBvAYVXxD4/POvpHv3z6wDuRtu4BKE4pLBUb01UqSxIg0X4etOJSIElCARAZ1NNsOHj5Bdu7ZKgwZLhZ7enWANmR2tSjZ9d+d0Gy4C3hGEC6iwLDjcp84xdXg0sase4fUxx5QSt9O38OzZT0n9+u3hub6h1Nyr/M6ZsweuSQ2W+wrinIjQaFElOgS8IgiD3sAxnHVW/ZzHNt3wmyWvvfaa9fGbj1dFH8E//elPbVK/R4AQeHe0+2vXfiYXXIChLKlm+yWILKcSMQJeEQTuRvEFrW+9t/fq1cs6r6Yndx/l2wgRRccSuQpcpqJ/0U+4/RFsR1w4B7aiQ4YMwpLk1RjNWmwdOOSal95ffgRiJwgjRDmBgzgbX/Cuu+6yRKEndnhRtDEIGbIgDnHr0BkL8ZVXXsm7+kfnFC4AKZx0B494J4yt5s9/AevhLwQmx2HdfnBKd6JEwPn/idohkvNne/DBBxsQooTPKTqtRjSowLshPRsixFoJL+9hlZuO4X71q18Z+sPC+wj+6B6VXheJW64eHumNnmnTs2Sy7y/6BqN3e2IEVTOsR9R0MyDgeBGb8+r58+dbb+iu8iHqk0GwnBJFRtAb061bt6CCIsyzeZ5e1UIUVtxjjjkmyJOO7OgomyEWXHm5hacTM3ToUFue8jqV4/XOnSmCkAZPQ9++Lm+0LsHvuhMtArETxD3uX+HGHIFtgop3zjnnGDqrTpc///nPpkWLFsF1vXv3NnQmnU/hV7wrHOI6Epx00knmxRdfTMkCTu2sH2ES2l3HbXndktKjJHxq2RAPyRm4UAzo4xiEnks+pfsRIuANQfjMDI5zN8YyWclY2eismmpMui9eVhjo5gYh1ex1VEP4laWT61ykOOjNMMT2qG7TpXf3bJxks3W75ZZbDImUTBY6tu7fv3+5HVvPmDHDpkO1Dv62cnkkvTdHBLwiiHsWdNgNYp0H/Q4ShupHenQpVmiqNskVGvMI5e4TlEa4a665xmBAwBUp660LjcAvfzJZsg2NQEK4/g6JohIvAl4SxEGCeQFEZjo7qGitW7cutbOK2OjmrLPOCq5DKGjz/vvvu2QybhmMB3EKg3vzqbKVFVyHnXHmw0haya0jieqIRRVLJX4EvCaIg4dhBuDeM6jEmBsxCP3sTgdbhkxzkaeoGmWS5cuXG0aPcl95BAcNtdPP8GxsBUlk1+I5NZIfAYSltqN1/I2d81wD8GR6dj2XPQIFQRA+Dkd7GOqMw8GsROx3MKhOuhrEYVmOjKWrYw4ShjEYPnx4oL65YeNch2pd+tlsqRqSEByIcEGBHFE5pMvhXRU/ECgYgji4Sqvg2XSkqb7AE3sKwUaPHh2EVXPpR71lFCuqWhy2JkkYzVfFHwQKjiAOOqpI+xqKddemDw1///vfL1VFc9fHsWXL50blPvzwwziKoHmWgoAjSOymJvh6lktoegJVSjCZJ+hkCw39oMtLnz59BB10mxZCp2FdRXcY+l0gCO8m+EoLzVb+8pe/2Jge5cow5IvRccea8uJF5X+ilwYVrxAoOII49C688EJZuXKlwBwEJuD1BB16awXMaFRt27aVefPmYTVeQ0H8ckGrI+eee6671bvtxRdfbMukBPHu1UjBEoRQIvqsXHfddbbl+OEPf4hwZbsFk3cW5avhm5MtCiYcsbbC75XFPXr0sNG00EmX9evX+1dLqnCJCpog7r01adJEEBUX3s/nCKLSyiIs7KZlLCYa3SVebxlqrmfPntZSmKqjij8IVAqCODjRCbcm6WfS9UeBiapZfr6wSkUQPyHOrlTsqLPDvnjx4iAWYnZ36lVhIqAECRPdcqTNgQaOxnFNPsxgynGnXhomAkqQMNEtZ9qqZpUTsAguV4JEAHK2WXAuhyNumKQSzLRne5teFyICSpAQwS1v0hx1gyGlHa7mvI5K/AgoQeJ/ByklUDUrBY7YD5Qgsb+C1ALQPIbuj7DUF9GjNHxUKjrRHylBosc8Y46NGzeWTp06CayQERhHI+NkBCuCk0qQCEAubxZOzcJCsPLeqtfnGQElSJ4BzUdyFyFqJxZQWQvkbdu25SNJTaOCCChBKghcmLcdjsg5HTp0EJIjLB/FcF4pt96a+hQwY4OFdOpvVf1ICeJpDbjkkktsydQEPt4XpASJF/8yc6eaReEiL3bYVeJBQAkSD+77zJVhIODGSDZv3myHfPd5QwUuQKQFOf30xB8WYqqkIaAESQPEh0MskZZBgwYJlw5TwlKzhg0TxDlJ/IGPKmkIKEHSAPHhcBxirv3hD3+wqwxZnieeeEIWLFhgO+0+lK8qlUEJ4tnbho9igZsihFzbT+CVReCO1AbXgScXgfcTadeuncC/l0yfPt06rKB5vEp4CFSjexMm36VLl/By0ZSzQmAWghBefvnl9tqZiAENN6SISzhLpk6daqNu0cKX6leykEAIz4C+xOl2aJjbb33rW8mX6H4FEGCLbcX5/ynFNZD+FCECDLMAJxTWidzkyZNTcqane7ws6/0eL84GHOrbt2/gbpXnkv9q1jwa3hs/NhMnGjNvnoE705Tk7MH48Qb+gOm5MnGuc2eDkBKJ46q853jht7sPS+HK/w9OuIXDugxiymCeDMvm5PbbbxdE1rLLcbnSED5+7Z87j0hcNqAoPaIwsOjCha/Jjh3r5YUXNuOv+CrYPsrxxwtaJJEbb3R3iqxaJTY4aFFR4jfdS0PAMaUqfy3ifPY1a9YYeGWxLQDUK8PAOk7omhSvyzq9poPubGXFim3m0UeNGTXKmA4dDEK8US8ziIiVSIEtSFGRMc2bG4OYQFa0BUng43ihLUjaByPKQwYIpUM7OLUWOLQWEMLaYLEMiLwliIFii0Pnd86AMZvytWlTF3MoIgMHFl+Nhgn+wkQaNEi9G9GshXMhgwcLAoWmntOjYgSUIDHVhC1btgjdFNE16qmnnmrnOjhyRaG6xHDQdIR30003yciRI3MqZa1ago586UnAZx3M6kVuvrn081X9VyVIHDVg1y55B52CafCiOAD+hdlacDSKgkhVljg0VKS3yPHjx4deQkSctjPqaNBU0hDQeZA0QEI/ZHdgyBDpAHI0Q+95LrxBcpEUZcOGDVblQvQp69AasURCLw4zqFtXMDEpElMo+kiesaKZaAtSUeQqeh98Cctjjwk8bksjeC9p3Lq1TQmRpaz70U8++cS6T33yySelRo0aFc1ln/dBc0sRzD9iFC3lJz0AAkqQKKsBF2FMmkSv24L4DVINfQ/KHqhTc9Grbr5unewCYWjBW5ef9YgFHJWDD444U8+zUxUrqhf08cciY8cKhqlEZswQBDApzhmmItsR/mAAyHEdXI8yjkmD9OGmCMo4ZYrA2TfN6yPIrICyUIJE9bIOO6x4PPWhh0T690/kijANB4IUu9FJb4naecQRRyTORbzH7hFGmlWSEFCCJIER6i5aByE5OOngZMIEEX6669SRmhhrbepaFXc+wi3iEdnG7bnnBFbDEWbseVZKkLheED0nsqdMOxB22jt3jqskNt9mzUS+8x2B5TAnKWMtileZK0HCfB3UWcrysbtjh8CmXeT++wWGWGGWIuu090aCw6Rl1rdU+guVIGG8YhJj4sTiXi/VJgQexeKO1Jwuu0xgVSjCZX2eiCPI00/vhJq1x5NSxVsMJUgY+LOvQT0FVrqydGnx/s9+JrJsWWpuVK88kqOOEizKWoX5kNoYaFvkUcniK4pfbyg+HPKbM+IjwoBKBI4XrHAB089/XtxJz29OeU9t2LD5SLMPTOcfyXvahZigEiSMt7ZmjUivXqkp07yWrYnnMnRoN5TwWRtWexdsxqq6KEHCqAEwQLT25clpI/agtGyZ/IuX+y1RxpNOOgl2WV/L/PlsTaq2KEHCeP9XXinym98krP9gXyWPPirSr18YueU9Tbf2JCx3Q3kvcIgJKkHCAHfMGIEHBZHvfleEIampbnGtKxZFFYI4t6f0qrJnT9UezVKChFVj2Sl/912B92mRd94RrIAKK6e8p0sVi6oW17szLHVVFiVI2G8fvqwKUVTNKn5rSpBCrL0RlNkR5GmY5cOVQQQ5+pmFEsTP9xJ7qbhO/ijMHHKV46uvvhp7eeIqgBIkLuQLIF8XgqEqj2bVGDx4cBHfFb8WKopAMgL777+/dUVELyv0wvLNN99Yh9qM517Z5WMucIPoklsLg/4rDQH66aLQQfYkLhXeK4fCoRZ9APPvtNNOs3+NGjVypyvVVglSqV5n/h7mRszbkCB1sJjrZjjNotnJ66+/bv/o8I6uivjnhBpIMmnYhznggAPc6YLdKkEK9tWFV3D6Ap4Ic/2aNWtah3a90uzKqH6QLPQFzO2bb74p/I1/9MZCoUeWE044wbYujjicX3HO8cIrfX5T1vAH+cWz4FNjBe+PNfMc2mULwkhX+xKqYCsRHteRhsRhdKx0Y0e2RoxvQrXMkaZFixaBu9V95RPleRf+QAkSJeqe5zVv3jxYxfSyXubvhLvFn3ENSwVlBxaDLcP6l2TSvP/++yXmVKiG1YOPMIR/sEaSFcwu77c5gqiKlXdoCzPBpTDFvxCeGxiC4Zprrkkhx1NPPWWjXP3gBz/I+uHYWnwHi9z554SjYG/AS3YyaTjPsnXrVjsIMIPukHwT5+Y94fhd96oaAnCgXWYIhkceecRUq1bNBveB4WLeoXkUcRrACXPKKafkPe1cEnS80IlC375YEZeHoRfKCsHwHAwt6UAbFc1+4auHsET4MqzNPxjuHJcvXy6IlRLx0+87OyXIvjGqtFcwBnvPnj1txWTHmXZXbpQpOQTDDTfcIKNGjQoFB4Sdk/POO8+m7eOMvRIklNfuf6Lsa1xwwQXwK/GWNW3nnIabt3jvvfdsCAb2Da7E4q8JdHCXR5kDj/bswDtxhpGIouV+8mfrdK1c9DW9t7AQYF8Cqo3V/Q877DDz0UcfBQ/w6aefGrg/tefwZTcI4hOcy8fOF198YdNGJN4g3BxioRiQ0/6+du3afGSTcxqOF9qC+POtiqwko0ePthN61P3pLNvZ4XGUqQdCTqGSYjHkd+WJJ57IewiGhg0b2vxARFmyZIl9Znqyd5ORvqlZSpDIqqUfGf3yl7+0UXM5DPss3J+eTKd2EM5bsC/w9ttv2xnwMEMwOJUqmQxumW/yb14g5pqSnNskTcB7BKZNm2bVGIxGGXTIg/JSjerTp4891xxhb9etWxecC2PnlVdesXmh5QqSx4CBAWltRN9//etfwe9x7TheaAvixWcq/ELMnj1bRowYYTOaOnWqnRR0ufJ3nmdckueff17QP3CnQtly8rAZvGXTdot2XBTGaORwM81WGA/eF1GC+PImQizHSy+9BI9D/ayHkqKiIhk+fHiQG6PoPvjgg3adB9Wq1ntDwgUXhLCDiUf46y522J2sUpWmeoWQffmSdE1JXE2Z5hsuAjAaNPXr17cqDVqKlMxgtWt/h9WuATlSzoV9wHqHmmrgPSXICs7qDOZhDMvD0a44xfFCW5DyfU8K6mqqL50Rd4SjU/w6T2Gwnr1Cq92rEd2KwhaEMdujlE6dOgkXWa1evdpa/jJvEFm6detm48PTJ5cPogTx4S2EVAYsp7YuRFu1aoUYPY8hVk/x62alvOKKK6y+f8cdd2Rl0p7vInK9CI0jKT6rWUqQfL95j9Lr27evLc3hhx8utWvXDkpG846mTZvK9ddfL+PGjQt+j3qntD4HZ/dJHpreMzR23KIEifsNhJj/SIRgoG3VokWL5Msvvwxy4sQg47Fz1WCc0rVrV0TWPcTOvbBVo3C9+1lnnWXN7mmSErcoQeJ+AyHmz2Fbp9P7NHTqHpnkPf/88+2hr2qWEsS9rUq6pTk5xa0V9+0xS1Oz2DfhUDDnZGgwGacoQeJEP4K8qdPzS41hyxQ1K4Kss8riHHi855Jb5/iBN8GA0tqCbUfI3WTPKVklmOeLlCB5BtS35Kjjd0cgUZiT2PUevpWPgwduiNlHNUsJ4luNCaE8hahmuZn2uXPnWkPKEGDJKkklSFYwFfZFMES0ahY9dWCG2ruHoak73ZxyFaNzFXTkkUdK+/btrctT9kXiEiVIXMhHmC/VrLPPPttbNYvk4NoTOIgIlvwSHteBnzlzZoRopWalBEnFo9IeOTWLLnx8lN69e8vAgQNTigZPJ/aYa+XjEiVIXMhHnC/VLM6gczSLodV8l/Xr1wdWxwwHF5coQeJCPuJ8aQhINYtBOeP8Imfz2DQxobcVLNySjh07WscS2dwXxjVKkDBQ9TTNS/cGEvVVzSJs9LbCiUL69uXaFC4L5vLguEQJEhfyMeTr1CyOZvmoZmH9h7UsphrIFYd0KBF3sB4lSAwVNa4sqWZx5ppqVvKkXFzlSc937Nix8vjjj8tBiAzMGXS4H0q/JPJjJUjkkMeboa9q1t133y133XWXHUhgH8mNYMWLlogSJO43EHH+Ts1auHChMFKUD0JDymuvvdYaKDImCS2QfREliC9vIqJy0FkcvYf4MppFojKsAvsfjEkyYMCAiJDILhslSHY4VaqrnJpVmgk8Vxm2adPGdpa5hp2xPHbu3BnK89NJHa2NmT7Xx7MP4ptohCnf3kgE5dm0aZM0btzYmp5wQq5JkyZBrlTBOLSaLJxgZJ8gOXQa17m7Ne7J12a7T9ejZ5xxhnBLr4o0NcklvWzzzfY6jvRRlCAWhqr3jyv5uKSVTuSuuuqqAACqXvT4nhwFit7e6dAtWbiGg8aELhQ0t/DKmHxJmfv0skKvJmxB6HXlhRdeSFkzX+aNEZ5QgkQIto9Z0QCQnk26dOlizU8ylZFxRLigyUW15ZYOrtOFLZELzjlkyBChs4h0oTrFPhD7HieeeKLQqR2Hn30TJYhvbyTi8lDNoqd1LqRiVFs6SmDlzjZUM0fASBRHGrY4yY4hGB13RlrMQXbE6eGRfR+Sh97ds211IoZHlCBRI+5hfscee6x8+OGHKSWjWUdFQzUzLRJmxYoVQpdD6XMZDA7K+Q6OpC1evNgOBqRk7tGBEsSjlxFXUWj3xIqwatWqoDUoLVQzVSDXQXdbrhsvj0yePNmOUrHDzwVQVO18FiWIz28nxrLRktZ10N2WoZrThSqS62+QNOyws2UoTWg+4uY3Zs2aZVuX0q7z6TcliE9vw/OykCDJ/Q3GOudIVLLQTQ+Hfl0Lw23btm0FsUBs1Cq2VmxFOGNeCKIEKYS35GkZ2dmmJ0TXwnDLoJyMUpUs8NJuZ8g5dMz+B22tCkWUIIXypgqknHS2wM65Iw1bnJUrV1qCMMwbCcRWplBECVIob6qAy7llyxZrtk5zEnbOC0kcQWoWUqG1rIWFAMOqOWcRhVXyRGnVWDGBhe4pAiUQUIKUgER/UAQSCChBEljoniJQAgElSAlI9AdFIIGAEiSBhe4pAiUQUIKUgER/UAQSCChBEljoniJQAgElSAlI9AdFIIGAEiSBhe4pAiUQCGbS3dR6iSv0B0WgCiNQvSwb/iqMiT66ImAR4EKx/wPzO0Q/VOTx9gAAAABJRU5ErkJggg==\"></td>\n",
       "    </tr>\n",
       "    <tr>\n",
       "      <th>13</th>\n",
       "      <td><img src=\"data:image/png;base64,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\"></td>\n",
       "    </tr>\n",
       "    <tr>\n",
       "      <th>14</th>\n",
       "      <td><img src=\"data:image/png;base64,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\"></td>\n",
       "    </tr>\n",
       "    <tr>\n",
       "      <th>15</th>\n",
       "      <td><img src=\"data:image/png;base64,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\"></td>\n",
       "    </tr>\n",
       "    <tr>\n",
       "      <th>16</th>\n",
       "      <td><img src=\"data:image/png;base64,iVBORw0KGgoAAAANSUhEUgAAAMgAAADICAYAAACtWK6eAAAAAXNSR0IArs4c6QAAAAlwSFlzAAAWJQAAFiUBSVIk8AAAHhFJREFUeAHtXQm8TmUaf1w3WcIN7QgpFLJma4aWISUtWkwMGU0SYmpMkaVmKr9GTYttTGQbRuRKpDQyt2aoiaRbaSpLskwhLl2U8Mz/ea9zvu/c+91zv+9+2/nO97y/373fWd7t/N/3f971PP8y69ev5wMHDpA6RUARcCKQlZVFGUoOJyh6pghYCOTl5VGmddKpUyfrUH8VgbRHICcnx2CQkfZIKACKgAsCShAXcPSWIqAE0TqgCLggoARxAUdvKQJKEK0DioALAkoQF3D0liKgBNE6oAi4IKAEcQFHbykCShCtA4qACwJKEBdw9JYioATROqAIuCCgBHEBR28pAkoQrQOKgAsCShAXcPSWIqAE0TqgCLggoARxAUdvKQJKEK0DioALAkoQF3D0liKgBNE6oAi4IKAEcQFHbykCShCtA4qACwJKEBdw9JYioATROqAIuCCgBHEBR28pAkoQrQOKgAsCShAXcPSWIqAE0TqgCLggoARxAUdvKQJKEK0DioALAkoQF3D0liKgBNE6oAi4IKAEcQFHbykCSpAUqgPbX3qJllSrRq/Xr0/L69alj0eMSKHcp2ZWlSAllNuuXbtK8JHY2/UHD6aumzZR1y+/pG/ffJN++N//EpuBNEtNCVJMgW/YsIHq40193nnnUdeuXembb74pxmdyLvOJE5R52mmUUa4cbZs9m9bcfDO92bQp8U8/JSdDPk1VCVKoYIUI/fv3p5YtW9LmzZvN3TfeeIMuuugievLJJ+no0aOFQiT2dOu0abSyVStaVrMmVcBfudNPp2P5+VSxdm3qnJtLZU45JbEZ8nlqSpCTBfzDDz/QE088QRdeeCG9+OKLlJmZSffffz9BJptuuOEG+v777+mhhx6iSy65hJYuXZq0alH3rrvo6nXrqPvu3XRK5cr09fz5Ji9VmzRJWp78nLASBKX7Ega/DRs2pIcffpjy8TYWQnz66af09NNPU/PmzemVV16hf/zjH4Ycm9D/7969O3Xp0oU2btyY1Lpx6lln0dF9+0weypQtm9S8+DXxtCbI+++/Tx06dKCePXvStm3bqFmzZrRq1SpDCBl/BLurr76aZFzy/PPP0+no1ryJAfKll15KQ4cOpf379wd7jdnxjoULaaV09SZPtuPcitZtVbt2tKp9e9qH/Nfp08e+pwdxQOCf//wny186udzcfdy69QwmqoI/4rPPPpunTZvGx48ft2H46aef+N133+Vjx47Z16yDvXv38sCBA7ls2bImfI0aNXjKlCkh/VphIvldn53Ny1u35gXIm/ytHzw4kuDqNwYIWLwg6yAGcXo+ivx85jFjmDMzj6Jiy+99PGLECD548KAj78uXL+dGjRqZyj9x4kTHveCT3NxcvuKKK4w/IVrTpk1Z8CytwwQBY4KAZ5wkxpIzzuDNU6cymFvaKDVcKRGweJEWBDlxgnnWLOZzz2VDDCFH06YbecOGrx3wYdzBGFvYFR7dLJZrJblFixZx3bp17XC33HILb926taRg9n1MEDBmyLhy5comjh5omaZ07MhH8/JsP3qQWATShiA//sjcrl2AGOi58OrVTrD37NnD9957r91lysrKYgzQGVO6To8uZ0eOHOHHHnuMK1WqZCp5+fLledSoUYxBv0so5mx0p+rVq2eTCxMA/OWXX7qG0ZvxR8BXBNm/n/nUUxkVKwBc8+YFPZN9+5hPO425Zk3mOXMY62sBP0KeXr2W483dwlRQTO3yoEGDWMYYpXU7duzg3r17c5kyZUycWGjkuXPnFonuo48+cnTPGjduzJgpK+JPLyQHAd8RpGJFRvcoAKZFELkiJBEyBLvFi5lr1foBlVhal6V8zTXXhNWdCo7D7XjNmjWYCGhtSCLjk/bt2/PatWt59+7dPGDAALu1ql69Ok+aNClmA3y3POm98BHwHUE6dmTu1o154cICEIIJEgzLhx8y3tyBLteZZ+7hZ599L9hLzI5PoLmaMWOGmSUTkshfRkaG+T3llFN42LBhjCnimKWnEcUOAYsgvloHmTSJaPRowmIfqmIhJ1upsAiNLSSEiQmi6tWJJk4k2rmzBtYy2hTyHZtTdLPozjvvpC+++IJ+//vfm0hBGkJrQh9//DE988wzhPFObBLTWOKCgK8Igu1INGAA0SOPOLES4mArFU2fTiQLzthBQlgQp0GDCFtKnH7jcYbZKbOP65xzzjHRz5kzhxo0aBCPpDTOGCOQgOoR4xyXEN2QIUSXX060fXvA49ixhL1UhC0kROPHE/ZbBe7F8wgLjyBkYAsIZrZMctKyqEsNBHzVggjkUh9lZ0bw7g/sCqE1awhbSBJHDqyNkBBi8eLFdk1AD9kcK0FsSDx/4AuCSDc+JyeANfYX0rFjRBknn65FCyJsX0qowzQu8nCMPvnkEztdJYgNRcoc+IIgFtpbtxLddBPRe+9ZV5L3G4oMoa4lL4eacjgI+GoM8vrrBd2oWrWI2rYN5/Hj5ycUGUJdi18ONOZYIOCrFuRkF58wNk66C0WGUNeSnlHNgCsCviKINeawiOL65HG+GYoMoa7FORsafZQI+Iog1uypEiTKWqHBbQR8RZDjx8Wgwmw6fHiv/YDJOgjVWoS6lqz8abrhIeArgmzYgO/vqC8+jX08vKePo69QZJBtJuKwHyuOKWvUsUTAVyXVuPERg03DhodiiVGp4gpFkFDXShW5BkoYAr4iSKVKBVs4qphPzROGYciEQpEh1LWQgfWiZxDwFUGsrovVlUkmylYerDxJXpQgySyR0qXtK4JYe5ysilg6SGITysqDlSeJNdS12KSmscQLASVInJANRYZQ1+KUvEYbIwSUIDECsnA0ocgQ6lrhcHruLQSUIHEqj1BkCHUtTslrtDFCIC0IIvZ2/5dgHY3TIE0grkqVKnZRKUFsKFLmIC0Ict1111FtfI8LIwmUl5eXkMJ58MEH6eWXX6ZevXrZ6SlBbChS5iAtCNK5c2czg/Tcc88ZeYOpU6eSNQ0br5KSlqNHjx4E6yV2EkoQG4qUOfAVQbaf/BD97bffpi1bttiFILIGovPRqVMnglE4uueee6gFPjMUf4lysJNFhw4lf4U/Uc/rl3R8RZCLL76YZN0B1g1JjkeOHGn0PqSwYFha7BDTQkgK1KlTh+STWCHMbbfdZqQP4lWgO3fuJFhaNDIL0mqVg2QazJPGKzmNN9YIWAay0Pz7wkF0k/v06WOb/jwXFqtnz54Nk6MBm6NiR/ePf/yjbUe3QoUKsPo+hvGGjxkGpbXVG7MMaERRIWDxwrfW3f/zn/9w27ZtxYyI+WvTpg3LtWAndnTvuOMO209NGPCdN29esJdSHYu1d7RSdrxi7f2rr74qVVwaKDkI+J4gAqu0GrOgeyCtiBAF3S/u27cvSysT7FbD3HurVq3sCg3VKf7ggw+CvYR1XNggNRSoOCcnJ6yw6slbCKQFQSzIIcBphHJOhQl4IQrWKHjcuHEsuhyWEzJNnz6dzzrrLONHbOiKmE04tnPjrThl5VF/E4dAWhHEghWyznzjjTfaLcUFF1zAEOi0bpvfAwcO8PDhwxmDaeNv7NixjvvBJyLTBs1Chmah8SvyCffdd19YpAqOR4+9h0BaEsQqhpUrV7LocVjjEwh0Mgy8WbfNLwxOM2bBGNPFjuvWCUQ8GTNldhxYa2Go3lq39TfFEUhrgkjZiTin6A9Wq1bNfvsPGTIEWiIQE3FxkIFmyETbxBCZtldffdUlhN5KRQQsgvhqHQQtQthOjEpDTYogd2Z+UYg0YcIEs9I+GcZ9xfB0sMM4hh566CGzvrJkyRKyLLaLnvr1118f7FWP/YSAxZRUZHks8wy9Dr7qqqvslqFJkyb81ltvmZmwmTNn2iI4MhPWr18/xubHWCavcXkMAYsXvjI9Gs2LC2MSwtgEFuBfoQceeMAI3IAwxkI7ZrtM1O1gARuDcsKUcDRJadgUQiBtu1jFlRFmuQiDbXriiSfMthUhh2wN+dvf/kZYL1FyFAecT68rQUIULNZLaMSIEYQVcHMX8s5m23rw9+UhguklHyKgBHEpVKxvmLsVK1Z08aW3/IyAEsTPpavPFjUCSpCoIdQI/IyAEsTPpavPFjUCSpCoIdQI/IyAEsTPpavPFjUCSpCoIdQI/IyAEsTPpavPFjUCSpCoIdQI/IyAEsTPpavPFjUCSpCoIdQI/IyAEsTPpavPFjUCSpCoIdQI/IyAEsTPpavPFjUCSpCoIdQI/IyAEsTPpavPFjUCSpCoIdQI/IyAEsTPpavPFjUCSpAQEO7evZvuvvtuWrx4cYi7eimdEFCrJkGlffToUWO1BNIIdPDgQRLbWerSGwFtQU6W/7Jly0hM/8AuryFHt27dSMz8iPvXv/4Vd8m2k9nQH48hkPYE+eyzz+iaa64x1hHFymKjRo3ojTfeoKVLl1LVqlVNcYnJn5YtW9I777zjseLT7MQbgbQlCGQNaOjQoUaabcWKFSQWTETkMzc3l7p06WJwFxOjolIrQpwbNmygjh070u233x5XybZ4F7jGHxkCaUeQ4xhnzHv0UWODV6wkwuIlDRw40NjohXQBQcLAILhq1Spq1qwZzZ07lyBzQCIlLeZ/FixYYFoZSLbR4cOHI0NbfaceApYNUo+ZRo1PdmBr91sI5MAAL3fD35VXXsloMRxpiYbITTfdZNvorVevHmdnZxs/UNEtItkGAjnC64k/ELB44VuNQkcxodKj1htiCDl2QbRzxeTJDi+iQgXr7RysQgXzow4VKitAYcm2tm3b89Kla63b+usDBNKHIGg1UOsLyAHpNUalR623i1Ck18R6+znnnGNajeJ0DO0AJw8k3IwZM2yr70SZ3KPHZlh9L+xTz1MRAYsg/h+DHDqENgN1v29foi++IBjdJYLtXXHrYcm9Q+vWdOeddxLkDMy0LpRwCYQhEMa1vyx2eiUclKgwCzaCMjK60qJFZ9JFFxE9+STRjz+6BtebqYKAxZRUZHnIPB8+XPTy8ePOa5B/3n/ddaZVmQb6nHfeeYypXIeWujNAyWcQnoL+od2LY8gfQuG25HDqw5sIWLzwTwuCWSeqX58wF0uYfiJ6663AOyrj5GOKzgcstVODBpT12mt0FNdPh9zB559/HrX19gsuIGxNIWiMEBYciTZvJkgoFGRh2DCi/v0D2Xn1VSJMghFmlwkTZ7b77jui9u3tUz3wAAL+2GqCNQ3q16+ghrZoQbR9O1HnzoSVPaIzziiAOT+fqHlzok2bCs5vvZXKjR9PN59/fkyLAZo7WDMhys4u4KkVOWaHDUmUABYiqfHrjxZEauNllxEJOcTVqkVY0SMsiRecy/9jx4gOHCggSU4OYUGDKMbksBIrW5YI/MNai3WFaNQoosGDCdqHgWt65H0E/NGCbNlCdPXVTrSxZYQ++CBwLSuLMBIn7EAMXEvgUZs2RDt3EoRCierVCyQ8fz7RmjUF58JhlSIJYOOFI3+0IHXqEGFPlcOtXUtUt67jUrLIYWXi8ceJXniBaNcu6wpRz55E69YV/AUPmwI+9CiZCPiDIDLekNGxvKLFSUsh3avCrUrB3aT9r1y5YOCOnS7qUgQBf3SxZCzx7LOEDVNE1aoRffstEQbgjkGARwrkhhuIZs/2SGY0GyUiUEbme8VXp06dSvScEh5kYRCqtOoUgWgQyJGJHDh/dLHMo5z852FyyLBIxxnBheX9Y390sbyPs8kh1iRN7+/774kqVEiRTKd5Nv3Xgni4QKX3J+sg+CRFXYogoARJkYLSbCYHASVIcnDXVFMEASVIAgsK+1YTmJomFQsElCCxQDHMOPLzMTqHk2/c1aUGAkqQBJZTZuZMpDYPVlLU2EMCYY8qKZ3mjQq+yAJXqDAGM1jYUUx5kQVU30lDQFuQpEGvCacCAkqQVCglzWPSEFCCJA16TTgVEFCCpEIpaR6ThoASJGnQa8KpgIASJBVKSfOYNASUIEmD3hsJ52HGuXz5gLEXyZXYvjhxwhv5S3YulCDJLgEPpC92LMTiirqiCChBimISlys7duwgGMg2cYu5Ui85WF/F6j7Ryy97KVfeyIsSJM7l8COM9MJKPDVs2NCWcRNptwceeMBIvcU5+bCjnzSJaPRoIrGvpy6AgBIkgEXMj16FjdGLL76YHn74YTqEr6W6du1KPXr0MKI9f/7zn2Ho+iKChXhzHvPEI4ywdm2iAQOIHnkkwoA+964EiUMB//e//zUybjfAhMkWGLVr0qQJiWLV8uXL0Y15GfbsPqDLL78cn99+S7/+9a+pbdu2JFblE+Ugv0i//S2hy+dMccgQotWrCyy3Wnf+9CeiWbPSeNBuWbH2po3t1MrVgQMH+P7772doGsqHHwzdQ54wYQIfO3Ys5IOIOpVYlhe/oksCOQXoi8RPYOSTT5h/8YuABfqVK5n372fu2DGQvfXrmcuWZRaD+Hv3MvJV4L9VK+Y1awL+/H5k8SI9FKbiXJoipvPiiy/yWZB3k8qekZHBAwYMQAVDDSvB5efn88iRI21lq8qVK/P48eMZmu0lhAz/9r59zEOGMGdmFlT2atWYJ05kyD2UHMeiRcy1ahWEE7L86lfMu3aVHC7VfShBYlSC7733Hrdu3doQQ8iBrhN/+OGHIWPHgJ3R3cIbuyOvl1d1kBNtxO7du9vxNGjQgF9//fUgH5EfSsv12GOTQNiaiHecaRkGDWL+7rvQca1axdy+PfPs2U7yHDrEPGoUc/nyBUTJyMjHC2Auy/P41SlBoixZ6Qr17dvXdI2EGNJVmjdvnmusR44c4dq1a9utzN1338179uxxhIFGO2PGyybK9ddfz9Bvd/gJ52Ql+k+NGze246lTZyR//LF7yGeeKSAAHofbtWNet87pf8sW5lattiNO8debMcnAr732mtOTT86UIKUsSOn6SBdIukJCDBH9lC6SdJXCcTJOwRSvY5wCOWrGZ7h2cEnj6aef5ipVqthpiMCoCI2W5EKp9C5aVKDSW1JY6XLNmsXQa7RaCua77mLevdsZMjt7FTdq1MjkTTDo1q1bqUjsjNVbZ0qQUpQHZqHMW1MqhfxhloqlQpbGYaaLu3TpYlcyedu/JYKjQe6bb77hfv362a3Uueeea6TigrzYh0KeESNG2GOZ0yBYWpxKrx2omIODB5mHD2cuV66AKFlZzM8+yyBxIIAQGlPVXLVqVfMM5eA5XBIHYvHukRIkgrKRLo68JS1iSBdoxYoVEcRQvNclS5ZAz/ACO+5bbrmFv/rqK0eA999/n9u0aWP76dChA2Oq2PiRCYJZeO1HqtLrSKCYk88/Z+7aNdDtqljxC3SpMFAJcpiqZkxVh0XioGCeP1SChFFEu9G36N+/P96k5UzllC6PdH1iOcMk2fgBstTytq9UqZJJpwJ03MeOHcuHgwRJLbnqs88+2/iRmbKrrrqKmzZtahMH6ymM9ZQwniwyL8uWMfK2C+kcwF81vvnmm3nr1q2OSAqTuD1G+2tSeF5YCeIo3tAnF154oV355C0pXZ54OuzX4jvuuMNOUwb0CxcudCR5EP2f3/3ud5iyzbT9Sddrzpw5Uan0OhIJcXL48I/8yCNPsXTdpCUtjymtMWPGuJJY/Ek3LBWdEiSMUmvZsqWpDIku5H//+9/cvHlzmwBXXHEFZqCcU1DZ2dnmvlTYcCcIwnjkEr3s3LmTe/XqZedNSLxgwQJHOCHxpZdeavzIBEYqOosgutUEr7niHBb+zC3ZM5VIhzEGZNnW0dSpU6lGjRqymAuB3uZQz91gZ6O+SF7D1YXMHLpm9vV4H6C1ImjKE0iM70Za0Ndff0233XYb9enTx04aM3xm+4xcAIHs66l4oASJsNSmTJlCixYtijBU5N4xxiCsk5Bsjb8PYuqYViVsXbEjwlvZHGOLin0tkQdC4rUQPPnrX/8Kpe0zCOs5juSTnT9HZqI4UcNxEYCHrgPde++9JC2L7MpNhBNSPPfcc0WSwqDdXBMiJctJ2r/5zW/MhsvC+VCCJKtUkpiuZVPX+k1iVuwt8slqQYKfvWwIaW2/ECR5r59ghPU4YgS8XgG9nr9wAVeChIuUx/x5vQJ6PX/hFqcSJFykPObP6xXQ6/kLtziVIOEi5TF/Xq+AXs9fuMWpBAkXKY/583oFtGbZvDCJEE3RKUGiQS+JYb1OECt/had/kwhZqZJWgpQKtuQHsiqgV9/QXs9fuCWoBAkXKY/583oF9Hr+wi1OJUi4SHnMn9croNfzF25xKkHCRcpj/rxeAb2ev3CLUwkSLlIe8+f1Cuj1/IVbnEqQcJHymD+vV0Cv5y/c4lSChIuUx/x5vQJ6PX/hFqcSJFykgvx5YWrV6xXQ6/kLKk7XQyWIKzzOm1lZWQQjCfSzn/3MeSPOZ2+//TY99dRTBEuJdkrWSrUXFuJgAdJ82GVnDgd+IYh+MBVcqiUcy3cPH330UQm+YncblkNo+PDh9heMP//5z+myyy4zCXihAsLsKqzE/5bkVyzUv/vuu/bDeyF/dmaiONAWxAU8mPcxd63CdvEa01swwmA0ReQzW/m8V745HzduHMEGsJ2O1YKI7kii3fbt2wmGGwimfQw5YJOLYLTOkY3jx4+bcy90Rx0Zi/TEst6ASqCuEAI1a4rRZ2Ix/yOWRuLtUOmLGIH7FcypiyWRYCcGs+vUqWPyhgrIII+xrRXsJx7HYj1l9OjRLHa7BBcx/QNxoCImUZfBkJZlHghdw3hkJe5xWrxQ+QMXqMXcj2XMTSrE7bffztu2bXMJUfpb6J4wuk+m4klaoYzACVGEMEIK8YMun+1frDNC0ar0GXAJKcSdOXMmi/0tSVf+evbsWQQLMU30CwiQWH4qVqzI6JK6xOzdW0qQMMsGXRhjIM16a8qvGEyLlS0qMRYndqasSi9W4gsbgROr8I8//rhNVjGYLXZ4xR6vWHG/5JJL7Eop9n4/++yzMJ+uZG/vvPMOW/bBpOKLCdTCFhPFAuXAgQNtwopw0DMwFR9rC5Ql5zZ2PpQgEWIJ+0/8y1/+0q6IoSpyJFFKpf/DH/7A8paViifdlVEQ4ShMPEi22d0p8SdmPyHr5khKDEnD8olRtBI/onAlSld5eXkOf5GcSBpiJ1jikz/pbsIelsN6o+iDSBfKMmAt1h4HDx4M/ZFiBEgiyUCS/SpBSlkA8vYMFsyRN6p0jyJxL730Ep9//vl25bv11luLGKyGkTgjtGNVULFUKIXm5kRrRJStMPVr4j7zzDN52rRpkFM77hbMcU/kGR588EHbSrx0MR999FGHiVEJIJYdg41uQ6A0pi2XI1NJOFGCRAF64T65dI+km4TZHddYRfEpuI/erFkzxhqHI4x0V0RYx6rkMMrGf/nLXyKq5KJwhSlhm4DSRVq9erUjnVAnYrFeSCWklGeCtcQiEwQSd6dOney4pXsnoj9+c0qQGJSodIdkFke6R1KppLsU6m1rJSXjGemOSCWERUJHpbdEc6zuinSTsMYQVTfp73//O/QFa9kVvnfv3kUqvJU3+b0LajnyHCIjB6uJwbeMuKhYureIC5OoPGnSpGIFSh2BU/BECRLDQhM9D+kmWd0hqZTFybFJ/1yIEuxkWlTkzKzw1157LYvATiycpCVTsxaJ3YR1xOh04e6iNUFgTduKFES045tYPFe841CCxAFhmfGBQWe7ootGhuhmFOc2btzoUJkSYZ5ohTuLS0v0PGAu1c6bjB9EvMfNzZ8/3zFWuvHGG30ntVbc8ytBikMmyusyIJ4+fTpbQjfSlxexz+DFvn3QZR46dKit8YE9XmZaVGaj4u1E5i1Y3LNz584sRA12IsIj5LZaNBkrrRIJ3DRySpA4F7Z0V0SzT9YspKLJbJBM68p0bPXq1c01Wei75557iijdxjlrZtwwYcIEe1pYpmeHDRvGn376Kcs4xVqTEd33F154wTFWinfevBK/EiRBJSEin7J2Yb2Nrd8rr7ySc3NzE5SL0Mns3bvXscBn5U3GK7IQKSRPV2cRRDcrolbE09WrV89sOATghBkqQotCWPwjdHWoSZMm8Uy6xLjRktHkyZMJgqCEMYnxLzuGsRJP0EwkEcJJd6fb3RNUA7B2QFjZTlBqkSWDRUjatGkTobWziRJZDP71rS2If8s24iezWpGIA/o4gBLEx4WrjxY9AkqQ6DHUGHyMgBLEx4WrjxY9AkqQ6DHUGHyMgBLEx4WrjxY9AkqQ6DHUGHyMgBLEx4WrjxY9AkqQ6DHUGHyMgBLEx4WrjxY9AvZWk5ycnOhj0xgUAZ8hkCEb6NQpAopAUQTEFvP/AUANRG0Zgz6VAAAAAElFTkSuQmCC\"></td>\n",
       "    </tr>\n",
       "    <tr>\n",
       "      <th>17</th>\n",
       "      <td><img src=\"data:image/png;base64,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\"></td>\n",
       "    </tr>\n",
       "    <tr>\n",
       "      <th>18</th>\n",
       "      <td><img src=\"data:image/png;base64,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\"></td>\n",
       "    </tr>\n",
       "    <tr>\n",
       "      <th>19</th>\n",
       "      <td><img src=\"data:image/png;base64,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\"></td>\n",
       "    </tr>\n",
       "    <tr>\n",
       "      <th>20</th>\n",
       "      <td><img src=\"data:image/png;base64,iVBORw0KGgoAAAANSUhEUgAAAMgAAADICAYAAACtWK6eAAAAAXNSR0IArs4c6QAAAAlwSFlzAAAWJQAAFiUBSVIk8AAAHY5JREFUeAHtXQm4TVUb/sxRMoQm/BIRkaGUoacrQ0SK0iOpNJn6ESrNPQ3KmMoQRZSkQaKiCBGpFGVOFPlLMl+iDFn/967T2vece/fd9+yz9z733HO+9Tzn3r33Wvtba717vWte35dv5cqVKj09ncQJAoJAJAIlS5ak/EKOSFDkThAwCOzfv58Kmpu0tDRzKf8FgZRHYNGiRRqD/CmPhAAgCDggIARxAEe8BAEhiJQBQcABASGIAzjiJQgIQaQMCAIOCAhBHMARL0FACCJlQBBwQEAI4gCOeAkCQhApA4KAAwJCEAdwxEsQEIJIGRAEHBAQgjiAI16CgBBEyoAg4ICAEMQBHPESBIQgUgYEAQcEhCAO4IiXICAEkTIgCDggIARxAEe8BAEhiJQBQcABASGIAzjiJQgIQaQMCAIOCAhBHMARL0FACCJlQBBwQEAI4gCOeAkCQhApA4KAAwJCEAdwxEsQEIJIGRAEHBAQgjiAI16CgBBEyoAg4ICAEMQBHPESBIQgUgYEAQcEhCAO4IiXICAEkTIgCDggIARxAEe8BAEhiJQBQcABASGIAzjiJQgIQaQMCAIOCAhBHMARL0FACCJlQBBwQEAI4gCOeAkCQhApA4KAAwJCEAdwxEsQEIJIGRAEHBAQgjiAI16CgBBEyoAg4ICAEMQBHPGKPwLffvtt/CN1iFEI4gCOeMUPgR9//JHq1q1LF198MVWpUoVWrFgRv8gdYhKCOIAjXsEjcPDgQbrvvvvoggsuoO+//57y5ctHP/30kybK7bffTjt27Ag+EQ4xCEEcwBGv4BBQStHrr79O5513Hg0fPpz++ecfuvPOO2nz5s2aMIUKFaJJkyZR1apVafDgwXTkyJHgEuMk+bPPPlP4iRME4oXA8uXL1SWXXKK4XOpfo0aNFHepIqJnoqhrrrnGCnPOOeeo6dOnR4QJ8sbwQloQp9pD/HxFYOfOnXTHHXcQk4O+/vprOuuss2jKlCm0dOlSqlevXkRc5557Ls2cOZMWLFhAtWrVoi1bttD1119PaWlpuisWETjAGyFIgOCK6BACx44do5EjR+ru0quvvkroPg0cOJA2btxIXbp00eMOhEQ3K7O74oor6LvvvqOXXnqJypYtS4sXL6b69etTt27dCIQL3JmmJMjmSmSnLgJz585V1atXt7pKbdu2VZs2bYoA5M8//1QPPfSQOumkk9SgQYMi/MJv9u/fr/r376+YYFreqaeeqoYOHap4fBIezJdrwwsyF75IFSGCwL8I8ExUxBiCB+Nqzpw5WfCZOnWqOvvss3WB5xksNXr06CxhMj/glkeBaNx66B93xxR3xzIH83RveCEE8QSjvJwZAdMaFClSRBfe4sWL61r+6NGjEUFXrlypmjRpYhVyXv9QX331VUSYnG7mzZunatasacng7phavXp1Tq9F5S8EiQqmXAqUnq5UpgKVSylxFe2bb74Z0Rrceuut6vfff4+QsWvXLtW9e3eVP39+XbBPP/10xeMSdeLEiYhw0d4cP35ctzqnnXaallegQAHVo0cPhXi8OCGIF/SCeveHHxTPfypVsaJS1aop1bGjUocPBxWbb3J5EJ1ja4CCPGrUKFWqVCldkDGOwHgiHZWBD27v3r2qT58+qmDBglp+iRIl1IgRI7ieiWy5oo1KCBItUvEKh4Em96XVxIlKHTumuEpV6rHHlOrUKV4pcB3PH3/8EVVrsHDhQsUr5brgYtxw5ZVXqg0bNriOL5oXILd169ZWXBj78IJjNK9GhBGCRMCRADfvvadU1aqRCQFJ0Jrs3h35PAHutm7dqjCoRoHPrjVAGF67sAorBtOzZs2KS+oxIRA+e9a3b19X8RqCyDpI4BPpUUawaRNR27aRgXlfEtWsSbwQEPk8Ae6wBsEljk455RTigTFxd4Z42lWn7K+//qInnniCzj//fOLVbzr55JOJp29p3bp11K5du7iknlsRWrNmDTVv3lzHh7TG4grG8pK8EwACvOeI5s6NFMwLbLzkTLxhKfJ5Atyh0MNVrFiRuKa2UsRrHNSiRQv65Zdf9LPOnTsTr1UQT+VaYeJ1weMRatCgAc2fP594MiCmaKUFiQm2AF7iFWPaupVo4cKQcKwq8+ox1aiBUhhAhMGIxLZ1kANb15csWUK8zhFXcmDVHS2YcTxbpi95lsw8cvVfCOIKrgADlyxJXNURPfMM8cakEDG4gNHs2QFG6r/oNm3a6H1TOPjE6xz+R+AgkScD9J6u+++/3wrllSDSxbKgTICLypVDJEENyPuViLsIedFVqlQpV5K9Z88eHS/Prlnx87qIvrbb52UFcrjIm1/AIUNJ4VW0aFJkI96ZsGst7J65SZd0sdygFXTYYcOI5s3LiOXwYaJHHknIWayMRCbOlR0Z7J65SbEQxA1aQYbFNC/6znz81HIYk/D0KA0ZYj2Si+wRsOtOCUGyxytv+Rw/HkovpnaNs3tm/OR/FgTsyGBHmiwvOjyQFsQBnLh6YVEQLsYFrdDLqf3XjiB2z9ygJARxg1a8wwppXCFuRwa7Z26ECkHcoBVg2EOHDmnp4Wputm/frp9hdVpczgjYdaeEIDnjlidC/Map/B//loWt+K7j7ta+TM/yRGZyKZF2ZLAjjZvkSQviBq0Awyre9IcNJQ+deaYVy6Hy5ak0381MwL1YViIT6MKOIHbP3CRZCOIGrQDDQqMgXKy7TgNMWp4RbUcGu2duMiQEcYNWnMMKadwBbtedEoK4w1BCJzECdmSwI40bCKQFcYNWgGGltfAOrh1B7J65iUkI4gatOIcV0rgD3I4Mds/cSBWCuEFLwiY0AnbdKSFIQn+y6BPn1FrkpZktnNz79NNPCXY/4u2gDLtYsWIExdfG2ZHG+EXzX1qQaFDKpTCGNLkUfUzRQklDy5YttaLqiRMnUqxHXWOJ/ExeQ8LuA1ZgZ70uLYgFRQ4XR48SV2s5BMo9b0OGvNRa2KF1+eWX66O2ONUHgzgXXXQRff7553ZBA3nGCuPItBqIQAiSE8wHDhDddBMRVqgvu4yocWOiBN7bBFMBUJeDD/vGG2/o3CUaaVhLIr3yyis6bT/88AMtWrTI+grQHgJlDdOmTdMaT6BEAaTp2LEj66TYaoWLxwW6eaY1gcqhmJxRkMUfITldly5K9eypFKvO147V8asaNZQ6cCCh8gsdtlDnz8SwFK3xB9X3N998c8Kk9ZNPPlFM4Ig0Ip0dOnRQ0Oge7g6z2tQnn3xSsYogHR7mDWDmgAtueDDfr/n8OSuonKig9xdpw++GG25wFY/hRXJrd4dGQi5w6tdfI8EBaaDJMAEclDZDNeYZZ5yhPyR3tRQbr1QwCxCuGRDqOtevX59rKWZ1Purqq6+2ChxUes6YMUM9/fTTvI3sFP0cGt0feOABrnsiK59fGX82lGNpYuSxgs4z8u634+6cYmtVVjph3u2bb75xHU1qEATq9OvWzQrOkCFKPfxw1udxfrJs2TIFtf+mlsPHZHU5ViqgeJktM6mSJUvqMFDMDAXNUNQcL4fCzlZoVeHChXUa0MoNGzYsQik0D4wVNLmD3MgLyI4aHDV5uGOza+rSSy+18svjE8Xm18KDxHwNNadoJQyWFSpUUNA2H6tLDYKgBWH7FIotGEU4Nr6iXnst4lE8bzLXqOXLl9ctRnZpgCr/ntxN5MGnLgBQ9T9mzBgFjelBOdTuMEtguino+rF9QQWF1dk51NQguSmkqMlRo4c7yOWxlUKeTbhOrKCblc2FB4v6GvZIHubKDt03yONpXsVqT1kpvjet+KlBEMDMllK5H5Bhb+PLLxUbsVCKaz3LLVigVPv2Sr37ruJSZz32+4I1/ukuSXif/JFHHlF8WCqqqGAcBkZiTMGCxnRec4jqXTeBliz5QqF2N/E0btw4omXLSRZqbtTg5n3U7Kjhwx3y/Pjjj6uiRYvqcPj/6KOPRo0FiPYaV3K89qHfR+t10003cW86U3c6PFIX16lDENQk3Pxzh15x51Sphg2VWrs2Eqp778VJ8NCPzQ2r55/3fRD/Ho95YMrYFBpoPd+yZUtkOqK8e//999lSwrmWrBo1hrDdvyhfdgiGstWo0c8s9wj/WupaPtZuCmpw1OSo0ZFn1PCo6VHjh7tt27apG2+80coLK7cO97a9/uKLLyK6pjAp7dY6la3gsIfJT5BVq5TiGttyaBkyfRzL7++/lRo7NmR+4F+iHOAuxctciPEBvTjU+k2bNrUKQO3atRXA9+r+5jQPGDCY+/1lWPYIHiMoHisoNkjjXjJgeuopxbNNpp44zHXKK1HX5k4xokZHzW7GJ6jxUfNnHqBjPIaJiOeeey5bcZnJBNuGbEY6i6xsBbjwSG6CsGUhLjVK9erlAhIO+g8PKtl+xW62e4f3/8s/DIxZQ7mrLgYi3c3jn14cvxk3lClTRrEpY9/HDbBwxpNeerIOWeaZTTVhQvTZ5okoVamSIUbIqFWm3lD0whxCooZHTW9aUExOoCWIxqE79hgbE4q1OxZNHJnDJC9BMHPB/VH98zCV+/38+brpNya98GF5wUsbgMlc+4WDywt96sUXX7RMjcVr5gmTX2wTU9cLIAoKfk4OjSzC4nfhhUotWpTTG978gRtqfGPVFpiie5VdK43wfg7o3aQ+OQnChVr3NfDFHZpqN0Dh493LYxTYvDO1X1W2BDWWu2SZB9cYMIdbXeU9SYpXcN1E5znsW28p7tJkzEE0a6ZU794ZYrnMKV6G0A7DM7anqcaPDzWeGaGCvbJrEdBChOOJFifzlHC0LY4fqU86gmxgO9mHeBpUV4cDBviBUYQMrAc8z4N31lxuEQXTrRh4fskzY9fwbJkhUJUqVeJmaiwikTY3IAiv4ylM1MGFEyT0JPf+YmoXU7wGN0z9Yt0nfMyCRcXJkycHMs5wynlSEeTnn39Wd/BiGsixtk6dUClwyr0HP6w9vMvTweG1m/nAsAk+hBchjxw54iEGf18FQTD/gMk5DOATiSAmp2gZwqeVgWe8tqWYNGT+nzQEwSIatj0A1K48hXsUM1Jxcph5Mf1pTOFmtgkep2Q4RgOCYFabd4DwQl9iEgQZwHgDuwTwHTE1vCXGKXBHMFx4GoLk6fMgPNfOdi/bEsx+weTXi2zjr1CRIoxxfFzDhg2JF+50ZNyHJt5iEZ+IY4jlySdDVhQS1WAVTwPTddddp3OGLfLclY0hl/6/4htBjpxI9z91DhKx5ZpXaNnG5dfEtTex2V/iLo7DG969EFf//v2JF7ssYdxq6GucZktkB4NV2D3ft28ipzLx0uaZID8d+pjGb7mApmxrRi9vrU2r0ifrXK458AYt2s3GXwJy3bt3Z/N9s4nXF4i3YMel9n722WeJB5ERB4CM/lycZkt0x8dMmOCJnsrESp8nE2y7jq6jT/7oTbdUXEzFC55Nf5/YSxO2cvNYLC3QXPKeHeKNdPr8MUjCY5BA4zPCf/sNGnRJk9I8MwRJ1BYENnjC3d13E+EnLjoEPLUg6w+8TQ1K9dXkQHQn5S9NnSt8QicVYIutNu7nw/No3cG3aNtfn9O+Y5vp2ImQRnOboNk+GjduHPEZBLZvWZB4Nknbwc42sM8emcnA2z1o//79xFvBiad8fY7NH3Ht2hEtXpwh68gRonLlMu7lyhkBTy3IjiPfM0H6RMRQupB9bX74n500dduVEWExL/vps0Vpz7eVCDWw0w+FcObMmVz7haq/8ePH01VXXRUhL8gbnmUhnLPGYNIYpTeEyQvdqyCxSWbZnghSulAV2n9sawQ+u4+up0L5T454hptiBcpR83JDaPvf39LB49tpz6EttO/Qdjq4/y/asGGD/mV5KewBn1qzBsdoQfjUXZhv8Jc7d+4kmBIux9VvIYx42RmCJGr3KnhUkj8GTwQ5v/h1PAbpQzWL30CF859Kx9Vhmv7b9dThrLdtkWtYOsPAuwnQf/JeXdBQ2LL7waiMmTniDWts6zJDzsaNGwnG6/GsW7duRqzv/+3IkFdmsHr0IJ7hC0ESZn7Ed4ySUaAngpQv2pguKX0PTf1fK241itLRE3/SpaXvpXJFatEfR1ZFhVfp0qUJPz78k214Xt/R5OHVa+Lt08SbAWnAgAE6PMYArCxA3/OZaVZeEsxskiFIuHy7Z9lmIhc9eNjGmkVCCcAYpEKFXExMHova0yAdea116s1023+W0Q1nz6Tb//M11SkR6vrUOrULpZV52hc40O/nFWtL1QxrytDjAQjnLdTUvn173cIMHDjQl/jshBgyhHen7J7ZvSvP3CDgqc52E1FUYT0TxMRSOH+wi3SIp1WrVoRWgjcO0oMPPmiiphEjRhDv3dF6pHgXqPXczwu77pTdMz/jTDVZO3diF8Re2rw5cVYzfSNIvD4mnzjT06q8w5NYA4iOFivpvCWd97gr4v08+r/f6TGthV0XK7xV8Tter/I++CCjewVZ2InD8w0J6QoXrsbpKs7f96KESV+eIwhvJad+/fppEvTu3dsiA1oU3i5NrFmDJk2a5DvAhiDhZDDPwknje8QpJJDVG+ncVqwIa42J4fIcQQAbawLRg3F0p4x6Tmj1Hjp0qEaVtffpbpifENt1p+ye+RmnyMp9BPIkQbAmwucuNHoYmJspYD6+aSlOxkDeT5e5tWAVPnoVnbUJ6lk4P+MSWYmDQJ4kCOBjVZaEaV/U4lg4NA5TwFD8jP9YI/HDYYEQC4WQa7a0ZyaMH/GIjMRDIM8SBFO/IAH+Y4ft5s2bNbo4FwK1+9CSfs899/iCuFlFL1u2rN4DBqGGIOFjEl8iS2EhZjHT/E8EKPIsQQAeq46h2267jViHrT6nYQAdNGgQYcCHbfAfffSReRzzf0OG8MG4jD9ihjPbF7lu43M9RFjYTBSXpwkCEJ955hlihcr04Ycf0lw+UQiHMyKs1U9fY8YLBPLi9uzZo1/HLJlxdqQxfvI/dgRatyaejYz9fb/fzPMEwc5aHHeFQ5cKXSs4VtpGNWrU0F0vdMG8uMvY8A5mxkw8kGUIIl0sL8gm/rt5niCAGIuD1apVI1g7GjVqlEYd50VeeOEFfY0ul+kS6Qcu/2CDJGSgS2eckScEMYh4+8+fi2bMyJDx2WdEnTtn3OfWVVIQBNvPWWeVxhDTuxhUwzVv3pyuvfZabXGV9VfpZ379waZJuPBxiV+yU1EOH/chXvdNuFX+pCAIChT2aUHDSXp6esQ+LWxNYXMDesevl4LHGhbpnXfe0VtamjRpwqf0Qsf0zOqvF9nyLvE4MnQUGFvzE8nlg/4fJCgtLS2R0hVTWjDVy6o/9Thk+fLl2sIqBKFFAUnwi8aBZNjnBS0m5ofThJkdtKhgLIKFS3HeEIDGJBz5x7Z8kIQ3b/PubWIjnN7kxvq2MUyaWHuLY83Nv+9hnxYG6thygnEJa+zT6yQ4BZidg/qgtWvXWkQAIXDCERsfwx1mxho0aKB/2GKPX6lSpcKDyLVHBAoUIJoyBZU18eKvR2E+vZ5UBAEm2KfFGsSJ9eUSG8LUK+7hWKGrZFoF/F+xYgVh20i4w/aROnXqaBIYMrDBmvAgcu0BAT7jxpMexPvlQmsevNZrOd6YTdglhEOjTZuGHi9dSry1iOi/bI/iyki1BtZ7QV0kHUHQ7Rk8eDCxUUli45N6wXDNmjUWKXB8N7Njbe0WGdBKgBxQEiHOXwRw3HfiRCLMl+zaxXoKihHxEJG7vpHx8KfjBd6MZwsXhu7xDFpa8E686qukGoMYSNE9qlWrFtkZj4d6HpDAtAy4xpFfccEisGwZpuOJW+xQPBhrYEaeP1OOjnvBPGUfalnQ6uBMC05c89JUFnLlKCzKAGYMkrR20qGBHdadKleurJUiw+44D+KZO+LiiQAr21MNGtzMA7rT+beOjXsq9fbbsaVgxw6lunYN2UYi6snWvyqzuempsQnL4S2jvDppCZJD/sU7YARgAoJVtbJtklOYGMS/oqpbt1VsJMd7xGxuXZUpc8u/coktazVRK1eu9C44TIIhSNKsg0TZckqwOCCADaKYbscpT5zV6dChA23Zsp7Gj6+txx1ek8C9Yp66n6zVz2Kr0VIexUMjfA+eH2bbkF7FR7wvBImAQ268IAAzFNB2CcUaWJPCXrj5rByYTWBTpUqVvIjO8i6OOWAnN+KECijuTjMBx2s9zdhuhDM8fjghiB8opriMgwcPasV90G328ccf65lDbP1ZtWoVNWvWLFB0sJN7+PDhhJlKNiNN+/bt02tgmInkbpLnuIUgniFMXQHcZSe2ea5r7WHDhula+6677tK1el82RIINo/Fy2KyK8z+zZs3iKeBz9eIvjBt17NiR2BZizMkQgsQMXWq/CHLghGXXrl0Ja0uNGjXSGmVefvll/Ty30GnHCyWY3sc5IWwtmj59ujawZM4HuU2XEMQtYhJeIwCVrzhIhrEAdi5goFyvXr2EQAc7ITBBAJ0E9evX19uGrHUNlykUgrgETIKHEMCgGA4bNaFAA0RJNAd1tbfccotOVu3atWNKnhAkJtjkJYNAIhLDpM2P/0IQP1AUGUmLgBAkaT+tZMwPBIQgfqAoMpIWASFI0n5ayZgfCAhB/EBRZCQtAkKQpP20kjE/EBCC+IGiyEhaBIQgSftpJWN+ICAE8QNFkZG0CAhBkvbTSsb8QEAI4geKIiNpERCCJO2nlYz5gYAQxA8URUbSIiAESdpPKxnzAwEhiB8oioykRUAIkrSfVjLmBwJCED9QFBlJi4AQJGk/rWTMDwSEIH6gKDKSFgEhSNJ+WsmYHwgIQfxAMYVlwPiQMZqaiDBA4yKcMdvtNo1CELeISXiNACwLw8EuPQwQQbPi0aNH9bNE+ANiwMrxhAkTdHKgRDsWJwSJBTV5h2A7fsmSJdSyZUs2pXZA6+aFRneo/sxNB+3uvXr1orp169KCBQsIBpNgAvyDDz6ILVnGDkKYaQS5FARcITB37lzFmtwtex2ssFqtXr3alQyvgbn1UiNHjlRsllung/UCa8NJe/fujUm04YW0ILHVK/JWGAJoRaDJffTo0brGRs2NGrxnz56+2+sIi9a6nD17tja5169fP4JK1FatWmlt7y+w3TavloiFIBbMcuEFAWhyv/vuu2nTpk3a/AA0Lo4bN06PT7hm12MVL/Lt3l2/fr0mQ9u2bbUe3urVq9OcOXO0CQZc++GEIH6gKDIsBFBjo+bGIBk1OWr0/v37E2yHoKb3w3G3SZPwwgsvJO7e6VYC9kgQZ+vWrf2IwpIhBLGgkAs/EUANDmM6qNFxDUtQqOlh5AY1fyzuOJu7hfUozJrhPw8u9IAcrVZQ9kiEILF8KXknagRQo6NmRw2P1mXevHmEmr93796EliBaB+M40NDeh21J470WLVrocc+YMWP0uCdaOW7DCUHcIibhXSOA8QlqeNT0mIJFzY8BvWkJ0DJk52Djo02bNrrrtGHDBv0OpmxBNEwrB+2EIEEjLPItBLAmgRofM15oAcxYAi0DWohwh7ELZqVq1aqlu2klSpTQtghhPQpGQuPlhCDxQlrisRBAzY8WAC0BWhG0DOiKoaXA+GTs2LFUpUoV3S07ceIEde/eXbc+sGZrVvAtYQFf5MOCCOJIS0sLOCoRLwhkRQDbUzDgfuqppyg9PT0iQNOmTTVJYrUOFSHM5Y0x2SYtiEvgJLi/CBQuXFjbOcf4pFOnTlo4zLrNmDGDFi5cqAfm/sboTpoQxB1eEjogBGAxd9q0adp8M3YHt2/fPqCY3ImNnyFrd+mS0CmKQDxmptxAKy2IG7QkbMohIARJuU8uGXaDgBDEDVoSNuUQEIKk3CeXDLtBQAjiBi0Jm3IICEFS7pNLht0gIARxg5aETTkEhCAp98klw24QEIK4QUvCphwCQpCU++SSYTcICEHcoCVhUw4BIUjKfXLJsBsEhCBu0JKwKYeAECTlPrlk2A0CQhA3aEnYlENACJJyn1wy7AYBIYgbtCRsyiEgBEm5Ty4ZdoOAEMQNWhI25RAQgqTcJ5cMu0FACOIGLQmbcggIQVLuk0uG3SAgBHGDloRNOQSEICn3ySXDbhAQgrhBS8KmHAKWZkWjrDflEJAMCwIOCOSH3QVxgoAgkBUBNilN/weyQS098wGixgAAAABJRU5ErkJggg==\"></td>\n",
       "    </tr>\n",
       "    <tr>\n",
       "      <th>21</th>\n",
       "      <td><img src=\"data:image/png;base64,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\"></td>\n",
       "    </tr>\n",
       "    <tr>\n",
       "      <th>22</th>\n",
       "      <td><img src=\"data:image/png;base64,iVBORw0KGgoAAAANSUhEUgAAAMgAAADICAYAAACtWK6eAAAAAXNSR0IArs4c6QAAAAlwSFlzAAAWJQAAFiUBSVIk8AAAISFJREFUeAHtXQmYFMUVfgvCynIjyCkQbg0CCkaQKAhqJOCBKIdgODRBUBQ1IaJyI6BBObwVRENMjIDRCKIEL0RBEZBLbgG5PFAWUHFBqLy/xurt2WN2ju7p7pn39pudnu7qquq/6nWd738Zq1atUocOHSIRQUAQCEegQoUKVEyUIxwU+SUIGASys7PpFPOjffv25lC+BYG0R+Ddd9/VGBRLeyQEAEEgAgKiIBHAkUuCgCiI1AFBIAICoiARwJFLgoAoiNQBQSACAqIgEcCRS4KAKIjUAUEgAgKiIBHAkUuCgCiI1AFBIAICoiARwJFLgoAoiNQBQSACAqIgEcCRS4KAKIjUAUEgAgKiIBHAkUuCgCiI1AFBIAICoiARwJFLgoAoiNQBQSACAqIgEcCRS4KAKIjUAUEgAgKiIBHAkUuCgCiI1AFBIAICoiARwJFLgoAoiNQBQSACAqIgEcCRS4KAKIjUAUEgAgKiIBHAkUuCgCiI1AFBIAICoiARwJFLgoAoiNQBQSACAqIgEcCRS4KAKIjUAUEgAgKiIBHAkUuCgCiI1AFBIAICloepCGHkkiCQdAQu2nIR7T6+m4rzH6RPpT40uvpofZzMf6IgyURb0ooJgeWNl1PVU6rGdI/TgaWL5TSiEl9KISAtSEoVZ2o9zGXbLqMS/AdZ0GCBJ62JKEhq1amUeppFDRZ5ohR2EKWLZUdDjgWBPAiIguQBRH4KAnYEpItlR0OOfYPAooaL6NSMUz3Pj7QgnheBZCAvAquOrqLya8rTqP2j8l5K+m9RkKRDLgkWhcDz3z5Px04eoxyVU1RQ16+LgrgOsSQQCwKKFM3Lnqdv6VahWyy3uhJWFMQVWCXSeBFY9sMy2ntsL9XJrEPnZZ0XbzSO3ScK4hiUEpETCMzNnqujubbCtU5El3AcoiAJQygROIWAUooe3/S4ju7aiqIgTuEq8SQBgZH7R1K1ddWowYYG+tNpeyfHU/3oo48oZ1cOZW7OpPOzznc8/ngilHWQeFBL03um1ZpGPSr2cO3p587l7tVDRIPvGEwZvTJcSyeWiKWLFQtaEtZVBObNC81eXXutP7pXeFhREFeLPLUiH75vOLXa1Ep/Xj/8uqMPt2LFCtq5cyfVrFmT2rRp42jciUQmXaxE0EuzeyfWmFhgF2vqN1Pp6+Nf0zUVrqFWWa3iQkV3r/jObt26UUaGP7pXeBBRkLiKU26yIzBq3yg6fOIwTfxyItXNrEuYosUsVCwDbaMgfupe4Rmli2UvaTmOC4H3Gr1HQ04fQjVK1qCdOTtp8leTqfWm1pQ5L5PuuOsOWrZsGWEKtzBZtWoVff7551S9enVq27ZtYcE8OS8K4gnswUt0bPWxBXav8CQtSrWg6bWm056me2hp46U09PShlJmdSccyjtHUaVPpggsuoNq1a9PQoUNp6dKl+ZTFtB7XXHMNFSvmryqZ8c4772jVbt++ffBKTXLsWwTQYmBdA5Ufn127dll5RUuBsQa6UxdeeCE1adKEtm7dSlwXyS/18N1339X5FQWxik0O3EQAs1Rz5szRyrJjxw4rqfLly9OhQ4eobNmy9O2331KJEiEbdCuARwdGQfzVnnkEhiTrPgLnnXcePfjgg3qssXLlSrr77rupQYMGWjmQ+pEjR/QU780330yLFy+mn3/+2f1MRZGCtCBRgCRB3EOgVq1atHfvXqpatSp99dVXVkKVK1emq6++WnfDOnbsSKecktwJV2lBrKKQA68QWLdunVaOKlWq6O81a9bQiBEj6Mwzz6QDBw7QjBkz6PLLL9fKM2DAAJr/+nzKOZ5cIyrpYnlVOyRdPSYBDGgpihcvTs2aNaOxY8fSZ599RuvXr6fRo0dT06ZN6bvvvqNZs2bRFQevoKyPsqjvrr40/zArSxIsDqWLJRXVMwTOOuss2rhxIy1atIguvfTSQvOxadMmPbifXGMyHWpxyApXrng5urLCldT/tP7UoUwHfd4pTl/TxRIFseCWg2QigFbi17/+NZ122mn05ZdfRj3G2JqzleZk82zYwbm0+sfVOsvFMopRdvNsKlusLEFB5tSbkzDhnFGQ5I58klkCkpavEcCULwTdq1gG4A0zG9I9Ve/Rn+3HttO8g/MICgLlcENEQdxAVeIsEgGzep7I3qv6JevTsKrD8qXlJKevKEg+eOWE2whs3rxZD8IrVqxImMJ1Wpzk9JVZLKdLR+IrEgHTvbrqqqt8s3JeWKZFQQpDRs67hoDpXl133XWupeFUxNLFcgpJiScqBLApEQuC2IN1ySWXRHVPLIGWNFoSS/Aiw0oLUiREEsBJBEzrceWVV1LJkiWdjNqVuERBXIFVIi0MAaMgQehe4RlEQQorSTnvOAKwGoT1YLly5eiyyy5zPH43IhQFcQNVibNABEzrccUVV1BmZmaBYfx2UhTEbyWSwvkx07uJLA4mGx5RkGQjnqbpweT2k08+oTJlyugt7EGBQRQkKCUV8Hya7lWXLl3o1FO9d60WLZyiINEiJeESQiCI3Ss8sCwUJlTscnMkBMBssn37dnr11Vc1wwkG5r///e8j3eK7a6IgviuS4Gboiy++ILCXYKyBb5AzZGdnWw8EIgbYndetW9c65/cDURC/l5BP8wcjJ6MI5vubb77Jl9saNWpQixYttMLg+u9+9zv64IMPCKQMQRBRkCCUksd5hE24UQLzDSaSvIJK36oVs7/zBzQ/+IaCQEDrc9FFF9Gnn35KGKi//fbblJWVlTcK3/0WBfFdkXibIbCJYDPh6tWrre4SVsDzCjYbtmzZMkwZInWdQAy3cOFCTUMKxsXu3bvTK6+8EpM1Yd48JOO3KEgyUA5IGugCgZ8qL9E03vTnnntuWOvQsGHDmN0UVKtWjd544w1NUL1gwQIaOHAgzZw509foiIL4uniSmzmwi0A58La/4YYbrNYBPFWg5YlHtmzZonl4b731Vq0QjRo1IihHhw4d6Nlnn9WM7uPHj48n6uTcA/JqfEQEAd4CAiJzNW3aNMfA4AG5Yoc4ilnb1UsvvWTFy0qimKxBp/fYY49Z5/1yYPRCFgqT8x7yfSo//fSTHiMgo127dnUsv3B9MGnSJDp58qRulQydDtZDnnnmGZ3OkCFD6OWXX3YsTScjEgVxEs0Ax/Xmm2/SDz/8oGefzjjjDP0k8BmIAXWiMmzYMLr99tspJydH0/ysXbtWR9mvXz+aMGGCVp7evXvTkiVLEk3K8ftFQRyHNJgRmjc4nNgYgc0GWgBM8yYqU6ZM0TNXcHXQqVMny1/I8OHD6ZZbbiG0YCBxAOWon0QUxE+l4VFesMI9f/58nbrpXmG9Avbjp59+OoGeJ1GBY87Zs2fTxRdfTPv27dM7euEPBDJ9+nQ9kMeqO8iqd+/enWhyjt0vCuIYlMGNCOMCtBKgAm3cuLF+ENOiQGGc8joLG3SsfTRv3pzAtwvDqaNHj2q3ay+88AK1a9dOs7xDSQ4ePOgLQEVBfFEM3mbCKIO9e1XQOSdyCXNbLBhiURHOPXv06EEnTpzQFobY1Hj22WdrdncoD7pdXosoiNcl4HH6PK2q3+rIhlEQrF1s2LBBd63c8BkIH4VYMARx9WuvvUbwKgXB6jyUBw4/sV+rV69eWnn0RY/+iYJ4BLxfksVbfP/+/fSrX/1KbypEvkzrgbd4LMTSsTwTunIY92CVHo5yRo4cqW+vWbOmVp5KlSppxcUA3ksRBfESfR+kbZTBDM6RJXPOtChuZbN169b073//W6/Sjxs3jp588kmdFFbu0bKUKlWKnnrqKe1Ix608FBmvWTH0ywqm5CO5CNSrV0+vZrP/cp0wzyDple/SpUurH3/8MSmZ4f1YOg+8nUWxYlhp8phE54UrseLtKNb5ZBwYvZAWpMhXSOoGwFQudupiE2GbNm30g6L14Aqo1yrwBk+GwP8gWhAM1nk7ipUk2BcxmIfwVhX9nex/slkx2Yj7KD3TlYITG1MB//Of/+gcut29ygvDfffdR7/97W+1n0JzDRaK8KnOrRkNHTrUnE7qtyhIUuH2V2J5lQG2IO+//77mzO3cuXPSM5t3xszOhJKs1izvQ3vTbuXNhfxOOgJYJce2DqySm4qJdQh0c8C6jvUKr8UoiJdEc6IgXtcCj9I33StM5ZYoUULnwpyzz2h5lD29or58+XI9DewlE4ooiFc1wON08yrD4cOHafHixXrKFZsGvRa0HpgsgHJ4absuCuJ1TfAg/T179mh7cwx+wTICwQr2sWPH9EC5SpUqHuQqPEk/dK+QI1GQ8HJJi18YnOPtjE2BZvCLsQje1Gbbh5dAYGX/ww8/1BSlXkwW2J9dZrHsaKTJ8cSJE/WTgobHCGw/YDDlB5k3b542ooLdCMiuvRRpQbxE36O0DQED24I7Ygzl9GP4pXuF5xIFcbp0AxAfpnebNWtG2LVrbDL8km1Qk2ItBjy+yJvXIgridQl4kL7ZVl6nTh3d1+/Zs6fn28oNDJhdA8EDJg9AP+S1iIJ4XQIepQ9KUGOT8d///pcGDRrkUU7Ck/VT9wo5EwUJL5+0+tWkSRNrWzkoeEaPHu3p84PZ8b333tNbXbBR0Q8iCuKHUvAwD9jFa2wyxowZQ08//bRnucH0M7a6XHrppdq60LOM2BIWBbGBka6HGAwbY6XBgwdrhzdeYOFHL1SiIF7UBB+medNNN9HYsWP1Gxy24LAJd1LY+ErPTk2ePJmuu+466tOnT9jEACiAwK6CfWF+2Opinl0WCg0S8k0jRozQnFVoTTAGYCtDgvlrrIJZqI0bN2pWRjAzfvzxx7Ru3bowhYAjz0cffZQqVKigowcdEPi5sLrvBA9XrHkuLLwoSGHIpOl5VFp4j0KFxVQrSB1ApBBJsDUEimA+cLIDhzl2AfnDOeecQ+effz795je/0ezuRjkQznSv0Lr4STJge4sMGZsAP2VO8uINAuCjwkAZLUjTpk1118hemZEr2JPce++9hC3pBTEhYo0FymAUAs52zL6vvE8FkjgwOEKgnKAD8lrQ3YNIC6JhkH92BND9wdoITGCx6o4xAXyHYHXbCPZLmbc+Fh7hcs0oBL5NhTfh7d/Y84VWBl0vtDpwx4buFZgd/aAc9ryKgtjRkGMLAYwDsJAI8mqwroN9HYQKxnYdbO0Yn4DfCp/C6EkxHgEJHZQBrQ2+8RvTuXZBvFjR95tIF8tvJeKz/KAyoyUBsTRI3DBGiSRw7mkG5vhGS/H999+H3YKZKuwFM90vfEdSsrCbk/RDulhJAjroyaDbg+4WtsNj9y+2qNxzzz36sVDxoQB2hSjI+y1YG033CwN0+DtENy4IIi1IEErJB3nEJkLMMKHLBIJpCFoX/LYLumb28QgUwg8WivY8RnMsLUg0KEkYCwHwZMHZJloPrGlA0FVCa2BaB3zH4/3WSsSHBzJI92Gh+DVLZgEPU7gvvviiXtewz2z5Nd+J5EsUJBH00uxesxUdW1JAPJ0OInux0qGUHXhG7JXCVnR0q/yyFd2BxyoyClGQIiGSAEAArItYzOvYsaO1fyodkBEFSYdSduAZsXIO6datmwOxBScKUZDglJVnOYXrZsO6CCb4dJKUUxD2Vc+rtOFFiGl7Jg0UiRMBeHsC6yJ4tCpXrhxnLMG8LeUUJJjF4O9cp2v3CqUiCuLvuul57rDz9s0339SbEZPtVMfzh+cMpOQ6yLZtRK1a5cKL3yLxIfD666/T0aNHqW3btgT3zekmKakgDRoQb6LLLcpftg7lnpCjqBFI5+4VQJIuVtRVJf0CwrJwwYIF+sHTsXuFBxcFSb96H/UTY+yBLe2tuL+K/VfpKCmnINxdZlJmIvu4g3dHEHMGeC4tWhDNnp2bjTvvJDY3zf3ttyPTvfLSR6DXmKScggDQ4sWJbr3Va2gLTn/UKGLrvIKv+ens8ePHNS0p8pRuq+f2ckhJBWH+AN5UR8Ru7nwnTFxI7BLc9/LWW29pM1uYxjbArEeaSkoqCMqSrUOZCI24D+2vkh06lNhElWjlSn/lK29uTPcqnVsPYJKyClK7NtHAgcSM5XmL3tvfGAsxcSENGUJsruptXgpLHYwjII6DiIIUhlKAzrNDInr4YWIqmfBMoxKCYnb37tB59ltJU6YQMYl4UoSppAh7+5icMEyYQ43NVIlZ1XNPI/8DBhDt2pV7zqsj2H0cOHCA4B4BpA3pLIFuQb74gqhHD+JNdER33UW0alV4UWKw/vjjREzcp4W9HxNmjti8mtq1I1q9Ojy8U78+/zykGPCwzGYUxN35fDJuHLEfjNzT//gH0axZxFxToVYPs3FeCEimDWtJurceGn9Qj+ITJPn++xNq5MiTqlQptAlKZWUpdf/9Sp08WfRTzJypVJUqofuKFVOqf/8TaseOH4u+MYoQBw78qAYN2qYyM0Pxly2r1IMPKnX8eO7NOTlK/fBD7m9ztG+fUr17h+7DM9WurdRLL5mr7n7zdnb1z3/+U/FiIGOZxZiS/gwfPtzdhH0cu9ELMgc+zmtY1tjZiypRog4X4DlaOXr1Umr37rAgRf7IzlbqrruUKlkyVCEzMr5R48c/pHJQe+MUVLBSpWpynjL4s0H17avU/v25kUF5//53papXD33sSpMbSqmlS5U699xcRWnfXqm1a+0hnDlmE1o1a9Ys1aVLF1boTM5zSCmYIZHzWF3/Zh+Batu2bc4kGLBYjF4ERkE+/fRTxfYIVkGWK9dRV6ZEcN+yRal69VZznG/x5xRVv359xfxPMUW5evVqxcyDVr4qVmytFi9mDbTJihVKtWmTW+k7dozc2p04odRTTylVuXLonuLFlbrlFqW++84WaRyHe/d+qdi1gWJiasVs61aemfZTtWvXTk2fPl3t2bNHx9yjRw99nTmuFNuCxJFasG8JjIKw3zp18803KxQi3nJMQqbYTZjimRbHSuB///ufYhZzq8JcfPHFas2aNRHj50GsGjhwoJWvqlWrqpncf2MiNeu+r75S6sYbFYcJVXS0HmhFbEGssAUdHDyo1G23Ka7MoftPO02p114rKGTh59C6cr1XZ5/9HT/fz/zpr5+TyRcUsyWyIj6l2PVyvgiYalTVrVtXh/3LX/6S73qqn/C9gvBKrpo2bZpi2n2rQO+44w6FgnNDmJBAMbWmYnZxnV5xfm1DAb7++uuw5BDukUceUcwRZeXrzjvvVOjHG8nJOa4GD35blSv3E4cJdeWGDVPqyBETIrbv9euVQquDuPjFruX225UaMCA3nldfVWrEiNzfjz6qVOvWSnGPSd+He4mOqpYtJ6jnnnuOW6Oim6MPP/xQtzTodjG7e27kaXDkawVBYZx11llcoKF+MTtyUeyxKCnFwr4qFDOX8zinhE6fqf0Vuw3T3Qym6Q9raQrKF/JevfqZv+R9gurcWSl05ZyQZctyu1lQkDJllPrgg1DMdgXZvDlXKTCB0a2b4kG4UocPR84FO8vhyYHaavbs2VbA+3n2A+VQrVq1AlsaK2CKHRgFiYubd+3atcRvd2revLm2NGNs+P2U+IebesIKLr+1uUxIb3F4mBcI4GQy2bJ582aeEr6TYDAEAR8U9idB6tWrx+spU8L4oXbs2KHDmwW2smUb0qRJL9PgwU31PU7/w4o87JewlrJiBfG29JANDHO6aZk5k9iVGbFLM6KsrOhSx+5duEDjmSxNSg33BuDeveSSSzBW1deAR2GuDqJLJRihDDdvXIN0Bs56u/PjOn6MAeQDDzyQ0KySUy+0hQsX6nEPnhNdDbxR2U7Cip5NUtV9992nmK1c44CZn2TkHS3IO+8oNWSIUlOmKGVvQazMxXHQt29f/Rz88rOekxnbecKgsj7/0EMPxRFr8G4xLQhvfIhd4DyFB876rfqHP/yBSpcurd8qeLPE+/mcV9f+watl3PfXLr/8Qm2JN+oTTzxB2PLNMz3WIhpQg1sA+MzgmR/93MBi0qRJSTVNvf9+YhrQ0NaV2Esy/x3w/8FjD+JJCuLBOfHMlnZ58Oyzz3KL2Y2GDdvFLft6PnanZcyfI4/PGE2JVceZflK/Ufr37x/rrfnCY0Buxhx/+9vf8l33+gQ7uNfPypxQYVlBv5yLT7FBkUL/PZliWhCk+coriscI4YP0RPKycuVKXiMqqZ+NXwJWVFdd9RifUzz58GXcEw5WZD4/MHoR91YTbmp5q0RJ4hkR3V9NRM/xhv7ss8/0mOO2225LJKqk3vv888/Tv/71L+1WzMsWj10Isqs05x4dLg0mTpyoIxzAG8T27dunj2fPvolbk2/o8OGqvrW3cQ6FX2IymhKPQt999936LdOGV8Hs8/+xxIUV3UqVKuV7W8USh9thC2tB3E7Xy/hRnty95HJ5UtWosZDXnUK5wWQiZsbQkrzwgpc5dDdtoxdxtyDQL7gBBhUMfGlj/BCPjGITO56T1zMlXsxWxZNnP92DXenYEOm0YCyJFrJ48S7cglzOY6tQCrzBl2cwQ8eDBhFhY2YqS0IKUqZMGT0oBUDcmuRz1lgUcOhW8dYHPTCfOnVqUcHlegEIYDdz9+4FXHDgFFw5z51bgWNSBFNhs23/ppuI3bERd7WIHnnEgYR8HEVCCoLnuuGGG7QLLvRTJ0yYENOj8sq4ptTHjFi62x3EBJwtMDiH3eQdvvrq0jyblcHlRHT99UTMY61lxgzSSoNWJJUlYQVBU4ypQHxjUQ/TtdEICJF51ZkXsyrSmDFjorlFwniEAKaSYee/c2fIShPZKFcuZLfCnQBtw/LLGqpuVWCfkyqSsIIACHgyxRoAbxfXq8lFgYMV6btg4cQyevRo4v1PRd0i1z1EgDcR8GwdUdmyoZV7XhIJExiu8aRmSoojCgJksEDGq8jaExF8SUQStDhbt27lN8+ZvBWDaT5EfI9A/foh60xkFDPxdt6xP/2JCErjB3Nhp4F0TEF40YzpbEJ8Nlhph7uugoS3r9M42JuyoEvG20oKCibnokaAHaIQPu5Lnz7EPQUiJnyn5ctz0ytfHi9IIi72lBPHFATIDOUddOBQwuzU4zAGL0CgRPBY1LlzZ735rYAgciomBNjAnrrGdEcigTE4550o1Lt3eCyw84fMnx/6TpX/jioIVtbRKkAwtgAzhl2wv2cGI4ydsViJF3ECAew2XuhERFHFgfFImzZsWJyRPzhv4+IJl/zng3zGUQUBEFjsYzsJZhI5yMRtzNxmE7Qw2D59K/OCNm7c2HZFDlMBgVq1/Ev5Gi++jisIMoJFP7QSzzzzjN4VinOw88Aee/i4GzlyJE6JBBgBLBKiGA1NkXkUcJEtWWJ+Bf/bFQUB4RhaCTD0YcCO6V9snYZggM5mtMFHLs2f4MYbUZYhlshUhsIVBQFg2GPFBAsElr5+/foRLO7OZldPf/zjH1MZz7R4Nu4YaGJwLBaixUhlcU1B2Jab2PpOY8dcVvobXS8YRIm4hwBabexMwCzi/v37HU9o40bMVoaiBccwWx+ntLimIEDtRm6HsT7CG5OpJRPSdujQIaXAxG5XZjjRPsT98mBYgMUMIiwda9asSczZpe3ndzmwigcf9D17EjE7KfcKiHr18stTu5cPVxWEuay0uSrGJMy/5N5TeBQzZuVg4MXWkHoHgUfZCEsWWM9lxyhs/UhsJ8/k3R/o7T9169bl/VTn8a7rB2jp0t1h90T7489/JmK+DmrUiAhTumkhxjDEXfOTYMcOtkWuDJqR0P4kPCuneBeyvobr3EIyTagLPKH2RPMcI118CmI/ZP+CzO/7EnNp9WCKoDJWPonqqGbNlBozRilwbkUjsLzlZDRdK1vkprwYvYiL1STl0cnzgIYbCuyOsKI8bCOYApEcEx2EEc6BCRKMkG4KOHNhI28UBER2YCSBDbmddcXkgX2ds+36K8zr1Y8ZWMbpyo4Kj0+TJkrde69Sq1aZ0OHfYCMFqyPCPvxw+LVU/SUKEkPJgoUQNDimMoKsgVk+wuhPEYa7WxbnLRgheVdBgW/2GJLOFxQMjqACNaQKoEgCuZ3JG75BPdSzZ081Z84cZpLPTyUPql1mM9K0qIb/1ygLWhb7LSfY1JaZWLVydOoUPW1qvowH7IQoSBwF9vHHH6sLLrjAqoxMbqDef//9sJjAANmJa5KpsI0aNVLz588PCxPPD3ARg5OYrfx03GjNwCjDM1U6Oia6U2ywxtSiLa20kYdS7CMCbg1eYANyOz2qyQM3gOqttxRTpYZY56EwNhZVZmsJKQdYUwqg8DXRpNy3KEgCRQpXB2eccYZVEbt376527twZFiMzEHLXpYkVBkTRGzZsCAsT7Q9QntpbsAsvvFCBmqcw4TUnBYI3kGmwIZuVB6JMdq0wV7HXA8VcGfmEeRq4xQs/jd/M4Vdo9ys8dOr8EgVJsCzZE5Pi6VTL4QyYFcGwiIGxEfB98dqPRXSN7hDvMODKWUDtNDfZvrdv3666du1qVXCeidKDbluQIg/Bigiy7ebN23M8cHkwiz8hxnj2gqBmzFAWYwm4tiIRYheZWAoFEAVxqDB3s3+B66+/3npT16hRg10c/D2MBgmuEtgwTIExHt2eOnXqREwdXaFhTAdvHNtgBgoTBRhoJyL795/Qfke4MWNy7lDXCcryxhuhWCMRYieSbhDvFQVxuNTArMimx1oBoAQ4hvsAu6znOVV4dGLff/bT1jHGGbzBU8HXCOJA94i36SgmxLDCOHUA7wfsBUHBy5pp9KAgkyYpdc45SmFs4hTfr1N5TmY8oiAuoA2yNbQevIJtKQpaF7QyRQnWVFq0aGHdB69Vn3zySVG3OXrd0Jk6TYjtaCaTFJlREFdX0vktmFYCZhfQIMF1AiwneQaJeECvbV+wPwoeZPMKWGDgTbZ9+/bEbuaIu1/04osvagJvbM/xQrCFDhsSf2Ec9SILvklTFMSFogDbPbb1b9q0id1U99CKgf1R2AYChYEcOXJEk+1hmwqv1GuG/PHjx1v3uJCtqKMEewkozlLNOjBqAGwBRUFsYDh9yN6awloD7mqxLXdvbbePvVHsR0RvdOQVcNqyZYumcsX+KT+I04TYfnimePIQl4epeBJK93u460zPPfcc/fWvfyUwu0Datm2rrS/ZfUK6w+O754f1K0RaEA2D+/8wPuGVb808Cbt92OsvXbqURDncxz6RFISUKhH04rgXhN/wTCUSDASkBQlGOUkuPUJAFMQj4CXZYCAgChKMcpJceoSAKIhHwEuywUBAFCQY5SS59AgBURCPgJdkg4GAKEgwykly6RECoiAeAS/JBgMBUZBglJPk0iMEREE8Al6SDQYCoiDBKCfJpUcIWHuxzO5Fj/IhyQoCvkSgGFjYRQQBQSA/AvBj8384WeE7qhYWngAAAABJRU5ErkJggg==\"></td>\n",
       "    </tr>\n",
       "    <tr>\n",
       "      <th>23</th>\n",
       "      <td><img src=\"data:image/png;base64,iVBORw0KGgoAAAANSUhEUgAAAMgAAADICAYAAACtWK6eAAAAAXNSR0IArs4c6QAAAAlwSFlzAAAWJQAAFiUBSVIk8AAAHj5JREFUeAHtnQe4HUX5xicQmlICKgRDEwiiiAGJSBOQAEGQoqKYIAoBpYk0Hw2CEEPLX3oVkKZEhKgUS2wBogRUVHpRMFKkgxCadOb//uY6e8+5Ze8pc3bPOfm+57n3bJ2ZfXfenfaVYTfffLN/7rnnnIkhYAhUIzBixAi3gJGjGhTbMwQiAvPmzXPD487mm28eN+3XEJjvEZg9e3bAYIH5HgkDwBDIQcAIkgOOnTIEjCBWBwyBHASMIDng2ClDwAhidcAQyEHACJIDjp0yBIwgVgcMgRwEjCA54NgpQ8AIYnXAEMhBwAiSA46dMgSMIFYHDIEcBIwgOeDYKUPACGJ1wBDIQcAIkgOOnTIEjCBWBwyBHASMIDng2ClDwAhidcAQyEHACJIDjp0yBIwgVgcMgRwEjCA54NgpQ8AIYnXAEMhBwAiSA46dMgSMIFYHDIEcBIwgOeDYKUPACGJ1wBDIQcAIkgOOnTIEjCBWBwyBHASMIDng2ClDwAhidcAQyEHACJIDjp0yBIwgVgcMgRwEjCA54NgpQ8AIYnXAEMhBwAiSA46dMgSMIFYHDIEcBIwgOeDYKUPACGJ1wBDIQcAIkgOOnTIEjCBWBwyBHASMIDng2ClDwAhidcAQyEHACJIDjp0yBIwgVgcMgRwEjCA54NgpQ8AIYnXAEMhBwAiSA46dMgSMIDl1YMklq0/+5jfOffaz1cdsr7sRMIJ09/u1p2sSASNIkwDa7d2NwPDufrzmn2799XvTeO4558aM6d23re5HwAgyxDu+6abeCxiDXHBB775tdT8CpXWx3njjje5H156w4xEonCDPqZ/yWU0FLbTQQm699dZzDz74YMeDaA/QvQgURpC33nrLnX/++W706NHuxz/+cUD05ptvdu973/vct7/9bffyyy+3HcrPP19dpPHjnZsxo/qY7XU3AoUQ5I9//KNbX6PdL33pS+6pp55ym266qfuNOvQTJkwIxJgyZUogyk9/+tO2Qnu4RmhXXNFbpOuuc27ixN592+p+BFpKkMcee8x94QtfcBtvvLH729/+5lZccUV32WWXud///vdu6623dpdeeqm7/vrr3brrrhu6WjvvvLMbN26cu/POO9sC+YUXdu6AA5x78sm2KI4VogQEWkKQ1157zX3nO99xa6yxhrvkkkvcIoss4o444gj397//3e2yyy5Vj7nJJpu4v/71r+6cc85x73znO921117r1llnHffVr37VPfvss1XXFr3DSvr++zu3zz5F52z5tQsCyQkyc+ZM94EPfMB94xvfcC+++KL75Cc/6e6++2539NFHu7e97W0DPvcCCyzg9t57b3fvvfe6r3zlK+GaM844IxDsvPPOc4xfyhI9RmhBpk8vqwSWb5kIJCPIfffd57bbbrvwx/b73/9+97vf/U59+Cvce97znvCMb775pjvrrLPcqFGj3PHHH9/vuZdeemkHMW699Vb3sY99zD399NOBOGPHjnVz5szpd33KA+Ky+9WvnHvmmepUF1zQqRV07vDDnXv44epztjcfIHDdddd5/hqV559/3n/961/3Cy+8sBdcfqmllvKnnHKKf/3116uSJI+11147XMN1hx9+eNX5gXY02+VXXnnl7J6JEyf6hx9+eKBLGzr27LPe/+AH3u+4o/eLLuqVj/d77dWb1HLL9W5ffLH3I0d6P2FC7zHb6l4EIi9c3Kj3UdXtUeX6gV9++eVDBVY3ye+5557+ySefrErqoYce8lr3yCq5WhN/5ZVXVl2Tt/Pf//7XH3XUUX6xxRYLabz97W/3xx13nH/llVfybhv0nGbR/LRpl/pRo271w4e/FUgBMVR8v8km3s+Z03trJUE4uvPORpBedLp7K/KiIYL85S9/8RtuuGFW6dnWQLsKMa1r+KlTp3qNO8J1/Goc4jneiDzwwAOqoDtnea622mr+6quvrimpRx991Ktr57fYYgu/4IILKo3d9ef9sGFv+nHjvD/7bO8fe6ympMJFr75a+7V2ZWci0BBBnnjiidBK0FrQTaL1oBWhNakUrWf4VVZZJavMn/vc5/y///3vyksa3tYsl9ckQJb2+PHjvWbH+qWnFXp/8skne00xiwjDsuvpCm6zzXb+0ENn+kceqb8VUoPol1jC+1126ZelHegiBOoiCOMJxhWMLyAGlYxxxwsvvFAFidYv9EUel1XGMWPG+D/84Q9V16TYkR6XP/30070G9SEvqa2owh/qtTKv7tM0/+EPfzgrA+Wle7bTTjt5TTn7efPmNVUEepAjRvSMV2h5TLoTgboIsuSSS2YVTjNVXtOxVahovcIfeOCB6tMPD9e94x3vULflbE9FbqUwntD0sMYPPS0aZIh/iy++eBj7zJgxw2u6OWkxlKTy6RnY33FH0qQtsTZBoC6CxEr3y1/+sqr4mrb1Wqfw73rXu0LFpH+///77+//85z9V17V6h5YjklMr9P6qq65qeKxTa1mZ7YIka63lveYRTLoMgYYIUonBM88847U+kX2xN998c3/77bdXXlLoNt05iKw1lELyfekl79dcE5JM1jjn5ELytEyKQyASpOGFQk3fBv2qlVZayV1++eXMhjmtc6iOtl4Ek9PMVOszyskBpYBLLnlNV5zmbrjhkLAgmnO5nepQBBomiL7YQTXkH//4R7DvKPL5jz322LAaP2vWrCKz7ZfX2LELa4X9/8Lxvfbay2mmrt81dqCzEWiYIDz26quv7hZddNHCEdCaSMizHYytjjnmALf99tsHxcpdd93VoU5j0j0INEWQ7oGhuSe58MIL3bvf/e6gun/MMcc0l5jd3VYIGEESvA7U9KdL3RetZLSWsXEx6Q4EjCCJ3iPax5MnTw5dLLpaZduyJHqs+T6Z4fM9AgkBwLae2TxMjBm077vvvu6OO+6oOYfRt93mxi63nBs5cmTvPWqd3Oc/79ywYb3H2GKGGYOyZZapPm57SREwgiSEU4uVwYwYi0jsYLRgWbOx1yoqx/2DlUWTIW7DDXvOQgxsaWSx6VZd1TncJ02d6txOOw12tx1vAgEjSBPgDXSrlDTdueee66Sg6aRZ4OhuMUapRa6Wl5f1ll3WrbDCCr2Xc68MxjLRhICT1aa75RYnS7QeKy5175zyla1ydpltpEHACJIGx6pUsLv/+c9/7n74wx862b44KXVWnW9q57TTtHg/uYccJASZ2Ic4p5/eVNJ2c38EbJDeH5MkR2RpGdJJvk40d65z225bXUY0GNT6mKRHwFqQ9JgGDy20IJBjo402Ct2sobIZJscUu9x+u1tXXap+Xaxp05xbbLGeJFZbzTldJ+divUkyrSwPMibpETCCJMb0rrvucoccckhIlVX1n/3sZzXlsJKumj7YlRrHyPNez9lJk5w75RQnxTfn5ORCDsV6vEowaDdJjoARJCGkspMPg3PcqMo+Xz619nf33HNPzTnMkl4bLYjsaXrvYZAeycHRgw5yTvmoaeqZ4p03z7kpU5w88fXeY1vJEDCCJIPShZYDr5BrrrmmxsunBz9geI1MLgzK+WOc0zdOXPLM5u8EbZCe6P2z5vHd7343eJH80Y9+NKiTvETZ9SRj5EgK50CJGUEGQqXOY/LVFbpU3IbLVRYKTboDASNIk+8Rt6iflyqILCyDV0l8Cpt0DwINEwSrPtQpyjASwvcvah3vfe97S38TqLfjrV4ukNzFF19cenmsAGkRaJggs2fPdp/+9KdDJT3yyCOdPCCmLVlOagdpJgfH2HiGL1NuuOEGqUFNDWrueLGvVaWkzDJb3vUh0DBBPvKRjyiYzMQQAAcbCEIdYBNBy1KEEFKhUor2AC//WuH5WevAkz1xTUy6D4G6CIJn9mhSSigDdI34ispRm3vkkUfcbrvtJqXTDd2f//znQpH6ldyys0CHoGb+ve99L0SyamUhiJaF4wo+FLQiJl2KQHRvkudQRZGhaBbC31pyBKXwaVWX43pU/W8vs9NwDa4+NXBN6om9KsP/7SjuiNyIbpOVLZaRX3x04YpI4RTkYvSRgW5v+Ji0dUOeONT717/+1XA6dmP7IhB5UbPzapyx4TA6VsJPfOITXh5Nqp4QD4aENZAOUrgOh9UyIpJjtbSe1XBMp9mizFncCPkCPemkk/zjjz/uZR/u8f4YwzFQXggrnahwzf33319V5np3IGV0yK0QcvXebtd3CAJ1E4TnelVuzTXP76MrUnziSu+on79bPLF/5jOfycgk31lei2dNQ4OPYFqEZZZZJqRNK7HPPvt4XJD2FYWb9hoTeUW4ykInRHIr/LRXAJ9+LlT7ptF3H8/0H/zgB0Pee+yxR9/Ttt9FCDREkPj8eHlXXz/ziYvrUcUY7OeLF8fVH/rQhzKi8BUndEIjonGGV8joLK0tt9zSy5y1pqRo2QjGg5f5JeSaPRKFX4L6TJkypaa0FB4u3KsJieT+fmt6ELuoMASaIkgs5S233OI322yzrMLxdb3mmmvi6fCrQb2/4IIL/HKKRhO7O1/84hf7BdqpuqliR8p+ftttt83yUJz1muOCVCSTbdIKEFdE0XflpX1Eli5lo+J/85vf9IrIm10fN7iHa+i64QvYpLsRSEKQCNFPfvITT+QoKhB/hBr45z//GU+HX0K1aTrUa3o2XDNp0qSq83138P1b6TGe0Asnnnhi6Ob1vbbRfUXj9b/+9a+9ZqQyB9zxGXgeQirceOONIbYJHus5R8wRk+5HIClBgIuQaIRGI+wAFSnGEGEsUClz5871Wujz8vxReTjbZpxx5pln+lghGWcQ4qBvaLfshkQbhGogOA/e6eNsXCQLZWD74x//eL9gQYmyt2TaDIHkBInP95himTGAjVGd6FppXcLT1RpKmD5WdNxQGamQBOMpw2M809Za3/EHH3ywl3VfVh7IbTJ/INAygkT4iFkoVZCscskuwktnKZ6u+iWEGlOz8Ystn78hxkfVRSXuxJBvzIpFIboWU9q1ThTE++y3MxBoOUEiDJdddplnmjdWfgJxxrUIIlPR3WK6mPOMM0444YSk44xYjmZ+6fJRPqaMo8iUNhwjYI9J9yFQGEGAjoVCItwSwpmKxkCdihXXMwih9uUvf7nl44xGXyMr8XQZiXUYw7mxWElUK8jNhIJJdyEQCVKXLpYqd0OiiuWOOOIIRywR9LW04Oh++9vfBhsKfNpqujg4W9N6SkPpt/omPLejY4atOXpfiMjtKLsmFWp2zNDqclr66REohCCx2KNGjXIKG+0U6zDEFtG0rdPMkdP6SbykbX9R7Uc0pZ2VMR5T2OvsmG10FwLDaEp4JCn2ddeTJX4agvZobcRpJT5oCqNuL42CEBdE3axwjHMm3YEA9k5IoS1IyLFD/+FzVzpcwY2opqPDU2gKOxht0WX8xS9+0aFPZsXOQ8AIkodOn3OagQtHKrtU1s3qA1KX7RpB6nihn/rUp8LVuBVlcI5wTDNcYfDOIL6dRKo6cpu1ZLB8xIhMIbIVLUHhEkxqRsAIUjNUuL9dI4S6JnoUkwsIfnSxKsQmP85w1ZFkyy7F5alMA0KXED9dmkZ3OLGDMBtvvLEcNB4ULELvu+++wsykW/awLUzYPCvWCS5dKqJG0c0aP358uJtjf/rTn8Kx2MrUmWzSyzGDJj6JViaclEIDqWVm4PiTEqmTAmb4i5lKq1khSMYG0+n15eYUE2pmHE0U2MtmseqrBrgWlQ2JY81GemchSI7Mbp2sLcPXWUqVwbtifammuxrb/I9+9KMhRqKUPIOn+crUcTYRycLvTTfd5B599NHKS8I2bowgSiQMBGLtZ36ROItlBGngjeOP69577w3dLBYLERmGhQVPZrOkV9ZAqs3fgo8ywi3g6VFqMWHNhsi7QwkEiaSBMNKjGzAIKR+BSBjIwzPjvKMbJRKkZpv07lIkaO5pDjvssKAyg2p8FDmQC8fKMsVF9SVqQm+66aYew7BKwX8AVpm1mg1obOKxuUdXTmOWzA5fZAjPGX8VqLQym67Zjqom1oI08PmTxWHos6OCwteaWSxpJDuZBIduCAuIeH4sSpg9kwlyGFfQ/ZOps2NcUSl4nEfVB2FNhxYgdqFoCYZa5MTdE903Whham1mzZjm6lqsqkKjMACqz6opta0Ga/NapkoUvKXYjUeIXXHpm8VDLfzH02n777UNZVl555UFdHH3/+98P5tHRoE21OGsJUBal7JhCy/eZFwmG1KhGATUqn8o/WMufs+gMYgsydAe1K74H6R9ioAXCeKzI6V4G4qzLEHSHFX5atYFENviOr6IsPB0TDRdddJHbb7/9QktIayd3Rk4kCkF/GGfQotDCEAQIn8O0HqqkWdIooMaxVuXCaXZBt2xEphTN0E7PD1t11QHPVzuKult+hx126Oe4Ip5P/YvBFmXAT5emmRtOHndOtBq0HrQitCa0KqRd+YcvtEq5/PLLw3nGKN0mkRc2BlENaERUIcIiITNAzPqgp1WkyIjLHXDAAWGsI48rCnzbJ/Jtk4XBOThjrTjmkCcXRXnb2p199tlZyi+99FKY7ib0HK5nmRruFrExSIJPXvSTxaxWkTJjxozsC4/L1zIFDzYiRXC0UWY5UucdWxAbgzTxyYtjDnU1mkilvlv14oLRGd7spyk8tLpE9SWQ+OqBFDgTZ1FqctbFagJ+pj41kxMsJFlZZ5EOvSwGuaw8y8a+idT734qyoRz1KXbn8w5FxFNPPbX/RQUfoSw8O1igWdCuVqH1whK7WNaC1ItcxfXyl+U0KA/jAPkHdowF5JkxrEksrRjmGuy63XffPfTb6c9HDeCKJGrelKMLJ79cgRzoWZ1CrPQ2EJQft9pqq0CQK6+8sg1KNHQRUDblrxaxFqQWlGq4Bq1YBrT8ER+Frz2GVJUir/dBo5YWJrY0qG8MJZAPDVzyYEEQk2U55hvqtsLOMw0sDYIwiI/GZIVlXmdGYAiWvAviuwwmsQUxggyGUJPHaS1uu+22QJZIGvS3NJisSpn1CwgTScPaQ2UoN2aT0PdipowVb17cUKveVRkUsEMAU6wrEZQ1aT3bUdBwwPkGrbEmF1xei2cEKeENskiHmgYtTGxtFNOkX0lQ36CFgRDEPpR3yaAtjJr6sssu2+/6djiA6j+ealiApFvZbsKHBr8LdHX5GGHPw/hxMDGCDIZMwcdp5iNZIA4vkPWFSmHVGhuUWrpjlfcVuX3eeec5VvVZXW83+3xac6njBE0Dee0MOmtDTSYYQYqsPXXkVakUyKIcPsNwi0R3LQrdNF56O41DGCexUMjEBdsM3ttFmArH3RStr5ymBwXLocoWCWKzWEMhVfB5KhiEIBipYq04XAqhJyV19qwk6FXR5x+oe5ZdVPAGX2QMtRRSIuiGFZz9oNlpETeQQ0qabubMmTWRozIxI0glGm22zWB3iy22CI4WmEKOgmoHloGKmhUPtcVvuy0aEpWZxVSUMXH414g6kBGkLarW4IUYqNJFu/dKL4+Dp1DcmejhRUGJ+o2jiitFT05XXHGFU6DXsHP++edn/gPqLYcRpF7ECr6e6Ui6XRgoMQuGSKs22L3PmTMneHcsuEiDZscYBG0CDLhYqylLwGXXXXd1qOMoqFNT6jhGkLLeYo35siaCegl9e1z5IKyDoFlLBciby68xi6SXDdTiJc1giMQYr6HdQDcUexfGIM2IEaQZ9Aq6d6BKF4+1YzcLWGhBinakh8r9NttsE9RIcFqBX7BmxQjSLIIF3M/LxjsJahwseCF8JZnhUtSuqhmuAoqTm4WCJYWFONZyilQ7ofuJrhqeXRTZzMnhRMAst7A1nDSC1ABS2ZeMHDky6A/RbYh9e5wyKIZjmOG66qqrSikibkyJ+yL7lKr8oxkA4S3wONlqofvJWI3FVBxn0BVF1yqFGEFSoFhAGrHSVXapYjerLJtwVs6PPfZYp9DYVQjIDDns4+GRBcMxY8Y4hdp2rLaz8JnSPzCLptHeHnt8ZtCS6oJFy6nUFlmWXloE1HUIYeDwJIJHEUQr1l4zXCEMHPEei5SjjjoqWBJiDy8VmSxrDZK9Kmg4R1kJUye2VP3p6+6lNOg1Deula+YJ4kpk4UYEv12kT3xLaRs0ksSA90RemOO4AeFpz4NSYAyVQS1GVkBCZVNBpEqRHWv1htYVQp6QUx5Vsuxknx+cWFAeTHGlNhPIrGlXL/sVP3HiRD969OgsRHglcajgPMvkyZM9z8cHYShRFy6UQyo3Icb9UNfXc94IUg9abXItEYCpVBMmTMhKJH2tcAxvKkWIxkBZq3DuuedmWcqy0K+zzjqhLFoLyVq57IKKDVo7fIepexaIJEfZ4b5KwrCtsVfw+TV16lSvrpN/+umns1Tw+khgVf6IpJxajCCpES0gPXkyDBVJ6yBeA/aQo8xcgwMHui1U0laKtI4zZ3Hf+ta3sqw0SPayKgxlk9/iqoqcXTTEBq2P1Gm8Bv1VEZD7kkamAF7mzFkrpPHPECk3dtoI0hhupd8lG5FQEYnTHgVfvFQkxQGJh5L/KmyClzZsyKev/2FFLg7H+eLLGClZ3uTJMx188MFeU7cZOSNpNK2bLK++CUWC2CyW0O4kGWjmaqAZrpTPhPo6C3BYC/LLbFQUVqox6kJblilo/P6mEuxfsL9nluz6668PqjYYj2Eyi6TMa9AyR6b0ZZDttycCeGnXywwzRXRtkDjDxYySFuiSFpz04uSAtGH9Cy+8kKWPJ0bKwkwVY4SiRE7sshaLiYBWSOSFtSCDfjra88RgYeD4qrIoh7f5VILxFl9wLB0JgU0LQUuBoH6PZ0eE+Icx2lY40OJ/hJKjdcEeBsXEVooRpJXotijtgbpU2IbQDYFAqQRlv+gYmwW46JgBqzzNpAVlyaOPPtrtXoINeuxqVi6cpnruqnRiU9KKZsrSbA0C8s4euhjS9PWEP2iFqOKHPGQP73HUHYUunjyxhHNaSY+HC/+Vl5dQBq2eN7zImFfoyAtrQao+F52xs9ZaaznCwGldICgrpi41YRA0jRvsUIiQi6scBLc5DNIx/8UJAhZ7ZQnWgQzScR6Ot5dWiRGkVci2ON3YxZDKR3Al1IzXxr5FxcgIQV18xx13DNtoEeNBHp9SuCTS4lwgUDhZ0r+IQSu7WeY4rqSX22y2OHTAy2IUtFfxo7XBBhuECswvqueNCEqGtBbRtBflQqwYUV+Xqkj4Ylc6t2skjxT34C4Jsq644oruwQcfDKHwUqRLGtGriREkFaIlpHPooYeGuOd4bCT+oPrUVaVATZ4KBFn4w6F2nIWqunCIHdyK4l4Utzl0Z9rJPxeaw/gWY+KAZ0wlkSDFRZpMVXJLJ0PgpJNOyrYxGGI6VpGmwi/bTIMyHRs9omDbzviFihSJQ3DPvFDRjEUgB14ImeZtJ3Lw8Mzo4cibWbyUBInAWgsSkejCX6lqZISBODif6ztWwV4DV5yRNBAneh2M3hJxmwPJUkexSgE5LQeOImhJHnjggRRJhjRiC2IESQZp+yeERSKh1GJLA2kG8nCOb2D69YSTptuG25w999yzLR+Q8lFW7NEZk+D8O4VEglgXKwWaHZIGA3m+tvxFoRsWu2X84kWe+Of8IV/72tfalhyUjxj1zGaddtppoZuViiCkjVgL0oOD/f8fAtE38PTp08M6y4UXXtj22KBugttTWr65c+cmKW9sQYwgSeC0RMpEAP9gK6ywQggBh3d8prublUgQWyhsFkm7v3QEmIWL+mmp/RUbQUp/vVaAFAi0alXdCJLi7VgapSPAGARtY6a2iQ+ZSowgqZC0dEpFgG5WVI1JqZtlBCn1tVrmKRFoRTfLCJLyDVlapSKAF3y0ANBLww1pCjGCpEDR0mgLBNA1w9E3QgCdFGIESYGipdE2CEyaNCk4rsa5dwoxVZMUKFoabYMAypaEXsjTUK6nsNaC1IOWXdsRCKQiBw9rBOmIV26FLAsBI0hZyFu+HYGAEaQjXpMVsiwEjCBlIW/5dgQCRpCOeE1WyLIQMIKUhbzl2xEIGEE64jVZIctCwAhSFvKWb0cgYATpiNdkhSwLASNIWchbvh2BgBGkI16TFbIsBIwgZSFv+XYEAkaQjnhNVsiyEDCClIW85dsRCBhBOuI1WSHLQsAIUhbylm9HIGAE6YjXZIUsCwEjSFnIW74dgYARpCNekxWyLASMIGUhb/l2BAJGkI54TVbIshAwgpSFvOXbEQgYQTriNVkhy0LACFIW8pZvRyBgBOmI12SFLAsBI0hZyFu+HYGAEaQjXpMVsiwEjCBlIW/5dgQCRpCOeE1WyLIQMIKUhbzl2xEIGEE64jVZIctCIAugM3v27LLKYPkaAm2LwAJLLbVU2xbOCmYIlIkAYdz+HzDToWMIMr7xAAAAAElFTkSuQmCC\"></td>\n",
       "    </tr>\n",
       "    <tr>\n",
       "      <th>24</th>\n",
       "      <td><img src=\"data:image/png;base64,iVBORw0KGgoAAAANSUhEUgAAAMgAAADICAYAAACtWK6eAAAAAXNSR0IArs4c6QAAAAlwSFlzAAAWJQAAFiUBSVIk8AAAIvhJREFUeAHtXQf8FMUVfqBERcQ/oahoBCEBAQ0QUBEbWBKNGMTYoxE7JiFRQSPBErEhYkeQFmxg0FhiVIxYEIM0g1hCsYCg0hEQC6j48r4933Jl97iyu7f7583vd7+7nZ3y5s37Zt7M7s1XY9asWbxu3TqyYBowDWRqoKqqimoaODKVYlemAdXA2rVraVu96NKli/60b9PAVq+BSZMmOTqoudVrwhRgGsijAQNIHuXYLdOAAcRswDSQRwMGkDzKsVumAQOI2YBpII8GDCB5lGO3TAMGELMB00AeDRhA8ijHbpkGDCBmA6aBPBowgORRjt0yDRhAzAZMA3k0YADJoxy7ZRowgJgNmAbyaMAAkkc5dss0YAAxGzAN5NGAASSPcuyWacAAYjZgGsijAQNIHuXYLdOAAcRswDSQRwMGkDzKsVumAQOI2YBpII8GDCB5lGO3TAMGELMB00AeDRhA8ijHbpkGDCBmA6aBPBowgORRjt0yDRhAzAZMA3k0YADJoxy7ZRowgJgNmAbyaMAAkkc5dss0YAAxGzAN5NGAASSPcuyWacAAYjZgGsijAQNIHuXYLdOAAcRswDSQRwMGkDzKieOtxYuJGjTIlaxWLaLPPsuNt5jyNGAAKU9/lruaa8AAUs072JpXngZcGujyirHcUWpg3Tqigw7KrPHbbzOv7SoYDRhAgtFjpKXUqUM0dGhmlR06ZF7bVTAaMIAEo8dIS9lmG6K2bTOrrFEj89qugtGArUGC0aOVUk01YACpph1rzQpGAwaQYPQYWSl77km0alVudd98Q1S3bm58LGO8GhBLQYkMIDHtGD+x5s6VTpNemzw5M8WOOxJ9+WVmXKyusM02YABRVRXRoYcStWhB1K8fEXOsxMwWxgCSrZEEXG+/PdF55xF99VUChFURb7qJaMoUoqlTiebMIXrzTaK33ybq00dTxPJ7qwcIywjWv39/uvPOO2PZQV5CNW2aGoRF7GSETZuIBg4kGjmSqFWrlMw77ED00ENEw4YRbdwY23Zs1QB5/fXXqVOnTnTjjTfSxRdfTN26daP3338/tp2VLtjgwUSPPpoakNPjY/l70SIiTHtYQKUHuFuIw2wS07BVAmTFihXiopxH+++/P82YMUMWt3Wpdu3a9Mwzz1CbNm3oiiuuoM8//zymXZYSC7Y1ZAjROecQbdgQM1EBiLVrNwu1rTxug5DZiyTMLJ9+SoQ3LWMatiqAfCsLxTvuuEPWhy1o9OjR0i+16PLLL6dPPvmEFi5cKMZ2Dn0j20E333wztWzZUjyAh2QNGd9FZPfuqQeGf/1rTKxLBh668EKiZs1IpuPNQmGWAKInTNgch19YkwA0++6bGR+nq5dffpnxqe7h+eef51atWsHanc+xxx7L7777bk6zZ86cyeJ2uek6d+7M4orlpIsq4r33mE89lfkvf0nVOGcOSzs2175iBfMuuzDXrMn8xRep+GuvZT7nHObFizenC/XXxo3MgwYx162L4YS5Vq3UdXqlw4czH3gg86pVqdj165mPOYb5yivTU8Xmt+KC9EdsJAtYkAULFvDxxx/vGvxPfvITFlcqby3fffcd33///bzrrrs6+WqK9YlLxuKa5c0X5M1165gvu4z5Bz9I2VybNqnSswGC2LFjU2kUINJEx05r12a+7jrmr74KUrLMsl654QZeVVWVqhDg6NaNed68zER6deutzG3bMv/0p8x7783cv7/eid234qLaAuQLsZYrZXTafvvtHSPfaaedWFwn3ojRrsDw2WefiZFeJkb6A6eMKjEEcdFY3LACSyg+2aZNzKNHp2YF2BtmBswGy5cXXtZHHzGffPJmm91rL+Ynnig8fyEp33jjDe7SpQuPh5Dy+bJZM2aZpQsKn35aULJKJqrWAPn73//Oe+yxh2PUNWrU4DPPPJOXLFmSo++5c+eKIZ3MsouVcy89Yv78+eINHOOUBxetdevWPHHixPQkgfweP34mN2y4CPbmfA46iMW9K73oSZNSg3WqvNXcvPl1/PLL4qOVEZYtW+bMpphVoYs29erxhF69mL/9NrfUZ59lPuss5oULc+/FPKZaAmT27Nl86KGHuobcsWNHnjp1ak5XrBP/pU+fPuIq13LSHnDAATlpvCL+9a9/8Y9//GO3/BNOOEH6fqFX0qLiPpIh/7TTTpNyL5UPc1XVZ/zww0UV4ZsYdnvPPcy1a49w5K5ZsxZfcsklvHbtWt88Xjc2bNjAAwcOZMzEAAZ0h3LWrFmTmxx+4NFHb57CMCUmLFQrgKyShd9FF13E22yzjdN5jRo14lGjRjHWEukB12PGjJFF7S7fG0tNvuCCC2Td+P3CMT2xz2+4aDCUOnXqOGXAhbvqqqtkgfz9Ctknn1f0l19+ydfKilq2mL8vq0qAMlaMrnA30Ktcr7hFiz6XwaMX16iRGvmhI9nJy9GRV95//OMfvJf4abrBcdxxx3lucHwjfuB3v/8987bbpsCBtcltt3nPLl4VxSiuWgBEtm1ldLyHf/jDHzqdt610jDzw8xwdp0+fzvLcw+3kgw8+mGfNmlVyl8BlO+OMM8Tgajhl/uhHP+Lx48cXXB7S7rnnnq48p5xyCi9atKjg/KUmxNrhkEMOcevdb7/9eNq0aZ7FQT/pM/K+++7r6Vp+/fXXPETWd8tFF1Iwy0jF/LvfMa9c6VluEiITD5BJ4mD/VHZDdFQ76qijeA6m9qwAn7lnz56uIe++++6y6yPbPgGFKVOmcIcOHVw5DjvsMH7zzTd9S882uvbt2/PkyZN904d1Y9y4cRnrtLNkrbB06VKnOnzLMyHZIEjNNg0bNuRhw4bJMiN3nfH000+zPDNieU7OM+XzlgwU/M47YYkdWbmJBchi2dzHwlqBgan/CY8tGoxqgwcPlq35uk7a7bbbjvv168fyhDxwJW/atIlHjhwpC+yGTl1w9X4nI+jq1avdurBFfP7557tGBxcHeZC3UgG6+Is8YIFuoE+sL+Au7rzzzs41du/69u3rOSO/IyD4+c9/7qRDXoAEa7TqEhIHkK9kM3/AgAGuvw6//TrZ5Ed8dpgwYYLTYQqiX/3qVyzvWGUnC/waC9Y//elP4oJv6xgOXL+7776bb7nlFtfosLjFBkGxi+TAhU0r8IMPPmDoSPUFYOAB6Xt4SpkVVorbBPDreq+e7GLdfvvtjAGpOoVEAQQLYB3l0ImnyqNl7PxkB4AAC0jt6L3lYdRzzz2XnSz06//973985JFHunKoPHh6jy3juAboCjpTeTE760YHAHCbLLjxLAj3MQj8XhbkxWxwxLXdXnIlCiAffvih2ymvvPJKTnvgKsB9UhDBrYJ7VelRDX6+GhtmtSQE6OxWeeKtmw/YjHjqqadY3l9z23K0bOFiEKjOIVEAQSfB0HbbbbecPvn3v//NWHjjPjr17LPPZizM4xAAXMi14447xkGcomTQmQKbDgpyzC5bek2nqEpinFgBIu8hJzvcddddztu48rCP8BuvsMclSP87oghw4yJSwXKozDJjk6yl6K/yyrA8ayJxrQouozokTHxrZfuRZLqnX/ziF6SdGpeO8QOIvAoj/zydSuLKxNbgVHZ5KEqy++aAJC56jVKOxANEHtARPnEMamTZwIXRybMS+evEhSTvdcVRdHnal5r9evXqRbLtG0sZoxBqq/rDVBQKTa9DjSwbIPjjFoLeT88Tl98qW7bscZEvKjkMICFq2s/I/OJDFKXoopMgY9GNKiGDAaQEpRWaxc/I/OILLTeKdEmQMQo9GEBC1LKfkfnFhyhK0UUnQcaiG1VCBgNICUorNIs8hXaSZvvxSTA+lV1eWCy0udUy3dbd+pC7VIGQbWQanw2ckMUpqvgkyFhUg0pMbAApUXGFZPMzMr/4QsqMKk0SZIxCFwaQELXsZ2R+8SGKUnTRSZCx6EaVkMEAUoLSCs3iZ2R+8YWWG0W6JMgYhR4MICFq2c/I/OJDFKXoopMgY9GNKiGDAaQEpRWaxc/I/OILLTeKdEmQMQo9GEBC1LKfkfnFhyhK0UUnQcaiG1VCBgNICUorNIufkfnFF1puFOmSIGMUejCAhKhlPyPziw9RlKKLToKMRTeqhAwGkBKUVmgWPyOzp9SFarDy6QwgIfaBH0D84kMUpaii4y5fUY0pM7EBpEwF5svuZ2h+8fnKivJe3OWLUhcGkBC17Wdocp6v8/dgfMcx+MkdR1kzZMIf0dasyYgq9yLxAAFNGqjT5JCzcnUReH4/Q3v44Yfpn//8Z8X/5y2HwNFNQs8sNBAZbfeTOyNRnC5WryY67TSievWIDjmEqF07orFjA5Ew8f9Jf/DBB0no1UQfY6l3794kR2fG5j/UfoZW6ZNX5Owrh/b6+uuvJyEJcph9wdmowU9uvR+775NPJmrfnmjBAqKGDYkWLybq2pWEmZWoR4+yxE3UDIKOzQ46g+B/3jglRCjWaMSIEaQ7Rdnpo7xWGbzkjlKO9Loef/xxoSpv5ZCXAhy//OUv6eqrr05PEgvdZQiU72LatBQgBg1KgQNpQRoqZK0yCuTLWdg9PSBLRo1YBmGg5e7du7uHlwlFM4MaLTtkn5reVrjwXnrppexkkV2DWOfwww935ca5wl7nCEclEPSTfgjcPvvsI4xpuZRpOMEdZ+2K9TifBx54wD1+NCpZi6oH5DxCZJQTwCgmHC5yOnjOrUIiFBex5SgEo9ENQhCJUwnRWfLnIrfTQK75t7/9zfNk9EceeYSbNm3qpgULFA5njirgNMX+Qk6p3IjpckOuxx57LCpRnHpwKmU2lcHQoUM9qQxwPCro5RQc+n2gsNNWkuk3Q2FCyiqI3RwlZKtClrj5Wn+BgkJOqc9Iq/cK+I41QGBE6YxGv/71rxkj8owZM5xTx7Xjfvazn/Grr76a01yM1ACXskDhzN4///nPnjNPTuYSI8SdYoy2jRs3dgENgp2PP/6YcZ4wZjSVGzPL22+/XWJNhWWDDmSN4eoAJ7b7nSoPXpV0DkbQzKEP7rvvPue4V8gNrpComX4zWoqzgJXWTfrWDaDyBmFPNsspuLCFnqHUEEuAvPXWWxluCQhyIGh2AAEOGJ3U4MDOhAOuswNGz7OEGEZHcVCvgXYsaE4OMDSB51DlAZNVNjciXBeM3PXr13fSgT5ANhX40xAYX2WXLIO9qkePHp70DziZHTIoXQN4QUDVkM4EnM30izRhM/1m9CPo8f7wh0xat2wCVeF3dBitlOAHVBfgwi7jwPBYAQQdlc45ASPycwNUeeD3k/NiXb4QuDSgfYaLkx1mzpzJBwllrBowZp4gWJ2wPgKDrgIQswf41TGb+AUA4g/S4cqvgbb6sTf5leEXD6DCHdJ2gr3Ka4DBCe5YZ4DbA2khi5ygKIxp/pRp78pILQt6t+ywmH61bZDxZZmBN+Lgb5HRmSX8aN02bmSZ3phbtWIWmjiWdgsfnhZV0ncsAAK+cRDMaEdhJPvjH/9Y1KgKnpDTTz89w0j9FpbZI+tJJ53kuG7FalDdF10fAZxgavICp1/ZcLHSF/FwwbyoHfzyp8dDB7/5zW9cHWCN5jdTZlMZgCUKbFGFBlCuyU6hCxTMTguwLggwgKkKdAufARj4wFUqREYMTF6suyXIVnGAvDxnFPe8u4p33i21WwKOwXI4J+DSpLs5IKd87bXXclSDmSedqQrGDSLQQsOjjz6asQmg66NC82enA4Ns+qYC3EXQzBUawPG+ww47OAarQF2/fn1OdvAmHnHEEa5hg8oAxl5KgAt2s5B2KiW0zt6lMP2m149BA3agM+Bp4ka/LvXkBLhSQl8npDChMehWDCBrvv6Ax3/cnQfMJedz9EWNWJ4q5+iglAhdKCtfCBSN2cXL4LB4VpZasL5uKYAdNn2bFCM+iESDCJiR0kELejnQQwPM+QJmLCXa9FuHLZfFK6iuNR1o4YQmgjF7lxuwxkt3MffYYw/hdy+e4B2uXTqNNzwKrHPgZuWEF15IuVE6u4TEDBw5QL7jb/ilFf34xvnbOcAYOL8Oj3ntHN6wMb8R5CiogAgYDsgodWTF9zXXXOPJZT5v3ry8NGLZ5Jsg6hw+fHjgC300C64S6OV0BG3SpAljhskXXnzxRWd3LzsNtskxyiuJKbgRwZ8YxqYAZu+OHTu6coM6evbs2dki5VwDAGCzUtJQuNhYn6WTn7qZsFslPIpSSeoj9HDC3ureDvpH4ADZuGmdyOi/OF34xYsOMK6bV4OfWtqTP/82RTkcdMPSywPvOEZWNTiMcNgBy7eI1vzoPNC4aefBwC699NJIyDexgdCuXTtX7q5duzJ2+AoNAFX6Nnm3bt1C50aETkeNGsVg74W+sfDHrODHYQivIX0tg21mLxpvEKPeKazGGxUYwsTLAwcyywAQZggMIPPXP8kjFrblexe04Xs+aMHPLe8tcqeeXo76sCOv2JhaAG7ijTzt01t5yVczw2yXZ9n/+c9/Mka4Tp068fTp0z3TIlIXiQqsSpBvYiv63nvv5QYNGrgGB9JMz9H1+5bgYR7cRZV7X9nRmZi9Jerb6mBugL33kksucbeO4dINGTLEfTCZvRaS115kNzaXvxHb4lgbov3CGcYr5PMeHghGRK8XCEAWfPE83/V+E1779UJHu5v4ax730TE8dfVg5zodIMGov/RSMMKNGTPGffCFrVn4z1iLaMAIJkxVroH5dZ6mj+IbIyh29vRZBQwOhgMD0oDt5p49e7q7WHADAa70NJo2qm/oMp1HHWDFhkL69jZ2ML3WQuCdbNOmjdsPXQQYhbhsQbYtEIA8/smp/Oa6+zLkguu0dMMsJy5OAFEhscMDRlzsvGCkxVYttmjxHEaNUBeJXp2n5UT9ja3YdGppPEQFbTO44nW7GW8MXHbZZbxuHdzdeIQnn3ySmzVr5ho7nuiDaNVrLYT1IGZrnQGbN2/O8nJlRRoSCEDu/qAZL9vgvxiLI0BU2wsXLuQTTzzR7Qx0ypb8Zs1byW8YTPr6Qo0J281RvnNWjA6wYYDXXhTI0DPeD9MAsGADAes8tAcbC4MGDcp4oq9po/oOBCDDFrTij7+a6itznAGiQmOrFgtxbA0XsxDW/JX4xrYwHgzCmDDrlfqAMWrZsUunLix0jhkaW85wG3WAEt5Gxs5hpYMCpKz/g+y6fXtatuENadvmsGTDDHpm2fmbI2L+S55tkCwsSdYiJH5yzKVNiSfuoUPJjCvQX8u2aiLkll1EEpfQkVXWSSRuIsn6imQGIXmISfKsiWTtJP95kj89xSSUBZD96vWmV1ddR6u/nu8056tNq2jiir60+w6dYtK86iuGbDo4jcvmHol7i1VuDEj4qy/+4Ia/H7/wwguxHKDK+svt7tt3oiMaDaLHlpxMsoPlfPbe6QRqt/PZce+nxMsnLojTBtmNS1RbVG5ZR5FsB5PsvpGsPWLbhrIAglbtW/cM57Pxu3W0Xc26ErO5w85tMjO2DU+6YDoSJ20GUYBUVVXR+efH3xUvGyBqaNvV3HrJ5lUHUX6roSVtBkkasMtag0RpEFZXpgaSCpCkyW0AybS7xFwlbSRWxRpAVBP2HaoGkmZoqoykAdtmEO25hH0nFSBJk9sAkjBgqLhJG4mTKrcBRHsuYd9JG4lVvUmT2wCiPZew76TOIPIOvqPpGl98kQiNG0AS0U25QiZtJNYW/GDePOdn7YULNSrW34E9KIx1K6uhcEkFyMEtWtBI6Y9D5R2sJAQDSBJ6yUPGpLpYcFnOQ3t22smjVfGLMhcrfn1SkERJnUGcM0nQwoS8ZGkAKcgc45fIABJNnxhAotFz4LUk1cVyZ5BttglcJ2EUaGuQMLQaQZmJnUEOPJCoe3eSP4JEoKXyqzCAlK/DipSQ2Bmkfn2iJ5+siM5KqdRcrFK0FoM8iZ1BYqC7YkQwgBSjrRilTSxAQuAyD7NbDCBhajfEshPnYoXIZR6imsnWIGFqN8SyEzeDhMhlHqKayWaQMLUbYtk4ywtB+D9CrCWgosPmMg9ITK9iDCBeWolxnBxITXJ4NfXt29eREudJ4beQbcZX6jlzSE6JI6qZZW4dOxL9979E35/xFccGZEkcRxFNJtWA0AQ4pxEKyQzJebfyOtNO8sZGDRISGucANuGOF1tLHSineWLxva148nJ6Yk5YuZIIDwxj/NqJASSn1+IXIdyNdPTRR5OwzDqnEQqPOT3xxBPOrPFfGYGFE4TkPFs699xzSSioSbgZ49UIPBx89VUSITPlwvMQOTo1zgAhPaRXFn0WYqYBHOKczt0nh605lGVe3H3gBkznjsfh1uncJxVvWiFc5uA8EbIjISesuLiKCwNIxbsiVwCwyN5yyy0u/RtOcAe7lB+dmZYAltmrr77a5WYE3QBoB3AafMWDtGmLXOZgG5YT61kYeIX8pKIiG0Aqqn7/yh977LEMwhlxqzy5+/xLYP7www8zuE/2EsLLShHR5MiZj8tcCHS4ZcvNRJ0g7Xz//ZwioogwgESh5SLqAL8g2GHFSXc+++yzD4OKLDuAVm3YsGHcuXNnnjZtWvbtjGt0MpiotMzDDz+cwUUe6wD3SshThUXHAcq3MntOOvJIBnNxlMEAEqW289QFfsGzzjorg18QAPDiF8zm7hs9enSeklO3UM7QoUO5fv36DlDA7uRLtbzF0iJMALJO4V2UPTnhDSBu2rixw1AclQQGkKg07VMP1gvXXnutS0uWj19QeDQYrpbOBOD82xJ/ena1oDnr3bu3y8PoRQaanScO13PGjeNzWrd2237QQQfxrFkpDsww5TOAhKndPGXLcwp+8MEHGZztavB+/IJYlGO0V3JR0JaVy92XTQYK9tmXXnopj8SVvwWdjRGG4l122cXRmVA+8AUXXMArV64MTTgDSGiq9S8YfO377befC4yOHTvy5MmTczJgG/e2225jbOsCRHCLevXqFSh3nzxHydgMAEgXCrFpnAPYe/v06eOSfUI/d955pyeVdLntMICUq8Ei8i9YsIBPOukkFxggDL3//vsZI2N2AG2yPAh004L0EqN+GAHsszfccIPr5oEa+8orr2S4f3EOoIuWB6eujsCpLq/cBCqyASRQdXoXtnr1aj7++OMZ3OCYCWrXrs3XXHONpwEKgSV37drV7fRWrVrxs88+611wwLHYKDjjjDPcjQK4fyNHjgy4luCLe+qppzIGkxNOOCGwWdAAEnx/5ZR43HHHuQZ/5plnej7ZXrp0qcMZDr8aIGrQoAEPGTIkFLchR8CsCHlFheH26droqKOOykoRv0vMgjfddBPXqVPHlfv2228vW1AFiL2LJdYQVpDdJqdocPE98MADJK6VW5U83SZxb9yXDGUhTpdeeim99957JE/NCddRhwPlnakZM2bQ2WenSFjx5nDcg+z+0RVXXEHz588ncbUccfF+WlDBABKUJj3KqVevnhPbuHHjjLviejmdKf4+yQMw6tGjB+GFRLyVC3LLSga8HSxbqY4ICvBKylNo3dCxzNhOcgVKoXnzpYt+mMonTTW7pwSbMt9ntAyvqssWLrVv355kt4q6dOmScb/SF/rKvMpfaXkKrV/1HKTcNoMUqv0S0mlHacdpEXC1ZA+f5IFXxcHx0EMPUcuWLUl2hlQ8eVswBeikUUwrsIOU2wDimkW0P+A7xyE8//zz9O6775K8C+aKowBRgLs3Yv4jDLkNICF2uhqYdlyIVZVctI66KisK0rggR+KSBSwio+o5vS1FZPdMagDxVEswkdpR2nHBlBpsKSqbyorSveKCrTWc0sIAtgEknL5ySlWjU4MLsaqSi/YyKpVX5S+58IgzhiG3ASTETlQD044LsaqSi1bZVFYU5AWakiuIMKPKnd6Wcqs3gJSrwYTn9wKIV1wSmqlyB7l2MoCE2PM6kmnHhVhVyUXrqJtuVBqn8pdceMQZVc9Bym0ACbETtaO040KsquSiVTaVFQVpXDpoSq4gwowK7CDlNoCE2IFqdGpwIVZVctFeRqXyqvwlFx5xxjDkNoCE2IlqYNpxIVZVctEqm8qKgrxAU3IFEWb0aku51RtAytVgnvxqdNpxeZJW7JbKprJCEK+4iglYRMVhANsAUkQHVMekXkaVVICEIbcBJESr11FZOy7EqkouWmVTWVGQF2hKriDCjCp3elvKrd4AUq4G8+TXjlIjzJO0YrdUNpUVgnjFVUzAIipWuW0XqwilVTKpGp12XCVl8atbR910o9I4ld8vb9ziVc9Bym0zSIi9rB2lHRdiVSUXrbKprChI49JBU3IFEWZUYAcptwEkwg6MY1VeRqUASQdNHGXPlikMuQ0g2VoO8FoNTDsuwKIDK0plU1lRsBdoAqswxIK82lJudQaQcjWYJ78anXZcelL8J10OaEuPqshvOUWehEeEmjdv7tav8qr87o2Y/wgD2AaQEDtdDUwNTqsCMHBiiPB20IgRI9wRW+9H+Y1DI9asWePIo/WqvCq/xsf9Owy5DSAh9roamHacViVHfBLOoMLBDRdeeCF16NBBKPyEw69CoVatWhk1hzESZ1QQ0oXKrXoPohoDSBBa9CkDAEAQ0hratGmTm0oOoybh+qBHHnmEmjRpQrNnzyYhz6FTTz2VPvroIzddpX7IWcJO1crFXik5iq1XByLbxSpWcxVKL6e0OzW/8sorzhlYcpxlhiRyoLXDWis8ISTn9tL48eNp7733pgEDBhBOXow6ABg4xG7cuHFO1UuWLIlahLLqkzOQnfyYoQMLegapoM9CCBrAObtNmzZ1z4098cQTPQ9YXrx4MZ9yyiluOplZWGaYECTKLXL9+vXcr18/BomPGJZz2rscPxoP8s9ccX1j5NhWvuOOOxgkqOUGxYWx3JaryQLye9EMXHXVVZ6nvIMvRE5cdIFy2GGHsbhgBdRSfBLx2R0aht12282pT3x3/u1vf8sycxRfWDXLYQCpQIeCtxz85TBEjNSgGQC/eXaQ9QoPHz6cGzZs6KRTAp0t0UBnl5PveurUqbz//vu7QOzUqRNPnz49X5at6p4BpILdnU0zcPDBB7OcSJ4jkWy/8sUXX+xSsMlh2HzXXXeVRY0AkKZzgYDMB5RwmE0sbNaAAWSzLiryCwYJltp03j2hSfCkWZszZw6DaQqzDj5gVJo4cWJRcsuin6+//voMNqn+/ftHTq9clNAVTGwAqaDy06sG717fvn1d3j0QdYKfEDyF2SGbUQkjfyEBjLjpGwVJ4CMspF1hpjGAhKndEsoWApgMqmfZ7uUJEybklIQdmoEDB7KcyL5FXj4s7oVawZ152rZty+h4C1vWgAFkyzqqSArwEsL41Z3q1q0by+nrRckCemSw4mJxj3JA63bvvfcyFv8WCtOAAsSepIsFxSkcc8wxzpP3wYMHU926denpp58mvFB4+eWXkzyvyCsqKNPkOYBD6yaAIDxRlkW+Q+uGV1qCfMKcV5DqdFORUhiuLFWUGli+fDmfe+65LIbtzAS77rorjxkzxnPHCe4Y3DKxTecDmuS5c+dGKW61qktxYTNIjEe7Ro0a0ahRoxxizc6dO9OyZcscgs0DDjiApk2b5kgO8htxwwgzD1iiWrRo4cw6AhjntZUYNy8RohlAEtBNeNt3ypQpNHbsWIcpd+bMmc7bwK1bt3bIQJ955hmS3S+HBPSdd96hY489NgGtSoaIBpBk9JMj5emnn+7QHcvzC8Ir6uJCEdYdoJkGfTRopLNfXU9Q82IpqgEklt3iLxT+/ScP/By3C6/IY/bAn67ktRT/THanZA0YDXTJqqtsxnbt2hFeo7cQrgZsBglXv1Z6wjVgAEl4B5r44WrAABKufq30hGvAAJLwDjTxw9WAASRc/VrpCdeAASThHWjih6sBA0i4+rXSE64BA0jCO9DED1cDBpBw9WulJ1wDBpCEd6CJH64GDCDh6tdKT7gGDCAJ70ATP1wNuC8rTpo0KdyarHTTQAI1UBN/tLFgGjAN5GqgqqqK/g8nPGgOHH+qYgAAAABJRU5ErkJggg==\"></td>\n",
       "    </tr>\n",
       "  </tbody>\n",
       "</table>"
      ],
      "text/plain": [
       "<IPython.core.display.HTML object>"
      ]
     },
     "execution_count": 39,
     "metadata": {},
     "output_type": "execute_result"
    }
   ],
   "source": [
    "# Import database as eonb for visualization\n",
    "frag_final_smiles = df_frag_final.loc[:,\"canonical isomeric SMILES\"].tolist()\n",
    "#print(\"Number of molecules: \", len(frag_final_smiles))\n",
    "\n",
    "file_name = \"frag_final.smi\"\n",
    "writer = open(file_name, \"w\")\n",
    "\n",
    "for smiles in frag_final_smiles:\n",
    "    writer.write(\"%s\\n\" %smiles)\n",
    "\n",
    "df_frag_final_oenb = oenb.read_file_to_dataframe(filename=\"frag_final.smi\")\n",
    "oenb.render_dataframe(df_frag_final_oenb, width=200, height=200)"
   ]
  },
  {
   "cell_type": "markdown",
   "metadata": {},
   "source": [
    "### 9.2. Drug-like group"
   ]
  },
  {
   "cell_type": "code",
   "execution_count": 31,
   "metadata": {},
   "outputs": [
    {
     "name": "stdout",
     "output_type": "stream",
     "text": [
      "Dynamic range of XlogP is from 2.31 to 5.90\n",
      "Bin lefts: \n",
      " [ 2.31400013  2.45744013  2.60088013  2.74432013  2.88776012  3.03120012\n",
      "  3.17464012  3.31808012  3.46152012  3.60496012  3.74840012  3.89184011\n",
      "  4.03528011  4.17872011  4.32216011  4.46560011  4.60904011  4.75248011\n",
      "  4.8959201   5.0393601   5.1828001   5.3262401   5.4696801   5.6131201\n",
      "  5.7565601 ]\n",
      "Bin rights: \n",
      " [ 2.45744013  2.60088013  2.74432013  2.88776012  3.03120012  3.17464012\n",
      "  3.31808012  3.46152012  3.60496012  3.74840012  3.89184011  4.03528011\n",
      "  4.17872011  4.32216011  4.46560011  4.60904011  4.75248011  4.8959201\n",
      "  5.0393601   5.1828001   5.3262401   5.4696801   5.6131201   5.7565601\n",
      "  5.9000001 ]\n",
      "Molecule 10794751 is already selected from bin 24.\n",
      "Molecule 3044617 is already selected from bin 20.\n",
      "Molecule 3365457 is already selected from bin 19.\n",
      "Molecule 536848 is already selected from bin 7.\n",
      "Molecule 4375254 is already selected from bin 4.\n",
      "Molecule 876432 is already selected from bin 2.\n",
      "Molecule 17664146 is already selected from bin 5.\n",
      "Molecule 46568819 is already selected from bin 20.\n",
      "Selecting more compounds from each bin...\n",
      "Can't find 6 molecules in bin 0. Only 0 molecule(s) found.\n",
      "Can't find 6 molecules in bin 1. Only 0 molecule(s) found.\n",
      "Can't find 6 molecules in bin 2. Only 1 molecule(s) found.\n",
      "Can't find 6 molecules in bin 3. Only 1 molecule(s) found.\n",
      "Can't find 6 molecules in bin 4. Only 4 molecule(s) found.\n",
      "Can't find 6 molecules in bin 5. Only 2 molecule(s) found.\n",
      "Can't find 6 molecules in bin 6. Only 2 molecule(s) found.\n",
      "Can't find 6 molecules in bin 7. Only 2 molecule(s) found.\n",
      "Can't find 6 molecules in bin 8. Only 1 molecule(s) found.\n",
      "Can't find 6 molecules in bin 9. Only 0 molecule(s) found.\n",
      "Can't find 6 molecules in bin 10. Only 0 molecule(s) found.\n",
      "Can't find 6 molecules in bin 11. Only 0 molecule(s) found.\n",
      "Can't find 6 molecules in bin 12. Only 1 molecule(s) found.\n",
      "Can't find 6 molecules in bin 13. Only 3 molecule(s) found.\n",
      "Can't find 6 molecules in bin 14. Only 0 molecule(s) found.\n",
      "Can't find 6 molecules in bin 15. Only 0 molecule(s) found.\n",
      "Can't find 6 molecules in bin 16. Only 0 molecule(s) found.\n",
      "Can't find 6 molecules in bin 17. Only 0 molecule(s) found.\n",
      "Can't find 6 molecules in bin 18. Only 0 molecule(s) found.\n",
      "Can't find 6 molecules in bin 19. Only 2 molecule(s) found.\n",
      "Can't find 6 molecules in bin 20. Only 2 molecule(s) found.\n",
      "Can't find 6 molecules in bin 21. Only 0 molecule(s) found.\n",
      "Can't find 6 molecules in bin 22. Only 1 molecule(s) found.\n",
      "Can't find 6 molecules in bin 23. Only 0 molecule(s) found.\n",
      "Can't find 6 molecules in bin 24. Only 1 molecule(s) found.\n",
      "Found 23 compounds spanning the dynamic range, out of 150 desired. \n"
     ]
    }
   ],
   "source": [
    "# Establish dynamic range\n",
    "XlogPs = np.array(df_drug[\"XlogP\"])\n",
    "\n",
    "minval = XlogPs.min()\n",
    "maxval = XlogPs.max()\n",
    "\n",
    "print(\"Dynamic range of XlogP is from %.2f to %.2f\" % (minval, maxval))\n",
    "\n",
    "# Let's make 10 bins and try drawing for 5 compounds per bin\n",
    "nbins = 25\n",
    "n_per_bin = 6 \n",
    "bin_lefts = np.arange( minval, maxval, (maxval-minval)/float(nbins) )\n",
    "bin_rights = np.array( [bin_lefts[i+1] for i in range(nbins-1)] + [maxval] )\n",
    "\n",
    "print(\"Bin lefts: \\n\", bin_lefts)\n",
    "print(\"Bin rights: \\n\", bin_rights)\n",
    "\n",
    "# Place compounds selected for their substructures to correponding bins\n",
    "range_ids = []\n",
    "fnd_in_bin = 0\n",
    "for i, row in df_drug.iterrows():\n",
    "    \n",
    "    # Iterate over selected compounds\n",
    "    if df_drug.loc[i, \"Selection\"] == \"picked\":\n",
    "        eMolecules_ID = df_drug.loc[i,'eMolecules ID'] #identifier\n",
    "        XlogP = float(df_drug.loc[i,'XlogP'])\n",
    "        \n",
    "        # iterate over bins to find the right bin\n",
    "        for bin_index in range(nbins):\n",
    "            # how many compounds are in that bin so far?\n",
    "            fnd_in_bin = df_drug.loc[df_drug[\"Bin index\"]== bin_index].shape[0]\n",
    "            \n",
    "            if (XlogP > bin_lefts[bin_index]) and (XlogP <= bin_rights[bin_index]):\n",
    "                range_ids.append( eMolecules_ID )\n",
    "                fnd_in_bin +=1\n",
    "                df_drug.loc[i, \"Bin index\"] = bin_index\n",
    "                df_drug.loc[i, \"Priority\"] = fnd_in_bin\n",
    "                print(\"Molecule {} is already selected from bin {}.\".format(eMolecules_ID, bin_index))\n",
    "\n",
    "print(\"Selecting more compounds from each bin...\")\n",
    "\n",
    "# Select more compound from each bin\n",
    "for bin_index in range(nbins):\n",
    "    \n",
    "    # how many compounds are in that bin so far?\n",
    "    fnd_in_bin = df_drug.loc[df_drug[\"Bin index\"]== bin_index].shape[0]\n",
    "    \n",
    "    for i, row in enumerate(df_drug.iterrows()):\n",
    "        eMolecules_ID = df_drug.loc[i,'eMolecules ID'] #identifier\n",
    "        XlogP = float(df_drug.loc[i,'XlogP'])\n",
    "        \n",
    "        if (XlogP > bin_lefts[bin_index]) and (XlogP <= bin_rights[bin_index]) and (df_drug.loc[i, \"Selection\"] != \"picked\"):\n",
    "            \n",
    "            # Skip molecule if it has a limited ring group, because we have already picked one.\n",
    "            # substructure search\n",
    "            count = 0\n",
    "            for ring, smarts in ring_smarts_to_limit.items(): \n",
    "            \n",
    "                smiles = df_drug.loc[i,'canonical isomeric SMILES']\n",
    "                mol = oechem.OEGraphMol()\n",
    "                oechem.OESmilesToMol(mol, str(smiles))\n",
    "\n",
    "                queried_substructure = smarts\n",
    "                ss = oechem.OESubSearch(queried_substructure)\n",
    "                oechem.OEPrepareSearch(mol, ss)\n",
    "\n",
    "                # loop over matches to count\n",
    "                matched_ss_list=[]\n",
    "                for index, match in enumerate(ss.Match(mol)):\n",
    "                    if ss.SingleMatch(mol) == True:\n",
    "                        matched_ss_list.append((index, match))\n",
    "                        count = count + len(matched_ss_list) \n",
    "                    \n",
    "            # skip the molecule if one of the limited substructes exists in the molecule\n",
    "            if count >= 1:\n",
    "                continue\n",
    "                \n",
    "            # Pick the compound\n",
    "            range_ids.append( eMolecules_ID )\n",
    "            fnd_in_bin +=1\n",
    "            \n",
    "            df_drug.loc[i, \"Selection\"] = \"picked\"\n",
    "            df_drug.loc[i, \"Bin index\"] = bin_index\n",
    "            df_drug.loc[i, \"Priority\"] = fnd_in_bin\n",
    "                \n",
    "\n",
    "        if fnd_in_bin == n_per_bin: break\n",
    "\n",
    "    if fnd_in_bin < n_per_bin:\n",
    "        print (\"Can't find %s molecules in bin %s. Only %s molecule(s) found.\" % (n_per_bin, bin_index, fnd_in_bin) )\n",
    "\n",
    "\n",
    "print(\"Found %s compounds spanning the dynamic range, out of %s desired. \" % (len(range_ids), nbins*n_per_bin) )"
   ]
  },
  {
   "cell_type": "code",
   "execution_count": 32,
   "metadata": {},
   "outputs": [
    {
     "data": {
      "text/plain": [
       "(0, 10)"
      ]
     },
     "execution_count": 32,
     "metadata": {},
     "output_type": "execute_result"
    },
    {
     "data": {
      "image/png": "[encoded data removed]",
      "text/plain": [
       "<matplotlib.figure.Figure at 0x116c54898>"
      ]
     },
     "metadata": {},
     "output_type": "display_data"
    }
   ],
   "source": [
    "df_drug_picked = df_drug.loc[df_drug[\"Selection\"]==\"picked\"].reset_index(drop=True)\n",
    "df_drug_picked.to_csv(\"df_drug_picked.csv\")\n",
    "\n",
    "# Let's check the logP distribution of fragment-like group\n",
    "XlogP_values = df_drug_picked.loc[:, \"XlogP\"]\n",
    "plt.hist(XlogP_values, bins=nbins)\n",
    "plt.xlabel(\"XlogP\")\n",
    "plt.ylabel(\"molecule count\")\n",
    "plt.xlim(0,6)\n",
    "plt.ylim(0,10)"
   ]
  },
  {
   "cell_type": "code",
   "execution_count": 33,
   "metadata": {},
   "outputs": [],
   "source": [
    "# Pick cheapest 25 molecules\n",
    "\n",
    "# Sort selected molecules by bin index\n",
    "df_drug_picked = df_drug_picked.sort_values(by = [\"Bin index\", \"Price\"], ascending = [True, True], inplace=False)\n",
    "\n",
    "# Select 25 cheapest compounds with even bin distribution\n",
    "df_drug_picked[\"Final list\"] = None\n",
    "\n",
    "molecules_added_to_set = 0\n",
    "\n",
    "#In first pass select the cheapest molecule in each bin\n",
    "for bin_index in range(nbins):\n",
    "    df_bin = df_drug_picked[df_drug_picked[\"Bin index\"] == bin_index].reset_index(drop=True)\n",
    "    \n",
    "    if molecules_added_to_set == 25:\n",
    "        break\n",
    "    else:\n",
    "\n",
    "        # Skip if there is no molecule in bin\n",
    "        if df_bin.shape[0] == 0:\n",
    "            continue\n",
    "    \n",
    "        # If multiple molecules are in the bin\n",
    "        elif df_bin.shape[0] >= 1:\n",
    "            #select the cheapest molecule\n",
    "            molecules_added_to_set += 1\n",
    "            eMol_ID = df_bin.loc[0, \"eMolecules ID\"] # 1st cheapest molecule\n",
    "            df_drug_picked.loc[df_drug_picked[\"eMolecules ID\"] == eMol_ID, \"Final list\"] = True\n",
    "\n",
    "# In the second pass select the next cheapest un selected molecule in each bin\n",
    "for bin_index in range(nbins):\n",
    "    df_bin = df_drug_picked[df_drug_picked[\"Bin index\"] == bin_index].reset_index(drop=True)\n",
    "    \n",
    "    if molecules_added_to_set == 25:\n",
    "        break\n",
    "    else:\n",
    "        # Skip if there is no molecule in bin\n",
    "        if df_bin.shape[0] == 0:\n",
    "            continue\n",
    "        \n",
    "        elif df_bin.shape[0] == 1:\n",
    "            continue\n",
    "    \n",
    "        # If multiple molecules are in the bin\n",
    "        elif df_bin.shape[0] > 1:\n",
    "            #select the next cheapest molecule\n",
    "            molecules_added_to_set += 1\n",
    "            eMol_ID = df_bin.loc[1, \"eMolecules ID\"] # 2nd cheapest molecule\n",
    "            df_drug_picked.loc[df_drug_picked[\"eMolecules ID\"] == eMol_ID, \"Final list\"] = True"
   ]
  },
  {
   "cell_type": "code",
   "execution_count": 34,
   "metadata": {},
   "outputs": [
    {
     "data": {
      "text/plain": [
       "(0, 10)"
      ]
     },
     "execution_count": 34,
     "metadata": {},
     "output_type": "execute_result"
    },
    {
     "data": {
      "image/png": "[encoded data removed]",
      "text/plain": [
       "<matplotlib.figure.Figure at 0x118fa2cf8>"
      ]
     },
     "metadata": {},
     "output_type": "display_data"
    }
   ],
   "source": [
    "# Let's check the logP distribution of final drug-like group\n",
    "df_drug_final = df_drug_picked[df_drug_picked[\"Final list\"] == True].reset_index(drop=True)\n",
    "df_drug_final.to_csv(\"df_drug_final.csv\")\n",
    "\n",
    "XlogP_values = df_drug_final.loc[:, \"XlogP\"]\n",
    "plt.hist(XlogP_values, bins=nbins)\n",
    "plt.xlabel(\"XlogP\")\n",
    "plt.ylabel(\"molecule count\")\n",
    "plt.xlim(0,6)\n",
    "plt.ylim(0,10)"
   ]
  },
  {
   "cell_type": "code",
   "execution_count": 35,
   "metadata": {},
   "outputs": [
    {
     "name": "stdout",
     "output_type": "stream",
     "text": [
      "Cost for drug set for 100 mg is 4069.0 USD.\n"
     ]
    }
   ],
   "source": [
    "# Calculate cost for drug set\n",
    "drug_set_cost_100mg = 0\n",
    "\n",
    "for i, row in enumerate(df_drug_final.iterrows()):\n",
    "    cost = df_drug_final.loc[i, \"Price\"]\n",
    "    #print(cost)\n",
    "    drug_set_cost_100mg += cost\n",
    "print(\"Cost for drug set for 100 mg is {} USD.\".format(drug_set_cost_100mg))"
   ]
  },
  {
   "cell_type": "code",
   "execution_count": 36,
   "metadata": {},
   "outputs": [
    {
     "data": {
      "text/html": [
       "<table border=\"1\" class=\"dataframe\">\n",
       "  <thead>\n",
       "    <tr style=\"text-align: right;\">\n",
       "      <th></th>\n",
       "      <th>Molecule</th>\n",
       "    </tr>\n",
       "  </thead>\n",
       "  <tbody>\n",
       "  </tbody>\n",
       "</table>"
      ],
      "text/plain": [
       "<IPython.core.display.HTML object>"
      ]
     },
     "execution_count": 36,
     "metadata": {},
     "output_type": "execute_result"
    }
   ],
   "source": [
    "# Import database as eonb for visualization\n",
    "drug_picked_smiles = df_drug_picked.loc[:,\"canonical isomeric SMILES\"].tolist()\n",
    "\n",
    "file_name = \"drug_picked.smi\"\n",
    "writer = open(file_name, \"w\")\n",
    "\n",
    "for smiles in drug_picked_smiles:\n",
    "    writer.write(\"%s\\n\" %smiles)\n",
    "\n",
    "df_drug_picked_oenb = oenb.read_file_to_dataframe(filename=\"drug_picked.smi\")\n",
    "oenb.render_dataframe(df_drug_picked_oenb, width=200, height=200)"
   ]
  },
  {
   "cell_type": "code",
   "execution_count": 37,
   "metadata": {},
   "outputs": [
    {
     "name": "stdout",
     "output_type": "stream",
     "text": [
      "2\n"
     ]
    }
   ],
   "source": [
    "# Example substructure search \n",
    "\n",
    "smiles = \"c1cc(ccc1CSc2nnc(s2)NC(=O)c3ccc(cc3)Cl)Br\"\n",
    "mol = oechem.OEGraphMol()\n",
    "oechem.OESmilesToMol(mol, str(smiles))\n",
    "\n",
    "queried_substructure = \"n1:csc:n1\" \n",
    "ss = oechem.OESubSearch(queried_substructure)\n",
    "oechem.OEPrepareSearch(mol, ss)\n",
    "\n",
    "# loop over matches to count\n",
    "matched_ss_list=[]\n",
    "count = 0\n",
    "for index, match in enumerate(ss.Match(mol)):\n",
    "    if ss.SingleMatch(mol) == True:\n",
    "        matched_ss_list.append((index, match))\n",
    "        count = len(matched_ss_list)\n",
    "print(count)"
   ]
  },
  {
   "cell_type": "code",
   "execution_count": null,
   "metadata": {
    "collapsed": true
   },
   "outputs": [],
   "source": []
  },
  {
   "cell_type": "code",
   "execution_count": null,
   "metadata": {
    "collapsed": true
   },
   "outputs": [],
   "source": []
  }
 ],
 "metadata": {
  "kernelspec": {
   "display_name": "Python 3",
   "language": "python",
   "name": "python3"
  },
  "language_info": {
   "codemirror_mode": {
    "name": "ipython",
    "version": 3
   },
   "file_extension": ".py",
   "mimetype": "text/x-python",
   "name": "python",
   "nbconvert_exporter": "python",
   "pygments_lexer": "ipython3",
   "version": "3.5.3"
  }
 },
 "nbformat": 4,
 "nbformat_minor": 2
}

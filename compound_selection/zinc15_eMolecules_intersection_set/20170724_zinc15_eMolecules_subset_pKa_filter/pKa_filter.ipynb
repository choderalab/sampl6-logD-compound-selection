{
 "cells": [
  {
   "cell_type": "code",
   "execution_count": 1,
   "metadata": {
    "collapsed": false
   },
   "outputs": [
    {
     "name": "stdout",
     "output_type": "stream",
     "text": [
      "Starting from isomeric SMILES of 292 molecules.\n",
      "Extracting SMILES and eMolecules ID from input file...\n"
     ]
    }
   ],
   "source": [
    "#!/usr/bin/env python3\n",
    "\n",
    "# This script takes a csv file for a set molecules with a SMILES column as input. OpenEye \n",
    "# functionalities are used to convert SMILES format to .mae format of Schrodinger. Schrodinger \n",
    "# Epik is used to generate protomers, tautomers and pKas.\n",
    "\n",
    "from openmoltools import openeye as omtoe, schrodinger\n",
    "import pandas as pd\n",
    "import os\n",
    "import numpy as np\n",
    "from ast import literal_eval\n",
    "from openeye.oechem import *\n",
    "import pickle\n",
    "\n",
    "##### IMPORT STARTING SET OF MOLECULES AS SMILES #####\n",
    "\n",
    "# Import list of available molecules which were exported from eMolecules website.\n",
    "df = pd.read_csv(\"./isosmiles-list-search-tier1-100mg.csv\")\n",
    "initial_number_of_molecules = df.shape[0]\n",
    "print(\"Starting from isomeric SMILES of {} molecules.\".format(initial_number_of_molecules))\n",
    "\n",
    "\n",
    "# Get SMILES and eMolecules IDs as a dictionary. These are the original SMILES records of eMolecules.\n",
    "\n",
    "print(\"Extracting SMILES and eMolecules ID from input file...\")\n",
    "\n",
    "eMolID_smiles_dict = {}\n",
    "\n",
    "#for i in initial_number_of_molecules:\n",
    "for i in range(5):\n",
    "    smiles = df.loc[i,\"eMolecules SMILES\"]\n",
    "    emol_id = df.loc[i,\"eMolecules ID\"]\n",
    "\n",
    "    eMolID_smiles_dict[emol_id] = smiles\n",
    "\n",
    "# print(eMolID_smiles_dict)\n",
    "\n",
    "# Save \"eMolecules ID: eMolecules SMILES\" dictionary as a pickle file\n",
    "eMolID_emol_smiles_dict = eMolID_smiles_dict \n",
    "pickle.dump(eMolID_emol_smiles_dict, open(\"eMolID_emol_smiles_dict.pickle\", \"wb\"))\n",
    "\n",
    "# Convert eMolecules SMILES to canonical isomeric SMILES\n",
    "# Requires OpenEye OEChem.\n",
    "\n",
    "for key, eMol_smiles in eMolID_smiles_dict.items():\n",
    "    mol = OEGraphMol()\n",
    "    OESmilesToMol(mol, eMol_smiles)\n",
    "    canonical_isomeric_smiles= OEMolToSmiles(mol)\n",
    "    eMolID_smiles_dict[key] = canonical_isomeric_smiles\n",
    "\n",
    "# Save \"eMolecules ID: canonical isomeric SMILES\" dictionary as pickle file\n",
    "eMolID_can_iso_smiles_dict = eMolID_smiles_dict\n",
    "pickle.dump(eMolID_can_iso_smiles_dict, open(\"eMolID_can_iso_smiles_dict.pickle\", \"wb\"))\n",
    "    \n",
    "print(\"Finished converting eMolecules SMILES to canonical isomeric SMILES.\")\n",
    "eMolID_smiles_dict"
   ]
  },
  {
   "cell_type": "code",
   "execution_count": 3,
   "metadata": {
    "collapsed": true
   },
   "outputs": [],
   "source": [
    "# Example for converting eMolecules SMILES to canonical isomeric SMILES\n",
    "#emolecules_smiles = \"c1ccc(cc1)Nc1nnc(o1)c1ccccc1\"\n",
    "#mol = OEGraphMol()\n",
    "#OESmilesToMol(mol, emolecules_smiles)\n",
    "#canonical_isomeric_smiles= OEMolToSmiles(mol)\n",
    "#print (\"Canonical SMILES for eMolecules molecule is: \\n\", canonical_isomeric_smiles)"
   ]
  },
  {
   "cell_type": "code",
   "execution_count": 4,
   "metadata": {
    "collapsed": false
   },
   "outputs": [
    {
     "name": "stdout",
     "output_type": "stream",
     "text": [
      "Converting SMILES to OEMol...\n"
     ]
    }
   ],
   "source": [
    "##### CONVERT SMILES TO OEMOL #####\n",
    "\n",
    "print(\"Converting SMILES to OEMol...\")\n",
    "\n",
    "eMolID_oemol_dict = {} \n",
    "\n",
    "for key, value in eMolID_smiles_dict.items():\n",
    "    # Create a OEMolBuilder from a smiles string.\n",
    "    oemol_molecule = omtoe.smiles_to_oemol(smiles=value)\n",
    "    eMolID_oemol_dict[key] = oemol_molecule\n",
    "    \n",
    "# print(oMolID_oemol_dict)"
   ]
  },
  {
   "cell_type": "code",
   "execution_count": 5,
   "metadata": {
    "collapsed": false
   },
   "outputs": [
    {
     "name": "stdout",
     "output_type": "stream",
     "text": [
      "Generating charged OEMol molecules...\n",
      "Generating conformer for  37308 ...\n",
      "Mol2 file ./mol2_files/37308.mol2 generated.\n",
      "Generating conformer for  478202 ...\n",
      "Mol2 file ./mol2_files/478202.mol2 generated.\n",
      "Generating conformer for  490595 ...\n",
      "Mol2 file ./mol2_files/490595.mol2 generated.\n",
      "Generating conformer for  479644 ...\n",
      "Mol2 file ./mol2_files/479644.mol2 generated.\n",
      "Generating conformer for  484431 ...\n",
      "Mol2 file ./mol2_files/484431.mol2 generated.\n",
      "\n",
      "Conformer generation for 0 molecules failed.\n",
      "0 molecules removed from the list.\n"
     ]
    }
   ],
   "source": [
    "##### GENERATE CHARGED CONFORMERS AND SAVE AS MOL2 FILE #####\n",
    "\n",
    "mol2_directory_path = \"./mol2_files\"\n",
    "if not os.path.exists(mol2_directory_path):\n",
    "    os.makedirs(mol2_directory_path)\n",
    "    print(\"{} directory created.\".format(mol2_directory_path))\n",
    "\n",
    "print(\"Generating charged OEMol molecules...\")\n",
    "\n",
    "# Dictionary to keep track of failed molecules\n",
    "failed_molecules_dict = {}\n",
    "\n",
    "# Generate charges for an OpenEye OEMol molecule. It will return  molecule with OpenEye's recommended AM1BCC\n",
    "# charge selection scheme.\n",
    "\n",
    "for key, value in eMolID_oemol_dict.items():\n",
    "    print(\"Generating conformer for \", key, \"...\")\n",
    "    try:\n",
    "        oe_molecule = omtoe.get_charges(value, keep_confs=1)\n",
    "    except RuntimeError:\n",
    "        print(\"Conformation generation failed for {}.\".format(key))\n",
    "        # Save failed molecule to failed_molecules_dict\n",
    "        failed_molecules_dict[key] = value\n",
    "    \n",
    "    mol2_filename = mol2_directory_path + \"/\" + str(key) + \".mol2\"\n",
    "    omtoe.molecule_to_mol2(oe_molecule, tripos_mol2_filename=mol2_filename)\n",
    "    print(\"Mol2 file {} generated.\".format(mol2_filename))\n",
    "\n",
    "print(\"\")\n",
    "print(\"Conformer generation for {} molecules failed.\".format(len(failed_molecules_dict)))\n",
    "\n",
    "# Remove failed molecules from oMolID_oemol_dict dictionary\n",
    "for key, value in failed_molecules_dict.items():\n",
    "    eMolID_oemol_dict.pop(key, None)\n",
    "    \n",
    "print(\"{} molecules removed from the list.\".format(len(failed_molecules_dict)))\n",
    "\n",
    "# Save dictionary of successful conformers as spickle file\n",
    "pickle.dump(eMolID_oemol_dict, open(\"eMolID_oemol_dict.pickle\", \"wb\"))\n",
    "# Save dictionary of failed molecules as confromer generation as a pickle file\n",
    "pickle.dump(failed_molecules_dict, open(\"failed_molecules_dict.pickle\", \"wb\"))"
   ]
  },
  {
   "cell_type": "code",
   "execution_count": 6,
   "metadata": {
    "collapsed": false
   },
   "outputs": [
    {
     "name": "stdout",
     "output_type": "stream",
     "text": [
      "Running Epik with sequencial pKa prediction method...\n",
      "Running Epik for molecule 37308 ...\n",
      "Running Epik for molecule 478202 ...\n",
      "Running Epik for molecule 490595 ...\n",
      "Running Epik for molecule 479644 ...\n",
      "Running Epik for molecule 484431 ...\n"
     ]
    }
   ],
   "source": [
    "##### RUN EPIK #####\n",
    "\n",
    "print(\"Running Epik with sequencial pKa prediction method...\")\n",
    "\n",
    "mae_directory_path = \"./mae_files\"\n",
    "if not os.path.exists(mae_directory_path):\n",
    "    os.makedirs(mae_directory_path)\n",
    "    print(\"{} directory created.\".format(mae_directory_path))\n",
    "\n",
    "# Sequencial pKa calculation method is used starting form pH 7.0.\n",
    "\n",
    "for key in eMolID_oemol_dict.keys():\n",
    "    print(\"Running Epik for molecule {} ...\".format(key))\n",
    "    mol2_file_path = mol2_directory_path + \"/\" + str(key) + \".mol2\"\n",
    "    mae_file_path = mae_directory_path + \"/\" + str(key) + \".mae\"\n",
    "    schrodinger.run_epik(mol2_file_path, mae_file_path, max_structures=100, ph=7.0, ph_tolerance=None,\n",
    "                         tautomerize=True, extract_range=None, max_atoms=150, scan=True)"
   ]
  },
  {
   "cell_type": "code",
   "execution_count": 7,
   "metadata": {
    "collapsed": false
   },
   "outputs": [
    {
     "name": "stdout",
     "output_type": "stream",
     "text": [
      "Converting Epik output to SDF for molecule 37308 ...\n",
      "Converting Epik output to SDF for molecule 478202 ...\n",
      "Converting Epik output to SDF for molecule 490595 ...\n",
      "Converting Epik output to SDF for molecule 479644 ...\n",
      "Converting Epik output to SDF for molecule 484431 ...\n"
     ]
    }
   ],
   "source": [
    "##### CONVERT EPIK OUTPUT (.MAE FILE) TO SDF #####\n",
    "\n",
    "sdf_directory_path = \"./sdf_files\"\n",
    "if not os.path.exists(sdf_directory_path):\n",
    "    os.makedirs(sdf_directory_path)\n",
    "    print(\"{} directory created.\".format(sdf_directory_path))\n",
    "\n",
    "for key in eMolID_oemol_dict.keys():\n",
    "    mae_file_path = mae_directory_path + \"/\" + str(key) + \".mae\"\n",
    "    sdf_file_path = sdf_directory_path + \"/\" + str(key) + \".sdf\"\n",
    "    # Run Schrodinger's structconvert command line utility to convert mae file to sdf\n",
    "    print(\"Converting Epik output to SDF for molecule {} ...\".format(key))\n",
    "    schrodinger.run_structconvert(input_file_path = mae_file_path, output_file_path = sdf_file_path)"
   ]
  },
  {
   "cell_type": "code",
   "execution_count": 8,
   "metadata": {
    "collapsed": false
   },
   "outputs": [
    {
     "name": "stdout",
     "output_type": "stream",
     "text": [
      "Predicted pKa dictionary: eMolecules ID : pKas\n",
      "{479644: [3.085], 478202: [-1.252, 8.452, 9.84, 10.837], 490595: [-1.137, 3.621], 37308: [-1.709, -0.168, 14.625], 484431: [1.5, 12.687, 16.681]}\n"
     ]
    }
   ],
   "source": [
    "##### RUN PROPLISTER TO EXTRACT PKAS #####\n",
    "\n",
    "# Create a dictionary to store predicted pKas\n",
    "predicted_pKa_dict = {}\n",
    "\n",
    "# Iterate over molecules\n",
    "for key in eMolID_oemol_dict.keys():\n",
    "    mae_file_path = mae_directory_path + \"/\" + str(key) + \".mae\"\n",
    "    proplister = schrodinger.run_proplister(input_file_path=mae_file_path)\n",
    "\n",
    "    # Iterate over properties of each molecule\n",
    "    # Record predicted pKa values in a list\n",
    "    pKa_list = []\n",
    "    for propkey, value in proplister[0].items():\n",
    "        if propkey.startswith(\"r_epik_pKa\"):\n",
    "            pKa = float(value)\n",
    "            pKa_list.append(pKa)\n",
    "\n",
    "    pKa_list = sorted(pKa_list, key=float)\n",
    "    predicted_pKa_dict[key] = pKa_list\n",
    "    \n",
    "print(\"Predicted pKa dictionary: eMolecules ID : pKas\")\n",
    "print(predicted_pKa_dict)"
   ]
  },
  {
   "cell_type": "code",
   "execution_count": 9,
   "metadata": {
    "collapsed": false
   },
   "outputs": [
    {
     "data": {
      "text/html": [
       "<div>\n",
       "<style>\n",
       "    .dataframe thead tr:only-child th {\n",
       "        text-align: right;\n",
       "    }\n",
       "\n",
       "    .dataframe thead th {\n",
       "        text-align: left;\n",
       "    }\n",
       "\n",
       "    .dataframe tbody tr th {\n",
       "        vertical-align: top;\n",
       "    }\n",
       "</style>\n",
       "<table border=\"1\" class=\"dataframe\">\n",
       "  <thead>\n",
       "    <tr style=\"text-align: right;\">\n",
       "      <th></th>\n",
       "      <th>eMolecules ID</th>\n",
       "      <th>predicted pKas</th>\n",
       "      <th>pKas in [3,11]</th>\n",
       "      <th>pKa count in [3,11]</th>\n",
       "      <th>pKas closer than 1 unit</th>\n",
       "      <th>canonical isomeric SMILES</th>\n",
       "      <th>eMolecules SMILES</th>\n",
       "    </tr>\n",
       "  </thead>\n",
       "  <tbody>\n",
       "    <tr>\n",
       "      <th>0</th>\n",
       "      <td>479644</td>\n",
       "      <td>[3.085]</td>\n",
       "      <td>[3.085]</td>\n",
       "      <td>1.0</td>\n",
       "      <td>False</td>\n",
       "      <td>c1ccc2c(c1)cncn2</td>\n",
       "      <td>c1ccc2c(c1)ncnc2</td>\n",
       "    </tr>\n",
       "    <tr>\n",
       "      <th>1</th>\n",
       "      <td>478202</td>\n",
       "      <td>[-1.252, 8.452, 9.84, 10.837]</td>\n",
       "      <td>[8.452, 9.84, 10.837]</td>\n",
       "      <td>3.0</td>\n",
       "      <td>True</td>\n",
       "      <td>c1cc(ccc1c2cc(=O)c3c(cc(cc3o2)O)O)O</td>\n",
       "      <td>Oc1ccc(cc1)c1cc(=O)c2c(o1)cc(cc2O)O</td>\n",
       "    </tr>\n",
       "    <tr>\n",
       "      <th>2</th>\n",
       "      <td>490595</td>\n",
       "      <td>[-1.137, 3.621]</td>\n",
       "      <td>[3.621]</td>\n",
       "      <td>1.0</td>\n",
       "      <td>False</td>\n",
       "      <td>COc1ccc2c(cc(=O)oc2c1)CC(=O)O</td>\n",
       "      <td>COc1ccc2c(c1)oc(=O)cc2CC(=O)O</td>\n",
       "    </tr>\n",
       "    <tr>\n",
       "      <th>3</th>\n",
       "      <td>37308</td>\n",
       "      <td>[-1.709, -0.168, 14.625]</td>\n",
       "      <td>[]</td>\n",
       "      <td>0.0</td>\n",
       "      <td>False</td>\n",
       "      <td>c1ccc(cc1)c2nnc(o2)Nc3ccccc3</td>\n",
       "      <td>c1ccc(cc1)Nc1nnc(o1)c1ccccc1</td>\n",
       "    </tr>\n",
       "    <tr>\n",
       "      <th>4</th>\n",
       "      <td>484431</td>\n",
       "      <td>[1.5, 12.687, 16.681]</td>\n",
       "      <td>[]</td>\n",
       "      <td>0.0</td>\n",
       "      <td>False</td>\n",
       "      <td>C(=S)(N)N</td>\n",
       "      <td>NC(=S)N</td>\n",
       "    </tr>\n",
       "  </tbody>\n",
       "</table>\n",
       "</div>"
      ],
      "text/plain": [
       "   eMolecules ID                 predicted pKas         pKas in [3,11]  \\\n",
       "0         479644                        [3.085]                [3.085]   \n",
       "1         478202  [-1.252, 8.452, 9.84, 10.837]  [8.452, 9.84, 10.837]   \n",
       "2         490595                [-1.137, 3.621]                [3.621]   \n",
       "3          37308       [-1.709, -0.168, 14.625]                     []   \n",
       "4         484431          [1.5, 12.687, 16.681]                     []   \n",
       "\n",
       "   pKa count in [3,11]  pKas closer than 1 unit  \\\n",
       "0                  1.0                    False   \n",
       "1                  3.0                     True   \n",
       "2                  1.0                    False   \n",
       "3                  0.0                    False   \n",
       "4                  0.0                    False   \n",
       "\n",
       "             canonical isomeric SMILES                    eMolecules SMILES  \n",
       "0                     c1ccc2c(c1)cncn2                     c1ccc2c(c1)ncnc2  \n",
       "1  c1cc(ccc1c2cc(=O)c3c(cc(cc3o2)O)O)O  Oc1ccc(cc1)c1cc(=O)c2c(o1)cc(cc2O)O  \n",
       "2        COc1ccc2c(cc(=O)oc2c1)CC(=O)O        COc1ccc2c(c1)oc(=O)cc2CC(=O)O  \n",
       "3         c1ccc(cc1)c2nnc(o2)Nc3ccccc3         c1ccc(cc1)Nc1nnc(o1)c1ccccc1  \n",
       "4                            C(=S)(N)N                              NC(=S)N  "
      ]
     },
     "execution_count": 9,
     "metadata": {},
     "output_type": "execute_result"
    }
   ],
   "source": [
    "##### ANALYZE PKA PREDICTIONS TO COUNT 3 <= PKAS <= 11 #####\n",
    "\n",
    "# Create a pandas dataframe to store pKa information\n",
    "df_pKa = pd.DataFrame(list(predicted_pKa_dict.items()), columns=[\"eMolecules ID\", \"predicted pKas\"])\n",
    "df_pKa[\"pKas in [3,11]\"]=np.NaN\n",
    "df_pKa[\"pKa count in [3,11]\"]=np.NaN\n",
    "\n",
    "for i, row in df_pKa.iterrows():\n",
    "    \n",
    "    # Count pKas that are within 3-11 interval\n",
    "    pKa_in_interval_count = 0\n",
    "    pKas_in_interval = []\n",
    "    \n",
    "    pKas = row[\"predicted pKas\"]\n",
    "    for pKa in pKas:    \n",
    "        if (3<= pKa) and (pKa <= 11):\n",
    "            pKa_in_interval_count = int(pKa_in_interval_count + 1)\n",
    "            pKas_in_interval.append(pKa)\n",
    "    \n",
    "    df_pKa.loc[i,\"pKa count in [3,11]\"] = pKa_in_interval_count\n",
    "    #print(pKas_in_interval)\n",
    "    df_pKa.loc[i,\"pKas in [3,11]\"] = str(pKas_in_interval)\n",
    "    \n",
    "\n",
    "# Flag molecules with pKas that are closer than 1 log unit\n",
    "df_pKa[\"pKas closer than 1 unit\"]=False\n",
    "\n",
    "for index, row in df_pKa.iterrows():\n",
    "    # print(row[\"pKas in [3,11]\"])\n",
    "    pKas = literal_eval(row[\"pKas in [3,11]\"])\n",
    "    \n",
    "    if len(pKas)> 1:\n",
    "        # The difference between consecutive pKas must be >= 1. If not, we will mark True.\n",
    "        for i, pKa in enumerate(pKas[0:(len(pKas)-1)]):\n",
    "            pKa_difference = float(pKas[i+1]) - float(pKas[i])\n",
    "            \n",
    "            if pKa_difference < 1:\n",
    "                df_pKa.loc[index, \"pKas closer than 1 unit\"]=True\n",
    "            else:\n",
    "                continue\n",
    "\n",
    "# Add Canonical Isomeric SMILES to dataframe\n",
    "df_pKa[\"canonical isomeric SMILES\"] = np.NAN\n",
    "for i, row in df_pKa.iterrows():\n",
    "    key = row[\"eMolecules ID\"]\n",
    "    smiles = eMolID_can_iso_smiles_dict[key] \n",
    "    df_pKa.loc[i,\"canonical isomeric SMILES\"] = smiles\n",
    "\n",
    "# Add original eMolecules SMILES to dataframe\n",
    "eMolID_emol_smiles_dict = pickle.load(open(\"eMolID_emol_smiles_dict.pickle\", \"rb\"))\n",
    "df_pKa[\"eMolecules SMILES\"] = np.NAN\n",
    "for i, row in df_pKa.iterrows():\n",
    "    key = row[\"eMolecules ID\"]\n",
    "    smiles = eMolID_emol_smiles_dict[key] \n",
    "    df_pKa.loc[i,\"eMolecules SMILES\"] = smiles\n",
    "                \n",
    "df_pKa.to_csv(\"df_pKa.csv\")               \n",
    "#print(df_pKa)\n",
    "df_pKa"
   ]
  },
  {
   "cell_type": "code",
   "execution_count": 10,
   "metadata": {
    "collapsed": false
   },
   "outputs": [
    {
     "name": "stdout",
     "output_type": "stream",
     "text": [
      "Number of molecules with pKa in 3-11 interval:  3\n"
     ]
    },
    {
     "data": {
      "text/html": [
       "<div>\n",
       "<style>\n",
       "    .dataframe thead tr:only-child th {\n",
       "        text-align: right;\n",
       "    }\n",
       "\n",
       "    .dataframe thead th {\n",
       "        text-align: left;\n",
       "    }\n",
       "\n",
       "    .dataframe tbody tr th {\n",
       "        vertical-align: top;\n",
       "    }\n",
       "</style>\n",
       "<table border=\"1\" class=\"dataframe\">\n",
       "  <thead>\n",
       "    <tr style=\"text-align: right;\">\n",
       "      <th></th>\n",
       "      <th>index</th>\n",
       "      <th>eMolecules ID</th>\n",
       "      <th>predicted pKas</th>\n",
       "      <th>pKas in [3,11]</th>\n",
       "      <th>pKa count in [3,11]</th>\n",
       "      <th>pKas closer than 1 unit</th>\n",
       "      <th>canonical isomeric SMILES</th>\n",
       "      <th>eMolecules SMILES</th>\n",
       "    </tr>\n",
       "  </thead>\n",
       "  <tbody>\n",
       "    <tr>\n",
       "      <th>0</th>\n",
       "      <td>0</td>\n",
       "      <td>479644</td>\n",
       "      <td>[3.085]</td>\n",
       "      <td>[3.085]</td>\n",
       "      <td>1.0</td>\n",
       "      <td>False</td>\n",
       "      <td>c1ccc2c(c1)cncn2</td>\n",
       "      <td>c1ccc2c(c1)ncnc2</td>\n",
       "    </tr>\n",
       "    <tr>\n",
       "      <th>1</th>\n",
       "      <td>1</td>\n",
       "      <td>478202</td>\n",
       "      <td>[-1.252, 8.452, 9.84, 10.837]</td>\n",
       "      <td>[8.452, 9.84, 10.837]</td>\n",
       "      <td>3.0</td>\n",
       "      <td>True</td>\n",
       "      <td>c1cc(ccc1c2cc(=O)c3c(cc(cc3o2)O)O)O</td>\n",
       "      <td>Oc1ccc(cc1)c1cc(=O)c2c(o1)cc(cc2O)O</td>\n",
       "    </tr>\n",
       "    <tr>\n",
       "      <th>2</th>\n",
       "      <td>2</td>\n",
       "      <td>490595</td>\n",
       "      <td>[-1.137, 3.621]</td>\n",
       "      <td>[3.621]</td>\n",
       "      <td>1.0</td>\n",
       "      <td>False</td>\n",
       "      <td>COc1ccc2c(cc(=O)oc2c1)CC(=O)O</td>\n",
       "      <td>COc1ccc2c(c1)oc(=O)cc2CC(=O)O</td>\n",
       "    </tr>\n",
       "  </tbody>\n",
       "</table>\n",
       "</div>"
      ],
      "text/plain": [
       "   index  eMolecules ID                 predicted pKas         pKas in [3,11]  \\\n",
       "0      0         479644                        [3.085]                [3.085]   \n",
       "1      1         478202  [-1.252, 8.452, 9.84, 10.837]  [8.452, 9.84, 10.837]   \n",
       "2      2         490595                [-1.137, 3.621]                [3.621]   \n",
       "\n",
       "   pKa count in [3,11]  pKas closer than 1 unit  \\\n",
       "0                  1.0                    False   \n",
       "1                  3.0                     True   \n",
       "2                  1.0                    False   \n",
       "\n",
       "             canonical isomeric SMILES                    eMolecules SMILES  \n",
       "0                     c1ccc2c(c1)cncn2                     c1ccc2c(c1)ncnc2  \n",
       "1  c1cc(ccc1c2cc(=O)c3c(cc(cc3o2)O)O)O  Oc1ccc(cc1)c1cc(=O)c2c(o1)cc(cc2O)O  \n",
       "2        COc1ccc2c(cc(=O)oc2c1)CC(=O)O        COc1ccc2c(c1)oc(=O)cc2CC(=O)O  "
      ]
     },
     "execution_count": 10,
     "metadata": {},
     "output_type": "execute_result"
    }
   ],
   "source": [
    "##### REMOVE COMPOUNDS THAT DON'T HAVE PKAS WITHIN 3-11 INTERVAL #####\n",
    "df_pKa_interval = df_pKa.loc[df_pKa[\"pKa count in [3,11]\"] >= 1.0].reset_index()\n",
    "\n",
    "df_pKa_interval.to_csv(\"df_pKa_interval_3-11.csv\")\n",
    "print(\"Number of molecules with pKa in 3-11 interval: \", df_pKa_interval.shape[0])\n",
    "#print(df_pKa_interval)\n",
    "df_pKa_interval"
   ]
  },
  {
   "cell_type": "code",
   "execution_count": 11,
   "metadata": {
    "collapsed": false
   },
   "outputs": [
    {
     "name": "stdout",
     "output_type": "stream",
     "text": [
      "Number of molecules with pKa in 3-11 interval and spread*:  2\n",
      "* pKa values of each molecule are not closer than 1 log unit.\n"
     ]
    },
    {
     "data": {
      "text/html": [
       "<div>\n",
       "<style>\n",
       "    .dataframe thead tr:only-child th {\n",
       "        text-align: right;\n",
       "    }\n",
       "\n",
       "    .dataframe thead th {\n",
       "        text-align: left;\n",
       "    }\n",
       "\n",
       "    .dataframe tbody tr th {\n",
       "        vertical-align: top;\n",
       "    }\n",
       "</style>\n",
       "<table border=\"1\" class=\"dataframe\">\n",
       "  <thead>\n",
       "    <tr style=\"text-align: right;\">\n",
       "      <th></th>\n",
       "      <th>level_0</th>\n",
       "      <th>index</th>\n",
       "      <th>eMolecules ID</th>\n",
       "      <th>predicted pKas</th>\n",
       "      <th>pKas in [3,11]</th>\n",
       "      <th>pKa count in [3,11]</th>\n",
       "      <th>pKas closer than 1 unit</th>\n",
       "      <th>canonical isomeric SMILES</th>\n",
       "      <th>eMolecules SMILES</th>\n",
       "    </tr>\n",
       "  </thead>\n",
       "  <tbody>\n",
       "    <tr>\n",
       "      <th>0</th>\n",
       "      <td>0</td>\n",
       "      <td>0</td>\n",
       "      <td>479644</td>\n",
       "      <td>[3.085]</td>\n",
       "      <td>[3.085]</td>\n",
       "      <td>1.0</td>\n",
       "      <td>False</td>\n",
       "      <td>c1ccc2c(c1)cncn2</td>\n",
       "      <td>c1ccc2c(c1)ncnc2</td>\n",
       "    </tr>\n",
       "    <tr>\n",
       "      <th>1</th>\n",
       "      <td>2</td>\n",
       "      <td>2</td>\n",
       "      <td>490595</td>\n",
       "      <td>[-1.137, 3.621]</td>\n",
       "      <td>[3.621]</td>\n",
       "      <td>1.0</td>\n",
       "      <td>False</td>\n",
       "      <td>COc1ccc2c(cc(=O)oc2c1)CC(=O)O</td>\n",
       "      <td>COc1ccc2c(c1)oc(=O)cc2CC(=O)O</td>\n",
       "    </tr>\n",
       "  </tbody>\n",
       "</table>\n",
       "</div>"
      ],
      "text/plain": [
       "   level_0  index  eMolecules ID   predicted pKas pKas in [3,11]  \\\n",
       "0        0      0         479644          [3.085]        [3.085]   \n",
       "1        2      2         490595  [-1.137, 3.621]        [3.621]   \n",
       "\n",
       "   pKa count in [3,11]  pKas closer than 1 unit  \\\n",
       "0                  1.0                    False   \n",
       "1                  1.0                    False   \n",
       "\n",
       "       canonical isomeric SMILES              eMolecules SMILES  \n",
       "0               c1ccc2c(c1)cncn2               c1ccc2c(c1)ncnc2  \n",
       "1  COc1ccc2c(cc(=O)oc2c1)CC(=O)O  COc1ccc2c(c1)oc(=O)cc2CC(=O)O  "
      ]
     },
     "execution_count": 11,
     "metadata": {},
     "output_type": "execute_result"
    }
   ],
   "source": [
    "#####  REMOVE COMPOUNDS WITH PKA CLOSER THAN 1 LOG UNIT #####\n",
    "df_pKa_interval_spread = df_pKa_interval.loc[df_pKa_interval[\"pKas closer than 1 unit\"]==False].reset_index()\n",
    "\n",
    "df_pKa_interval_spread.to_csv(\"df_pKa_interval_3-11_spread.csv\")\n",
    "print(\"Number of molecules with pKa in 3-11 interval and spread*: \", df_pKa_interval_spread.shape[0])\n",
    "print(\"* pKa values of each molecule are not closer than 1 log unit.\")\n",
    "#print(df_pKa_interval_spread)\n",
    "df_pKa_interval_spread"
   ]
  },
  {
   "cell_type": "code",
   "execution_count": 12,
   "metadata": {
    "collapsed": false
   },
   "outputs": [
    {
     "name": "stdout",
     "output_type": "stream",
     "text": [
      "Done.\n"
     ]
    }
   ],
   "source": [
    "print(\"Done.\")"
   ]
  },
  {
   "cell_type": "code",
   "execution_count": 13,
   "metadata": {
    "collapsed": true
   },
   "outputs": [],
   "source": [
    "# Example to read pickle files\n",
    "# import pickle\n",
    "# dictionary = pickle.load(open(\"eMolID_can_iso_smiles_dict.pickle\", \"rb\"))\n"
   ]
  }
 ],
 "metadata": {
  "kernelspec": {
   "display_name": "Python 3",
   "language": "python",
   "name": "python3"
  },
  "language_info": {
   "codemirror_mode": {
    "name": "ipython",
    "version": 3
   },
   "file_extension": ".py",
   "mimetype": "text/x-python",
   "name": "python",
   "nbconvert_exporter": "python",
   "pygments_lexer": "ipython3",
   "version": "3.6.0"
  }
 },
 "nbformat": 4,
 "nbformat_minor": 2
}

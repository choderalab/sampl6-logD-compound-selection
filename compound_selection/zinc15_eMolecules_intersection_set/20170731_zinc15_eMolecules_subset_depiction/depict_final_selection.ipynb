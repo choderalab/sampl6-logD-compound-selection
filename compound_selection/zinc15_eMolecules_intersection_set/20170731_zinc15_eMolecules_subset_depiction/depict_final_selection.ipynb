{
 "cells": [
  {
   "cell_type": "code",
   "execution_count": 2,
   "metadata": {
    "collapsed": true
   },
   "outputs": [],
   "source": [
    "from openeye.oechem import *\n",
    "from openeye.oedepict import *"
   ]
  },
  {
   "cell_type": "code",
   "execution_count": 3,
   "metadata": {},
   "outputs": [
    {
     "data": {
      "text/html": [
       "<div>\n",
       "<style>\n",
       "    .dataframe thead tr:only-child th {\n",
       "        text-align: right;\n",
       "    }\n",
       "\n",
       "    .dataframe thead th {\n",
       "        text-align: left;\n",
       "    }\n",
       "\n",
       "    .dataframe tbody tr th {\n",
       "        vertical-align: top;\n",
       "    }\n",
       "</style>\n",
       "<table border=\"1\" class=\"dataframe\">\n",
       "  <thead>\n",
       "    <tr style=\"text-align: right;\">\n",
       "      <th></th>\n",
       "      <th>canonical isomeric SMILES</th>\n",
       "      <th>eMolecules ID</th>\n",
       "      <th>XlogP</th>\n",
       "    </tr>\n",
       "  </thead>\n",
       "  <tbody>\n",
       "    <tr>\n",
       "      <th>0</th>\n",
       "      <td>c1cc2c(c(sc2nc1)C(=O)N)N</td>\n",
       "      <td>7616001</td>\n",
       "      <td>0.257</td>\n",
       "    </tr>\n",
       "    <tr>\n",
       "      <th>1</th>\n",
       "      <td>COc1ccc2c(cc(=O)oc2c1)CC(=O)O</td>\n",
       "      <td>490595</td>\n",
       "      <td>0.669</td>\n",
       "    </tr>\n",
       "    <tr>\n",
       "      <th>2</th>\n",
       "      <td>c1cc(ccc1c2coc3cc(cc(c3c2=O)O)O)O</td>\n",
       "      <td>532754</td>\n",
       "      <td>0.887</td>\n",
       "    </tr>\n",
       "    <tr>\n",
       "      <th>3</th>\n",
       "      <td>Cc1cc(nc2c1c(c(s2)C(=O)N)N)C</td>\n",
       "      <td>827004</td>\n",
       "      <td>0.789</td>\n",
       "    </tr>\n",
       "    <tr>\n",
       "      <th>4</th>\n",
       "      <td>c1nc(c2c3c(sc2n1)CCC3)N</td>\n",
       "      <td>2867544</td>\n",
       "      <td>1.043</td>\n",
       "    </tr>\n",
       "  </tbody>\n",
       "</table>\n",
       "</div>"
      ],
      "text/plain": [
       "           canonical isomeric SMILES  eMolecules ID  XlogP\n",
       "0           c1cc2c(c(sc2nc1)C(=O)N)N        7616001  0.257\n",
       "1      COc1ccc2c(cc(=O)oc2c1)CC(=O)O         490595  0.669\n",
       "2  c1cc(ccc1c2coc3cc(cc(c3c2=O)O)O)O         532754  0.887\n",
       "3       Cc1cc(nc2c1c(c(s2)C(=O)N)N)C         827004  0.789\n",
       "4            c1nc(c2c3c(sc2n1)CCC3)N        2867544  1.043"
      ]
     },
     "execution_count": 3,
     "metadata": {},
     "output_type": "execute_result"
    }
   ],
   "source": [
    "# Adjust csv file to depiction format\n",
    "import pandas as pd\n",
    "frag_csv = pd.read_csv(\"df_frag_final.csv\")\n",
    "frag_csv_depict = frag_csv.loc[:,(\"canonical isomeric SMILES\", \"eMolecules ID\", \"XlogP\")]\n",
    "frag_csv_depict.to_csv(\"frag_csv_depict.csv\")\n",
    "frag_csv_depict.head()"
   ]
  },
  {
   "cell_type": "code",
   "execution_count": 9,
   "metadata": {},
   "outputs": [
    {
     "name": "stdout",
     "output_type": "stream",
     "text": [
      "c1cc2c(c(sc2nc1)C(=O)N)N\n",
      "COc1ccc2c(cc(=O)oc2c1)CC(=O)O\n",
      "c1cc(ccc1c2coc3cc(cc(c3c2=O)O)O)O\n",
      "Cc1cc(nc2c1c(c(s2)C(=O)N)N)C\n",
      "c1nc(c2c3c(sc2n1)CCC3)N\n",
      "c1cc(cc(c1)Nc2nc(cs2)c3ccc(cc3O)O)C(=O)O\n",
      "Cc1cnc(s1)Nc2ccccn2\n",
      "c1nc(c2c3c(sc2n1)CCCC3)N\n",
      "c1ccc(cc1)n2c3c(cn2)c(ncn3)N\n",
      "c1ccc(cc1)c2cc(=O)c3c(cc(cc3o2)O)O\n",
      "c1nc(c2c3c(sc2n1)CCCCC3)N\n",
      "c1ccc2c(c1)ncn2c3ccc(cc3)O\n",
      "c1ccc(cc1)n2cnc3c2ccc(c3)N\n",
      "c1ccc(cc1)NC(=O)c2c3ccccc3[nH]n2\n",
      "c1ccc(cc1)C(=O)NCC(=O)Nc2nc3ccccc3s2\n",
      "c1cc2cccnc2c(c1)NC(=O)c3cc(cnc3)Br\n",
      "COc1cccc(c1)Nc2c3ccccc3ncn2.Cl\n",
      "COc1cccc(c1)CC(=O)Nc2nc3ccc(cc3s2)OC\n",
      "c1ccc(cc1)Cc2nnc(s2)NC(=O)c3cccs3\n",
      "c1ccc(c(c1)NC(=O)c2ccc(o2)Cl)N3CCCCC3\n",
      "c1cc(c(cc1c2ccc(o2)/C=C/3\\C(=O)NC(=O)S3)Cl)F\n",
      "COc1ccc2c(c1)sc(n2)NC(=O)Cc3ccc(cc3)Cl\n",
      "c1cc(c(cc1Cl)Cl)c2ccc(o2)/C=C/3\\C(=O)NC(=O)S3\n",
      "CCOC(=O)c1c(c2cc(ccc2[nH]c1=O)Cl)c3ccccc3\n",
      "c1ccc(cc1)c2csc3c2c(ncn3)N4CCc5ccccc5C4\n"
     ]
    }
   ],
   "source": [
    "for i, row in enumerate(frag_csv_depict.iterrows()):\n",
    "    smiles = frag_csv_depict.loc[i, \"canonical isomeric SMILES\"]\n",
    "    print(smiles)\n",
    "    mol = OEGraphMol()\n",
    "    OESmilesToMol(mol, smiles)\n",
    "    OEPrepareDepiction(mol)\n",
    "    OERenderMolecule(\"./frag_png/{}.png\".format(i), mol)"
   ]
  },
  {
   "cell_type": "code",
   "execution_count": 10,
   "metadata": {},
   "outputs": [
    {
     "data": {
      "text/html": [
       "<div>\n",
       "<style>\n",
       "    .dataframe thead tr:only-child th {\n",
       "        text-align: right;\n",
       "    }\n",
       "\n",
       "    .dataframe thead th {\n",
       "        text-align: left;\n",
       "    }\n",
       "\n",
       "    .dataframe tbody tr th {\n",
       "        vertical-align: top;\n",
       "    }\n",
       "</style>\n",
       "<table border=\"1\" class=\"dataframe\">\n",
       "  <thead>\n",
       "    <tr style=\"text-align: right;\">\n",
       "      <th></th>\n",
       "      <th>canonical isomeric SMILES</th>\n",
       "      <th>eMolecules ID</th>\n",
       "      <th>XlogP</th>\n",
       "    </tr>\n",
       "  </thead>\n",
       "  <tbody>\n",
       "    <tr>\n",
       "      <th>0</th>\n",
       "      <td>COc1cc2c(cc1OCCCN3CCOCC3)c(ncn2)Nc4ccc(c(c4)Cl)F</td>\n",
       "      <td>876432</td>\n",
       "      <td>2.718</td>\n",
       "    </tr>\n",
       "    <tr>\n",
       "      <th>1</th>\n",
       "      <td>COc1ccc(cc1)c2c3c(ncnc3oc2c4ccc(cc4)OC)NCCO</td>\n",
       "      <td>1415746</td>\n",
       "      <td>2.794</td>\n",
       "    </tr>\n",
       "    <tr>\n",
       "      <th>2</th>\n",
       "      <td>COc1cc(cc(c1O)I)/C=C/2\\C(=O)NC(=O)S2</td>\n",
       "      <td>45945887</td>\n",
       "      <td>2.756</td>\n",
       "    </tr>\n",
       "    <tr>\n",
       "      <th>3</th>\n",
       "      <td>CCOC(=O)c1ccc(cc1)Nc2cc(nc(n2)Nc3ccc(cc3)C(=O)...</td>\n",
       "      <td>4375254</td>\n",
       "      <td>2.937</td>\n",
       "    </tr>\n",
       "    <tr>\n",
       "      <th>4</th>\n",
       "      <td>c1ccc(c(c1)CC(=O)OCC(=O)O)Nc2c(cccc2Cl)Cl</td>\n",
       "      <td>901322</td>\n",
       "      <td>2.959</td>\n",
       "    </tr>\n",
       "  </tbody>\n",
       "</table>\n",
       "</div>"
      ],
      "text/plain": [
       "                           canonical isomeric SMILES  eMolecules ID  XlogP\n",
       "0   COc1cc2c(cc1OCCCN3CCOCC3)c(ncn2)Nc4ccc(c(c4)Cl)F         876432  2.718\n",
       "1        COc1ccc(cc1)c2c3c(ncnc3oc2c4ccc(cc4)OC)NCCO        1415746  2.794\n",
       "2               COc1cc(cc(c1O)I)/C=C/2\\C(=O)NC(=O)S2       45945887  2.756\n",
       "3  CCOC(=O)c1ccc(cc1)Nc2cc(nc(n2)Nc3ccc(cc3)C(=O)...        4375254  2.937\n",
       "4          c1ccc(c(c1)CC(=O)OCC(=O)O)Nc2c(cccc2Cl)Cl         901322  2.959"
      ]
     },
     "execution_count": 10,
     "metadata": {},
     "output_type": "execute_result"
    }
   ],
   "source": [
    "# Adjust csv file to depiction format\n",
    "drug_csv = pd.read_csv(\"df_drug_final.csv\")\n",
    "drug_csv_depict = drug_csv.loc[:,(\"canonical isomeric SMILES\", \"eMolecules ID\", \"XlogP\")]\n",
    "drug_csv_depict.to_csv(\"drug_csv_depict.csv\")\n",
    "drug_csv_depict.head()"
   ]
  },
  {
   "cell_type": "code",
   "execution_count": 11,
   "metadata": {},
   "outputs": [
    {
     "name": "stdout",
     "output_type": "stream",
     "text": [
      "COc1cc2c(cc1OCCCN3CCOCC3)c(ncn2)Nc4ccc(c(c4)Cl)F\n",
      "COc1ccc(cc1)c2c3c(ncnc3oc2c4ccc(cc4)OC)NCCO\n",
      "COc1cc(cc(c1O)I)/C=C/2\\C(=O)NC(=O)S2\n",
      "CCOC(=O)c1ccc(cc1)Nc2cc(nc(n2)Nc3ccc(cc3)C(=O)OCC)C\n",
      "c1ccc(c(c1)CC(=O)OCC(=O)O)Nc2c(cccc2Cl)Cl\n",
      "CN1CCN(CC1)c2c(cccc2Cl)NC(=O)c3ccc(o3)Br\n",
      "CCOc1ccc(cc1)Nc2c(cnc(n2)Nc3ccc(cc3)OCC)F\n",
      "c1ccc(cc1)c2c3c(ncnc3oc2c4ccccc4)NCCN5CCOCC5\n",
      "Cc1ccc(cn1)c2c(cc(cn2)Cl)c3ccc(cc3)S(=O)(=O)C\n",
      "c1cc2c(cc(c(c2nc1)O)I)I\n",
      "c1ccc2c(c1)c(=O)[nH]c(n2)CCC(=O)Nc3ncc(s3)Cc4ccc(c(c4)F)F\n",
      "Cc1ccc(cc1)c2cc(nn2c3ccc(cc3)S(=O)(=O)N)C(F)(F)F\n",
      "c1cc(cc(c1)Br)Nc2c(cnc(n2)Nc3cccc(c3)Br)F\n",
      "c1ccc2c(c1)c(nnc2Nc3ccc(c(c3)Cl)Cl)c4ccc(cc4)C(=O)N\n",
      "c1ccc(c(c1)c2c(=O)[nH]c3ccccc3n2)NC(=O)c4ccc(cc4)F\n",
      "c1cc(cc(c1)C(F)(F)F)Cc2cnc(s2)NC(=O)c3cccs3\n",
      "c1ccc(cc1)C(=O)Nc2ccc(cc2)Oc3c4c5c(sc4ncn3)CCCC5\n",
      "Cc1ccc2c(c1)sc(n2)NC(=O)Cc3csc(n3)NC(=O)Nc4cccc(c4)Cl\n",
      "COc1ccccc1CC(=O)Nc2nc3ccc(cc3s2)OC(F)(F)F\n",
      "CCOc1ccc2c(c1)sc(n2)NC(=O)Cc3ccc(c(c3)Cl)Cl\n",
      "c1ccc(c(c1)C(=O)Nc2nnc(s2)SCc3ccc(cc3)F)Cl\n",
      "c1cc(ccc1CSc2nnc(s2)NC(=O)c3ccc(cc3)F)Br\n",
      "CN(C)CCCN1c2ccccc2Sc3c1cc(cc3)Cl.Cl\n",
      "CCOc1ccc2c(c1)sc(n2)NC(=O)C(c3ccccc3)c4ccccc4\n",
      "CC(C)(C)c1cc(n(n1)c2ccccc2)NC(=O)Nc3cccc(c3Cl)Cl\n"
     ]
    }
   ],
   "source": [
    "for i, row in enumerate(drug_csv_depict.iterrows()):\n",
    "    smiles = drug_csv_depict.loc[i, \"canonical isomeric SMILES\"]\n",
    "    print(smiles)\n",
    "    mol = OEGraphMol()\n",
    "    OESmilesToMol(mol, smiles)\n",
    "    OEPrepareDepiction(mol)\n",
    "    OERenderMolecule(\"./drug_png/{}.png\".format(i), mol)"
   ]
  },
  {
   "cell_type": "code",
   "execution_count": null,
   "metadata": {
    "collapsed": true
   },
   "outputs": [],
   "source": []
  }
 ],
 "metadata": {
  "kernelspec": {
   "display_name": "Python 3",
   "language": "python",
   "name": "python3"
  },
  "language_info": {
   "codemirror_mode": {
    "name": "ipython",
    "version": 3
   },
   "file_extension": ".py",
   "mimetype": "text/x-python",
   "name": "python",
   "nbconvert_exporter": "python",
   "pygments_lexer": "ipython3",
   "version": "3.5.3"
  }
 },
 "nbformat": 4,
 "nbformat_minor": 2
}

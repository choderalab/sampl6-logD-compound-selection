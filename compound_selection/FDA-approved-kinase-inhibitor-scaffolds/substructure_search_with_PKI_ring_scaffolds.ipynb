{
 "cells": [
  {
   "cell_type": "code",
   "execution_count": 2,
   "metadata": {
    "collapsed": true
   },
   "outputs": [],
   "source": [
    "from openeye import oechem, oedepict, oemolprop\n",
    "import oenotebook as oenb"
   ]
  },
  {
   "cell_type": "code",
   "execution_count": 2,
   "metadata": {
    "collapsed": false
   },
   "outputs": [
    {
     "name": "stdout",
     "output_type": "stream",
     "text": [
      "2\n"
     ]
    }
   ],
   "source": [
    "# Example substructure search for pyridine\n",
    "\n",
    "smiles = \"Cc1cnc(s1)Nc1ccccn1\"\n",
    "mol = oechem.OEGraphMol()\n",
    "oechem.OESmilesToMol(mol, str(smiles))\n",
    "\n",
    "queried_substructure = \"c1cccc[nX2]1\" # pyridine SMARTS\n",
    "ss = oechem.OESubSearch(queried_substructure)\n",
    "oechem.OEPrepareSearch(mol, ss)\n",
    "\n",
    "# loop over matches to count\n",
    "matched_ss_list=[]\n",
    "count = 0\n",
    "for index, match in enumerate(ss.Match(mol)):\n",
    "    if ss.SingleMatch(mol) == True:\n",
    "        matched_ss_list.append((index, match))\n",
    "        count = len(matched_ss_list)\n",
    "print(count)"
   ]
  },
  {
   "cell_type": "code",
   "execution_count": 3,
   "metadata": {
    "collapsed": false
   },
   "outputs": [
    {
     "name": "stdout",
     "output_type": "stream",
     "text": [
      "4\n"
     ]
    }
   ],
   "source": [
    "# Example substructure search for piperazine\n",
    "\n",
    "smiles = \"C1CN(CCN1)C(C2=CC=CC=C2)C3=CC=C(C=C3)Cl\"\n",
    "mol = oechem.OEGraphMol()\n",
    "oechem.OESmilesToMol(mol, str(smiles))\n",
    "\n",
    "queried_substructure = \"[NX3]1CC[NX3]CC1\" # piperazine SMARTS\n",
    "ss = oechem.OESubSearch(queried_substructure)\n",
    "oechem.OEPrepareSearch(mol, ss)\n",
    "\n",
    "# loop over matches to count\n",
    "matched_ss_list=[]\n",
    "count = 0\n",
    "for index, match in enumerate(ss.Match(mol)):\n",
    "    if ss.SingleMatch(mol) == True:\n",
    "        matched_ss_list.append((index, match))\n",
    "        count = len(matched_ss_list)\n",
    "print(count)"
   ]
  },
  {
   "cell_type": "code",
   "execution_count": 4,
   "metadata": {
    "collapsed": false
   },
   "outputs": [
    {
     "name": "stdout",
     "output_type": "stream",
     "text": [
      "1\n"
     ]
    }
   ],
   "source": [
    "# Example substructure search for quinazoline\n",
    "\n",
    "#smiles = \"COC1=C(C=C2C(=C1)N=CN=C2NC3=CC(=C(C=C3)F)Cl)OCCCN4CCOCC4\"\n",
    "smiles = \"COc1cccc(c1)Nc1ncnc2c1cccc2.Cl\"\n",
    "mol = oechem.OEGraphMol()\n",
    "oechem.OESmilesToMol(mol, str(smiles))\n",
    "\n",
    "queried_substructure = \"c:1:c:2:c(:c:c:c:1):n:c:n:c:2\" # quinazoline SMARTS\n",
    "ss = oechem.OESubSearch(queried_substructure)\n",
    "oechem.OEPrepareSearch(mol, ss)\n",
    "\n",
    "# loop over matches to count\n",
    "matched_ss_list=[]\n",
    "count = 0\n",
    "for index, match in enumerate(ss.Match(mol)):\n",
    "    if ss.SingleMatch(mol) == True:\n",
    "        matched_ss_list.append((index, match))\n",
    "        count = len(matched_ss_list)\n",
    "print(count)"
   ]
  },
  {
   "cell_type": "code",
   "execution_count": 5,
   "metadata": {
    "collapsed": false
   },
   "outputs": [
    {
     "name": "stdout",
     "output_type": "stream",
     "text": [
      "1\n"
     ]
    }
   ],
   "source": [
    "# Example substructure search for quinoline\n",
    "\n",
    "smiles = \"COC1=CC2=C(C=C1)N=CC=C2\"\n",
    "mol = oechem.OEGraphMol()\n",
    "oechem.OESmilesToMol(mol, str(smiles))\n",
    "\n",
    "queried_substructure = \"c:1:c:2:c(:c:c:c:1):n:c:c:c:2\" # quinoline SMARTS\n",
    "ss = oechem.OESubSearch(queried_substructure)\n",
    "oechem.OEPrepareSearch(mol, ss)\n",
    "\n",
    "# loop over matches to count\n",
    "matched_ss_list=[]\n",
    "count = 0\n",
    "for index, match in enumerate(ss.Match(mol)):\n",
    "    if ss.SingleMatch(mol) == True:\n",
    "        matched_ss_list.append((index, match))\n",
    "        count = len(matched_ss_list)\n",
    "print(count)"
   ]
  },
  {
   "cell_type": "code",
   "execution_count": 6,
   "metadata": {
    "collapsed": false
   },
   "outputs": [
    {
     "name": "stdout",
     "output_type": "stream",
     "text": [
      "2\n"
     ]
    }
   ],
   "source": [
    "# Example substructure search for pyrimidine\n",
    "\n",
    "smiles = \"COC1=C(C=C2C(=C1)N=CN=C2NC3=CC(=C(C=C3)F)Cl)OCCCN4CCOCC4\"\n",
    "mol = oechem.OEGraphMol()\n",
    "oechem.OESmilesToMol(mol, str(smiles))\n",
    "\n",
    "queried_substructure = \"c1[nX2]ccc[nX2]1\" # pyrimidine SMARTS\n",
    "ss = oechem.OESubSearch(queried_substructure)\n",
    "oechem.OEPrepareSearch(mol, ss)\n",
    "\n",
    "# loop over matches to count\n",
    "matched_ss_list=[]\n",
    "count = 0\n",
    "for index, match in enumerate(ss.Match(mol)):\n",
    "    if ss.SingleMatch(mol) == True:\n",
    "        matched_ss_list.append((index, match))\n",
    "        count = len(matched_ss_list)\n",
    "print(count)"
   ]
  },
  {
   "cell_type": "code",
   "execution_count": 3,
   "metadata": {
    "collapsed": false
   },
   "outputs": [
    {
     "name": "stdout",
     "output_type": "stream",
     "text": [
      "1\n"
     ]
    }
   ],
   "source": [
    "# Example substructure search for indazole\n",
    "\n",
    "smiles = \"O=C(c1n[nH]c2c1cccc2)Nc1ccccc1\"\n",
    "mol = oechem.OEGraphMol()\n",
    "oechem.OESmilesToMol(mol, str(smiles))\n",
    "\n",
    "queried_substructure = \"c1c2c(ccc1)nnc2\" # indazole SMARTS\n",
    "ss = oechem.OESubSearch(queried_substructure)\n",
    "oechem.OEPrepareSearch(mol, ss)\n",
    "\n",
    "# loop over matches to count\n",
    "matched_ss_list=[]\n",
    "count = 0\n",
    "for index, match in enumerate(ss.Match(mol)):\n",
    "    if ss.SingleMatch(mol) == True:\n",
    "        matched_ss_list.append((index, match))\n",
    "        count = len(matched_ss_list)\n",
    "print(count)"
   ]
  },
  {
   "cell_type": "code",
   "execution_count": 8,
   "metadata": {
    "collapsed": false
   },
   "outputs": [
    {
     "name": "stdout",
     "output_type": "stream",
     "text": [
      "2\n"
     ]
    }
   ],
   "source": [
    "# Example substructure search for pyrazole\n",
    "\n",
    "smiles = \"O=C(c1n[nH]c2c1cccc2)Nc1ccccc1\"\n",
    "mol = oechem.OEGraphMol()\n",
    "oechem.OESmilesToMol(mol, str(smiles))\n",
    "\n",
    "queried_substructure = \"c1cnnc1\" # pyrazole SMARTS\n",
    "ss = oechem.OESubSearch(queried_substructure)\n",
    "oechem.OEPrepareSearch(mol, ss)\n",
    "\n",
    "# loop over matches to count\n",
    "matched_ss_list=[]\n",
    "count = 0\n",
    "for index, match in enumerate(ss.Match(mol)):\n",
    "    if ss.SingleMatch(mol) == True:\n",
    "        matched_ss_list.append((index, match))\n",
    "        count = len(matched_ss_list)\n",
    "print(count)"
   ]
  },
  {
   "cell_type": "code",
   "execution_count": 9,
   "metadata": {
    "collapsed": false
   },
   "outputs": [
    {
     "name": "stdout",
     "output_type": "stream",
     "text": [
      "4\n"
     ]
    }
   ],
   "source": [
    "# Example substructure search for imidazole\n",
    "\n",
    "smiles = \"C1=CN(C=N1)C(=O)N2C=CN=C2\"\n",
    "mol = oechem.OEGraphMol()\n",
    "oechem.OESmilesToMol(mol, str(smiles))\n",
    "\n",
    "queried_substructure = \"c1nccn1\" # imidazole SMARTS\n",
    "ss = oechem.OESubSearch(queried_substructure)\n",
    "oechem.OEPrepareSearch(mol, ss)\n",
    "\n",
    "# loop over matches to count\n",
    "matched_ss_list=[]\n",
    "count = 0\n",
    "for index, match in enumerate(ss.Match(mol)):\n",
    "    if ss.SingleMatch(mol) == True:\n",
    "        matched_ss_list.append((index, match))\n",
    "        count = len(matched_ss_list)\n",
    "print(count)"
   ]
  },
  {
   "cell_type": "code",
   "execution_count": null,
   "metadata": {
    "collapsed": true
   },
   "outputs": [],
   "source": []
  }
 ],
 "metadata": {
  "kernelspec": {
   "display_name": "Python 3",
   "language": "python",
   "name": "python3"
  },
  "language_info": {
   "codemirror_mode": {
    "name": "ipython",
    "version": 3
   },
   "file_extension": ".py",
   "mimetype": "text/x-python",
   "name": "python",
   "nbconvert_exporter": "python",
   "pygments_lexer": "ipython3",
   "version": "3.6.0"
  }
 },
 "nbformat": 4,
 "nbformat_minor": 2
}

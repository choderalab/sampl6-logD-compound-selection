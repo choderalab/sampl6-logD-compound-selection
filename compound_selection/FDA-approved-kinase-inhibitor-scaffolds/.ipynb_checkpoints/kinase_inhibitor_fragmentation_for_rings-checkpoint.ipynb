{
 "cells": [
  {
   "cell_type": "code",
   "execution_count": 1,
   "metadata": {},
   "outputs": [],
   "source": [
    "#!/usr/bin/env python3\n",
    "from openeye.oechem import *\n",
    "from openeye.oemedchem import *\n",
    "from openeye.oedepict import *\n",
    "import pandas as pd\n",
    "import collections as clct"
   ]
  },
  {
   "cell_type": "code",
   "execution_count": 2,
   "metadata": {},
   "outputs": [
    {
     "name": "stdout",
     "output_type": "stream",
     "text": [
      "Framework c1ccc(cc1)CCc2ccccc2\n",
      "Ring c1ccccc1.c1ccccc1\n",
      "Linker CC\n",
      "Sidechain CCO.CC(=O)N.CO\n"
     ]
    }
   ],
   "source": [
    "# Bemis Murcko Fragmentation Example 1\n",
    "mol = OEGraphMol()\n",
    "OESmilesToMol(mol, \"CCOc1ccc(cc1)CC(OC)c2ccccc2CC(=O)N\")\n",
    "\n",
    "adjustHCount = True\n",
    "for frag in OEGetBemisMurcko(mol):\n",
    "    fragment = OEGraphMol()\n",
    "    OESubsetMol(fragment, mol, frag, adjustHCount)\n",
    "    print(\".\".join(r.GetName() for r in frag.GetRoles()), OEMolToSmiles(fragment))"
   ]
  },
  {
   "cell_type": "code",
   "execution_count": 3,
   "metadata": {},
   "outputs": [
    {
     "name": "stdout",
     "output_type": "stream",
     "text": [
      "Ring\n",
      "c1ccccc1.c1ccc2c(c1)cncn2.C1CCOC1\n"
     ]
    }
   ],
   "source": [
    "# Bemis Murcko Fragmentation Example 2: taking only rings\n",
    "mol = OEGraphMol()\n",
    "OESmilesToMol(mol, \"CN(C)C\\C=C\\C(=O)NC1=C(O[C@H]2CCOC2)C=C2N=CN=C(NC3=CC(Cl)=C(F)C=C3)C2=C1\")\n",
    "\n",
    "adjustHCount = True\n",
    "for frag in OEGetBemisMurcko(mol):\n",
    "    fragment = OEGraphMol()\n",
    "    OESubsetMol(fragment, mol, frag, adjustHCount)\n",
    "    for role in frag.GetRoles():\n",
    "        if role.GetName() == \"Ring\":\n",
    "            print(role.GetName())\n",
    "            print(OEMolToSmiles(fragment))"
   ]
  },
  {
   "cell_type": "code",
   "execution_count": 4,
   "metadata": {},
   "outputs": [],
   "source": [
    "# Import CSV of FDA-approved kinase inhibitors\n",
    "df= pd.read_csv(\"USFDA_approved_PKIs_SMILES.csv\")\n",
    "PKI_SMILES = list(df[\"SMILES\"])"
   ]
  },
  {
   "cell_type": "code",
   "execution_count": 5,
   "metadata": {},
   "outputs": [
    {
     "name": "stdout",
     "output_type": "stream",
     "text": [
      "['c1ccccc1', 'c1ccc2c(c1)cncn2', 'C1CCOC1', 'c1ccc2c(c1)c3c([nH]2)Cc4cc(ccc4C3)N5CCC(CC5)N6CCOCC6', 'c1ccccc1', 'c1ccncc1', 'c1ccc2c(c1)c[nH]n2', 'c1ccccc1', 'c1ccc2c(c1)cccn2', 'C1CNCCN1', 'c1ccccc1', 'c1ccc(cc1)N2CCC(CC2)N3CCNCC3', 'c1cncnc1', 'c1ccccc1', 'c1ccccc1', 'c1ccc2c(c1)cccn2', 'C1CC1', 'c1ccccc1', 'c1ccc(cc1)C2CCNCC2', 'c1cncnc1', 'c1ccccc1', 'c1ccccc1', 'C1CCN[C@@H](C1)C2CNC2', 'c1ccccc1', 'c1cc(cnc1)c2cnn(c2)C3CCNCC3', 'c1ccccc1', 'c1ccc(cc1)c2c(scn2)c3ccncn3', 'c1ccccc1', 'c1cncnc1N2CCNCC2', 'c1cscn1', 'c1ccccc1', 'c1ccc2c(c1)cncn2', 'C1CCCCC1', 'C1CCC/C=C/C=C/C=C/CC[C@@H]2CCC[C@@H](O2)CCN3CCCC[C@H]3COCCCC/C=C/CC1', 'c1ccccc1', 'c1ccc2c(c1)cncn2', 'C1COCCN1', 'c1ccccc1', 'c1ccc(cc1)c2c3cncnc3n(n2)[C@@H]4CCCNC4', 'c1ccccc1', 'c1ccccc1', 'c1cc(cnc1)c2ccncn2', 'C1CNCCN1', 'c1ccccc1', 'c1ccccc1', 'c1cc(oc1)c2ccc3c(c2)cncn3', 'c1ccccc1', 'c1ccc2c(c1)cccn2', 'C1CC1', 'c1ccccc1', 'c1ccc2c(c1)c3c4c(c5c6ccccc6n7c5c3n2[C@H]8CCC[C@@H]7O8)CNC4', 'c1ccccc1', 'c1ccncc1', 'c1ccc2c(c1)cccn2', 'c1ccccc1', 'c1ccc(cc1)n2ccnc2', 'c1cc(cnc1)c2ccncn2', 'c1ccccc1', 'c1ccccc1', 'c1ccc2c(c1)CC=N2', 'C1CNCCN1', 'c1ccccc1', 'c1ccc2c(c1)c(c[nH]2)c3ccncn3', 'c1cc(cnc1)N2CCNCC2', 'c1c2c(ncn1)N(CC=C2)C3CCCC3', 'c1ccccc1', 'c1ccc2c(c1)c[nH]n2', 'c1cncnc1', 'c1ccccc1', 'c1ccccc1', 'c1cc2nccn2nc1', 'C1CNCCN1', 'c1ccccc1', 'c1ccccc1', 'c1ccncc1', 'c1cc(cnc1)N2CCNCC2', 'c1cn(c2c1cncn2)C3CCCC3', 'c1c[nH]c2c1c(ncn2)c3c[nH]nc3', 'C1CCCC1', 'C1CCCCC1', 'C1CCC/C=C/C=C/C=C/CC[C@@H]2CCC[C@@H](O2)CCN3CCCC[C@H]3COCCCC/C=C/CC1', 'c1ccccc1', 'c1ccccc1', 'c1ccncc1', 'c1ccc2c(c1)CCN2', 'c1cc[nH]c1', 'C1CCCCC1', 'C1CCC/C=C/C=C/C=C/CC[C@@H]2CCC[C@@H](O2)CCN3CCCC[C@H]3COCCCC/C=C/CC1', 'c1c[nH]c2c1cncn2', 'C1CCNCC1', 'c1ccccc1', 'c1ccc(cc1)N2CN(CC3=CNCC=C32)C4CC4', 'c1ccccc1', 'c1ccc2c(c1)cncn2', 'C1CCNCC1', 'c1ccccc1', 'c1ccc(cc1)c2cc3cc[nH]c3nc2']\n"
     ]
    }
   ],
   "source": [
    "ring_list = []\n",
    "\n",
    "for SMILES in PKI_SMILES:\n",
    "    #print(SMILES)\n",
    "    \n",
    "    mol = OEGraphMol()\n",
    "    OESmilesToMol(mol, SMILES)\n",
    "\n",
    "    adjustHCount = True\n",
    "    for frag in OEGetBemisMurcko(mol):\n",
    "        fragment = OEGraphMol()\n",
    "        OESubsetMol(fragment, mol, frag, adjustHCount)\n",
    "    \n",
    "        for role in frag.GetRoles():\n",
    "            if role.GetName() == \"Ring\":\n",
    "                #print(role.GetName())\n",
    "                rings_SMILES = OEMolToSmiles(fragment)\n",
    "                # print(rings_SMILES)\n",
    "                \n",
    "                individual_rings_SMILES = rings_SMILES.split(\".\")\n",
    "                #print(individual_rings_SMILES )\n",
    "                for r_smiles in individual_rings_SMILES:\n",
    "                    ring_list.append(r_smiles)\n",
    "\n",
    "print(ring_list)             "
   ]
  },
  {
   "cell_type": "code",
   "execution_count": 6,
   "metadata": {},
   "outputs": [
    {
     "name": "stdout",
     "output_type": "stream",
     "text": [
      "Counter({'c1ccccc1': 36, 'C1CNCCN1': 4, 'c1ccc2c(c1)cncn2': 4, 'c1ccncc1': 4, 'c1ccc2c(c1)cccn2': 4, 'c1cncnc1': 3, 'C1CCC/C=C/C=C/C=C/CC[C@@H]2CCC[C@@H](O2)CCN3CCCC[C@H]3COCCCC/C=C/CC1': 3, 'C1CCCCC1': 3, 'c1cc(cnc1)c2ccncn2': 2, 'c1cc(cnc1)N2CCNCC2': 2, 'C1CCNCC1': 2, 'C1CC1': 2, 'c1ccc2c(c1)c[nH]n2': 2, 'c1ccc(cc1)c2c(scn2)c3ccncn3': 1, 'c1ccc(cc1)N2CN(CC3=CNCC=C32)C4CC4': 1, 'c1ccc(cc1)c2c3cncnc3n(n2)[C@@H]4CCCNC4': 1, 'C1COCCN1': 1, 'c1cscn1': 1, 'c1c[nH]c2c1cncn2': 1, 'c1cncnc1N2CCNCC2': 1, 'c1cc(cnc1)c2cnn(c2)C3CCNCC3': 1, 'C1CCN[C@@H](C1)C2CNC2': 1, 'c1ccc2c(c1)CC=N2': 1, 'c1ccc2c(c1)CCN2': 1, 'c1ccc2c(c1)c3c([nH]2)Cc4cc(ccc4C3)N5CCC(CC5)N6CCOCC6': 1, 'c1ccc2c(c1)c(c[nH]2)c3ccncn3': 1, 'c1ccc(cc1)C2CCNCC2': 1, 'c1ccc(cc1)c2cc3cc[nH]c3nc2': 1, 'c1c2c(ncn1)N(CC=C2)C3CCCC3': 1, 'c1cn(c2c1cncn2)C3CCCC3': 1, 'c1c[nH]c2c1c(ncn2)c3c[nH]nc3': 1, 'c1ccc(cc1)N2CCC(CC2)N3CCNCC3': 1, 'c1ccc(cc1)n2ccnc2': 1, 'c1cc(oc1)c2ccc3c(c2)cncn3': 1, 'c1cc2nccn2nc1': 1, 'C1CCOC1': 1, 'c1ccc2c(c1)c3c4c(c5c6ccccc6n7c5c3n2[C@H]8CCC[C@@H]7O8)CNC4': 1, 'C1CCCC1': 1, 'c1cc[nH]c1': 1})\n"
     ]
    }
   ],
   "source": [
    "ring_cnt = clct.Counter()\n",
    "for smiles in ring_list:\n",
    "    ring_cnt[smiles] += 1\n",
    "print(ring_cnt)"
   ]
  },
  {
   "cell_type": "code",
   "execution_count": 7,
   "metadata": {},
   "outputs": [
    {
     "name": "stdout",
     "output_type": "stream",
     "text": [
      "40\n",
      "c1ccccc1 36\n",
      "C1CNCCN1 4\n",
      "c1ccc2c(c1)cncn2 4\n",
      "c1ccncc1 4\n",
      "c1ccc2c(c1)cccn2 4\n",
      "c1cncnc1 3\n",
      "C1CCC/C=C/C=C/C=C/CC[C@@H]2CCC[C@@H](O2)CCN3CCCC[C@H]3COCCCC/C=C/CC1 3\n",
      "C1CCCCC1 3\n",
      "c1cc(cnc1)c2ccncn2 2\n",
      "c1cc(cnc1)N2CCNCC2 2\n",
      "C1CCNCC1 2\n",
      "C1CC1 2\n",
      "c1ccc2c(c1)c[nH]n2 2\n",
      "c1ccc(cc1)c2c(scn2)c3ccncn3 1\n",
      "c1ccc(cc1)N2CN(CC3=CNCC=C32)C4CC4 1\n",
      "c1ccc(cc1)c2c3cncnc3n(n2)[C@@H]4CCCNC4 1\n",
      "C1COCCN1 1\n",
      "c1cscn1 1\n",
      "c1c[nH]c2c1cncn2 1\n",
      "c1cncnc1N2CCNCC2 1\n",
      "c1cc(cnc1)c2cnn(c2)C3CCNCC3 1\n",
      "C1CCN[C@@H](C1)C2CNC2 1\n",
      "c1ccc2c(c1)CC=N2 1\n",
      "c1ccc2c(c1)CCN2 1\n",
      "c1ccc2c(c1)c3c([nH]2)Cc4cc(ccc4C3)N5CCC(CC5)N6CCOCC6 1\n",
      "c1ccc2c(c1)c(c[nH]2)c3ccncn3 1\n",
      "c1ccc(cc1)C2CCNCC2 1\n",
      "c1ccc(cc1)c2cc3cc[nH]c3nc2 1\n",
      "c1c2c(ncn1)N(CC=C2)C3CCCC3 1\n",
      "c1cn(c2c1cncn2)C3CCCC3 1\n",
      "c1c[nH]c2c1c(ncn2)c3c[nH]nc3 1\n",
      "c1ccc(cc1)N2CCC(CC2)N3CCNCC3 1\n",
      "c1ccc(cc1)n2ccnc2 1\n",
      "c1cc(oc1)c2ccc3c(c2)cncn3 1\n",
      "c1cc2nccn2nc1 1\n",
      "C1CCOC1 1\n",
      "c1ccc2c(c1)c3c4c(c5c6ccccc6n7c5c3n2[C@H]8CCC[C@@H]7O8)CNC4 1\n",
      "C1CCCC1 1\n",
      "c1cc[nH]c1 1\n",
      "C 0\n"
     ]
    }
   ],
   "source": [
    "# Add extra SMILES to the end for even grid of 2D depictions \n",
    "ring_cnt[\"C\"]= 0\n",
    "\n",
    "ring_cnt_sorted = sorted(ring_cnt, key=ring_cnt.get, reverse=True)\n",
    "print(len(ring_cnt_sorted))\n",
    "\n",
    "for smiles in ring_cnt_sorted:\n",
    "    print(smiles, ring_cnt[smiles])    "
   ]
  },
  {
   "cell_type": "code",
   "execution_count": 8,
   "metadata": {},
   "outputs": [
    {
     "data": {
      "text/plain": [
       "True"
      ]
     },
     "execution_count": 8,
     "metadata": {},
     "output_type": "execute_result"
    }
   ],
   "source": [
    "# Depict all rings\n",
    "font = OEFont()\n",
    "font.SetSize(40)\n",
    "font.SetAlignment(OEAlignment_Center)\n",
    "\n",
    "molecules = []\n",
    "for smi in ring_cnt_sorted:\n",
    "    mol = OEGraphMol()\n",
    "    OESmilesToMol(mol, smi)\n",
    "    OEPrepareDepiction(mol)\n",
    "    molecules.append(OEGraphMol(mol))\n",
    "    \n",
    "image = OEImage(5000, 8000)\n",
    "\n",
    "rows, cols = 8, 5\n",
    "grid = OEImageGrid(image, rows, cols)\n",
    "\n",
    "opts = OE2DMolDisplayOptions(grid.GetCellWidth(), grid.GetCellHeight(), OEScale_AutoScale)\n",
    "\n",
    "minscale = float(\"inf\")\n",
    "for mol in molecules:\n",
    "    minscale = min(minscale, OEGetMoleculeScale(mol, opts))\n",
    "\n",
    "opts.SetScale(minscale)\n",
    "for idx, cell in enumerate(grid.GetCells()):\n",
    "    disp = OE2DMolDisplay(molecules[idx], opts)\n",
    "    OERenderMolecule(cell, disp)\n",
    "    \n",
    "    data = \"freq = \" + str(ring_cnt[ring_cnt_sorted[idx]]) \n",
    "    offset = 200\n",
    "    cell.DrawText(OE2DPoint(350, offset), data, font)\n",
    "\n",
    "OEWriteImage(\"all_rings.png\", image)"
   ]
  },
  {
   "cell_type": "code",
   "execution_count": 9,
   "metadata": {
    "scrolled": true
   },
   "outputs": [
    {
     "name": "stdout",
     "output_type": "stream",
     "text": [
      "c1ccccc1 36\n",
      "c1ccc2c(c1)cncn2 4\n",
      "c1ccc2c(c1)cccn2 4\n",
      "c1ccncc1 4\n",
      "C1CNCCN1 4\n",
      "C1CCCCC1 3\n",
      "c1cncnc1 3\n",
      "C1CCC/C=C/C=C/C=C/CC[C@@H]2CCC[C@@H](O2)CCN3CCCC[C@H]3COCCCC/C=C/CC1 3\n",
      "C1CCNCC1 2\n",
      "c1ccc2c(c1)c[nH]n2 2\n",
      "C1CC1 2\n",
      "c1cc(cnc1)c2ccncn2 2\n",
      "c1cc(cnc1)N2CCNCC2 2\n",
      "C 0\n"
     ]
    }
   ],
   "source": [
    "# Select subset of dictionary for rings appearing more than once\n",
    "ring_cnt_multiple = {k: v for k, v in ring_cnt.items() if v > 1}\n",
    "#print(ring_cnt_multiple)\n",
    "\n",
    "# Add extra SMILES to the end for even grid of 2D depictions \n",
    "ring_cnt_multiple[\"C\"]= 0\n",
    "\n",
    "# Sort based on frequency\n",
    "ring_cnt_multiple_sorted = sorted(ring_cnt_multiple, key=ring_cnt_multiple.get, reverse=True)\n",
    "\n",
    "for smiles in ring_cnt_multiple_sorted:\n",
    "    print(smiles, ring_cnt_multiple[smiles])"
   ]
  },
  {
   "cell_type": "code",
   "execution_count": 10,
   "metadata": {},
   "outputs": [
    {
     "name": "stdout",
     "output_type": "stream",
     "text": [
      "['c1ccccc1', 'c1ccc2c(c1)cncn2', 'c1ccc2c(c1)cccn2', 'c1ccncc1', 'C1CNCCN1', 'C1CCCCC1', 'c1cncnc1', 'C1CCC/C=C/C=C/C=C/CC[C@@H]2CCC[C@@H](O2)CCN3CCCC[C@H]3COCCCC/C=C/CC1', 'C1CCNCC1', 'c1ccc2c(c1)c[nH]n2', 'C1CC1', 'c1cc(cnc1)c2ccncn2', 'c1cc(cnc1)N2CCNCC2', 'C']\n"
     ]
    },
    {
     "data": {
      "text/plain": [
       "True"
      ]
     },
     "execution_count": 10,
     "metadata": {},
     "output_type": "execute_result"
    }
   ],
   "source": [
    "# Depict frequent rings seen more than once\n",
    "smiles_of_frequent_rings=[]\n",
    "for smiles in ring_cnt_multiple_sorted:\n",
    "    smiles_of_frequent_rings.append(smiles)\n",
    "\n",
    "print(smiles_of_frequent_rings)\n",
    "\n",
    "\n",
    "    \n",
    "font = OEFont()\n",
    "font.SetSize(60)\n",
    "font.SetAlignment(OEAlignment_Center)\n",
    "\n",
    "molecules = []\n",
    "for smi in smiles_of_frequent_rings:\n",
    "    mol = OEGraphMol()\n",
    "    OESmilesToMol(mol, smi)\n",
    "    OEPrepareDepiction(mol)\n",
    "    molecules.append(OEGraphMol(mol))\n",
    "    \n",
    "image = OEImage(5000, 2000)\n",
    "\n",
    "rows, cols = 2, 7\n",
    "grid = OEImageGrid(image, rows, cols)\n",
    "\n",
    "opts = OE2DMolDisplayOptions(grid.GetCellWidth(), grid.GetCellHeight(), OEScale_AutoScale)\n",
    "\n",
    "minscale = float(\"inf\")\n",
    "for mol in molecules:\n",
    "    minscale = min(minscale, OEGetMoleculeScale(mol, opts))\n",
    "\n",
    "opts.SetScale(minscale)\n",
    "for idx, cell in enumerate(grid.GetCells()):\n",
    "    disp = OE2DMolDisplay(molecules[idx], opts)\n",
    "    OERenderMolecule(cell, disp)\n",
    "    \n",
    "    data = \"freq = \" + str(ring_cnt_multiple[smiles_of_frequent_rings[idx]]) \n",
    "    offset = 200\n",
    "    cell.DrawText(OE2DPoint(350, offset), data, font)\n",
    "\n",
    "OEWriteImage(\"frequent_rings.png\", image)"
   ]
  }
 ],
 "metadata": {
  "kernelspec": {
   "display_name": "Python 3",
   "language": "python",
   "name": "python3"
  },
  "language_info": {
   "codemirror_mode": {
    "name": "ipython",
    "version": 3
   },
   "file_extension": ".py",
   "mimetype": "text/x-python",
   "name": "python",
   "nbconvert_exporter": "python",
   "pygments_lexer": "ipython3",
   "version": "3.5.3"
  }
 },
 "nbformat": 4,
 "nbformat_minor": 2
}

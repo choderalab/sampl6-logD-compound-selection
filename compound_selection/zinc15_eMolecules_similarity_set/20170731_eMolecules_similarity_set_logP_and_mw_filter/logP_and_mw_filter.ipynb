{
 "cells": [
  {
   "cell_type": "code",
   "execution_count": 1,
   "metadata": {
    "collapsed": true
   },
   "outputs": [],
   "source": [
    "#!/usr/bin/env python3\n",
    "\n",
    "# This script takes a csv file for a set molecules with a SMILES column as input. OpenEye \n",
    "# functionalities are used to calculate XlogP\n",
    "\n",
    "import pandas as pd\n",
    "import numpy as np\n",
    "from openeye import oechem, oedepict, oemolprop\n",
    "import oenotebook as oenb\n",
    "import matplotlib.pyplot as plt\n",
    "%matplotlib inline"
   ]
  },
  {
   "cell_type": "markdown",
   "metadata": {},
   "source": [
    "## 1. Filtering by logP"
   ]
  },
  {
   "cell_type": "code",
   "execution_count": 2,
   "metadata": {},
   "outputs": [
    {
     "name": "stdout",
     "output_type": "stream",
     "text": [
      "Initial number of molecules:  6\n"
     ]
    },
    {
     "data": {
      "text/html": [
       "<div>\n",
       "<style>\n",
       "    .dataframe thead tr:only-child th {\n",
       "        text-align: right;\n",
       "    }\n",
       "\n",
       "    .dataframe thead th {\n",
       "        text-align: left;\n",
       "    }\n",
       "\n",
       "    .dataframe tbody tr th {\n",
       "        vertical-align: top;\n",
       "    }\n",
       "</style>\n",
       "<table border=\"1\" class=\"dataframe\">\n",
       "  <thead>\n",
       "    <tr style=\"text-align: right;\">\n",
       "      <th></th>\n",
       "      <th>eMolecules SKU</th>\n",
       "      <th>canonical isomeric SMILES</th>\n",
       "      <th>pKas in [3,11]</th>\n",
       "      <th>XlogP</th>\n",
       "    </tr>\n",
       "  </thead>\n",
       "  <tbody>\n",
       "    <tr>\n",
       "      <th>0</th>\n",
       "      <td>143204456</td>\n",
       "      <td>c1ccc(cc1)CC(=O)Nc2nc3ccccc3s2</td>\n",
       "      <td>[9.045]</td>\n",
       "      <td>3.685</td>\n",
       "    </tr>\n",
       "    <tr>\n",
       "      <th>1</th>\n",
       "      <td>133190549</td>\n",
       "      <td>c1ccc2c(c1)N(c3cc(ccc3S2)C(F)(F)F)CCCN4CCN(CC4...</td>\n",
       "      <td>[6.069, 8.134]</td>\n",
       "      <td>3.298</td>\n",
       "    </tr>\n",
       "    <tr>\n",
       "      <th>2</th>\n",
       "      <td>103864712</td>\n",
       "      <td>c1cc(cc(c1)Cl)Nc2c3c([nH]cn3)nc(n2)N</td>\n",
       "      <td>[4.231]</td>\n",
       "      <td>1.395</td>\n",
       "    </tr>\n",
       "    <tr>\n",
       "      <th>3</th>\n",
       "      <td>153698825</td>\n",
       "      <td>c1ccc(cc1)CC(=O)Nc2nc3ccccc3s2</td>\n",
       "      <td>[9.045]</td>\n",
       "      <td>3.685</td>\n",
       "    </tr>\n",
       "    <tr>\n",
       "      <th>4</th>\n",
       "      <td>138902653</td>\n",
       "      <td>c1ccc(cc1)CC(=O)Nc2nc3ccccc3s2</td>\n",
       "      <td>[9.045]</td>\n",
       "      <td>3.685</td>\n",
       "    </tr>\n",
       "  </tbody>\n",
       "</table>\n",
       "</div>"
      ],
      "text/plain": [
       "   eMolecules SKU                          canonical isomeric SMILES  \\\n",
       "0       143204456                     c1ccc(cc1)CC(=O)Nc2nc3ccccc3s2   \n",
       "1       133190549  c1ccc2c(c1)N(c3cc(ccc3S2)C(F)(F)F)CCCN4CCN(CC4...   \n",
       "2       103864712               c1cc(cc(c1)Cl)Nc2c3c([nH]cn3)nc(n2)N   \n",
       "3       153698825                     c1ccc(cc1)CC(=O)Nc2nc3ccccc3s2   \n",
       "4       138902653                     c1ccc(cc1)CC(=O)Nc2nc3ccccc3s2   \n",
       "\n",
       "   pKas in [3,11]  XlogP  \n",
       "0         [9.045]  3.685  \n",
       "1  [6.069, 8.134]  3.298  \n",
       "2         [4.231]  1.395  \n",
       "3         [9.045]  3.685  \n",
       "4         [9.045]  3.685  "
      ]
     },
     "execution_count": 2,
     "metadata": {},
     "output_type": "execute_result"
    }
   ],
   "source": [
    "###### IMPORT PKA FILTERED MOLECULE LIST FROM CSV FILE ######\n",
    "df_pKa = pd.read_csv(\"df_pKa_interval_3-11_spread.csv\")\n",
    "\n",
    "df_XlogP = df_pKa.loc[:, (\"eMolecules SKU\", \"canonical isomeric SMILES\", \"pKas in [3,11]\")]\n",
    "\n",
    "\n",
    "print(\"Initial number of molecules: \", df_XlogP.shape[0])\n",
    "# df_XlogP.head()\n",
    "\n",
    "# make new column for XlogP data \n",
    "df_XlogP[\"XlogP\"] = None\n",
    "\n",
    "for i, row in enumerate(df_XlogP.iterrows()):\n",
    "    smiles = df_XlogP.loc[i,\"canonical isomeric SMILES\"]\n",
    "    mol = oechem.OEGraphMol()\n",
    "    oechem.OESmilesToMol(mol, str(smiles))\n",
    "    \n",
    "    try: \n",
    "        logP=oemolprop.OEGetXLogP(mol)\n",
    "    except RuntimeError:\n",
    "            print(\"Error: i=\",i,\" \", df_molecules.ix[i, \"NAME\"])\n",
    "            logP=float(\"NaN\")\n",
    "            \n",
    "    df_XlogP.loc[i,\"XlogP\"] = float(logP)\n",
    "    del mol\n",
    "df_XlogP.head()"
   ]
  },
  {
   "cell_type": "code",
   "execution_count": 3,
   "metadata": {},
   "outputs": [
    {
     "name": "stdout",
     "output_type": "stream",
     "text": [
      "Number of molecules in logP interval:  6\n"
     ]
    },
    {
     "data": {
      "text/html": [
       "<div>\n",
       "<style>\n",
       "    .dataframe thead tr:only-child th {\n",
       "        text-align: right;\n",
       "    }\n",
       "\n",
       "    .dataframe thead th {\n",
       "        text-align: left;\n",
       "    }\n",
       "\n",
       "    .dataframe tbody tr th {\n",
       "        vertical-align: top;\n",
       "    }\n",
       "</style>\n",
       "<table border=\"1\" class=\"dataframe\">\n",
       "  <thead>\n",
       "    <tr style=\"text-align: right;\">\n",
       "      <th></th>\n",
       "      <th>eMolecules SKU</th>\n",
       "      <th>canonical isomeric SMILES</th>\n",
       "      <th>pKas in [3,11]</th>\n",
       "      <th>XlogP</th>\n",
       "    </tr>\n",
       "  </thead>\n",
       "  <tbody>\n",
       "    <tr>\n",
       "      <th>0</th>\n",
       "      <td>143204456</td>\n",
       "      <td>c1ccc(cc1)CC(=O)Nc2nc3ccccc3s2</td>\n",
       "      <td>[9.045]</td>\n",
       "      <td>3.685</td>\n",
       "    </tr>\n",
       "    <tr>\n",
       "      <th>1</th>\n",
       "      <td>133190549</td>\n",
       "      <td>c1ccc2c(c1)N(c3cc(ccc3S2)C(F)(F)F)CCCN4CCN(CC4...</td>\n",
       "      <td>[6.069, 8.134]</td>\n",
       "      <td>3.298</td>\n",
       "    </tr>\n",
       "    <tr>\n",
       "      <th>2</th>\n",
       "      <td>103864712</td>\n",
       "      <td>c1cc(cc(c1)Cl)Nc2c3c([nH]cn3)nc(n2)N</td>\n",
       "      <td>[4.231]</td>\n",
       "      <td>1.395</td>\n",
       "    </tr>\n",
       "    <tr>\n",
       "      <th>3</th>\n",
       "      <td>153698825</td>\n",
       "      <td>c1ccc(cc1)CC(=O)Nc2nc3ccccc3s2</td>\n",
       "      <td>[9.045]</td>\n",
       "      <td>3.685</td>\n",
       "    </tr>\n",
       "    <tr>\n",
       "      <th>4</th>\n",
       "      <td>138902653</td>\n",
       "      <td>c1ccc(cc1)CC(=O)Nc2nc3ccccc3s2</td>\n",
       "      <td>[9.045]</td>\n",
       "      <td>3.685</td>\n",
       "    </tr>\n",
       "  </tbody>\n",
       "</table>\n",
       "</div>"
      ],
      "text/plain": [
       "   eMolecules SKU                          canonical isomeric SMILES  \\\n",
       "0       143204456                     c1ccc(cc1)CC(=O)Nc2nc3ccccc3s2   \n",
       "1       133190549  c1ccc2c(c1)N(c3cc(ccc3S2)C(F)(F)F)CCCN4CCN(CC4...   \n",
       "2       103864712               c1cc(cc(c1)Cl)Nc2c3c([nH]cn3)nc(n2)N   \n",
       "3       153698825                     c1ccc(cc1)CC(=O)Nc2nc3ccccc3s2   \n",
       "4       138902653                     c1ccc(cc1)CC(=O)Nc2nc3ccccc3s2   \n",
       "\n",
       "   pKas in [3,11]  XlogP  \n",
       "0         [9.045]  3.685  \n",
       "1  [6.069, 8.134]  3.298  \n",
       "2         [4.231]  1.395  \n",
       "3         [9.045]  3.685  \n",
       "4         [9.045]  3.685  "
      ]
     },
     "execution_count": 3,
     "metadata": {},
     "output_type": "execute_result"
    }
   ],
   "source": [
    "##### ELIMINATE MOLECULES OUTSIDE ACCEPTABLE LOGP INTEVAL: -1 <= logP <= 6  #####\n",
    "\n",
    "# Select molecules within desired logP interval\n",
    "df_XlogP_interval = df_XlogP.loc[(-1 <= df_XlogP[\"XlogP\"])]\n",
    "df_XlogP_interval = df_XlogP_interval.loc[(df_XlogP_interval[\"XlogP\"] <= 6)].reindex()\n",
    "\n",
    "print(\"Number of molecules in logP interval: \", df_XlogP_interval.shape[0])\n",
    "\n",
    "# Save dataframe of molecules that are withing XlogP interval criteria.\n",
    "df_XlogP_interval.to_csv(\"df_XlogP_interval.csv\")\n",
    "\n",
    "df_XlogP_interval.head()"
   ]
  },
  {
   "cell_type": "code",
   "execution_count": 4,
   "metadata": {},
   "outputs": [
    {
     "data": {
      "text/plain": [
       "(0, 6)"
      ]
     },
     "execution_count": 4,
     "metadata": {},
     "output_type": "execute_result"
    },
    {
     "data": {
      "image/png": "[encoded data removed]",
      "text/plain": [
       "<matplotlib.figure.Figure at 0x10bbc8518>"
      ]
     },
     "metadata": {},
     "output_type": "display_data"
    }
   ],
   "source": [
    "XlogP_values = df_XlogP_interval.loc[:, \"XlogP\"]\n",
    "plt.hist(XlogP_values, bins=12)\n",
    "plt.xlabel(\"XlogP\")\n",
    "plt.ylabel(\"molecule count\")\n",
    "plt.xlim(0,6)"
   ]
  },
  {
   "cell_type": "markdown",
   "metadata": {
    "collapsed": true
   },
   "source": [
    "## 2. Filtering by Molecular Weight"
   ]
  },
  {
   "cell_type": "code",
   "execution_count": 5,
   "metadata": {},
   "outputs": [
    {
     "name": "stdout",
     "output_type": "stream",
     "text": [
      "c1ccc(cc1)CC(=O)Nc2nc3ccccc3s2\n",
      "<oechem.OEGraphMol; proxy of <Swig Object of type 'OEGraphMolWrapper *' at 0x11b0eaea0> >\n",
      "c1ccc2c(c1)N(c3cc(ccc3S2)C(F)(F)F)CCCN4CCN(CC4)CCO\n",
      "<oechem.OEGraphMol; proxy of <Swig Object of type 'OEGraphMolWrapper *' at 0x11b0eac30> >\n",
      "c1cc(cc(c1)Cl)Nc2c3c([nH]cn3)nc(n2)N\n",
      "<oechem.OEGraphMol; proxy of <Swig Object of type 'OEGraphMolWrapper *' at 0x11b0ea030> >\n",
      "c1ccc(cc1)CC(=O)Nc2nc3ccccc3s2\n",
      "<oechem.OEGraphMol; proxy of <Swig Object of type 'OEGraphMolWrapper *' at 0x11b1b0180> >\n",
      "c1ccc(cc1)CC(=O)Nc2nc3ccccc3s2\n",
      "<oechem.OEGraphMol; proxy of <Swig Object of type 'OEGraphMolWrapper *' at 0x11b0ea060> >\n",
      "c1ccc2c(c1)N(c3cc(ccc3S2)C(F)(F)F)CCCN4CCN(CC4)CCO\n",
      "<oechem.OEGraphMol; proxy of <Swig Object of type 'OEGraphMolWrapper *' at 0x11b0ea150> >\n"
     ]
    },
    {
     "data": {
      "text/html": [
       "<div>\n",
       "<style>\n",
       "    .dataframe thead tr:only-child th {\n",
       "        text-align: right;\n",
       "    }\n",
       "\n",
       "    .dataframe thead th {\n",
       "        text-align: left;\n",
       "    }\n",
       "\n",
       "    .dataframe tbody tr th {\n",
       "        vertical-align: top;\n",
       "    }\n",
       "</style>\n",
       "<table border=\"1\" class=\"dataframe\">\n",
       "  <thead>\n",
       "    <tr style=\"text-align: right;\">\n",
       "      <th></th>\n",
       "      <th>eMolecules SKU</th>\n",
       "      <th>canonical isomeric SMILES</th>\n",
       "      <th>pKas in [3,11]</th>\n",
       "      <th>XlogP</th>\n",
       "      <th>MolWt</th>\n",
       "    </tr>\n",
       "  </thead>\n",
       "  <tbody>\n",
       "    <tr>\n",
       "      <th>0</th>\n",
       "      <td>143204456</td>\n",
       "      <td>c1ccc(cc1)CC(=O)Nc2nc3ccccc3s2</td>\n",
       "      <td>[9.045]</td>\n",
       "      <td>3.685</td>\n",
       "      <td>268.334</td>\n",
       "    </tr>\n",
       "    <tr>\n",
       "      <th>1</th>\n",
       "      <td>133190549</td>\n",
       "      <td>c1ccc2c(c1)N(c3cc(ccc3S2)C(F)(F)F)CCCN4CCN(CC4...</td>\n",
       "      <td>[6.069, 8.134]</td>\n",
       "      <td>3.298</td>\n",
       "      <td>437.522</td>\n",
       "    </tr>\n",
       "    <tr>\n",
       "      <th>2</th>\n",
       "      <td>103864712</td>\n",
       "      <td>c1cc(cc(c1)Cl)Nc2c3c([nH]cn3)nc(n2)N</td>\n",
       "      <td>[4.231]</td>\n",
       "      <td>1.395</td>\n",
       "      <td>260.682</td>\n",
       "    </tr>\n",
       "    <tr>\n",
       "      <th>3</th>\n",
       "      <td>153698825</td>\n",
       "      <td>c1ccc(cc1)CC(=O)Nc2nc3ccccc3s2</td>\n",
       "      <td>[9.045]</td>\n",
       "      <td>3.685</td>\n",
       "      <td>268.334</td>\n",
       "    </tr>\n",
       "    <tr>\n",
       "      <th>4</th>\n",
       "      <td>138902653</td>\n",
       "      <td>c1ccc(cc1)CC(=O)Nc2nc3ccccc3s2</td>\n",
       "      <td>[9.045]</td>\n",
       "      <td>3.685</td>\n",
       "      <td>268.334</td>\n",
       "    </tr>\n",
       "  </tbody>\n",
       "</table>\n",
       "</div>"
      ],
      "text/plain": [
       "   eMolecules SKU                          canonical isomeric SMILES  \\\n",
       "0       143204456                     c1ccc(cc1)CC(=O)Nc2nc3ccccc3s2   \n",
       "1       133190549  c1ccc2c(c1)N(c3cc(ccc3S2)C(F)(F)F)CCCN4CCN(CC4...   \n",
       "2       103864712               c1cc(cc(c1)Cl)Nc2c3c([nH]cn3)nc(n2)N   \n",
       "3       153698825                     c1ccc(cc1)CC(=O)Nc2nc3ccccc3s2   \n",
       "4       138902653                     c1ccc(cc1)CC(=O)Nc2nc3ccccc3s2   \n",
       "\n",
       "   pKas in [3,11]  XlogP    MolWt  \n",
       "0         [9.045]  3.685  268.334  \n",
       "1  [6.069, 8.134]  3.298  437.522  \n",
       "2         [4.231]  1.395  260.682  \n",
       "3         [9.045]  3.685  268.334  \n",
       "4         [9.045]  3.685  268.334  "
      ]
     },
     "execution_count": 5,
     "metadata": {},
     "output_type": "execute_result"
    }
   ],
   "source": [
    "# Calculate molecular weight with OpenEye OEChem \n",
    "df_mw = df_XlogP_interval\n",
    "df_mw[\"MolWt\"]=None\n",
    "\n",
    "for i, row in enumerate(df_mw.iterrows()):\n",
    "    smiles = df_mw.loc[i,\"canonical isomeric SMILES\"]\n",
    "    print(smiles)\n",
    "    mol = oechem.OEGraphMol()\n",
    "    print(mol)\n",
    "    oechem.OESmilesToMol(mol, str(smiles))\n",
    "    \n",
    "    try: \n",
    "        mw = oechem.OECalculateMolecularWeight(mol)\n",
    "    except RuntimeError:\n",
    "        print(\"Error: i=\",i,\" \", ddf_XlogP_interval.loc[i, \"eMolecules SKU\"])\n",
    "        mw=float(\"NaN\")\n",
    "            \n",
    "    df_mw.loc[i,\"MolWt\"] = float(mw)\n",
    "    del mol\n",
    "df_mw.head()"
   ]
  },
  {
   "cell_type": "code",
   "execution_count": 6,
   "metadata": {},
   "outputs": [
    {
     "data": {
      "text/html": [
       "<div>\n",
       "<style>\n",
       "    .dataframe thead tr:only-child th {\n",
       "        text-align: right;\n",
       "    }\n",
       "\n",
       "    .dataframe thead th {\n",
       "        text-align: left;\n",
       "    }\n",
       "\n",
       "    .dataframe tbody tr th {\n",
       "        vertical-align: top;\n",
       "    }\n",
       "</style>\n",
       "<table border=\"1\" class=\"dataframe\">\n",
       "  <thead>\n",
       "    <tr style=\"text-align: right;\">\n",
       "      <th></th>\n",
       "      <th>eMolecules SKU</th>\n",
       "      <th>canonical isomeric SMILES</th>\n",
       "      <th>pKas in [3,11]</th>\n",
       "      <th>XlogP</th>\n",
       "      <th>MolWt</th>\n",
       "      <th>group</th>\n",
       "    </tr>\n",
       "  </thead>\n",
       "  <tbody>\n",
       "    <tr>\n",
       "      <th>0</th>\n",
       "      <td>143204456</td>\n",
       "      <td>c1ccc(cc1)CC(=O)Nc2nc3ccccc3s2</td>\n",
       "      <td>[9.045]</td>\n",
       "      <td>3.685</td>\n",
       "      <td>268.334</td>\n",
       "      <td>fragment-like</td>\n",
       "    </tr>\n",
       "    <tr>\n",
       "      <th>1</th>\n",
       "      <td>133190549</td>\n",
       "      <td>c1ccc2c(c1)N(c3cc(ccc3S2)C(F)(F)F)CCCN4CCN(CC4...</td>\n",
       "      <td>[6.069, 8.134]</td>\n",
       "      <td>3.298</td>\n",
       "      <td>437.522</td>\n",
       "      <td>drug-like</td>\n",
       "    </tr>\n",
       "    <tr>\n",
       "      <th>2</th>\n",
       "      <td>103864712</td>\n",
       "      <td>c1cc(cc(c1)Cl)Nc2c3c([nH]cn3)nc(n2)N</td>\n",
       "      <td>[4.231]</td>\n",
       "      <td>1.395</td>\n",
       "      <td>260.682</td>\n",
       "      <td>fragment-like</td>\n",
       "    </tr>\n",
       "    <tr>\n",
       "      <th>3</th>\n",
       "      <td>153698825</td>\n",
       "      <td>c1ccc(cc1)CC(=O)Nc2nc3ccccc3s2</td>\n",
       "      <td>[9.045]</td>\n",
       "      <td>3.685</td>\n",
       "      <td>268.334</td>\n",
       "      <td>fragment-like</td>\n",
       "    </tr>\n",
       "    <tr>\n",
       "      <th>4</th>\n",
       "      <td>138902653</td>\n",
       "      <td>c1ccc(cc1)CC(=O)Nc2nc3ccccc3s2</td>\n",
       "      <td>[9.045]</td>\n",
       "      <td>3.685</td>\n",
       "      <td>268.334</td>\n",
       "      <td>fragment-like</td>\n",
       "    </tr>\n",
       "  </tbody>\n",
       "</table>\n",
       "</div>"
      ],
      "text/plain": [
       "   eMolecules SKU                          canonical isomeric SMILES  \\\n",
       "0       143204456                     c1ccc(cc1)CC(=O)Nc2nc3ccccc3s2   \n",
       "1       133190549  c1ccc2c(c1)N(c3cc(ccc3S2)C(F)(F)F)CCCN4CCN(CC4...   \n",
       "2       103864712               c1cc(cc(c1)Cl)Nc2c3c([nH]cn3)nc(n2)N   \n",
       "3       153698825                     c1ccc(cc1)CC(=O)Nc2nc3ccccc3s2   \n",
       "4       138902653                     c1ccc(cc1)CC(=O)Nc2nc3ccccc3s2   \n",
       "\n",
       "   pKas in [3,11]  XlogP    MolWt          group  \n",
       "0         [9.045]  3.685  268.334  fragment-like  \n",
       "1  [6.069, 8.134]  3.298  437.522      drug-like  \n",
       "2         [4.231]  1.395  260.682  fragment-like  \n",
       "3         [9.045]  3.685  268.334  fragment-like  \n",
       "4         [9.045]  3.685  268.334  fragment-like  "
      ]
     },
     "execution_count": 6,
     "metadata": {},
     "output_type": "execute_result"
    }
   ],
   "source": [
    "# I will group compounds according to molecular weight into 2 groups.\n",
    "# Fragment-like: 150<= mw <350\n",
    "# Drug-like: 350< mw <=500\n",
    "\n",
    "df_mw[\"group\"] = None\n",
    "for i, row in enumerate(df_mw.iterrows()):\n",
    "    mw =df_mw.loc[i,\"MolWt\"]\n",
    "    if (150 <= mw) and (mw < 350):\n",
    "        df_mw.loc[i,\"group\"]= \"fragment-like\"\n",
    "    elif (350 < mw) and (mw <= 500):\n",
    "        df_mw.loc[i,\"group\"]= \"drug-like\"\n",
    "    else:\n",
    "        continue\n",
    "\n",
    "df_mw.head()"
   ]
  },
  {
   "cell_type": "code",
   "execution_count": 7,
   "metadata": {},
   "outputs": [
    {
     "name": "stdout",
     "output_type": "stream",
     "text": [
      "Number of compounds suitable for fragment-like group:  4\n",
      "Number of compounds suitable for drug-like group:  2\n"
     ]
    }
   ],
   "source": [
    "df_frag = df_mw.loc[df_mw[\"group\"] == \"fragment-like\"]\n",
    "print(\"Number of compounds suitable for fragment-like group: \", df_frag.shape[0])\n",
    "\n",
    "df_drug = df_mw.loc[df_mw[\"group\"] == \"drug-like\"]\n",
    "print(\"Number of compounds suitable for drug-like group: \", df_drug.shape[0])"
   ]
  },
  {
   "cell_type": "code",
   "execution_count": 8,
   "metadata": {},
   "outputs": [
    {
     "data": {
      "text/plain": [
       "(0, 20)"
      ]
     },
     "execution_count": 8,
     "metadata": {},
     "output_type": "execute_result"
    },
    {
     "data": {
      "image/png": "[encoded data removed]",
      "text/plain": [
       "<matplotlib.figure.Figure at 0x11b096128>"
      ]
     },
     "metadata": {},
     "output_type": "display_data"
    }
   ],
   "source": [
    "# Let's check the logP distribution of fragment-like group\n",
    "XlogP_values = df_frag.loc[:, \"XlogP\"]\n",
    "plt.hist(XlogP_values, bins=10)\n",
    "plt.xlabel(\"XlogP\")\n",
    "plt.ylabel(\"molecule count\")\n",
    "plt.xlim(0,6)\n",
    "plt.ylim(0,20)"
   ]
  },
  {
   "cell_type": "code",
   "execution_count": 9,
   "metadata": {},
   "outputs": [
    {
     "data": {
      "text/plain": [
       "(0, 20)"
      ]
     },
     "execution_count": 9,
     "metadata": {},
     "output_type": "execute_result"
    },
    {
     "data": {
      "image/png": "[encoded data removed]",
      "text/plain": [
       "<matplotlib.figure.Figure at 0x11d2ff320>"
      ]
     },
     "metadata": {},
     "output_type": "display_data"
    }
   ],
   "source": [
    "# Let's check the logP distribution of drug-like group\n",
    "XlogP_values = df_drug.loc[:, \"XlogP\"]\n",
    "plt.hist(XlogP_values, bins=10)\n",
    "plt.xlabel(\"XlogP\")\n",
    "plt.ylabel(\"molecule count\")\n",
    "plt.xlim(0,6)\n",
    "plt.ylim(0,20)"
   ]
  },
  {
   "cell_type": "markdown",
   "metadata": {},
   "source": [
    "## 3. Filtering based on number of rotatable bonds"
   ]
  },
  {
   "cell_type": "code",
   "execution_count": 10,
   "metadata": {},
   "outputs": [
    {
     "data": {
      "text/html": [
       "<div>\n",
       "<style>\n",
       "    .dataframe thead tr:only-child th {\n",
       "        text-align: right;\n",
       "    }\n",
       "\n",
       "    .dataframe thead th {\n",
       "        text-align: left;\n",
       "    }\n",
       "\n",
       "    .dataframe tbody tr th {\n",
       "        vertical-align: top;\n",
       "    }\n",
       "</style>\n",
       "<table border=\"1\" class=\"dataframe\">\n",
       "  <thead>\n",
       "    <tr style=\"text-align: right;\">\n",
       "      <th></th>\n",
       "      <th>eMolecules SKU</th>\n",
       "      <th>canonical isomeric SMILES</th>\n",
       "      <th>pKas in [3,11]</th>\n",
       "      <th>XlogP</th>\n",
       "      <th>MolWt</th>\n",
       "      <th>group</th>\n",
       "      <th>N_Rot</th>\n",
       "    </tr>\n",
       "  </thead>\n",
       "  <tbody>\n",
       "    <tr>\n",
       "      <th>0</th>\n",
       "      <td>143204456</td>\n",
       "      <td>c1ccc(cc1)CC(=O)Nc2nc3ccccc3s2</td>\n",
       "      <td>[9.045]</td>\n",
       "      <td>3.685</td>\n",
       "      <td>268.334</td>\n",
       "      <td>fragment-like</td>\n",
       "      <td>4</td>\n",
       "    </tr>\n",
       "    <tr>\n",
       "      <th>1</th>\n",
       "      <td>133190549</td>\n",
       "      <td>c1ccc2c(c1)N(c3cc(ccc3S2)C(F)(F)F)CCCN4CCN(CC4...</td>\n",
       "      <td>[6.069, 8.134]</td>\n",
       "      <td>3.298</td>\n",
       "      <td>437.522</td>\n",
       "      <td>drug-like</td>\n",
       "      <td>7</td>\n",
       "    </tr>\n",
       "    <tr>\n",
       "      <th>2</th>\n",
       "      <td>103864712</td>\n",
       "      <td>c1cc(cc(c1)Cl)Nc2c3c([nH]cn3)nc(n2)N</td>\n",
       "      <td>[4.231]</td>\n",
       "      <td>1.395</td>\n",
       "      <td>260.682</td>\n",
       "      <td>fragment-like</td>\n",
       "      <td>2</td>\n",
       "    </tr>\n",
       "    <tr>\n",
       "      <th>3</th>\n",
       "      <td>153698825</td>\n",
       "      <td>c1ccc(cc1)CC(=O)Nc2nc3ccccc3s2</td>\n",
       "      <td>[9.045]</td>\n",
       "      <td>3.685</td>\n",
       "      <td>268.334</td>\n",
       "      <td>fragment-like</td>\n",
       "      <td>4</td>\n",
       "    </tr>\n",
       "    <tr>\n",
       "      <th>4</th>\n",
       "      <td>138902653</td>\n",
       "      <td>c1ccc(cc1)CC(=O)Nc2nc3ccccc3s2</td>\n",
       "      <td>[9.045]</td>\n",
       "      <td>3.685</td>\n",
       "      <td>268.334</td>\n",
       "      <td>fragment-like</td>\n",
       "      <td>4</td>\n",
       "    </tr>\n",
       "  </tbody>\n",
       "</table>\n",
       "</div>"
      ],
      "text/plain": [
       "   eMolecules SKU                          canonical isomeric SMILES  \\\n",
       "0       143204456                     c1ccc(cc1)CC(=O)Nc2nc3ccccc3s2   \n",
       "1       133190549  c1ccc2c(c1)N(c3cc(ccc3S2)C(F)(F)F)CCCN4CCN(CC4...   \n",
       "2       103864712               c1cc(cc(c1)Cl)Nc2c3c([nH]cn3)nc(n2)N   \n",
       "3       153698825                     c1ccc(cc1)CC(=O)Nc2nc3ccccc3s2   \n",
       "4       138902653                     c1ccc(cc1)CC(=O)Nc2nc3ccccc3s2   \n",
       "\n",
       "   pKas in [3,11]  XlogP    MolWt          group N_Rot  \n",
       "0         [9.045]  3.685  268.334  fragment-like     4  \n",
       "1  [6.069, 8.134]  3.298  437.522      drug-like     7  \n",
       "2         [4.231]  1.395  260.682  fragment-like     2  \n",
       "3         [9.045]  3.685  268.334  fragment-like     4  \n",
       "4         [9.045]  3.685  268.334  fragment-like     4  "
      ]
     },
     "execution_count": 10,
     "metadata": {},
     "output_type": "execute_result"
    }
   ],
   "source": [
    "# Number of non-terminal rotatable bonds (excluding -OH)\n",
    "\n",
    "df_mw[\"N_Rot\"]=None\n",
    "\n",
    "for i, row in enumerate(df_mw.iterrows()):\n",
    "    smiles = df_mw.loc[i,\"canonical isomeric SMILES\"]\n",
    "    mol = oechem.OEGraphMol()\n",
    "    oechem.OESmilesToMol(mol, smiles)\n",
    "    \n",
    "    rotcounts = []\n",
    "    nrots = oechem.OECount(mol, oechem.OEIsRotor())\n",
    "    while nrots >= len(rotcounts):\n",
    "        rotcounts.append(0)\n",
    "    rotcounts[nrots] += 1\n",
    "    \n",
    "    del mol\n",
    "    number_of_rotatable_bonds = len(rotcounts) - 1\n",
    "    #print (\"Max rotors:\", number_of_rotatable_bonds)\n",
    "    #print(df_mw.loc[i,\"eMolecules ID\"])\n",
    "    \n",
    "    df_mw.loc[i,\"N_Rot\"]= number_of_rotatable_bonds \n",
    "\n",
    "df_mw.head()"
   ]
  },
  {
   "cell_type": "code",
   "execution_count": 11,
   "metadata": {},
   "outputs": [
    {
     "name": "stdout",
     "output_type": "stream",
     "text": [
      "Number of compounds suitable for fragment-like group:  1\n"
     ]
    }
   ],
   "source": [
    "# Number of rotatable bonds in fragment-like group shoud be <= 3\n",
    "df_frag = df_mw.loc[df_mw[\"group\"] == \"fragment-like\"]\n",
    "df_frag_nrot_interval = df_frag.loc[df_frag[\"N_Rot\"] <= 3]\n",
    "\n",
    "print(\"Number of compounds suitable for fragment-like group: \", df_frag_nrot_interval.shape[0])"
   ]
  },
  {
   "cell_type": "code",
   "execution_count": 12,
   "metadata": {},
   "outputs": [
    {
     "name": "stdout",
     "output_type": "stream",
     "text": [
      "Number of compounds suitable for drug-like group:  2\n"
     ]
    }
   ],
   "source": [
    "# Number of rotatable bonds in fragment-like group shoud be <= 8\n",
    "df_drug = df_mw.loc[df_mw[\"group\"] == \"drug-like\"]\n",
    "df_drug_nrot_interval = df_drug.loc[df_drug[\"N_Rot\"] <= 8]\n",
    "\n",
    "print(\"Number of compounds suitable for drug-like group: \", df_drug_nrot_interval.shape[0])"
   ]
  },
  {
   "cell_type": "markdown",
   "metadata": {},
   "source": [
    "## 4. Filtering based on possible UV-chromophores"
   ]
  },
  {
   "cell_type": "code",
   "execution_count": 13,
   "metadata": {},
   "outputs": [
    {
     "data": {
      "text/html": [
       "<div>\n",
       "<style>\n",
       "    .dataframe thead tr:only-child th {\n",
       "        text-align: right;\n",
       "    }\n",
       "\n",
       "    .dataframe thead th {\n",
       "        text-align: left;\n",
       "    }\n",
       "\n",
       "    .dataframe tbody tr th {\n",
       "        vertical-align: top;\n",
       "    }\n",
       "</style>\n",
       "<table border=\"1\" class=\"dataframe\">\n",
       "  <thead>\n",
       "    <tr style=\"text-align: right;\">\n",
       "      <th></th>\n",
       "      <th>eMolecules SKU</th>\n",
       "      <th>canonical isomeric SMILES</th>\n",
       "      <th>pKas in [3,11]</th>\n",
       "      <th>XlogP</th>\n",
       "      <th>MolWt</th>\n",
       "      <th>group</th>\n",
       "      <th>N_Rot</th>\n",
       "      <th>N_UV_chrom</th>\n",
       "    </tr>\n",
       "  </thead>\n",
       "  <tbody>\n",
       "    <tr>\n",
       "      <th>0</th>\n",
       "      <td>143204456</td>\n",
       "      <td>c1ccc(cc1)CC(=O)Nc2nc3ccccc3s2</td>\n",
       "      <td>[9.045]</td>\n",
       "      <td>3.685</td>\n",
       "      <td>268.334</td>\n",
       "      <td>fragment-like</td>\n",
       "      <td>4</td>\n",
       "      <td>28</td>\n",
       "    </tr>\n",
       "    <tr>\n",
       "      <th>1</th>\n",
       "      <td>133190549</td>\n",
       "      <td>c1ccc2c(c1)N(c3cc(ccc3S2)C(F)(F)F)CCCN4CCN(CC4...</td>\n",
       "      <td>[6.069, 8.134]</td>\n",
       "      <td>3.298</td>\n",
       "      <td>437.522</td>\n",
       "      <td>drug-like</td>\n",
       "      <td>7</td>\n",
       "      <td>24</td>\n",
       "    </tr>\n",
       "    <tr>\n",
       "      <th>2</th>\n",
       "      <td>103864712</td>\n",
       "      <td>c1cc(cc(c1)Cl)Nc2c3c([nH]cn3)nc(n2)N</td>\n",
       "      <td>[4.231]</td>\n",
       "      <td>1.395</td>\n",
       "      <td>260.682</td>\n",
       "      <td>fragment-like</td>\n",
       "      <td>2</td>\n",
       "      <td>20</td>\n",
       "    </tr>\n",
       "    <tr>\n",
       "      <th>3</th>\n",
       "      <td>153698825</td>\n",
       "      <td>c1ccc(cc1)CC(=O)Nc2nc3ccccc3s2</td>\n",
       "      <td>[9.045]</td>\n",
       "      <td>3.685</td>\n",
       "      <td>268.334</td>\n",
       "      <td>fragment-like</td>\n",
       "      <td>4</td>\n",
       "      <td>28</td>\n",
       "    </tr>\n",
       "    <tr>\n",
       "      <th>4</th>\n",
       "      <td>138902653</td>\n",
       "      <td>c1ccc(cc1)CC(=O)Nc2nc3ccccc3s2</td>\n",
       "      <td>[9.045]</td>\n",
       "      <td>3.685</td>\n",
       "      <td>268.334</td>\n",
       "      <td>fragment-like</td>\n",
       "      <td>4</td>\n",
       "      <td>28</td>\n",
       "    </tr>\n",
       "  </tbody>\n",
       "</table>\n",
       "</div>"
      ],
      "text/plain": [
       "   eMolecules SKU                          canonical isomeric SMILES  \\\n",
       "0       143204456                     c1ccc(cc1)CC(=O)Nc2nc3ccccc3s2   \n",
       "1       133190549  c1ccc2c(c1)N(c3cc(ccc3S2)C(F)(F)F)CCCN4CCN(CC4...   \n",
       "2       103864712               c1cc(cc(c1)Cl)Nc2c3c([nH]cn3)nc(n2)N   \n",
       "3       153698825                     c1ccc(cc1)CC(=O)Nc2nc3ccccc3s2   \n",
       "4       138902653                     c1ccc(cc1)CC(=O)Nc2nc3ccccc3s2   \n",
       "\n",
       "   pKas in [3,11]  XlogP    MolWt          group N_Rot N_UV_chrom  \n",
       "0         [9.045]  3.685  268.334  fragment-like     4         28  \n",
       "1  [6.069, 8.134]  3.298  437.522      drug-like     7         24  \n",
       "2         [4.231]  1.395  260.682  fragment-like     2         20  \n",
       "3         [9.045]  3.685  268.334  fragment-like     4         28  \n",
       "4         [9.045]  3.685  268.334  fragment-like     4         28  "
      ]
     },
     "execution_count": 13,
     "metadata": {},
     "output_type": "execute_result"
    }
   ],
   "source": [
    "# For UV-metric pKa measurement UV chromophores absorbing in 200-400 nm are necessary.\n",
    "# I will use presence of C=C-C=C, C=C-C=O or C=C-C=N  substructures as an indictato of UV-chromophore\n",
    "# 1.3-butadiene absorbs at 217 nm\n",
    "\n",
    "df_mw[\"N_UV_chrom\"]=None\n",
    "\n",
    "UV_chromophore_SMARTS = \"[n,o,c][c,n,o]cc\"\n",
    "\n",
    "for i, row in enumerate(df_mw.iterrows()):\n",
    "\n",
    "    # Count number UV absorbing conjugated-pi systems using SMARTS matching\n",
    "\n",
    "    smiles = df_mw.loc[i,\"canonical isomeric SMILES\"]\n",
    "    mol = oechem.OEGraphMol()\n",
    "    oechem.OESmilesToMol(mol, str(smiles))\n",
    "\n",
    "    #create a substructure search object\n",
    "    queried_substructure = UV_chromophore_SMARTS\n",
    "    ss = oechem.OESubSearch(queried_substructure)\n",
    "    oechem.OEPrepareSearch(mol, ss)\n",
    "\n",
    "    # loop over matches to count\n",
    "    matched_ss_list=[]\n",
    "    UV_chromophore_count = 0\n",
    "    for index, match in enumerate(ss.Match(mol)):\n",
    "        if ss.SingleMatch(mol) == True:\n",
    "            matched_ss_list.append((index, match))\n",
    "            UV_chromophore_count = len(matched_ss_list)\n",
    "    \n",
    "    df_mw.loc[i, \"N_UV_chrom\"] = UV_chromophore_count\n",
    "\n",
    "df_mw.head()"
   ]
  },
  {
   "cell_type": "code",
   "execution_count": 14,
   "metadata": {},
   "outputs": [
    {
     "name": "stdout",
     "output_type": "stream",
     "text": [
      "Number of compounds suitable for fragment-like group:  4\n",
      "Number of compounds suitable for drug-like group:  2\n",
      "Minimum number of UV-chromophore units in fragment-like group:  20\n",
      "Minimum number of UV-chromophore units in drug-like group:  24\n"
     ]
    }
   ],
   "source": [
    "df_frag = df_mw.loc[df_mw[\"group\"] == \"fragment-like\"].reset_index(drop=True)\n",
    "print(\"Number of compounds suitable for fragment-like group: \", df_frag.shape[0])\n",
    "\n",
    "df_drug = df_mw.loc[df_mw[\"group\"] == \"drug-like\"].reindex().reset_index(drop=True)\n",
    "print(\"Number of compounds suitable for drug-like group: \", df_drug.shape[0])\n",
    "\n",
    "# What is the minimum number of UV-chromophore matches in the drug-like and fragment-like group?\n",
    "print(\"Minimum number of UV-chromophore units in fragment-like group: \", min(df_frag[\"N_UV_chrom\"]) )\n",
    "print(\"Minimum number of UV-chromophore units in drug-like group: \", min(df_drug[\"N_UV_chrom\"]))"
   ]
  },
  {
   "cell_type": "markdown",
   "metadata": {},
   "source": [
    "## 5. Select molecules for even coverage of logP dynamic range\n",
    "### 5.1. Fragment-like group"
   ]
  },
  {
   "cell_type": "code",
   "execution_count": 16,
   "metadata": {},
   "outputs": [
    {
     "name": "stdout",
     "output_type": "stream",
     "text": [
      "Dynamic range of XlogP is from 1.40 to 3.69\n",
      "Bin lefts: \n",
      " [ 1.39500046  1.62400045  1.85300045  2.08200045  2.31100044  2.54000044\n",
      "  2.76900043  2.99800043  3.22700043  3.45600042]\n",
      "Bin rights: \n",
      " [ 1.62400045  1.85300045  2.08200045  2.31100044  2.54000044  2.76900043\n",
      "  2.99800043  3.22700043  3.45600042  3.68500042]\n",
      "Can't find 5 molecules in bin 0. Only 0 molecule(s) found.\n",
      "Can't find 5 molecules in bin 1. Only 0 molecule(s) found.\n",
      "Can't find 5 molecules in bin 2. Only 0 molecule(s) found.\n",
      "Can't find 5 molecules in bin 3. Only 0 molecule(s) found.\n",
      "Can't find 5 molecules in bin 4. Only 0 molecule(s) found.\n",
      "Can't find 5 molecules in bin 5. Only 0 molecule(s) found.\n",
      "Can't find 5 molecules in bin 6. Only 0 molecule(s) found.\n",
      "Can't find 5 molecules in bin 7. Only 0 molecule(s) found.\n",
      "Can't find 5 molecules in bin 8. Only 0 molecule(s) found.\n",
      "Can't find 5 molecules in bin 9. Only 3 molecule(s) found.\n",
      "Found 3 compounds spanning the dynamic range, out of 50 desired. Current set size is 3.\n"
     ]
    }
   ],
   "source": [
    "#Establish dynamic range\n",
    "XlogPs = np.array(df_frag[\"XlogP\"])\n",
    "\n",
    "minval = XlogPs.min()\n",
    "maxval = XlogPs.max()\n",
    "\n",
    "print(\"Dynamic range of XlogP is from %.2f to %.2f\" % (minval, maxval))\n",
    "\n",
    "#Let's make 10 bins and try drawing for 5 compounds per bin\n",
    "nbins = 10\n",
    "n_per_bin = 5 \n",
    "bin_lefts = np.arange( minval, maxval, (maxval-minval)/float(nbins) )\n",
    "bin_rights = np.array( [bin_lefts[i+1] for i in range(nbins-1)] + [maxval] )\n",
    "\n",
    "print(\"Bin lefts: \\n\", bin_lefts)\n",
    "print(\"Bin rights: \\n\", bin_rights)\n",
    "\n",
    "range_ids = []\n",
    "\n",
    "#Pick compounds\n",
    "picked_ids=[]\n",
    "df_frag[\"Selection\"]=None\n",
    "\n",
    "for bin_index in range(nbins):\n",
    "    \n",
    "    fnd_in_bin = 0\n",
    "    \n",
    "    for i, row in enumerate(df_frag.iterrows()):\n",
    "        eMolecules_SKU = df_frag.loc[i,'eMolecules SKU'] #identifier\n",
    "        XlogP = float(df_frag.loc[i,'XlogP'])\n",
    "        \n",
    "        if XlogP > bin_lefts[bin_index] and XlogP <= bin_rights[bin_index] and eMolecules_SKU not in picked_ids:\n",
    "            range_ids.append( eMolecules_SKU )\n",
    "            fnd_in_bin +=1\n",
    "            \n",
    "            df_frag.loc[i, \"Selection\"] = \"picked\"\n",
    "            picked_ids.append(eMolecules_SKU)\n",
    "\n",
    "        if fnd_in_bin==n_per_bin: break\n",
    "\n",
    "    if fnd_in_bin < n_per_bin:\n",
    "        print (\"Can't find %s molecules in bin %s. Only %s molecule(s) found.\" % (n_per_bin, bin_index, fnd_in_bin) )\n",
    "\n",
    "\n",
    "print(\"Found %s compounds spanning the dynamic range, out of %s desired. Current set size is %s.\" % (len(range_ids), nbins*n_per_bin, len(picked_ids)) )\n"
   ]
  },
  {
   "cell_type": "code",
   "execution_count": 17,
   "metadata": {},
   "outputs": [
    {
     "data": {
      "text/plain": [
       "(0, 20)"
      ]
     },
     "execution_count": 17,
     "metadata": {},
     "output_type": "execute_result"
    },
    {
     "data": {
      "image/png": "[encoded data removed]",
      "text/plain": [
       "<matplotlib.figure.Figure at 0x11d4805f8>"
      ]
     },
     "metadata": {},
     "output_type": "display_data"
    }
   ],
   "source": [
    "df_frag_picked = df_frag.loc[df_frag[\"Selection\"]==\"picked\"]\n",
    "df_frag_picked.to_csv(\"df_frag_picked.csv\")\n",
    "\n",
    "# Let's check the logP distribution of fragment-like group\n",
    "XlogP_values = df_frag_picked.loc[:, \"XlogP\"]\n",
    "plt.hist(XlogP_values, bins=10)\n",
    "plt.xlabel(\"XlogP\")\n",
    "plt.ylabel(\"molecule count\")\n",
    "plt.xlim(0,6)\n",
    "plt.ylim(0,20)"
   ]
  },
  {
   "cell_type": "code",
   "execution_count": 18,
   "metadata": {},
   "outputs": [
    {
     "data": {
      "text/html": [
       "<table border=\"1\" class=\"dataframe\">\n",
       "  <thead>\n",
       "    <tr style=\"text-align: right;\">\n",
       "      <th></th>\n",
       "      <th>Molecule</th>\n",
       "    </tr>\n",
       "  </thead>\n",
       "  <tbody>\n",
       "  </tbody>\n",
       "</table>"
      ],
      "text/plain": [
       "<IPython.core.display.HTML object>"
      ]
     },
     "execution_count": 18,
     "metadata": {},
     "output_type": "execute_result"
    }
   ],
   "source": [
    "# Import database as eonb for visualization\n",
    "frag_picked_smiles = df_frag_picked.loc[:,\"canonical isomeric SMILES\"].tolist()\n",
    "\n",
    "file_name = \"frag_picked.smi\"\n",
    "writer = open(file_name, \"w\")\n",
    "\n",
    "for smiles in frag_picked_smiles:\n",
    "    writer.write(\"%s\\n\" %smiles)\n",
    "\n",
    "df_frag_picked_oenb = oenb.read_file_to_dataframe(filename=\"frag_picked.smi\")\n",
    "oenb.render_dataframe(df_frag_picked_oenb, width=300, height=300)"
   ]
  },
  {
   "cell_type": "markdown",
   "metadata": {},
   "source": [
    "### 5.1. Drug-like group"
   ]
  },
  {
   "cell_type": "code",
   "execution_count": 20,
   "metadata": {},
   "outputs": [
    {
     "name": "stdout",
     "output_type": "stream",
     "text": [
      "Dynamic range of XlogP is from 3.30 to 3.30\n"
     ]
    },
    {
     "ename": "ZeroDivisionError",
     "evalue": "float division by zero",
     "output_type": "error",
     "traceback": [
      "\u001b[0;31m---------------------------------------------------------------------------\u001b[0m",
      "\u001b[0;31mZeroDivisionError\u001b[0m                         Traceback (most recent call last)",
      "\u001b[0;32m<ipython-input-20-16288d4c0454>\u001b[0m in \u001b[0;36m<module>\u001b[0;34m()\u001b[0m\n\u001b[1;32m     10\u001b[0m \u001b[0mnbins\u001b[0m \u001b[0;34m=\u001b[0m \u001b[0;36m10\u001b[0m\u001b[0;34m\u001b[0m\u001b[0m\n\u001b[1;32m     11\u001b[0m \u001b[0mn_per_bin\u001b[0m \u001b[0;34m=\u001b[0m \u001b[0;36m4\u001b[0m\u001b[0;34m\u001b[0m\u001b[0m\n\u001b[0;32m---> 12\u001b[0;31m \u001b[0mbin_lefts\u001b[0m \u001b[0;34m=\u001b[0m \u001b[0mnp\u001b[0m\u001b[0;34m.\u001b[0m\u001b[0marange\u001b[0m\u001b[0;34m(\u001b[0m \u001b[0mminval\u001b[0m\u001b[0;34m,\u001b[0m \u001b[0mmaxval\u001b[0m\u001b[0;34m,\u001b[0m \u001b[0;34m(\u001b[0m\u001b[0mmaxval\u001b[0m\u001b[0;34m-\u001b[0m\u001b[0mminval\u001b[0m\u001b[0;34m)\u001b[0m\u001b[0;34m/\u001b[0m\u001b[0mfloat\u001b[0m\u001b[0;34m(\u001b[0m\u001b[0mnbins\u001b[0m\u001b[0;34m)\u001b[0m \u001b[0;34m)\u001b[0m\u001b[0;34m\u001b[0m\u001b[0m\n\u001b[0m\u001b[1;32m     13\u001b[0m \u001b[0mbin_rights\u001b[0m \u001b[0;34m=\u001b[0m \u001b[0mnp\u001b[0m\u001b[0;34m.\u001b[0m\u001b[0marray\u001b[0m\u001b[0;34m(\u001b[0m \u001b[0;34m[\u001b[0m\u001b[0mbin_lefts\u001b[0m\u001b[0;34m[\u001b[0m\u001b[0mi\u001b[0m\u001b[0;34m+\u001b[0m\u001b[0;36m1\u001b[0m\u001b[0;34m]\u001b[0m \u001b[0;32mfor\u001b[0m \u001b[0mi\u001b[0m \u001b[0;32min\u001b[0m \u001b[0mrange\u001b[0m\u001b[0;34m(\u001b[0m\u001b[0mnbins\u001b[0m\u001b[0;34m-\u001b[0m\u001b[0;36m1\u001b[0m\u001b[0;34m)\u001b[0m\u001b[0;34m]\u001b[0m \u001b[0;34m+\u001b[0m \u001b[0;34m[\u001b[0m\u001b[0mmaxval\u001b[0m\u001b[0;34m]\u001b[0m \u001b[0;34m)\u001b[0m\u001b[0;34m\u001b[0m\u001b[0m\n\u001b[1;32m     14\u001b[0m \u001b[0;34m\u001b[0m\u001b[0m\n",
      "\u001b[0;31mZeroDivisionError\u001b[0m: float division by zero"
     ]
    }
   ],
   "source": [
    "#Establish dynamic range\n",
    "XlogPs = np.array(df_drug[\"XlogP\"])\n",
    "\n",
    "minval = XlogPs.min()\n",
    "maxval = XlogPs.max()\n",
    "\n",
    "print(\"Dynamic range of XlogP is from %.2f to %.2f\" % (minval, maxval))\n",
    "\n",
    "#Let's make 10 bins and try drawing for 3 compounds per bin\n",
    "nbins = 10\n",
    "n_per_bin = 4\n",
    "bin_lefts = np.arange( minval, maxval, (maxval-minval)/float(nbins) )\n",
    "bin_rights = np.array( [bin_lefts[i+1] for i in range(nbins-1)] + [maxval] )\n",
    "\n",
    "print(\"Bin lefts: \\n\", bin_lefts)\n",
    "print(\"Bin rights: \\n\", bin_rights)\n",
    "\n",
    "range_ids = []\n",
    "\n",
    "#Pick compounds\n",
    "picked_ids=[]\n",
    "df_frag[\"Selection\"]=None\n",
    "\n",
    "for bin_index in range(nbins):\n",
    "    \n",
    "    fnd_in_bin = 0\n",
    "    \n",
    "    for i, row in enumerate(df_drug.iterrows()):\n",
    "        eMolecules_SKU = df_drug.loc[i,'eMolecules SKU'] #identifier\n",
    "        XlogP = float(df_drug.loc[i,'XlogP'])\n",
    "        \n",
    "        if XlogP > bin_lefts[bin_index] and XlogP <= bin_rights[bin_index] and eMolecules_ID not in picked_ids:\n",
    "            range_ids.append( eMolecules_SKU )\n",
    "            fnd_in_bin +=1\n",
    "            \n",
    "            df_drug.loc[i, \"Selection\"] = \"picked\"\n",
    "            picked_ids.append(eMolecules_SKU)\n",
    "\n",
    "        if fnd_in_bin==n_per_bin: break\n",
    "\n",
    "    if fnd_in_bin < n_per_bin:\n",
    "        print (\"Can't find %s molecules in bin %s. Only %s molecule(s) found.\" % (n_per_bin, bin_index, fnd_in_bin) )\n",
    "\n",
    "\n",
    "print(\"Found %s compounds spanning the dynamic range, out of %s desired. Current set size is %s.\" % (len(range_ids), nbins*n_per_bin, len(picked_ids)) )"
   ]
  },
  {
   "cell_type": "code",
   "execution_count": 20,
   "metadata": {},
   "outputs": [
    {
     "data": {
      "text/plain": [
       "(0, 20)"
      ]
     },
     "execution_count": 20,
     "metadata": {},
     "output_type": "execute_result"
    },
    {
     "data": {
      "image/png": "[encoded data removed]",
      "text/plain": [
       "<matplotlib.figure.Figure at 0x11893f2e8>"
      ]
     },
     "metadata": {},
     "output_type": "display_data"
    }
   ],
   "source": [
    "df_drug_picked = df_drug.loc[df_drug[\"Selection\"]==\"picked\"]\n",
    "df_drug_picked.to_csv(\"df_drug_picked.csv\")\n",
    "\n",
    "# Let's check the logP distribution of fragment-like group\n",
    "XlogP_values = df_drug_picked.loc[:, \"XlogP\"]\n",
    "plt.hist(XlogP_values, bins=10)\n",
    "plt.xlabel(\"XlogP\")\n",
    "plt.ylabel(\"molecule count\")\n",
    "plt.xlim(0,6)\n",
    "plt.ylim(0,20)"
   ]
  },
  {
   "cell_type": "code",
   "execution_count": 21,
   "metadata": {},
   "outputs": [
    {
     "data": {
      "text/html": [
       "<table border=\"1\" class=\"dataframe\">\n",
       "  <thead>\n",
       "    <tr style=\"text-align: right;\">\n",
       "      <th></th>\n",
       "      <th>Molecule</th>\n",
       "    </tr>\n",
       "  </thead>\n",
       "  <tbody>\n",
       "  </tbody>\n",
       "</table>"
      ],
      "text/plain": [
       "<IPython.core.display.HTML object>"
      ]
     },
     "execution_count": 21,
     "metadata": {},
     "output_type": "execute_result"
    }
   ],
   "source": [
    "# Import database as eonb for visualization\n",
    "drug_picked_smiles = df_drug_picked.loc[:,\"canonical isomeric SMILES\"].tolist()\n",
    "\n",
    "file_name = \"drug_picked.smi\"\n",
    "writer = open(file_name, \"w\")\n",
    "\n",
    "for smiles in drug_picked_smiles:\n",
    "    writer.write(\"%s\\n\" %smiles)\n",
    "\n",
    "df_drug_picked_oenb = oenb.read_file_to_dataframe(filename=\"drug_picked.smi\")\n",
    "oenb.render_dataframe(df_drug_picked_oenb, width=300, height=300)"
   ]
  },
  {
   "cell_type": "code",
   "execution_count": null,
   "metadata": {
    "collapsed": true
   },
   "outputs": [],
   "source": []
  }
 ],
 "metadata": {
  "kernelspec": {
   "display_name": "Python 3",
   "language": "python",
   "name": "python3"
  },
  "language_info": {
   "codemirror_mode": {
    "name": "ipython",
    "version": 3
   },
   "file_extension": ".py",
   "mimetype": "text/x-python",
   "name": "python",
   "nbconvert_exporter": "python",
   "pygments_lexer": "ipython3",
   "version": "3.5.3"
  }
 },
 "nbformat": 4,
 "nbformat_minor": 2
}

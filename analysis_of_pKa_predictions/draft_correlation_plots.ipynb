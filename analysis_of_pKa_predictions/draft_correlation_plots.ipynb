{
 "cells": [
  {
   "cell_type": "code",
   "execution_count": 1,
   "metadata": {
    "collapsed": true
   },
   "outputs": [],
   "source": [
    "import pandas as pd\n",
    "import numpy as np\n",
    "import seaborn as sns\n",
    "from matplotlib import pyplot as plt\n",
    "import scipy.stats"
   ]
  },
  {
   "cell_type": "code",
   "execution_count": 2,
   "metadata": {
    "collapsed": true
   },
   "outputs": [],
   "source": [
    "def plot_correlation(x, y, data, x_err, y_err, title=None, color=None, kind='joint', ax=None):\n",
    "    # Extract only pKa values.\n",
    "    x_error = data.loc[:, x_err]\n",
    "    y_error = data.loc[:, y_err]\n",
    "    data = data[[x, y]]\n",
    "\n",
    "    # Find extreme values to make axes equal.\n",
    "    min_limit = np.ceil(min(data.min()) - 2)\n",
    "    max_limit = np.floor(max(data.max()) + 2)\n",
    "    axes_limits = np.array([min_limit, max_limit])\n",
    "\n",
    "    if kind == 'joint':\n",
    "        grid = sns.jointplot(x=x, y=y, data=data,\n",
    "                             kind='reg', joint_kws={'ci': None}, stat_func=None,\n",
    "                             xlim=axes_limits, ylim=axes_limits, color=color)\n",
    "        \n",
    "        #grid.fig.errorbar(x_error, y_error, fmt='bo',ecolor='y', capthick='2', label='SEM')\n",
    "        \n",
    "        ax = grid.ax_joint\n",
    "        grid.fig.subplots_adjust(top=0.95)\n",
    "        grid.fig.suptitle(title)\n",
    "    elif kind == 'reg':\n",
    "        ax = sns.regplot(x=x, y=y, data=data, color=color, ax=ax)\n",
    "        \n",
    "        \n",
    "        ax.set_title(title)\n",
    "\n",
    "    # Add diagonal line.\n",
    "    ax.plot(axes_limits, axes_limits, ls='--', c='black', alpha=0.8, lw=0.7)\n",
    "\n",
    "    # Add shaded area for 0.5-1 pKa error.\n",
    "    palette = sns.color_palette('BuGn_r')\n",
    "    ax.fill_between(axes_limits, axes_limits - 0.5, axes_limits + 0.5, alpha=0.2, color=palette[2])\n",
    "    ax.fill_between(axes_limits, axes_limits - 1, axes_limits + 1, alpha=0.2, color=palette[3])"
   ]
  },
  {
   "cell_type": "code",
   "execution_count": 3,
   "metadata": {},
   "outputs": [
    {
     "data": {
      "text/html": [
       "<div>\n",
       "<style scoped>\n",
       "    .dataframe tbody tr th:only-of-type {\n",
       "        vertical-align: middle;\n",
       "    }\n",
       "\n",
       "    .dataframe tbody tr th {\n",
       "        vertical-align: top;\n",
       "    }\n",
       "\n",
       "    .dataframe thead th {\n",
       "        text-align: right;\n",
       "    }\n",
       "</style>\n",
       "<table border=\"1\" class=\"dataframe\">\n",
       "  <thead>\n",
       "    <tr style=\"text-align: right;\">\n",
       "      <th></th>\n",
       "      <th>x</th>\n",
       "      <th>x SEM</th>\n",
       "      <th>y</th>\n",
       "      <th>y SEM</th>\n",
       "    </tr>\n",
       "  </thead>\n",
       "  <tbody>\n",
       "    <tr>\n",
       "      <th>0</th>\n",
       "      <td>1</td>\n",
       "      <td>0.01</td>\n",
       "      <td>2</td>\n",
       "      <td>0.5</td>\n",
       "    </tr>\n",
       "    <tr>\n",
       "      <th>1</th>\n",
       "      <td>2</td>\n",
       "      <td>0.02</td>\n",
       "      <td>4</td>\n",
       "      <td>1.5</td>\n",
       "    </tr>\n",
       "    <tr>\n",
       "      <th>2</th>\n",
       "      <td>3</td>\n",
       "      <td>0.03</td>\n",
       "      <td>6</td>\n",
       "      <td>2.5</td>\n",
       "    </tr>\n",
       "    <tr>\n",
       "      <th>3</th>\n",
       "      <td>4</td>\n",
       "      <td>0.06</td>\n",
       "      <td>8</td>\n",
       "      <td>0.5</td>\n",
       "    </tr>\n",
       "  </tbody>\n",
       "</table>\n",
       "</div>"
      ],
      "text/plain": [
       "   x  x SEM  y  y SEM\n",
       "0  1   0.01  2    0.5\n",
       "1  2   0.02  4    1.5\n",
       "2  3   0.03  6    2.5\n",
       "3  4   0.06  8    0.5"
      ]
     },
     "execution_count": 3,
     "metadata": {},
     "output_type": "execute_result"
    }
   ],
   "source": [
    "x = np.array([1, 2, 3, 4])\n",
    "y = np.array([2, 4, 6, 8])\n",
    "x_error = np.array([0.01, 0.02, 0.03, 0.06])\n",
    "y_error = np.array([0.5, 1.5, 2.5, 0.5])\n",
    "\n",
    "data= pd.DataFrame({\"x\": x, \"x SEM\": x_error, \"y\": y, \"y SEM\": y_error})\n",
    "data"
   ]
  },
  {
   "cell_type": "code",
   "execution_count": 4,
   "metadata": {},
   "outputs": [
    {
     "data": {
      "image/png": "[encoded data removed]",
      "text/plain": [
       "<matplotlib.figure.Figure at 0x117c5e0f0>"
      ]
     },
     "metadata": {},
     "output_type": "display_data"
    }
   ],
   "source": [
    "plt.close()\n",
    "plot_correlation(x=\"x\", y=\"y\",data = data, x_err=\"x SEM\", y_err=\"y SEM\")\n",
    "plt.show()"
   ]
  },
  {
   "cell_type": "code",
   "execution_count": 5,
   "metadata": {},
   "outputs": [
    {
     "name": "stdout",
     "output_type": "stream",
     "text": [
      "axes limits:  [-1. 10.]\n"
     ]
    },
    {
     "data": {
      "image/png": "[encoded data removed]",
      "text/plain": [
       "<matplotlib.figure.Figure at 0x119e5f0f0>"
      ]
     },
     "metadata": {},
     "output_type": "display_data"
    }
   ],
   "source": [
    "def plot_correlation_with_SEM(x_lab, y_lab, data, x_err, y_err, title=None, color=None, ax=None):\n",
    "    # Extract only pKa values.\n",
    "    x_error = data.loc[:, x_err]\n",
    "    y_error = data.loc[:, y_err]\n",
    "    x_values = data.loc[:, x_lab]\n",
    "    y_values = data.loc[:, y_lab]\n",
    "    data = data[[x_lab, y_lab]]\n",
    "\n",
    "    # Find extreme values to make axes equal.\n",
    "    min_limit = np.ceil(min(data.min()) - 2)\n",
    "    max_limit = np.floor(max(data.max()) + 2)\n",
    "    axes_limits = np.array([min_limit, max_limit])\n",
    "    print(\"axes limits: \", axes_limits)\n",
    "    \n",
    "    # Color\n",
    "    current_palette = sns.color_palette()\n",
    "    sns_blue = current_palette[0]\n",
    "    \n",
    "    # Plot\n",
    "    plt.figure(figsize=(6,6))\n",
    "    grid = sns.regplot(x=x_values, y=y_values, data=data, color=color, ci=None)\n",
    "    plt.errorbar(x=x_values, y= y_values, xerr = x_error, yerr=y_error,fmt = \"o\", ecolor=sns_blue, capthick='2', label='SEM', alpha=0.75)\n",
    "    plt.title(title)\n",
    "    plt.axis(\"equal\")\n",
    "    \n",
    "    # Add diagonal line.\n",
    "    grid.plot(axes_limits, axes_limits, ls='--', c='black', alpha=0.8, lw=0.7)\n",
    "\n",
    "    # Add shaded area for 0.5-1 pKa error.\n",
    "    palette = sns.color_palette('BuGn_r')\n",
    "    grid.fill_between(axes_limits, axes_limits - 0.5, axes_limits + 0.5, alpha=0.2, color=palette[2])\n",
    "    grid.fill_between(axes_limits, axes_limits - 1, axes_limits + 1, alpha=0.2, color=palette[3])\n",
    "    \n",
    "    plt.xlim(axes_limits)\n",
    "    plt.ylim(axes_limits)\n",
    "    \n",
    "\n",
    "plt.close()\n",
    "plot_correlation_with_SEM(x_lab=\"x\", y_lab=\"y\",data = data, x_err=\"x SEM\", y_err=\"y SEM\")\n",
    "plt.show()"
   ]
  },
  {
   "cell_type": "code",
   "execution_count": 6,
   "metadata": {},
   "outputs": [
    {
     "data": {
      "text/html": [
       "<div>\n",
       "<style scoped>\n",
       "    .dataframe tbody tr th:only-of-type {\n",
       "        vertical-align: middle;\n",
       "    }\n",
       "\n",
       "    .dataframe tbody tr th {\n",
       "        vertical-align: top;\n",
       "    }\n",
       "\n",
       "    .dataframe thead th {\n",
       "        text-align: right;\n",
       "    }\n",
       "</style>\n",
       "<table border=\"1\" class=\"dataframe\">\n",
       "  <thead>\n",
       "    <tr style=\"text-align: right;\">\n",
       "      <th></th>\n",
       "      <th>x</th>\n",
       "      <th>x SEM</th>\n",
       "      <th>y</th>\n",
       "      <th>y SEM</th>\n",
       "    </tr>\n",
       "  </thead>\n",
       "  <tbody>\n",
       "    <tr>\n",
       "      <th>0</th>\n",
       "      <td>1</td>\n",
       "      <td>0.01</td>\n",
       "      <td>2</td>\n",
       "      <td>0.5</td>\n",
       "    </tr>\n",
       "    <tr>\n",
       "      <th>1</th>\n",
       "      <td>2</td>\n",
       "      <td>0.02</td>\n",
       "      <td>4</td>\n",
       "      <td>1.5</td>\n",
       "    </tr>\n",
       "    <tr>\n",
       "      <th>2</th>\n",
       "      <td>3</td>\n",
       "      <td>0.03</td>\n",
       "      <td>6</td>\n",
       "      <td>2.5</td>\n",
       "    </tr>\n",
       "    <tr>\n",
       "      <th>3</th>\n",
       "      <td>4</td>\n",
       "      <td>0.06</td>\n",
       "      <td>8</td>\n",
       "      <td>0.5</td>\n",
       "    </tr>\n",
       "  </tbody>\n",
       "</table>\n",
       "</div>"
      ],
      "text/plain": [
       "   x  x SEM  y  y SEM\n",
       "0  1   0.01  2    0.5\n",
       "1  2   0.02  4    1.5\n",
       "2  3   0.03  6    2.5\n",
       "3  4   0.06  8    0.5"
      ]
     },
     "execution_count": 6,
     "metadata": {},
     "output_type": "execute_result"
    }
   ],
   "source": [
    "data"
   ]
  },
  {
   "cell_type": "code",
   "execution_count": 10,
   "metadata": {},
   "outputs": [
    {
     "data": {
      "text/html": [
       "<div>\n",
       "<style scoped>\n",
       "    .dataframe tbody tr th:only-of-type {\n",
       "        vertical-align: middle;\n",
       "    }\n",
       "\n",
       "    .dataframe tbody tr th {\n",
       "        vertical-align: top;\n",
       "    }\n",
       "\n",
       "    .dataframe thead th {\n",
       "        text-align: right;\n",
       "    }\n",
       "</style>\n",
       "<table border=\"1\" class=\"dataframe\">\n",
       "  <thead>\n",
       "    <tr style=\"text-align: right;\">\n",
       "      <th></th>\n",
       "      <th>x</th>\n",
       "      <th>x SEM</th>\n",
       "      <th>y</th>\n",
       "      <th>y SEM</th>\n",
       "    </tr>\n",
       "  </thead>\n",
       "  <tbody>\n",
       "    <tr>\n",
       "      <th>0</th>\n",
       "      <td>1</td>\n",
       "      <td>0.01</td>\n",
       "      <td>2</td>\n",
       "      <td>0.5</td>\n",
       "    </tr>\n",
       "    <tr>\n",
       "      <th>1</th>\n",
       "      <td>2</td>\n",
       "      <td>NaN</td>\n",
       "      <td>4</td>\n",
       "      <td>NaN</td>\n",
       "    </tr>\n",
       "    <tr>\n",
       "      <th>2</th>\n",
       "      <td>3</td>\n",
       "      <td>0.03</td>\n",
       "      <td>6</td>\n",
       "      <td>2.5</td>\n",
       "    </tr>\n",
       "    <tr>\n",
       "      <th>3</th>\n",
       "      <td>4</td>\n",
       "      <td>0.06</td>\n",
       "      <td>8</td>\n",
       "      <td>0.5</td>\n",
       "    </tr>\n",
       "  </tbody>\n",
       "</table>\n",
       "</div>"
      ],
      "text/plain": [
       "   x  x SEM  y  y SEM\n",
       "0  1   0.01  2    0.5\n",
       "1  2    NaN  4    NaN\n",
       "2  3   0.03  6    2.5\n",
       "3  4   0.06  8    0.5"
      ]
     },
     "execution_count": 10,
     "metadata": {},
     "output_type": "execute_result"
    }
   ],
   "source": [
    "data2 = data\n",
    "data2.loc[1, \"x SEM\"] = np.NaN\n",
    "data2.loc[1, \"y SEM\"] = np.NaN\n",
    "data2"
   ]
  },
  {
   "cell_type": "code",
   "execution_count": 11,
   "metadata": {},
   "outputs": [
    {
     "name": "stdout",
     "output_type": "stream",
     "text": [
      "axes limits:  [-1. 10.]\n"
     ]
    },
    {
     "data": {
      "image/png": "[encoded data removed]",
      "text/plain": [
       "<matplotlib.figure.Figure at 0x119e4a748>"
      ]
     },
     "metadata": {},
     "output_type": "display_data"
    }
   ],
   "source": [
    "plt.close()\n",
    "plot_correlation_with_SEM(x_lab=\"x\", y_lab=\"y\",data = data2, x_err=\"x SEM\", y_err=\"y SEM\")\n",
    "plt.show()"
   ]
  },
  {
   "cell_type": "code",
   "execution_count": null,
   "metadata": {
    "collapsed": true
   },
   "outputs": [],
   "source": []
  }
 ],
 "metadata": {
  "kernelspec": {
   "display_name": "Python 3",
   "language": "python",
   "name": "python3"
  },
  "language_info": {
   "codemirror_mode": {
    "name": "ipython",
    "version": 3
   },
   "file_extension": ".py",
   "mimetype": "text/x-python",
   "name": "python",
   "nbconvert_exporter": "python",
   "pygments_lexer": "ipython3",
   "version": "3.5.3"
  }
 },
 "nbformat": 4,
 "nbformat_minor": 2
}

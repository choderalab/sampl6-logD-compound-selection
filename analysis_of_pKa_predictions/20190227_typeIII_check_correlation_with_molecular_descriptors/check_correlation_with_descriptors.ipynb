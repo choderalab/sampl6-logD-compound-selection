{
 "cells": [
  {
   "cell_type": "code",
   "execution_count": 1,
   "metadata": {},
   "outputs": [
    {
     "name": "stdout",
     "output_type": "stream",
     "text": [
      "/Users/isikm/opt/anaconda/envs/sampl6_pKa_oe/bin/python\n"
     ]
    }
   ],
   "source": [
    "# To check if Jupyter notebook is running in the right environment\n",
    "import sys\n",
    "print(sys.executable)"
   ]
  },
  {
   "cell_type": "code",
   "execution_count": 2,
   "metadata": {},
   "outputs": [],
   "source": [
    "import numpy as np\n",
    "import pandas as pd\n",
    "from openeye import oechem\n",
    "from openeye import oemolprop"
   ]
  },
  {
   "cell_type": "markdown",
   "metadata": {},
   "source": [
    "## Checking correlation of molecular MAE with molecular descriptors\n",
    "\n",
    "Molecular descriptors I wish to check:\n",
    "- molecular weight\n",
    "- number of heavy atom\n",
    "- number of rotatable bonds \n",
    "- number of heteroatoms (not C or H)\n",
    "- number of ring systems (contiguous systems of ring atoms and bonds)\n",
    "- max ring size (Maximum size of any single ring system)\n",
    "- number of microstates"
   ]
  },
  {
   "cell_type": "code",
   "execution_count": 3,
   "metadata": {},
   "outputs": [],
   "source": [
    "# Functions required for molecular weight calculation\n",
    "\n",
    "# Maximum and minumum values stated here actually doesn't matter \n",
    "# because I won't filter molecules.\n",
    "def get_filter_rules():\n",
    "\n",
    "    FILTER_RULES = \"\"\"\n",
    "# This file defines the rules for filtering multi-structure files based on\n",
    "# properties and substructure patterns.\n",
    "\n",
    "MIN_MOLWT      130       \"Minimum molecular weight\"\n",
    "MAX_MOLWT      781       \"Maximum molecular weight\"\n",
    "\n",
    "MIN_XLOGP      -3.0      \"Minimum XLogP\"\n",
    "MAX_XLOGP       6.85     \"Maximum XLogP\"\n",
    "\n",
    "PSA_USE_SandP   false    \"Count S and P as polar atoms\"\n",
    "MIN_2D_PSA      0.0      \"Minimum 2-Dimensional (SMILES) Polar Surface Area\"\n",
    "MAX_2D_PSA      205.0    \"Maximum 2-Dimensional (SMILES) Polar Surface Area\"\n",
    "\n",
    "# choices are insoluble<poorly<moderately<soluble<very<highly\n",
    "MIN_SOLUBILITY insoluble \"Minimum solubility\"\n",
    "\n",
    "MIN_LIPINSKI_DONORS  0      \"Minimum number of hydrogens on O & N atoms\"\n",
    "MAX_LIPINSKI_DONORS  6      \"Maximum number of hydrogens on O & N atoms\"\n",
    "\n",
    "MIN_LIPINSKI_ACCEPTORS  1   \"Minimum number of oxygen & nitrogen atoms\"\n",
    "MAX_LIPINSKI_ACCEPTORS  14  \"Maximum number of oxygen & nitrogen atoms\"\n",
    "\n",
    "MAX_LIPINSKI   3         \"Maximum number of Lipinski violations\"\n",
    "\n",
    "MIN_NUM_HVY 9 \"Minimum number of heavy atoms\"\n",
    "MAX_NUM_HVY 55 \"Maximum number of heavy atoms\"\n",
    "\n",
    "MIN_HETEROATOMS 1 \"Minimum number of heteroatoms\"\n",
    "MAX_HETEROATOMS 14 \"Maximum number of heteroatoms\"\n",
    "\n",
    "MIN_Het_C_Ratio 0.04 \"Minimum heteroatom to carbon ratio\"\n",
    "MAX_Het_C_Ratio 4.0 \"Maximum heteroatom to carbon ratio\"\n",
    "\n",
    "MIN_HBOND_ACCEPTORS 0 \"Minimum number of hydrogen-bond acceptors\"\n",
    "MAX_HBOND_ACCEPTORS 13 \"Maximum number of hydrogen-bond acceptors\"\n",
    "\n",
    "MIN_HBOND_DONORS 0 \"Minimum number of hydrogen-bond donors\"\n",
    "MAX_HBOND_DONORS 9 \"Maximum number of hydrogen-bond donors\"\n",
    "\n",
    "MIN_RING_SYS 0 \"Minimum number of ring systems\"\n",
    "MAX_RING_SYS 5 \"Maximum number of ring systems\"\n",
    "\n",
    "MIN_RING_SIZE 0 \"Minimum atoms in any ring system\"\n",
    "MAX_RING_SIZE 20 \"Maximum atoms in any ring system\"\n",
    "\n",
    "MIN_ROT_BONDS 0 \"Minimum number of rotatable bonds\"\n",
    "MAX_ROT_BONDS 16 \"Maximum number of rotatable bonds\"\n",
    "\"\"\"\n",
    "    return FILTER_RULES"
   ]
  },
  {
   "cell_type": "code",
   "execution_count": 4,
   "metadata": {},
   "outputs": [
    {
     "name": "stdout",
     "output_type": "stream",
     "text": [
      "b'SMILES'\n",
      "b'Name'\n",
      "b'atom count'\n",
      "b'heteroatoms'\n",
      "b'heteroatom to carbon ratio'\n",
      "b'hydrogen-bond acceptors'\n",
      "b'hydrogen-bond donors'\n",
      "b'lipinski h-bond acceptors'\n",
      "b'lipinski h-bond donors'\n",
      "b'molecular weight'\n",
      "b'number of ring systems'\n",
      "b'maximum size of ring system'\n",
      "b'rotatable bonds'\n",
      "b'XLogP'\n",
      "b'Solubility'\n",
      "b'2d PSA'\n",
      "b'Lipinski violations'\n",
      "b'Filter \\n'\n",
      "217.22\n"
     ]
    }
   ],
   "source": [
    "# Exploring property calculation\n",
    "\n",
    "# Create OE mol object from SMILES\n",
    "smiles = \"c1cc2c(cc1O)c3c(o2)C(=O)NCCC3\"\n",
    "mol = oechem.OEGraphMol()\n",
    "oechem.OESmilesToMol(mol, str(smiles))\n",
    "\n",
    "# Calculate molecular weight\n",
    "\n",
    "ifs = oechem.oeisstream(get_filter_rules())\n",
    "filter = oemolprop.OEFilter(ifs)\n",
    "\n",
    "ostr = oechem.oeosstream()\n",
    "pwnd = False\n",
    "filter.SetTable(ostr, pwnd)\n",
    "\n",
    "headers = ostr.str().split(b'\\t')\n",
    "ostr.clear()  # remove the header row from the stream\n",
    "\n",
    "filter(mol)\n",
    "\n",
    "fields = ostr.str().decode(\"UTF-8\").split('\\t')\n",
    "ostr.clear()  # remove this row from the stream\n",
    "\n",
    "filterdict = dict(zip(headers, fields))\n",
    "filterdict.keys\n",
    "\n",
    "for key in filterdict.keys():\n",
    "    print(key)\n",
    "\n",
    "print(filterdict[b\"molecular weight\"])"
   ]
  },
  {
   "cell_type": "code",
   "execution_count": 5,
   "metadata": {},
   "outputs": [
    {
     "data": {
      "text/html": [
       "<div>\n",
       "<style scoped>\n",
       "    .dataframe tbody tr th:only-of-type {\n",
       "        vertical-align: middle;\n",
       "    }\n",
       "\n",
       "    .dataframe tbody tr th {\n",
       "        vertical-align: top;\n",
       "    }\n",
       "\n",
       "    .dataframe thead th {\n",
       "        text-align: right;\n",
       "    }\n",
       "</style>\n",
       "<table border=\"1\" class=\"dataframe\">\n",
       "  <thead>\n",
       "    <tr style=\"text-align: right;\">\n",
       "      <th></th>\n",
       "      <th>SAMPL6 Molecule ID</th>\n",
       "      <th>canonical isomeric SMILES</th>\n",
       "      <th>canonical isomeric SMILES w/o counter ions</th>\n",
       "    </tr>\n",
       "  </thead>\n",
       "  <tbody>\n",
       "    <tr>\n",
       "      <th>0</th>\n",
       "      <td>SM01</td>\n",
       "      <td>c1cc2c(cc1O)c3c(o2)C(=O)NCCC3</td>\n",
       "      <td>c1cc2c(cc1O)c3c(o2)C(=O)NCCC3</td>\n",
       "    </tr>\n",
       "    <tr>\n",
       "      <th>1</th>\n",
       "      <td>SM02</td>\n",
       "      <td>c1ccc2c(c1)c(ncn2)Nc3cccc(c3)C(F)(F)F</td>\n",
       "      <td>c1ccc2c(c1)c(ncn2)Nc3cccc(c3)C(F)(F)F</td>\n",
       "    </tr>\n",
       "    <tr>\n",
       "      <th>2</th>\n",
       "      <td>SM03</td>\n",
       "      <td>c1ccc(cc1)Cc2nnc(s2)NC(=O)c3cccs3</td>\n",
       "      <td>c1ccc(cc1)Cc2nnc(s2)NC(=O)c3cccs3</td>\n",
       "    </tr>\n",
       "    <tr>\n",
       "      <th>3</th>\n",
       "      <td>SM04</td>\n",
       "      <td>c1ccc2c(c1)c(ncn2)NCc3ccc(cc3)Cl</td>\n",
       "      <td>c1ccc2c(c1)c(ncn2)NCc3ccc(cc3)Cl</td>\n",
       "    </tr>\n",
       "    <tr>\n",
       "      <th>4</th>\n",
       "      <td>SM05</td>\n",
       "      <td>c1ccc(c(c1)NC(=O)c2ccc(o2)Cl)N3CCCCC3</td>\n",
       "      <td>c1ccc(c(c1)NC(=O)c2ccc(o2)Cl)N3CCCCC3</td>\n",
       "    </tr>\n",
       "    <tr>\n",
       "      <th>5</th>\n",
       "      <td>SM06</td>\n",
       "      <td>c1cc2cccnc2c(c1)NC(=O)c3cc(cnc3)Br</td>\n",
       "      <td>c1cc2cccnc2c(c1)NC(=O)c3cc(cnc3)Br</td>\n",
       "    </tr>\n",
       "    <tr>\n",
       "      <th>6</th>\n",
       "      <td>SM07</td>\n",
       "      <td>c1ccc(cc1)CNc2c3ccccc3ncn2</td>\n",
       "      <td>c1ccc(cc1)CNc2c3ccccc3ncn2</td>\n",
       "    </tr>\n",
       "    <tr>\n",
       "      <th>7</th>\n",
       "      <td>SM08</td>\n",
       "      <td>Cc1ccc2c(c1)c(c(c(=O)[nH]2)CC(=O)O)c3ccccc3</td>\n",
       "      <td>Cc1ccc2c(c1)c(c(c(=O)[nH]2)CC(=O)O)c3ccccc3</td>\n",
       "    </tr>\n",
       "    <tr>\n",
       "      <th>8</th>\n",
       "      <td>SM09</td>\n",
       "      <td>COc1cccc(c1)Nc2c3ccccc3ncn2.Cl</td>\n",
       "      <td>COc1cccc(c1)Nc2c3ccccc3ncn2</td>\n",
       "    </tr>\n",
       "    <tr>\n",
       "      <th>9</th>\n",
       "      <td>SM10</td>\n",
       "      <td>c1ccc(cc1)C(=O)NCC(=O)Nc2nc3ccccc3s2</td>\n",
       "      <td>c1ccc(cc1)C(=O)NCC(=O)Nc2nc3ccccc3s2</td>\n",
       "    </tr>\n",
       "    <tr>\n",
       "      <th>10</th>\n",
       "      <td>SM11</td>\n",
       "      <td>c1ccc(cc1)n2c3c(cn2)c(ncn3)N</td>\n",
       "      <td>c1ccc(cc1)n2c3c(cn2)c(ncn3)N</td>\n",
       "    </tr>\n",
       "    <tr>\n",
       "      <th>11</th>\n",
       "      <td>SM12</td>\n",
       "      <td>c1ccc2c(c1)c(ncn2)Nc3cccc(c3)Cl.Cl</td>\n",
       "      <td>c1ccc2c(c1)c(ncn2)Nc3cccc(c3)Cl</td>\n",
       "    </tr>\n",
       "    <tr>\n",
       "      <th>12</th>\n",
       "      <td>SM13</td>\n",
       "      <td>Cc1cccc(c1)Nc2c3cc(c(cc3ncn2)OC)OC</td>\n",
       "      <td>Cc1cccc(c1)Nc2c3cc(c(cc3ncn2)OC)OC</td>\n",
       "    </tr>\n",
       "    <tr>\n",
       "      <th>13</th>\n",
       "      <td>SM14</td>\n",
       "      <td>c1ccc(cc1)n2cnc3c2ccc(c3)N</td>\n",
       "      <td>c1ccc(cc1)n2cnc3c2ccc(c3)N</td>\n",
       "    </tr>\n",
       "    <tr>\n",
       "      <th>14</th>\n",
       "      <td>SM15</td>\n",
       "      <td>c1ccc2c(c1)ncn2c3ccc(cc3)O</td>\n",
       "      <td>c1ccc2c(c1)ncn2c3ccc(cc3)O</td>\n",
       "    </tr>\n",
       "    <tr>\n",
       "      <th>15</th>\n",
       "      <td>SM16</td>\n",
       "      <td>c1cc(c(c(c1)Cl)C(=O)Nc2ccncc2)Cl</td>\n",
       "      <td>c1cc(c(c(c1)Cl)C(=O)Nc2ccncc2)Cl</td>\n",
       "    </tr>\n",
       "    <tr>\n",
       "      <th>16</th>\n",
       "      <td>SM17</td>\n",
       "      <td>c1ccc(cc1)CSc2nnc(o2)c3ccncc3</td>\n",
       "      <td>c1ccc(cc1)CSc2nnc(o2)c3ccncc3</td>\n",
       "    </tr>\n",
       "    <tr>\n",
       "      <th>17</th>\n",
       "      <td>SM18</td>\n",
       "      <td>c1ccc2c(c1)c(=O)[nH]c(n2)CCC(=O)Nc3ncc(s3)Cc4c...</td>\n",
       "      <td>c1ccc2c(c1)c(=O)[nH]c(n2)CCC(=O)Nc3ncc(s3)Cc4c...</td>\n",
       "    </tr>\n",
       "    <tr>\n",
       "      <th>18</th>\n",
       "      <td>SM19</td>\n",
       "      <td>CCOc1ccc2c(c1)sc(n2)NC(=O)Cc3ccc(c(c3)Cl)Cl</td>\n",
       "      <td>CCOc1ccc2c(c1)sc(n2)NC(=O)Cc3ccc(c(c3)Cl)Cl</td>\n",
       "    </tr>\n",
       "    <tr>\n",
       "      <th>19</th>\n",
       "      <td>SM20</td>\n",
       "      <td>c1cc(cc(c1)OCc2ccc(cc2Cl)Cl)/C=C/3\\C(=O)NC(=O)S3</td>\n",
       "      <td>c1cc(cc(c1)OCc2ccc(cc2Cl)Cl)/C=C/3\\C(=O)NC(=O)S3</td>\n",
       "    </tr>\n",
       "    <tr>\n",
       "      <th>20</th>\n",
       "      <td>SM21</td>\n",
       "      <td>c1cc(cc(c1)Br)Nc2c(cnc(n2)Nc3cccc(c3)Br)F</td>\n",
       "      <td>c1cc(cc(c1)Br)Nc2c(cnc(n2)Nc3cccc(c3)Br)F</td>\n",
       "    </tr>\n",
       "    <tr>\n",
       "      <th>21</th>\n",
       "      <td>SM22</td>\n",
       "      <td>c1cc2c(cc(c(c2nc1)O)I)I</td>\n",
       "      <td>c1cc2c(cc(c(c2nc1)O)I)I</td>\n",
       "    </tr>\n",
       "    <tr>\n",
       "      <th>22</th>\n",
       "      <td>SM23</td>\n",
       "      <td>CCOC(=O)c1ccc(cc1)Nc2cc(nc(n2)Nc3ccc(cc3)C(=O)...</td>\n",
       "      <td>CCOC(=O)c1ccc(cc1)Nc2cc(nc(n2)Nc3ccc(cc3)C(=O)...</td>\n",
       "    </tr>\n",
       "    <tr>\n",
       "      <th>23</th>\n",
       "      <td>SM24</td>\n",
       "      <td>COc1ccc(cc1)c2c3c(ncnc3oc2c4ccc(cc4)OC)NCCO</td>\n",
       "      <td>COc1ccc(cc1)c2c3c(ncnc3oc2c4ccc(cc4)OC)NCCO</td>\n",
       "    </tr>\n",
       "  </tbody>\n",
       "</table>\n",
       "</div>"
      ],
      "text/plain": [
       "   SAMPL6 Molecule ID                          canonical isomeric SMILES  \\\n",
       "0                SM01                      c1cc2c(cc1O)c3c(o2)C(=O)NCCC3   \n",
       "1                SM02              c1ccc2c(c1)c(ncn2)Nc3cccc(c3)C(F)(F)F   \n",
       "2                SM03                  c1ccc(cc1)Cc2nnc(s2)NC(=O)c3cccs3   \n",
       "3                SM04                   c1ccc2c(c1)c(ncn2)NCc3ccc(cc3)Cl   \n",
       "4                SM05              c1ccc(c(c1)NC(=O)c2ccc(o2)Cl)N3CCCCC3   \n",
       "5                SM06                 c1cc2cccnc2c(c1)NC(=O)c3cc(cnc3)Br   \n",
       "6                SM07                         c1ccc(cc1)CNc2c3ccccc3ncn2   \n",
       "7                SM08        Cc1ccc2c(c1)c(c(c(=O)[nH]2)CC(=O)O)c3ccccc3   \n",
       "8                SM09                     COc1cccc(c1)Nc2c3ccccc3ncn2.Cl   \n",
       "9                SM10               c1ccc(cc1)C(=O)NCC(=O)Nc2nc3ccccc3s2   \n",
       "10               SM11                       c1ccc(cc1)n2c3c(cn2)c(ncn3)N   \n",
       "11               SM12                 c1ccc2c(c1)c(ncn2)Nc3cccc(c3)Cl.Cl   \n",
       "12               SM13                 Cc1cccc(c1)Nc2c3cc(c(cc3ncn2)OC)OC   \n",
       "13               SM14                         c1ccc(cc1)n2cnc3c2ccc(c3)N   \n",
       "14               SM15                         c1ccc2c(c1)ncn2c3ccc(cc3)O   \n",
       "15               SM16                   c1cc(c(c(c1)Cl)C(=O)Nc2ccncc2)Cl   \n",
       "16               SM17                      c1ccc(cc1)CSc2nnc(o2)c3ccncc3   \n",
       "17               SM18  c1ccc2c(c1)c(=O)[nH]c(n2)CCC(=O)Nc3ncc(s3)Cc4c...   \n",
       "18               SM19        CCOc1ccc2c(c1)sc(n2)NC(=O)Cc3ccc(c(c3)Cl)Cl   \n",
       "19               SM20   c1cc(cc(c1)OCc2ccc(cc2Cl)Cl)/C=C/3\\C(=O)NC(=O)S3   \n",
       "20               SM21          c1cc(cc(c1)Br)Nc2c(cnc(n2)Nc3cccc(c3)Br)F   \n",
       "21               SM22                            c1cc2c(cc(c(c2nc1)O)I)I   \n",
       "22               SM23  CCOC(=O)c1ccc(cc1)Nc2cc(nc(n2)Nc3ccc(cc3)C(=O)...   \n",
       "23               SM24        COc1ccc(cc1)c2c3c(ncnc3oc2c4ccc(cc4)OC)NCCO   \n",
       "\n",
       "           canonical isomeric SMILES w/o counter ions  \n",
       "0                       c1cc2c(cc1O)c3c(o2)C(=O)NCCC3  \n",
       "1               c1ccc2c(c1)c(ncn2)Nc3cccc(c3)C(F)(F)F  \n",
       "2                   c1ccc(cc1)Cc2nnc(s2)NC(=O)c3cccs3  \n",
       "3                    c1ccc2c(c1)c(ncn2)NCc3ccc(cc3)Cl  \n",
       "4               c1ccc(c(c1)NC(=O)c2ccc(o2)Cl)N3CCCCC3  \n",
       "5                  c1cc2cccnc2c(c1)NC(=O)c3cc(cnc3)Br  \n",
       "6                          c1ccc(cc1)CNc2c3ccccc3ncn2  \n",
       "7         Cc1ccc2c(c1)c(c(c(=O)[nH]2)CC(=O)O)c3ccccc3  \n",
       "8                         COc1cccc(c1)Nc2c3ccccc3ncn2  \n",
       "9                c1ccc(cc1)C(=O)NCC(=O)Nc2nc3ccccc3s2  \n",
       "10                       c1ccc(cc1)n2c3c(cn2)c(ncn3)N  \n",
       "11                    c1ccc2c(c1)c(ncn2)Nc3cccc(c3)Cl  \n",
       "12                 Cc1cccc(c1)Nc2c3cc(c(cc3ncn2)OC)OC  \n",
       "13                         c1ccc(cc1)n2cnc3c2ccc(c3)N  \n",
       "14                         c1ccc2c(c1)ncn2c3ccc(cc3)O  \n",
       "15                   c1cc(c(c(c1)Cl)C(=O)Nc2ccncc2)Cl  \n",
       "16                      c1ccc(cc1)CSc2nnc(o2)c3ccncc3  \n",
       "17  c1ccc2c(c1)c(=O)[nH]c(n2)CCC(=O)Nc3ncc(s3)Cc4c...  \n",
       "18        CCOc1ccc2c(c1)sc(n2)NC(=O)Cc3ccc(c(c3)Cl)Cl  \n",
       "19   c1cc(cc(c1)OCc2ccc(cc2Cl)Cl)/C=C/3\\C(=O)NC(=O)S3  \n",
       "20          c1cc(cc(c1)Br)Nc2c(cnc(n2)Nc3cccc(c3)Br)F  \n",
       "21                            c1cc2c(cc(c(c2nc1)O)I)I  \n",
       "22  CCOC(=O)c1ccc(cc1)Nc2cc(nc(n2)Nc3ccc(cc3)C(=O)...  \n",
       "23        COc1ccc(cc1)c2c3c(ncnc3oc2c4ccc(cc4)OC)NCCO  "
      ]
     },
     "execution_count": 5,
     "metadata": {},
     "output_type": "execute_result"
    }
   ],
   "source": [
    "# To calculate molecular weight without counter ions, remove counter ions from SMILES.\n",
    "df = pd.read_csv(\"molecule_ID_and_SMILES.csv\")\n",
    "df[\"canonical isomeric SMILES w/o counter ions\"] = None\n",
    "\n",
    "for i in range(df.shape[0]):\n",
    "    SMILES = df.loc[i, \"canonical isomeric SMILES\"]\n",
    "    SMILES_wo_counterions = SMILES.split(\".\")[0]\n",
    "    df.loc[i,\"canonical isomeric SMILES w/o counter ions\"] = SMILES_wo_counterions\n",
    "df"
   ]
  },
  {
   "cell_type": "markdown",
   "metadata": {},
   "source": [
    "### 1. Molecular Weight "
   ]
  },
  {
   "cell_type": "code",
   "execution_count": 6,
   "metadata": {},
   "outputs": [],
   "source": [
    "def calc_mw(mol):\n",
    "    \"\"\"\n",
    "    Calculates molecular weight of given mol object\n",
    "    \"\"\"\n",
    "    ifs = oechem.oeisstream(get_filter_rules())\n",
    "    filter = oemolprop.OEFilter(ifs)\n",
    "    \n",
    "    ostr = oechem.oeosstream()\n",
    "    pwnd = False\n",
    "    filter.SetTable(ostr, pwnd)\n",
    "    \n",
    "    headers = ostr.str().split(b'\\t')\n",
    "    ostr.clear()  # remove the header row from the stream\n",
    "    \n",
    "    filter(mol)\n",
    "    \n",
    "    fields = ostr.str().decode(\"UTF-8\").split('\\t')\n",
    "    ostr.clear()  # remove this row from the stream\n",
    "    \n",
    "    filterdict = dict(zip(headers, fields))\n",
    "    \n",
    "    mw = float(filterdict[b\"molecular weight\"])\n",
    "    \n",
    "    return mw"
   ]
  },
  {
   "cell_type": "markdown",
   "metadata": {},
   "source": [
    "### 2. Number of heavy atoms"
   ]
  },
  {
   "cell_type": "code",
   "execution_count": 7,
   "metadata": {},
   "outputs": [],
   "source": [
    "def calc_number_of_heavy_atoms(mol):\n",
    "    \"\"\"\n",
    "    Calculates number of heavy atoms (non-H)\n",
    "    \"\"\"\n",
    "    ifs = oechem.oeisstream(get_filter_rules())\n",
    "    filter = oemolprop.OEFilter(ifs)\n",
    "    \n",
    "    ostr = oechem.oeosstream()\n",
    "    pwnd = False\n",
    "    filter.SetTable(ostr, pwnd)\n",
    "    \n",
    "    headers = ostr.str().split(b'\\t')\n",
    "    ostr.clear()  # remove the header row from the stream\n",
    "    \n",
    "    filter(mol)\n",
    "    \n",
    "    fields = ostr.str().decode(\"UTF-8\").split('\\t')\n",
    "    ostr.clear()  # remove this row from the stream\n",
    "    \n",
    "    filterdict = dict(zip(headers, fields))\n",
    "    \n",
    "    count = float(filterdict[b\"atom count\"])\n",
    "    \n",
    "    return count"
   ]
  },
  {
   "cell_type": "markdown",
   "metadata": {},
   "source": [
    "### 3. Number of rotatable bonds "
   ]
  },
  {
   "cell_type": "code",
   "execution_count": 8,
   "metadata": {},
   "outputs": [],
   "source": [
    "def calc_number_of_rotatable_bonds(mol):\n",
    "    \"\"\"\n",
    "    Calculates number of rotatable bonds\n",
    "    \"\"\"\n",
    "    ifs = oechem.oeisstream(get_filter_rules())\n",
    "    filter = oemolprop.OEFilter(ifs)\n",
    "    \n",
    "    ostr = oechem.oeosstream()\n",
    "    pwnd = False\n",
    "    filter.SetTable(ostr, pwnd)\n",
    "    \n",
    "    headers = ostr.str().split(b'\\t')\n",
    "    ostr.clear()  # remove the header row from the stream\n",
    "    \n",
    "    filter(mol)\n",
    "    \n",
    "    fields = ostr.str().decode(\"UTF-8\").split('\\t')\n",
    "    ostr.clear()  # remove this row from the stream\n",
    "    \n",
    "    filterdict = dict(zip(headers, fields))\n",
    "    \n",
    "    count = float(filterdict[b\"rotatable bonds\"])\n",
    "    \n",
    "    return count"
   ]
  },
  {
   "cell_type": "markdown",
   "metadata": {},
   "source": [
    "### 4. Number of heteroatoms (not C or H)"
   ]
  },
  {
   "cell_type": "code",
   "execution_count": 9,
   "metadata": {},
   "outputs": [],
   "source": [
    "def calc_number_of_heteroatom(mol):\n",
    "    \"\"\"\n",
    "    Calculates number of rotatable bonds\n",
    "    \"\"\"\n",
    "    ifs = oechem.oeisstream(get_filter_rules())\n",
    "    filter = oemolprop.OEFilter(ifs)\n",
    "    \n",
    "    ostr = oechem.oeosstream()\n",
    "    pwnd = False\n",
    "    filter.SetTable(ostr, pwnd)\n",
    "    \n",
    "    headers = ostr.str().split(b'\\t')\n",
    "    ostr.clear()  # remove the header row from the stream\n",
    "    \n",
    "    filter(mol)\n",
    "    \n",
    "    fields = ostr.str().decode(\"UTF-8\").split('\\t')\n",
    "    ostr.clear()  # remove this row from the stream\n",
    "    \n",
    "    filterdict = dict(zip(headers, fields))\n",
    "    \n",
    "    count = float(filterdict[b\"heteroatoms\"])\n",
    "    \n",
    "    return count"
   ]
  },
  {
   "cell_type": "markdown",
   "metadata": {},
   "source": [
    "### 5. Heteroatom ratio to carbon ratio"
   ]
  },
  {
   "cell_type": "code",
   "execution_count": 10,
   "metadata": {},
   "outputs": [],
   "source": [
    "def calc_het_atom_to_carbon_ratio(mol):\n",
    "    \"\"\"\n",
    "    Calculates number of non-terminal rotatable bonds\n",
    "    \"\"\"\n",
    "    ifs = oechem.oeisstream(get_filter_rules())\n",
    "    filter = oemolprop.OEFilter(ifs)\n",
    "    \n",
    "    ostr = oechem.oeosstream()\n",
    "    pwnd = False\n",
    "    filter.SetTable(ostr, pwnd)\n",
    "    \n",
    "    headers = ostr.str().split(b'\\t')\n",
    "    ostr.clear()  # remove the header row from the stream\n",
    "    \n",
    "    filter(mol)\n",
    "    \n",
    "    fields = ostr.str().decode(\"UTF-8\").split('\\t')\n",
    "    ostr.clear()  # remove this row from the stream\n",
    "    \n",
    "    filterdict = dict(zip(headers, fields))\n",
    "    \n",
    "    ratio = float(filterdict[b\"heteroatom to carbon ratio\"])\n",
    "    \n",
    "    return ratio"
   ]
  },
  {
   "cell_type": "markdown",
   "metadata": {},
   "source": [
    "### 6. Number of ring systems"
   ]
  },
  {
   "cell_type": "code",
   "execution_count": 11,
   "metadata": {},
   "outputs": [],
   "source": [
    "def calc_number_of_ring_systems(mol):\n",
    "    \"\"\"\n",
    "    Calculates number of ring systems (contiguous systems of ring atoms and bonds)\n",
    "    \"\"\"\n",
    "    ifs = oechem.oeisstream(get_filter_rules())\n",
    "    filter = oemolprop.OEFilter(ifs)\n",
    "    \n",
    "    ostr = oechem.oeosstream()\n",
    "    pwnd = False\n",
    "    filter.SetTable(ostr, pwnd)\n",
    "    \n",
    "    headers = ostr.str().split(b'\\t')\n",
    "    ostr.clear()  # remove the header row from the stream\n",
    "    \n",
    "    filter(mol)\n",
    "    \n",
    "    fields = ostr.str().decode(\"UTF-8\").split('\\t')\n",
    "    ostr.clear()  # remove this row from the stream\n",
    "    \n",
    "    filterdict = dict(zip(headers, fields))\n",
    "    \n",
    "    count = float(filterdict[b\"number of ring systems\"])\n",
    "    \n",
    "    return count"
   ]
  },
  {
   "cell_type": "markdown",
   "metadata": {},
   "source": [
    "### 7. Ring size"
   ]
  },
  {
   "cell_type": "code",
   "execution_count": 12,
   "metadata": {},
   "outputs": [],
   "source": [
    "def calc_max_ring_size(mol):\n",
    "    \"\"\"\n",
    "    Calculates maximum size of any single ring system\n",
    "    \"\"\"\n",
    "    ifs = oechem.oeisstream(get_filter_rules())\n",
    "    filter = oemolprop.OEFilter(ifs)\n",
    "    \n",
    "    ostr = oechem.oeosstream()\n",
    "    pwnd = False\n",
    "    filter.SetTable(ostr, pwnd)\n",
    "    \n",
    "    headers = ostr.str().split(b'\\t')\n",
    "    ostr.clear()  # remove the header row from the stream\n",
    "    \n",
    "    filter(mol)\n",
    "    \n",
    "    fields = ostr.str().decode(\"UTF-8\").split('\\t')\n",
    "    ostr.clear()  # remove this row from the stream\n",
    "    \n",
    "    filterdict = dict(zip(headers, fields))\n",
    "    \n",
    "    size = float(filterdict[b\"maximum size of ring system\"])\n",
    "    \n",
    "    return size"
   ]
  },
  {
   "cell_type": "markdown",
   "metadata": {},
   "source": [
    "### 8. Number of microstates"
   ]
  },
  {
   "cell_type": "code",
   "execution_count": 13,
   "metadata": {},
   "outputs": [],
   "source": [
    "def calc_number_of_microstates(mol_ID):\n",
    "    \"\"\"\n",
    "    Uses SAMPL6 input files that list microstate IDs, to count the number of microstates \n",
    "    provided for each molecule in SAMPL6 pKa challenge. \n",
    "    \"\"\"\n",
    "    # Read CSV file that contains list of microstates\n",
    "    df_microstates = pd.read_csv(\"./microstates/\"+mol_ID+\"_microstates.csv\")\n",
    "    microstate_count = df_microstates.shape[0]\n",
    "    \n",
    "    return microstate_count"
   ]
  },
  {
   "cell_type": "code",
   "execution_count": 14,
   "metadata": {},
   "outputs": [
    {
     "data": {
      "text/html": [
       "<div>\n",
       "<style scoped>\n",
       "    .dataframe tbody tr th:only-of-type {\n",
       "        vertical-align: middle;\n",
       "    }\n",
       "\n",
       "    .dataframe tbody tr th {\n",
       "        vertical-align: top;\n",
       "    }\n",
       "\n",
       "    .dataframe thead th {\n",
       "        text-align: right;\n",
       "    }\n",
       "</style>\n",
       "<table border=\"1\" class=\"dataframe\">\n",
       "  <thead>\n",
       "    <tr style=\"text-align: right;\">\n",
       "      <th></th>\n",
       "      <th>SAMPL6 Molecule ID</th>\n",
       "      <th>canonical isomeric SMILES</th>\n",
       "      <th>canonical isomeric SMILES w/o counter ions</th>\n",
       "      <th>MW</th>\n",
       "      <th>Heavy atom count</th>\n",
       "      <th>Rotatable bond count</th>\n",
       "      <th>Heteroatom count</th>\n",
       "      <th>Heteroatom to carbon ratio</th>\n",
       "      <th>Ring system count</th>\n",
       "      <th>Max ring size</th>\n",
       "      <th>Microstate count</th>\n",
       "    </tr>\n",
       "  </thead>\n",
       "  <tbody>\n",
       "    <tr>\n",
       "      <th>0</th>\n",
       "      <td>SM01</td>\n",
       "      <td>c1cc2c(cc1O)c3c(o2)C(=O)NCCC3</td>\n",
       "      <td>c1cc2c(cc1O)c3c(o2)C(=O)NCCC3</td>\n",
       "      <td>217.22</td>\n",
       "      <td>16</td>\n",
       "      <td>0</td>\n",
       "      <td>4</td>\n",
       "      <td>0.33</td>\n",
       "      <td>1</td>\n",
       "      <td>14</td>\n",
       "      <td>8</td>\n",
       "    </tr>\n",
       "    <tr>\n",
       "      <th>1</th>\n",
       "      <td>SM02</td>\n",
       "      <td>c1ccc2c(c1)c(ncn2)Nc3cccc(c3)C(F)(F)F</td>\n",
       "      <td>c1ccc2c(c1)c(ncn2)Nc3cccc(c3)C(F)(F)F</td>\n",
       "      <td>289.26</td>\n",
       "      <td>21</td>\n",
       "      <td>3</td>\n",
       "      <td>6</td>\n",
       "      <td>0.4</td>\n",
       "      <td>2</td>\n",
       "      <td>10</td>\n",
       "      <td>11</td>\n",
       "    </tr>\n",
       "    <tr>\n",
       "      <th>2</th>\n",
       "      <td>SM03</td>\n",
       "      <td>c1ccc(cc1)Cc2nnc(s2)NC(=O)c3cccs3</td>\n",
       "      <td>c1ccc(cc1)Cc2nnc(s2)NC(=O)c3cccs3</td>\n",
       "      <td>301.39</td>\n",
       "      <td>20</td>\n",
       "      <td>5</td>\n",
       "      <td>6</td>\n",
       "      <td>0.43</td>\n",
       "      <td>3</td>\n",
       "      <td>6</td>\n",
       "      <td>16</td>\n",
       "    </tr>\n",
       "    <tr>\n",
       "      <th>3</th>\n",
       "      <td>SM04</td>\n",
       "      <td>c1ccc2c(c1)c(ncn2)NCc3ccc(cc3)Cl</td>\n",
       "      <td>c1ccc2c(c1)c(ncn2)NCc3ccc(cc3)Cl</td>\n",
       "      <td>269.73</td>\n",
       "      <td>19</td>\n",
       "      <td>3</td>\n",
       "      <td>4</td>\n",
       "      <td>0.27</td>\n",
       "      <td>2</td>\n",
       "      <td>10</td>\n",
       "      <td>11</td>\n",
       "    </tr>\n",
       "    <tr>\n",
       "      <th>4</th>\n",
       "      <td>SM05</td>\n",
       "      <td>c1ccc(c(c1)NC(=O)c2ccc(o2)Cl)N3CCCCC3</td>\n",
       "      <td>c1ccc(c(c1)NC(=O)c2ccc(o2)Cl)N3CCCCC3</td>\n",
       "      <td>304.77</td>\n",
       "      <td>21</td>\n",
       "      <td>4</td>\n",
       "      <td>5</td>\n",
       "      <td>0.31</td>\n",
       "      <td>3</td>\n",
       "      <td>6</td>\n",
       "      <td>9</td>\n",
       "    </tr>\n",
       "  </tbody>\n",
       "</table>\n",
       "</div>"
      ],
      "text/plain": [
       "  SAMPL6 Molecule ID              canonical isomeric SMILES  \\\n",
       "0               SM01          c1cc2c(cc1O)c3c(o2)C(=O)NCCC3   \n",
       "1               SM02  c1ccc2c(c1)c(ncn2)Nc3cccc(c3)C(F)(F)F   \n",
       "2               SM03      c1ccc(cc1)Cc2nnc(s2)NC(=O)c3cccs3   \n",
       "3               SM04       c1ccc2c(c1)c(ncn2)NCc3ccc(cc3)Cl   \n",
       "4               SM05  c1ccc(c(c1)NC(=O)c2ccc(o2)Cl)N3CCCCC3   \n",
       "\n",
       "  canonical isomeric SMILES w/o counter ions      MW Heavy atom count  \\\n",
       "0              c1cc2c(cc1O)c3c(o2)C(=O)NCCC3  217.22               16   \n",
       "1      c1ccc2c(c1)c(ncn2)Nc3cccc(c3)C(F)(F)F  289.26               21   \n",
       "2          c1ccc(cc1)Cc2nnc(s2)NC(=O)c3cccs3  301.39               20   \n",
       "3           c1ccc2c(c1)c(ncn2)NCc3ccc(cc3)Cl  269.73               19   \n",
       "4      c1ccc(c(c1)NC(=O)c2ccc(o2)Cl)N3CCCCC3  304.77               21   \n",
       "\n",
       "  Rotatable bond count Heteroatom count Heteroatom to carbon ratio  \\\n",
       "0                    0                4                       0.33   \n",
       "1                    3                6                        0.4   \n",
       "2                    5                6                       0.43   \n",
       "3                    3                4                       0.27   \n",
       "4                    4                5                       0.31   \n",
       "\n",
       "  Ring system count Max ring size Microstate count  \n",
       "0                 1            14                8  \n",
       "1                 2            10               11  \n",
       "2                 3             6               16  \n",
       "3                 2            10               11  \n",
       "4                 3             6                9  "
      ]
     },
     "execution_count": 14,
     "metadata": {},
     "output_type": "execute_result"
    }
   ],
   "source": [
    "# Add molecular descriptors to DataFrame\n",
    "\n",
    "df[\"MW\"] = None\n",
    "df[\"Heavy atom count\"] = None\n",
    "df[\"Rotatable bond count\"] = None\n",
    "df[\"Heteroatom count\"] = None\n",
    "df[\"Heteroatom to carbon ratio\"] = None\n",
    "df[\"Ring system count\"] = None\n",
    "df[\"Max ring size\"] = None\n",
    "df[\"Microstate count\"] = None\n",
    "\n",
    "for i, row in enumerate(df.iterrows()):\n",
    "    smiles = df.loc[i,\"canonical isomeric SMILES w/o counter ions\"]\n",
    "    mol = oechem.OEGraphMol()\n",
    "    oechem.OESmilesToMol(mol, str(smiles))\n",
    "    \n",
    "    # Molecular weight\n",
    "    try: \n",
    "        mw = calc_mw(mol)\n",
    "    except RuntimeError:\n",
    "            print(\"Error: i=\",i,\" \", df.ix[i, \"NAME\"])\n",
    "            mw = float(\"NaN\")        \n",
    "    df.loc[i,\"MW\"] = float(mw)\n",
    "    \n",
    "    # Number of heavy atoms\n",
    "    try: \n",
    "        heavy_atom_count = calc_number_of_heavy_atoms(mol)\n",
    "    except RuntimeError:\n",
    "            print(\"Error: i=\",i,\" \", df.ix[i, \"NAME\"])\n",
    "            heavy_atom_count = float(\"NaN\")         \n",
    "    df.loc[i,\"Heavy atom count\"] = float(heavy_atom_count)\n",
    "    \n",
    "    # Number of rotatable bonds\n",
    "    try: \n",
    "        rot_bond_count = calc_number_of_rotatable_bonds(mol)\n",
    "    except RuntimeError:\n",
    "            print(\"Error: i=\",i,\" \", df.ix[i, \"NAME\"])\n",
    "            rot_bond_count = float(\"NaN\")\n",
    "    df.loc[i,\"Rotatable bond count\"] = float(rot_bond_count)\n",
    "    \n",
    "    # Number of heteroatoms\n",
    "    try: \n",
    "        het_atom_count = calc_number_of_heteroatom(mol)\n",
    "    except RuntimeError:\n",
    "            print(\"Error: i=\",i,\" \", df.ix[i, \"NAME\"])\n",
    "            het_atom_count = float(\"NaN\")\n",
    "    df.loc[i,\"Heteroatom count\"] = float(het_atom_count)\n",
    "    \n",
    "    # Heteroatom to carbon ratio\n",
    "    try: \n",
    "        het_atom_ratio = calc_het_atom_to_carbon_ratio(mol)\n",
    "    except RuntimeError:\n",
    "            print(\"Error: i=\",i,\" \", df.ix[i, \"NAME\"])\n",
    "            het_atom_ratio = float(\"NaN\")\n",
    "    df.loc[i,\"Heteroatom to carbon ratio\"] = float(het_atom_ratio)\n",
    "    \n",
    "    # Number of ring systems\n",
    "    try: \n",
    "        ring_count = calc_number_of_ring_systems(mol)\n",
    "    except RuntimeError:\n",
    "            print(\"Error: i=\",i,\" \", df.ix[i, \"NAME\"])\n",
    "            ring_count = float(\"NaN\")\n",
    "    df.loc[i,\"Ring system count\"] = float(ring_count)\n",
    "    \n",
    "    # Maximum ring size\n",
    "    try: \n",
    "        ring_size = calc_max_ring_size(mol)\n",
    "    except RuntimeError:\n",
    "            print(\"Error: i=\",i,\" \", df.ix[i, \"NAME\"])\n",
    "            ring_size = float(\"NaN\")\n",
    "    df.loc[i,\"Max ring size\"] = float(ring_size)\n",
    "    \n",
    "    # Number of microstates collected in SAMPL6 pKa challenge\n",
    "    mol_ID = row[1][\"SAMPL6 Molecule ID\"]\n",
    "    microstate_count = calc_number_of_microstates(mol_ID)\n",
    "    df.loc[i,\"Microstate count\"] = float(microstate_count)\n",
    "    \n",
    "    del mol\n",
    "    \n",
    "df.to_csv(\"SAMPL6_molecular_descriptors.csv\", index=False)\n",
    "df.head()"
   ]
  },
  {
   "cell_type": "code",
   "execution_count": 15,
   "metadata": {},
   "outputs": [
    {
     "data": {
      "text/html": [
       "<div>\n",
       "<style scoped>\n",
       "    .dataframe tbody tr th:only-of-type {\n",
       "        vertical-align: middle;\n",
       "    }\n",
       "\n",
       "    .dataframe tbody tr th {\n",
       "        vertical-align: top;\n",
       "    }\n",
       "\n",
       "    .dataframe thead th {\n",
       "        text-align: right;\n",
       "    }\n",
       "</style>\n",
       "<table border=\"1\" class=\"dataframe\">\n",
       "  <thead>\n",
       "    <tr style=\"text-align: right;\">\n",
       "      <th></th>\n",
       "      <th>MAE</th>\n",
       "      <th>MAE_lower_CI</th>\n",
       "      <th>MAE_upper_CI</th>\n",
       "      <th>SAMPL6 Molecule ID</th>\n",
       "      <th>RMSE</th>\n",
       "      <th>RMSE_lower_CI</th>\n",
       "      <th>RMSE_upper_CI</th>\n",
       "    </tr>\n",
       "  </thead>\n",
       "  <tbody>\n",
       "    <tr>\n",
       "      <th>0</th>\n",
       "      <td>0.617073</td>\n",
       "      <td>0.483780</td>\n",
       "      <td>0.759756</td>\n",
       "      <td>SM18</td>\n",
       "      <td>0.888933</td>\n",
       "      <td>0.701845</td>\n",
       "      <td>1.060335</td>\n",
       "    </tr>\n",
       "    <tr>\n",
       "      <th>1</th>\n",
       "      <td>0.724571</td>\n",
       "      <td>0.507143</td>\n",
       "      <td>0.987429</td>\n",
       "      <td>SM01</td>\n",
       "      <td>1.019765</td>\n",
       "      <td>0.647900</td>\n",
       "      <td>1.419063</td>\n",
       "    </tr>\n",
       "    <tr>\n",
       "      <th>2</th>\n",
       "      <td>0.786571</td>\n",
       "      <td>0.532000</td>\n",
       "      <td>1.058571</td>\n",
       "      <td>SM11</td>\n",
       "      <td>1.110062</td>\n",
       "      <td>0.784367</td>\n",
       "      <td>1.391581</td>\n",
       "    </tr>\n",
       "    <tr>\n",
       "      <th>3</th>\n",
       "      <td>0.873429</td>\n",
       "      <td>0.628857</td>\n",
       "      <td>1.139143</td>\n",
       "      <td>SM08</td>\n",
       "      <td>1.165697</td>\n",
       "      <td>0.873535</td>\n",
       "      <td>1.427593</td>\n",
       "    </tr>\n",
       "    <tr>\n",
       "      <th>4</th>\n",
       "      <td>0.983429</td>\n",
       "      <td>0.814857</td>\n",
       "      <td>1.153714</td>\n",
       "      <td>SM04</td>\n",
       "      <td>1.109407</td>\n",
       "      <td>0.937452</td>\n",
       "      <td>1.276053</td>\n",
       "    </tr>\n",
       "    <tr>\n",
       "      <th>5</th>\n",
       "      <td>1.005143</td>\n",
       "      <td>0.760000</td>\n",
       "      <td>1.261429</td>\n",
       "      <td>SM13</td>\n",
       "      <td>1.260018</td>\n",
       "      <td>0.991497</td>\n",
       "      <td>1.512222</td>\n",
       "    </tr>\n",
       "    <tr>\n",
       "      <th>6</th>\n",
       "      <td>1.005714</td>\n",
       "      <td>0.760000</td>\n",
       "      <td>1.264000</td>\n",
       "      <td>SM24</td>\n",
       "      <td>1.251653</td>\n",
       "      <td>0.996910</td>\n",
       "      <td>1.484726</td>\n",
       "    </tr>\n",
       "    <tr>\n",
       "      <th>7</th>\n",
       "      <td>1.014000</td>\n",
       "      <td>0.873714</td>\n",
       "      <td>1.151143</td>\n",
       "      <td>SM02</td>\n",
       "      <td>1.095525</td>\n",
       "      <td>0.962657</td>\n",
       "      <td>1.223916</td>\n",
       "    </tr>\n",
       "    <tr>\n",
       "      <th>8</th>\n",
       "      <td>1.019861</td>\n",
       "      <td>0.846111</td>\n",
       "      <td>1.199306</td>\n",
       "      <td>SM15</td>\n",
       "      <td>1.277514</td>\n",
       "      <td>1.087590</td>\n",
       "      <td>1.458123</td>\n",
       "    </tr>\n",
       "    <tr>\n",
       "      <th>9</th>\n",
       "      <td>1.038413</td>\n",
       "      <td>0.853810</td>\n",
       "      <td>1.244762</td>\n",
       "      <td>SM16</td>\n",
       "      <td>1.313991</td>\n",
       "      <td>1.043503</td>\n",
       "      <td>1.569995</td>\n",
       "    </tr>\n",
       "    <tr>\n",
       "      <th>10</th>\n",
       "      <td>1.054000</td>\n",
       "      <td>0.847429</td>\n",
       "      <td>1.259714</td>\n",
       "      <td>SM12</td>\n",
       "      <td>1.223948</td>\n",
       "      <td>1.023248</td>\n",
       "      <td>1.403568</td>\n",
       "    </tr>\n",
       "    <tr>\n",
       "      <th>11</th>\n",
       "      <td>1.055429</td>\n",
       "      <td>0.867714</td>\n",
       "      <td>1.265143</td>\n",
       "      <td>SM09</td>\n",
       "      <td>1.212360</td>\n",
       "      <td>0.976353</td>\n",
       "      <td>1.471952</td>\n",
       "    </tr>\n",
       "    <tr>\n",
       "      <th>12</th>\n",
       "      <td>1.119714</td>\n",
       "      <td>0.797714</td>\n",
       "      <td>1.475143</td>\n",
       "      <td>SM23</td>\n",
       "      <td>1.508984</td>\n",
       "      <td>1.102715</td>\n",
       "      <td>1.892612</td>\n",
       "    </tr>\n",
       "    <tr>\n",
       "      <th>13</th>\n",
       "      <td>1.190000</td>\n",
       "      <td>0.911143</td>\n",
       "      <td>1.482857</td>\n",
       "      <td>SM17</td>\n",
       "      <td>1.462582</td>\n",
       "      <td>1.157849</td>\n",
       "      <td>1.741612</td>\n",
       "    </tr>\n",
       "    <tr>\n",
       "      <th>14</th>\n",
       "      <td>1.509714</td>\n",
       "      <td>1.113143</td>\n",
       "      <td>1.959143</td>\n",
       "      <td>SM07</td>\n",
       "      <td>1.964757</td>\n",
       "      <td>1.482325</td>\n",
       "      <td>2.408664</td>\n",
       "    </tr>\n",
       "    <tr>\n",
       "      <th>15</th>\n",
       "      <td>1.585143</td>\n",
       "      <td>1.241714</td>\n",
       "      <td>1.939429</td>\n",
       "      <td>SM05</td>\n",
       "      <td>1.899472</td>\n",
       "      <td>1.559958</td>\n",
       "      <td>2.208207</td>\n",
       "    </tr>\n",
       "    <tr>\n",
       "      <th>16</th>\n",
       "      <td>1.613857</td>\n",
       "      <td>1.176143</td>\n",
       "      <td>2.088571</td>\n",
       "      <td>SM22</td>\n",
       "      <td>2.536188</td>\n",
       "      <td>1.854008</td>\n",
       "      <td>3.135858</td>\n",
       "    </tr>\n",
       "    <tr>\n",
       "      <th>17</th>\n",
       "      <td>1.670769</td>\n",
       "      <td>1.412308</td>\n",
       "      <td>1.945077</td>\n",
       "      <td>SM06</td>\n",
       "      <td>1.991950</td>\n",
       "      <td>1.708198</td>\n",
       "      <td>2.272420</td>\n",
       "    </tr>\n",
       "    <tr>\n",
       "      <th>18</th>\n",
       "      <td>1.690811</td>\n",
       "      <td>1.437838</td>\n",
       "      <td>1.945946</td>\n",
       "      <td>SM20</td>\n",
       "      <td>1.860208</td>\n",
       "      <td>1.617797</td>\n",
       "      <td>2.091506</td>\n",
       "    </tr>\n",
       "    <tr>\n",
       "      <th>19</th>\n",
       "      <td>1.995143</td>\n",
       "      <td>1.448857</td>\n",
       "      <td>2.572000</td>\n",
       "      <td>SM21</td>\n",
       "      <td>2.603893</td>\n",
       "      <td>2.006154</td>\n",
       "      <td>3.168884</td>\n",
       "    </tr>\n",
       "    <tr>\n",
       "      <th>20</th>\n",
       "      <td>2.228571</td>\n",
       "      <td>1.638000</td>\n",
       "      <td>2.887429</td>\n",
       "      <td>SM19</td>\n",
       "      <td>2.916335</td>\n",
       "      <td>2.124061</td>\n",
       "      <td>3.667539</td>\n",
       "    </tr>\n",
       "    <tr>\n",
       "      <th>21</th>\n",
       "      <td>2.235714</td>\n",
       "      <td>1.622571</td>\n",
       "      <td>2.907429</td>\n",
       "      <td>SM10</td>\n",
       "      <td>2.976446</td>\n",
       "      <td>2.192879</td>\n",
       "      <td>3.727838</td>\n",
       "    </tr>\n",
       "    <tr>\n",
       "      <th>22</th>\n",
       "      <td>2.390286</td>\n",
       "      <td>1.790571</td>\n",
       "      <td>3.010286</td>\n",
       "      <td>SM03</td>\n",
       "      <td>3.020797</td>\n",
       "      <td>2.422519</td>\n",
       "      <td>3.580544</td>\n",
       "    </tr>\n",
       "    <tr>\n",
       "      <th>23</th>\n",
       "      <td>2.724545</td>\n",
       "      <td>1.727424</td>\n",
       "      <td>3.899697</td>\n",
       "      <td>SM14</td>\n",
       "      <td>5.262559</td>\n",
       "      <td>3.296119</td>\n",
       "      <td>6.949500</td>\n",
       "    </tr>\n",
       "  </tbody>\n",
       "</table>\n",
       "</div>"
      ],
      "text/plain": [
       "         MAE  MAE_lower_CI  MAE_upper_CI SAMPL6 Molecule ID      RMSE  \\\n",
       "0   0.617073      0.483780      0.759756               SM18  0.888933   \n",
       "1   0.724571      0.507143      0.987429               SM01  1.019765   \n",
       "2   0.786571      0.532000      1.058571               SM11  1.110062   \n",
       "3   0.873429      0.628857      1.139143               SM08  1.165697   \n",
       "4   0.983429      0.814857      1.153714               SM04  1.109407   \n",
       "5   1.005143      0.760000      1.261429               SM13  1.260018   \n",
       "6   1.005714      0.760000      1.264000               SM24  1.251653   \n",
       "7   1.014000      0.873714      1.151143               SM02  1.095525   \n",
       "8   1.019861      0.846111      1.199306               SM15  1.277514   \n",
       "9   1.038413      0.853810      1.244762               SM16  1.313991   \n",
       "10  1.054000      0.847429      1.259714               SM12  1.223948   \n",
       "11  1.055429      0.867714      1.265143               SM09  1.212360   \n",
       "12  1.119714      0.797714      1.475143               SM23  1.508984   \n",
       "13  1.190000      0.911143      1.482857               SM17  1.462582   \n",
       "14  1.509714      1.113143      1.959143               SM07  1.964757   \n",
       "15  1.585143      1.241714      1.939429               SM05  1.899472   \n",
       "16  1.613857      1.176143      2.088571               SM22  2.536188   \n",
       "17  1.670769      1.412308      1.945077               SM06  1.991950   \n",
       "18  1.690811      1.437838      1.945946               SM20  1.860208   \n",
       "19  1.995143      1.448857      2.572000               SM21  2.603893   \n",
       "20  2.228571      1.638000      2.887429               SM19  2.916335   \n",
       "21  2.235714      1.622571      2.907429               SM10  2.976446   \n",
       "22  2.390286      1.790571      3.010286               SM03  3.020797   \n",
       "23  2.724545      1.727424      3.899697               SM14  5.262559   \n",
       "\n",
       "    RMSE_lower_CI  RMSE_upper_CI  \n",
       "0        0.701845       1.060335  \n",
       "1        0.647900       1.419063  \n",
       "2        0.784367       1.391581  \n",
       "3        0.873535       1.427593  \n",
       "4        0.937452       1.276053  \n",
       "5        0.991497       1.512222  \n",
       "6        0.996910       1.484726  \n",
       "7        0.962657       1.223916  \n",
       "8        1.087590       1.458123  \n",
       "9        1.043503       1.569995  \n",
       "10       1.023248       1.403568  \n",
       "11       0.976353       1.471952  \n",
       "12       1.102715       1.892612  \n",
       "13       1.157849       1.741612  \n",
       "14       1.482325       2.408664  \n",
       "15       1.559958       2.208207  \n",
       "16       1.854008       3.135858  \n",
       "17       1.708198       2.272420  \n",
       "18       1.617797       2.091506  \n",
       "19       2.006154       3.168884  \n",
       "20       2.124061       3.667539  \n",
       "21       2.192879       3.727838  \n",
       "22       2.422519       3.580544  \n",
       "23       3.296119       6.949500  "
      ]
     },
     "execution_count": 15,
     "metadata": {},
     "output_type": "execute_result"
    }
   ],
   "source": [
    "# Add MAE values to the table\n",
    "\n",
    "df_MAE = pd.read_csv(\"molecular_error_statistics.csv\")\n",
    "df_MAE = df_MAE.drop(columns=[\"Unnamed: 0\"])\n",
    "df_MAE = df_MAE.rename(columns = {\"Molecule ID\" : \"SAMPL6 Molecule ID\"})\n",
    "#df_MAE = df_MAE.sort_values(by=[\"SAMPL6 Molecule ID\"]).reset_index(inplace=True)\n",
    "df_MAE"
   ]
  },
  {
   "cell_type": "code",
   "execution_count": 16,
   "metadata": {},
   "outputs": [
    {
     "data": {
      "text/html": [
       "<div>\n",
       "<style scoped>\n",
       "    .dataframe tbody tr th:only-of-type {\n",
       "        vertical-align: middle;\n",
       "    }\n",
       "\n",
       "    .dataframe tbody tr th {\n",
       "        vertical-align: top;\n",
       "    }\n",
       "\n",
       "    .dataframe thead th {\n",
       "        text-align: right;\n",
       "    }\n",
       "</style>\n",
       "<table border=\"1\" class=\"dataframe\">\n",
       "  <thead>\n",
       "    <tr style=\"text-align: right;\">\n",
       "      <th></th>\n",
       "      <th>SAMPL6 Molecule ID</th>\n",
       "      <th>canonical isomeric SMILES</th>\n",
       "      <th>canonical isomeric SMILES w/o counter ions</th>\n",
       "      <th>MW</th>\n",
       "      <th>Heavy atom count</th>\n",
       "      <th>Rotatable bond count</th>\n",
       "      <th>Heteroatom count</th>\n",
       "      <th>Heteroatom to carbon ratio</th>\n",
       "      <th>Ring system count</th>\n",
       "      <th>Max ring size</th>\n",
       "      <th>Microstate count</th>\n",
       "      <th>MAE</th>\n",
       "      <th>MAE_lower_CI</th>\n",
       "      <th>MAE_upper_CI</th>\n",
       "      <th>RMSE</th>\n",
       "      <th>RMSE_lower_CI</th>\n",
       "      <th>RMSE_upper_CI</th>\n",
       "    </tr>\n",
       "  </thead>\n",
       "  <tbody>\n",
       "    <tr>\n",
       "      <th>0</th>\n",
       "      <td>SM01</td>\n",
       "      <td>c1cc2c(cc1O)c3c(o2)C(=O)NCCC3</td>\n",
       "      <td>c1cc2c(cc1O)c3c(o2)C(=O)NCCC3</td>\n",
       "      <td>217.22</td>\n",
       "      <td>16</td>\n",
       "      <td>0</td>\n",
       "      <td>4</td>\n",
       "      <td>0.33</td>\n",
       "      <td>1</td>\n",
       "      <td>14</td>\n",
       "      <td>8</td>\n",
       "      <td>0.724571</td>\n",
       "      <td>0.507143</td>\n",
       "      <td>0.987429</td>\n",
       "      <td>1.019765</td>\n",
       "      <td>0.647900</td>\n",
       "      <td>1.419063</td>\n",
       "    </tr>\n",
       "    <tr>\n",
       "      <th>1</th>\n",
       "      <td>SM02</td>\n",
       "      <td>c1ccc2c(c1)c(ncn2)Nc3cccc(c3)C(F)(F)F</td>\n",
       "      <td>c1ccc2c(c1)c(ncn2)Nc3cccc(c3)C(F)(F)F</td>\n",
       "      <td>289.26</td>\n",
       "      <td>21</td>\n",
       "      <td>3</td>\n",
       "      <td>6</td>\n",
       "      <td>0.4</td>\n",
       "      <td>2</td>\n",
       "      <td>10</td>\n",
       "      <td>11</td>\n",
       "      <td>1.014000</td>\n",
       "      <td>0.873714</td>\n",
       "      <td>1.151143</td>\n",
       "      <td>1.095525</td>\n",
       "      <td>0.962657</td>\n",
       "      <td>1.223916</td>\n",
       "    </tr>\n",
       "    <tr>\n",
       "      <th>2</th>\n",
       "      <td>SM03</td>\n",
       "      <td>c1ccc(cc1)Cc2nnc(s2)NC(=O)c3cccs3</td>\n",
       "      <td>c1ccc(cc1)Cc2nnc(s2)NC(=O)c3cccs3</td>\n",
       "      <td>301.39</td>\n",
       "      <td>20</td>\n",
       "      <td>5</td>\n",
       "      <td>6</td>\n",
       "      <td>0.43</td>\n",
       "      <td>3</td>\n",
       "      <td>6</td>\n",
       "      <td>16</td>\n",
       "      <td>2.390286</td>\n",
       "      <td>1.790571</td>\n",
       "      <td>3.010286</td>\n",
       "      <td>3.020797</td>\n",
       "      <td>2.422519</td>\n",
       "      <td>3.580544</td>\n",
       "    </tr>\n",
       "    <tr>\n",
       "      <th>3</th>\n",
       "      <td>SM04</td>\n",
       "      <td>c1ccc2c(c1)c(ncn2)NCc3ccc(cc3)Cl</td>\n",
       "      <td>c1ccc2c(c1)c(ncn2)NCc3ccc(cc3)Cl</td>\n",
       "      <td>269.73</td>\n",
       "      <td>19</td>\n",
       "      <td>3</td>\n",
       "      <td>4</td>\n",
       "      <td>0.27</td>\n",
       "      <td>2</td>\n",
       "      <td>10</td>\n",
       "      <td>11</td>\n",
       "      <td>0.983429</td>\n",
       "      <td>0.814857</td>\n",
       "      <td>1.153714</td>\n",
       "      <td>1.109407</td>\n",
       "      <td>0.937452</td>\n",
       "      <td>1.276053</td>\n",
       "    </tr>\n",
       "    <tr>\n",
       "      <th>4</th>\n",
       "      <td>SM05</td>\n",
       "      <td>c1ccc(c(c1)NC(=O)c2ccc(o2)Cl)N3CCCCC3</td>\n",
       "      <td>c1ccc(c(c1)NC(=O)c2ccc(o2)Cl)N3CCCCC3</td>\n",
       "      <td>304.77</td>\n",
       "      <td>21</td>\n",
       "      <td>4</td>\n",
       "      <td>5</td>\n",
       "      <td>0.31</td>\n",
       "      <td>3</td>\n",
       "      <td>6</td>\n",
       "      <td>9</td>\n",
       "      <td>1.585143</td>\n",
       "      <td>1.241714</td>\n",
       "      <td>1.939429</td>\n",
       "      <td>1.899472</td>\n",
       "      <td>1.559958</td>\n",
       "      <td>2.208207</td>\n",
       "    </tr>\n",
       "    <tr>\n",
       "      <th>5</th>\n",
       "      <td>SM06</td>\n",
       "      <td>c1cc2cccnc2c(c1)NC(=O)c3cc(cnc3)Br</td>\n",
       "      <td>c1cc2cccnc2c(c1)NC(=O)c3cc(cnc3)Br</td>\n",
       "      <td>328.16</td>\n",
       "      <td>20</td>\n",
       "      <td>3</td>\n",
       "      <td>5</td>\n",
       "      <td>0.33</td>\n",
       "      <td>2</td>\n",
       "      <td>10</td>\n",
       "      <td>12</td>\n",
       "      <td>1.670769</td>\n",
       "      <td>1.412308</td>\n",
       "      <td>1.945077</td>\n",
       "      <td>1.991950</td>\n",
       "      <td>1.708198</td>\n",
       "      <td>2.272420</td>\n",
       "    </tr>\n",
       "    <tr>\n",
       "      <th>6</th>\n",
       "      <td>SM07</td>\n",
       "      <td>c1ccc(cc1)CNc2c3ccccc3ncn2</td>\n",
       "      <td>c1ccc(cc1)CNc2c3ccccc3ncn2</td>\n",
       "      <td>235.28</td>\n",
       "      <td>18</td>\n",
       "      <td>3</td>\n",
       "      <td>3</td>\n",
       "      <td>0.2</td>\n",
       "      <td>2</td>\n",
       "      <td>10</td>\n",
       "      <td>11</td>\n",
       "      <td>1.509714</td>\n",
       "      <td>1.113143</td>\n",
       "      <td>1.959143</td>\n",
       "      <td>1.964757</td>\n",
       "      <td>1.482325</td>\n",
       "      <td>2.408664</td>\n",
       "    </tr>\n",
       "    <tr>\n",
       "      <th>7</th>\n",
       "      <td>SM08</td>\n",
       "      <td>Cc1ccc2c(c1)c(c(c(=O)[nH]2)CC(=O)O)c3ccccc3</td>\n",
       "      <td>Cc1ccc2c(c1)c(c(c(=O)[nH]2)CC(=O)O)c3ccccc3</td>\n",
       "      <td>293.32</td>\n",
       "      <td>22</td>\n",
       "      <td>3</td>\n",
       "      <td>4</td>\n",
       "      <td>0.22</td>\n",
       "      <td>2</td>\n",
       "      <td>10</td>\n",
       "      <td>8</td>\n",
       "      <td>0.873429</td>\n",
       "      <td>0.628857</td>\n",
       "      <td>1.139143</td>\n",
       "      <td>1.165697</td>\n",
       "      <td>0.873535</td>\n",
       "      <td>1.427593</td>\n",
       "    </tr>\n",
       "    <tr>\n",
       "      <th>8</th>\n",
       "      <td>SM09</td>\n",
       "      <td>COc1cccc(c1)Nc2c3ccccc3ncn2.Cl</td>\n",
       "      <td>COc1cccc(c1)Nc2c3ccccc3ncn2</td>\n",
       "      <td>251.28</td>\n",
       "      <td>19</td>\n",
       "      <td>3</td>\n",
       "      <td>4</td>\n",
       "      <td>0.27</td>\n",
       "      <td>2</td>\n",
       "      <td>10</td>\n",
       "      <td>11</td>\n",
       "      <td>1.055429</td>\n",
       "      <td>0.867714</td>\n",
       "      <td>1.265143</td>\n",
       "      <td>1.212360</td>\n",
       "      <td>0.976353</td>\n",
       "      <td>1.471952</td>\n",
       "    </tr>\n",
       "    <tr>\n",
       "      <th>9</th>\n",
       "      <td>SM10</td>\n",
       "      <td>c1ccc(cc1)C(=O)NCC(=O)Nc2nc3ccccc3s2</td>\n",
       "      <td>c1ccc(cc1)C(=O)NCC(=O)Nc2nc3ccccc3s2</td>\n",
       "      <td>311.36</td>\n",
       "      <td>22</td>\n",
       "      <td>6</td>\n",
       "      <td>6</td>\n",
       "      <td>0.38</td>\n",
       "      <td>2</td>\n",
       "      <td>9</td>\n",
       "      <td>33</td>\n",
       "      <td>2.235714</td>\n",
       "      <td>1.622571</td>\n",
       "      <td>2.907429</td>\n",
       "      <td>2.976446</td>\n",
       "      <td>2.192879</td>\n",
       "      <td>3.727838</td>\n",
       "    </tr>\n",
       "    <tr>\n",
       "      <th>10</th>\n",
       "      <td>SM11</td>\n",
       "      <td>c1ccc(cc1)n2c3c(cn2)c(ncn3)N</td>\n",
       "      <td>c1ccc(cc1)n2c3c(cn2)c(ncn3)N</td>\n",
       "      <td>211.22</td>\n",
       "      <td>16</td>\n",
       "      <td>1</td>\n",
       "      <td>5</td>\n",
       "      <td>0.45</td>\n",
       "      <td>2</td>\n",
       "      <td>9</td>\n",
       "      <td>20</td>\n",
       "      <td>0.786571</td>\n",
       "      <td>0.532000</td>\n",
       "      <td>1.058571</td>\n",
       "      <td>1.110062</td>\n",
       "      <td>0.784367</td>\n",
       "      <td>1.391581</td>\n",
       "    </tr>\n",
       "    <tr>\n",
       "      <th>11</th>\n",
       "      <td>SM12</td>\n",
       "      <td>c1ccc2c(c1)c(ncn2)Nc3cccc(c3)Cl.Cl</td>\n",
       "      <td>c1ccc2c(c1)c(ncn2)Nc3cccc(c3)Cl</td>\n",
       "      <td>255.7</td>\n",
       "      <td>18</td>\n",
       "      <td>2</td>\n",
       "      <td>4</td>\n",
       "      <td>0.29</td>\n",
       "      <td>2</td>\n",
       "      <td>10</td>\n",
       "      <td>11</td>\n",
       "      <td>1.054000</td>\n",
       "      <td>0.847429</td>\n",
       "      <td>1.259714</td>\n",
       "      <td>1.223948</td>\n",
       "      <td>1.023248</td>\n",
       "      <td>1.403568</td>\n",
       "    </tr>\n",
       "    <tr>\n",
       "      <th>12</th>\n",
       "      <td>SM13</td>\n",
       "      <td>Cc1cccc(c1)Nc2c3cc(c(cc3ncn2)OC)OC</td>\n",
       "      <td>Cc1cccc(c1)Nc2c3cc(c(cc3ncn2)OC)OC</td>\n",
       "      <td>295.34</td>\n",
       "      <td>22</td>\n",
       "      <td>4</td>\n",
       "      <td>5</td>\n",
       "      <td>0.29</td>\n",
       "      <td>2</td>\n",
       "      <td>10</td>\n",
       "      <td>11</td>\n",
       "      <td>1.005143</td>\n",
       "      <td>0.760000</td>\n",
       "      <td>1.261429</td>\n",
       "      <td>1.260018</td>\n",
       "      <td>0.991497</td>\n",
       "      <td>1.512222</td>\n",
       "    </tr>\n",
       "    <tr>\n",
       "      <th>13</th>\n",
       "      <td>SM14</td>\n",
       "      <td>c1ccc(cc1)n2cnc3c2ccc(c3)N</td>\n",
       "      <td>c1ccc(cc1)n2cnc3c2ccc(c3)N</td>\n",
       "      <td>209.25</td>\n",
       "      <td>16</td>\n",
       "      <td>1</td>\n",
       "      <td>3</td>\n",
       "      <td>0.23</td>\n",
       "      <td>2</td>\n",
       "      <td>9</td>\n",
       "      <td>6</td>\n",
       "      <td>2.724545</td>\n",
       "      <td>1.727424</td>\n",
       "      <td>3.899697</td>\n",
       "      <td>5.262559</td>\n",
       "      <td>3.296119</td>\n",
       "      <td>6.949500</td>\n",
       "    </tr>\n",
       "    <tr>\n",
       "      <th>14</th>\n",
       "      <td>SM15</td>\n",
       "      <td>c1ccc2c(c1)ncn2c3ccc(cc3)O</td>\n",
       "      <td>c1ccc2c(c1)ncn2c3ccc(cc3)O</td>\n",
       "      <td>210.23</td>\n",
       "      <td>16</td>\n",
       "      <td>1</td>\n",
       "      <td>3</td>\n",
       "      <td>0.23</td>\n",
       "      <td>2</td>\n",
       "      <td>9</td>\n",
       "      <td>4</td>\n",
       "      <td>1.019861</td>\n",
       "      <td>0.846111</td>\n",
       "      <td>1.199306</td>\n",
       "      <td>1.277514</td>\n",
       "      <td>1.087590</td>\n",
       "      <td>1.458123</td>\n",
       "    </tr>\n",
       "    <tr>\n",
       "      <th>15</th>\n",
       "      <td>SM16</td>\n",
       "      <td>c1cc(c(c(c1)Cl)C(=O)Nc2ccncc2)Cl</td>\n",
       "      <td>c1cc(c(c(c1)Cl)C(=O)Nc2ccncc2)Cl</td>\n",
       "      <td>267.11</td>\n",
       "      <td>17</td>\n",
       "      <td>3</td>\n",
       "      <td>5</td>\n",
       "      <td>0.42</td>\n",
       "      <td>2</td>\n",
       "      <td>6</td>\n",
       "      <td>8</td>\n",
       "      <td>1.038413</td>\n",
       "      <td>0.853810</td>\n",
       "      <td>1.244762</td>\n",
       "      <td>1.313991</td>\n",
       "      <td>1.043503</td>\n",
       "      <td>1.569995</td>\n",
       "    </tr>\n",
       "    <tr>\n",
       "      <th>16</th>\n",
       "      <td>SM17</td>\n",
       "      <td>c1ccc(cc1)CSc2nnc(o2)c3ccncc3</td>\n",
       "      <td>c1ccc(cc1)CSc2nnc(o2)c3ccncc3</td>\n",
       "      <td>269.32</td>\n",
       "      <td>19</td>\n",
       "      <td>4</td>\n",
       "      <td>5</td>\n",
       "      <td>0.36</td>\n",
       "      <td>3</td>\n",
       "      <td>6</td>\n",
       "      <td>8</td>\n",
       "      <td>1.190000</td>\n",
       "      <td>0.911143</td>\n",
       "      <td>1.482857</td>\n",
       "      <td>1.462582</td>\n",
       "      <td>1.157849</td>\n",
       "      <td>1.741612</td>\n",
       "    </tr>\n",
       "    <tr>\n",
       "      <th>17</th>\n",
       "      <td>SM18</td>\n",
       "      <td>c1ccc2c(c1)c(=O)[nH]c(n2)CCC(=O)Nc3ncc(s3)Cc4c...</td>\n",
       "      <td>c1ccc2c(c1)c(=O)[nH]c(n2)CCC(=O)Nc3ncc(s3)Cc4c...</td>\n",
       "      <td>426.44</td>\n",
       "      <td>30</td>\n",
       "      <td>7</td>\n",
       "      <td>9</td>\n",
       "      <td>0.43</td>\n",
       "      <td>3</td>\n",
       "      <td>10</td>\n",
       "      <td>53</td>\n",
       "      <td>0.617073</td>\n",
       "      <td>0.483780</td>\n",
       "      <td>0.759756</td>\n",
       "      <td>0.888933</td>\n",
       "      <td>0.701845</td>\n",
       "      <td>1.060335</td>\n",
       "    </tr>\n",
       "    <tr>\n",
       "      <th>18</th>\n",
       "      <td>SM19</td>\n",
       "      <td>CCOc1ccc2c(c1)sc(n2)NC(=O)Cc3ccc(c(c3)Cl)Cl</td>\n",
       "      <td>CCOc1ccc2c(c1)sc(n2)NC(=O)Cc3ccc(c(c3)Cl)Cl</td>\n",
       "      <td>381.28</td>\n",
       "      <td>24</td>\n",
       "      <td>6</td>\n",
       "      <td>7</td>\n",
       "      <td>0.41</td>\n",
       "      <td>2</td>\n",
       "      <td>9</td>\n",
       "      <td>15</td>\n",
       "      <td>2.228571</td>\n",
       "      <td>1.638000</td>\n",
       "      <td>2.887429</td>\n",
       "      <td>2.916335</td>\n",
       "      <td>2.124061</td>\n",
       "      <td>3.667539</td>\n",
       "    </tr>\n",
       "    <tr>\n",
       "      <th>19</th>\n",
       "      <td>SM20</td>\n",
       "      <td>c1cc(cc(c1)OCc2ccc(cc2Cl)Cl)/C=C/3\\C(=O)NC(=O)S3</td>\n",
       "      <td>c1cc(cc(c1)OCc2ccc(cc2Cl)Cl)/C=C/3\\C(=O)NC(=O)S3</td>\n",
       "      <td>380.25</td>\n",
       "      <td>24</td>\n",
       "      <td>4</td>\n",
       "      <td>7</td>\n",
       "      <td>0.41</td>\n",
       "      <td>3</td>\n",
       "      <td>6</td>\n",
       "      <td>4</td>\n",
       "      <td>1.690811</td>\n",
       "      <td>1.437838</td>\n",
       "      <td>1.945946</td>\n",
       "      <td>1.860208</td>\n",
       "      <td>1.617797</td>\n",
       "      <td>2.091506</td>\n",
       "    </tr>\n",
       "    <tr>\n",
       "      <th>20</th>\n",
       "      <td>SM21</td>\n",
       "      <td>c1cc(cc(c1)Br)Nc2c(cnc(n2)Nc3cccc(c3)Br)F</td>\n",
       "      <td>c1cc(cc(c1)Br)Nc2c(cnc(n2)Nc3cccc(c3)Br)F</td>\n",
       "      <td>438.09</td>\n",
       "      <td>23</td>\n",
       "      <td>4</td>\n",
       "      <td>7</td>\n",
       "      <td>0.44</td>\n",
       "      <td>3</td>\n",
       "      <td>6</td>\n",
       "      <td>25</td>\n",
       "      <td>1.995143</td>\n",
       "      <td>1.448857</td>\n",
       "      <td>2.572000</td>\n",
       "      <td>2.603893</td>\n",
       "      <td>2.006154</td>\n",
       "      <td>3.168884</td>\n",
       "    </tr>\n",
       "    <tr>\n",
       "      <th>21</th>\n",
       "      <td>SM22</td>\n",
       "      <td>c1cc2c(cc(c(c2nc1)O)I)I</td>\n",
       "      <td>c1cc2c(cc(c(c2nc1)O)I)I</td>\n",
       "      <td>396.95</td>\n",
       "      <td>13</td>\n",
       "      <td>0</td>\n",
       "      <td>4</td>\n",
       "      <td>0.44</td>\n",
       "      <td>1</td>\n",
       "      <td>10</td>\n",
       "      <td>4</td>\n",
       "      <td>1.613857</td>\n",
       "      <td>1.176143</td>\n",
       "      <td>2.088571</td>\n",
       "      <td>2.536188</td>\n",
       "      <td>1.854008</td>\n",
       "      <td>3.135858</td>\n",
       "    </tr>\n",
       "    <tr>\n",
       "      <th>22</th>\n",
       "      <td>SM23</td>\n",
       "      <td>CCOC(=O)c1ccc(cc1)Nc2cc(nc(n2)Nc3ccc(cc3)C(=O)...</td>\n",
       "      <td>CCOC(=O)c1ccc(cc1)Nc2cc(nc(n2)Nc3ccc(cc3)C(=O)...</td>\n",
       "      <td>420.46</td>\n",
       "      <td>31</td>\n",
       "      <td>10</td>\n",
       "      <td>8</td>\n",
       "      <td>0.35</td>\n",
       "      <td>3</td>\n",
       "      <td>6</td>\n",
       "      <td>27</td>\n",
       "      <td>1.119714</td>\n",
       "      <td>0.797714</td>\n",
       "      <td>1.475143</td>\n",
       "      <td>1.508984</td>\n",
       "      <td>1.102715</td>\n",
       "      <td>1.892612</td>\n",
       "    </tr>\n",
       "    <tr>\n",
       "      <th>23</th>\n",
       "      <td>SM24</td>\n",
       "      <td>COc1ccc(cc1)c2c3c(ncnc3oc2c4ccc(cc4)OC)NCCO</td>\n",
       "      <td>COc1ccc(cc1)c2c3c(ncnc3oc2c4ccc(cc4)OC)NCCO</td>\n",
       "      <td>391.42</td>\n",
       "      <td>29</td>\n",
       "      <td>7</td>\n",
       "      <td>7</td>\n",
       "      <td>0.32</td>\n",
       "      <td>3</td>\n",
       "      <td>9</td>\n",
       "      <td>26</td>\n",
       "      <td>1.005714</td>\n",
       "      <td>0.760000</td>\n",
       "      <td>1.264000</td>\n",
       "      <td>1.251653</td>\n",
       "      <td>0.996910</td>\n",
       "      <td>1.484726</td>\n",
       "    </tr>\n",
       "  </tbody>\n",
       "</table>\n",
       "</div>"
      ],
      "text/plain": [
       "   SAMPL6 Molecule ID                          canonical isomeric SMILES  \\\n",
       "0                SM01                      c1cc2c(cc1O)c3c(o2)C(=O)NCCC3   \n",
       "1                SM02              c1ccc2c(c1)c(ncn2)Nc3cccc(c3)C(F)(F)F   \n",
       "2                SM03                  c1ccc(cc1)Cc2nnc(s2)NC(=O)c3cccs3   \n",
       "3                SM04                   c1ccc2c(c1)c(ncn2)NCc3ccc(cc3)Cl   \n",
       "4                SM05              c1ccc(c(c1)NC(=O)c2ccc(o2)Cl)N3CCCCC3   \n",
       "5                SM06                 c1cc2cccnc2c(c1)NC(=O)c3cc(cnc3)Br   \n",
       "6                SM07                         c1ccc(cc1)CNc2c3ccccc3ncn2   \n",
       "7                SM08        Cc1ccc2c(c1)c(c(c(=O)[nH]2)CC(=O)O)c3ccccc3   \n",
       "8                SM09                     COc1cccc(c1)Nc2c3ccccc3ncn2.Cl   \n",
       "9                SM10               c1ccc(cc1)C(=O)NCC(=O)Nc2nc3ccccc3s2   \n",
       "10               SM11                       c1ccc(cc1)n2c3c(cn2)c(ncn3)N   \n",
       "11               SM12                 c1ccc2c(c1)c(ncn2)Nc3cccc(c3)Cl.Cl   \n",
       "12               SM13                 Cc1cccc(c1)Nc2c3cc(c(cc3ncn2)OC)OC   \n",
       "13               SM14                         c1ccc(cc1)n2cnc3c2ccc(c3)N   \n",
       "14               SM15                         c1ccc2c(c1)ncn2c3ccc(cc3)O   \n",
       "15               SM16                   c1cc(c(c(c1)Cl)C(=O)Nc2ccncc2)Cl   \n",
       "16               SM17                      c1ccc(cc1)CSc2nnc(o2)c3ccncc3   \n",
       "17               SM18  c1ccc2c(c1)c(=O)[nH]c(n2)CCC(=O)Nc3ncc(s3)Cc4c...   \n",
       "18               SM19        CCOc1ccc2c(c1)sc(n2)NC(=O)Cc3ccc(c(c3)Cl)Cl   \n",
       "19               SM20   c1cc(cc(c1)OCc2ccc(cc2Cl)Cl)/C=C/3\\C(=O)NC(=O)S3   \n",
       "20               SM21          c1cc(cc(c1)Br)Nc2c(cnc(n2)Nc3cccc(c3)Br)F   \n",
       "21               SM22                            c1cc2c(cc(c(c2nc1)O)I)I   \n",
       "22               SM23  CCOC(=O)c1ccc(cc1)Nc2cc(nc(n2)Nc3ccc(cc3)C(=O)...   \n",
       "23               SM24        COc1ccc(cc1)c2c3c(ncnc3oc2c4ccc(cc4)OC)NCCO   \n",
       "\n",
       "           canonical isomeric SMILES w/o counter ions      MW  \\\n",
       "0                       c1cc2c(cc1O)c3c(o2)C(=O)NCCC3  217.22   \n",
       "1               c1ccc2c(c1)c(ncn2)Nc3cccc(c3)C(F)(F)F  289.26   \n",
       "2                   c1ccc(cc1)Cc2nnc(s2)NC(=O)c3cccs3  301.39   \n",
       "3                    c1ccc2c(c1)c(ncn2)NCc3ccc(cc3)Cl  269.73   \n",
       "4               c1ccc(c(c1)NC(=O)c2ccc(o2)Cl)N3CCCCC3  304.77   \n",
       "5                  c1cc2cccnc2c(c1)NC(=O)c3cc(cnc3)Br  328.16   \n",
       "6                          c1ccc(cc1)CNc2c3ccccc3ncn2  235.28   \n",
       "7         Cc1ccc2c(c1)c(c(c(=O)[nH]2)CC(=O)O)c3ccccc3  293.32   \n",
       "8                         COc1cccc(c1)Nc2c3ccccc3ncn2  251.28   \n",
       "9                c1ccc(cc1)C(=O)NCC(=O)Nc2nc3ccccc3s2  311.36   \n",
       "10                       c1ccc(cc1)n2c3c(cn2)c(ncn3)N  211.22   \n",
       "11                    c1ccc2c(c1)c(ncn2)Nc3cccc(c3)Cl   255.7   \n",
       "12                 Cc1cccc(c1)Nc2c3cc(c(cc3ncn2)OC)OC  295.34   \n",
       "13                         c1ccc(cc1)n2cnc3c2ccc(c3)N  209.25   \n",
       "14                         c1ccc2c(c1)ncn2c3ccc(cc3)O  210.23   \n",
       "15                   c1cc(c(c(c1)Cl)C(=O)Nc2ccncc2)Cl  267.11   \n",
       "16                      c1ccc(cc1)CSc2nnc(o2)c3ccncc3  269.32   \n",
       "17  c1ccc2c(c1)c(=O)[nH]c(n2)CCC(=O)Nc3ncc(s3)Cc4c...  426.44   \n",
       "18        CCOc1ccc2c(c1)sc(n2)NC(=O)Cc3ccc(c(c3)Cl)Cl  381.28   \n",
       "19   c1cc(cc(c1)OCc2ccc(cc2Cl)Cl)/C=C/3\\C(=O)NC(=O)S3  380.25   \n",
       "20          c1cc(cc(c1)Br)Nc2c(cnc(n2)Nc3cccc(c3)Br)F  438.09   \n",
       "21                            c1cc2c(cc(c(c2nc1)O)I)I  396.95   \n",
       "22  CCOC(=O)c1ccc(cc1)Nc2cc(nc(n2)Nc3ccc(cc3)C(=O)...  420.46   \n",
       "23        COc1ccc(cc1)c2c3c(ncnc3oc2c4ccc(cc4)OC)NCCO  391.42   \n",
       "\n",
       "   Heavy atom count Rotatable bond count Heteroatom count  \\\n",
       "0                16                    0                4   \n",
       "1                21                    3                6   \n",
       "2                20                    5                6   \n",
       "3                19                    3                4   \n",
       "4                21                    4                5   \n",
       "5                20                    3                5   \n",
       "6                18                    3                3   \n",
       "7                22                    3                4   \n",
       "8                19                    3                4   \n",
       "9                22                    6                6   \n",
       "10               16                    1                5   \n",
       "11               18                    2                4   \n",
       "12               22                    4                5   \n",
       "13               16                    1                3   \n",
       "14               16                    1                3   \n",
       "15               17                    3                5   \n",
       "16               19                    4                5   \n",
       "17               30                    7                9   \n",
       "18               24                    6                7   \n",
       "19               24                    4                7   \n",
       "20               23                    4                7   \n",
       "21               13                    0                4   \n",
       "22               31                   10                8   \n",
       "23               29                    7                7   \n",
       "\n",
       "   Heteroatom to carbon ratio Ring system count Max ring size  \\\n",
       "0                        0.33                 1            14   \n",
       "1                         0.4                 2            10   \n",
       "2                        0.43                 3             6   \n",
       "3                        0.27                 2            10   \n",
       "4                        0.31                 3             6   \n",
       "5                        0.33                 2            10   \n",
       "6                         0.2                 2            10   \n",
       "7                        0.22                 2            10   \n",
       "8                        0.27                 2            10   \n",
       "9                        0.38                 2             9   \n",
       "10                       0.45                 2             9   \n",
       "11                       0.29                 2            10   \n",
       "12                       0.29                 2            10   \n",
       "13                       0.23                 2             9   \n",
       "14                       0.23                 2             9   \n",
       "15                       0.42                 2             6   \n",
       "16                       0.36                 3             6   \n",
       "17                       0.43                 3            10   \n",
       "18                       0.41                 2             9   \n",
       "19                       0.41                 3             6   \n",
       "20                       0.44                 3             6   \n",
       "21                       0.44                 1            10   \n",
       "22                       0.35                 3             6   \n",
       "23                       0.32                 3             9   \n",
       "\n",
       "   Microstate count       MAE  MAE_lower_CI  MAE_upper_CI      RMSE  \\\n",
       "0                 8  0.724571      0.507143      0.987429  1.019765   \n",
       "1                11  1.014000      0.873714      1.151143  1.095525   \n",
       "2                16  2.390286      1.790571      3.010286  3.020797   \n",
       "3                11  0.983429      0.814857      1.153714  1.109407   \n",
       "4                 9  1.585143      1.241714      1.939429  1.899472   \n",
       "5                12  1.670769      1.412308      1.945077  1.991950   \n",
       "6                11  1.509714      1.113143      1.959143  1.964757   \n",
       "7                 8  0.873429      0.628857      1.139143  1.165697   \n",
       "8                11  1.055429      0.867714      1.265143  1.212360   \n",
       "9                33  2.235714      1.622571      2.907429  2.976446   \n",
       "10               20  0.786571      0.532000      1.058571  1.110062   \n",
       "11               11  1.054000      0.847429      1.259714  1.223948   \n",
       "12               11  1.005143      0.760000      1.261429  1.260018   \n",
       "13                6  2.724545      1.727424      3.899697  5.262559   \n",
       "14                4  1.019861      0.846111      1.199306  1.277514   \n",
       "15                8  1.038413      0.853810      1.244762  1.313991   \n",
       "16                8  1.190000      0.911143      1.482857  1.462582   \n",
       "17               53  0.617073      0.483780      0.759756  0.888933   \n",
       "18               15  2.228571      1.638000      2.887429  2.916335   \n",
       "19                4  1.690811      1.437838      1.945946  1.860208   \n",
       "20               25  1.995143      1.448857      2.572000  2.603893   \n",
       "21                4  1.613857      1.176143      2.088571  2.536188   \n",
       "22               27  1.119714      0.797714      1.475143  1.508984   \n",
       "23               26  1.005714      0.760000      1.264000  1.251653   \n",
       "\n",
       "    RMSE_lower_CI  RMSE_upper_CI  \n",
       "0        0.647900       1.419063  \n",
       "1        0.962657       1.223916  \n",
       "2        2.422519       3.580544  \n",
       "3        0.937452       1.276053  \n",
       "4        1.559958       2.208207  \n",
       "5        1.708198       2.272420  \n",
       "6        1.482325       2.408664  \n",
       "7        0.873535       1.427593  \n",
       "8        0.976353       1.471952  \n",
       "9        2.192879       3.727838  \n",
       "10       0.784367       1.391581  \n",
       "11       1.023248       1.403568  \n",
       "12       0.991497       1.512222  \n",
       "13       3.296119       6.949500  \n",
       "14       1.087590       1.458123  \n",
       "15       1.043503       1.569995  \n",
       "16       1.157849       1.741612  \n",
       "17       0.701845       1.060335  \n",
       "18       2.124061       3.667539  \n",
       "19       1.617797       2.091506  \n",
       "20       2.006154       3.168884  \n",
       "21       1.854008       3.135858  \n",
       "22       1.102715       1.892612  \n",
       "23       0.996910       1.484726  "
      ]
     },
     "execution_count": 16,
     "metadata": {},
     "output_type": "execute_result"
    }
   ],
   "source": [
    "df_cor = pd.merge(df, df_MAE, on=\"SAMPL6 Molecule ID\", how=\"outer\" )\n",
    "df_cor.to_csv(\"SAMPL6_molecular_descriptors_with_moleculer_statistics.csv\", index=False)\n",
    "df_cor"
   ]
  },
  {
   "cell_type": "markdown",
   "metadata": {},
   "source": [
    "### Correlation plots"
   ]
  },
  {
   "cell_type": "code",
   "execution_count": 17,
   "metadata": {},
   "outputs": [],
   "source": [
    "import matplotlib\n",
    "import matplotlib.pyplot as plt\n",
    "import seaborn as sns\n",
    "%matplotlib inline\n",
    "plt.rcParams[\"figure.figsize\"] = [4,4]"
   ]
  },
  {
   "cell_type": "code",
   "execution_count": 18,
   "metadata": {},
   "outputs": [
    {
     "data": {
      "text/plain": [
       "[<matplotlib.lines.Line2D at 0x116cacc88>]"
      ]
     },
     "execution_count": 18,
     "metadata": {},
     "output_type": "execute_result"
    },
    {
     "data": {
      "image/png": "[encoded data removed]",
      "text/plain": [
       "<Figure size 432x288 with 1 Axes>"
      ]
     },
     "metadata": {
      "needs_background": "light"
     },
     "output_type": "display_data"
    }
   ],
   "source": [
    "x = df_cor[\"MAE\"]\n",
    "y = df_cor[\"MW\"]\n",
    "plt.plot(x,y, \"o\")"
   ]
  },
  {
   "cell_type": "code",
   "execution_count": 19,
   "metadata": {},
   "outputs": [
    {
     "data": {
      "text/plain": [
       "[<matplotlib.lines.Line2D at 0x119e2ccc0>]"
      ]
     },
     "execution_count": 19,
     "metadata": {},
     "output_type": "execute_result"
    },
    {
     "data": {
      "image/png": "[encoded data removed]",
      "text/plain": [
       "<Figure size 432x288 with 1 Axes>"
      ]
     },
     "metadata": {
      "needs_background": "light"
     },
     "output_type": "display_data"
    }
   ],
   "source": [
    "x = df_cor[\"MAE\"]\n",
    "y = df_cor[\"Heavy atom count\"]\n",
    "plt.plot(x,y, \"o\")"
   ]
  },
  {
   "cell_type": "code",
   "execution_count": 20,
   "metadata": {},
   "outputs": [
    {
     "data": {
      "text/plain": [
       "[<matplotlib.lines.Line2D at 0x119f29b38>]"
      ]
     },
     "execution_count": 20,
     "metadata": {},
     "output_type": "execute_result"
    },
    {
     "data": {
      "image/png": "[encoded data removed]",
      "text/plain": [
       "<Figure size 432x288 with 1 Axes>"
      ]
     },
     "metadata": {
      "needs_background": "light"
     },
     "output_type": "display_data"
    }
   ],
   "source": [
    "x = df_cor[\"MAE\"]\n",
    "y = df_cor[\"Rotatable bond count\"]\n",
    "plt.plot(x,y, \"o\")"
   ]
  },
  {
   "cell_type": "code",
   "execution_count": 21,
   "metadata": {},
   "outputs": [
    {
     "data": {
      "text/plain": [
       "[<matplotlib.lines.Line2D at 0x119fdfb00>]"
      ]
     },
     "execution_count": 21,
     "metadata": {},
     "output_type": "execute_result"
    },
    {
     "data": {
      "image/png": "[encoded data removed]",
      "text/plain": [
       "<Figure size 432x288 with 1 Axes>"
      ]
     },
     "metadata": {
      "needs_background": "light"
     },
     "output_type": "display_data"
    }
   ],
   "source": [
    "x = df_cor[\"MAE\"]\n",
    "y = df_cor[\"Heteroatom count\"]\n",
    "plt.plot(x,y, \"o\")"
   ]
  },
  {
   "cell_type": "code",
   "execution_count": 22,
   "metadata": {},
   "outputs": [
    {
     "data": {
      "text/plain": [
       "[<matplotlib.lines.Line2D at 0x11a05b390>]"
      ]
     },
     "execution_count": 22,
     "metadata": {},
     "output_type": "execute_result"
    },
    {
     "data": {
      "image/png": "[encoded data removed]",
      "text/plain": [
       "<Figure size 432x288 with 1 Axes>"
      ]
     },
     "metadata": {
      "needs_background": "light"
     },
     "output_type": "display_data"
    }
   ],
   "source": [
    "x = df_cor[\"MAE\"]\n",
    "y = df_cor[\"Heteroatom to carbon ratio\"]\n",
    "plt.plot(x,y, \"o\")"
   ]
  },
  {
   "cell_type": "code",
   "execution_count": 23,
   "metadata": {},
   "outputs": [
    {
     "data": {
      "text/plain": [
       "[<matplotlib.lines.Line2D at 0x11a1bca90>]"
      ]
     },
     "execution_count": 23,
     "metadata": {},
     "output_type": "execute_result"
    },
    {
     "data": {
      "image/png": "[encoded data removed]",
      "text/plain": [
       "<Figure size 432x288 with 1 Axes>"
      ]
     },
     "metadata": {
      "needs_background": "light"
     },
     "output_type": "display_data"
    }
   ],
   "source": [
    "x = df_cor[\"MAE\"]\n",
    "y = df_cor[\"Ring system count\"]\n",
    "plt.plot(x,y, \"o\")"
   ]
  },
  {
   "cell_type": "code",
   "execution_count": 24,
   "metadata": {},
   "outputs": [
    {
     "data": {
      "text/plain": [
       "[<matplotlib.lines.Line2D at 0x11a1270b8>]"
      ]
     },
     "execution_count": 24,
     "metadata": {},
     "output_type": "execute_result"
    },
    {
     "data": {
      "image/png": "[encoded data removed]",
      "text/plain": [
       "<Figure size 432x288 with 1 Axes>"
      ]
     },
     "metadata": {
      "needs_background": "light"
     },
     "output_type": "display_data"
    }
   ],
   "source": [
    "x = df_cor[\"MAE\"]\n",
    "y = df_cor[\"Max ring size\"]\n",
    "plt.plot(x,y, \"o\")"
   ]
  },
  {
   "cell_type": "code",
   "execution_count": 25,
   "metadata": {},
   "outputs": [
    {
     "data": {
      "text/plain": [
       "[<matplotlib.lines.Line2D at 0x11a374518>]"
      ]
     },
     "execution_count": 25,
     "metadata": {},
     "output_type": "execute_result"
    },
    {
     "data": {
      "image/png": "[encoded data removed]",
      "text/plain": [
       "<Figure size 432x288 with 1 Axes>"
      ]
     },
     "metadata": {
      "needs_background": "light"
     },
     "output_type": "display_data"
    }
   ],
   "source": [
    "x = df_cor[\"MAE\"]\n",
    "y = df_cor[\"Microstate count\"]\n",
    "plt.plot(x,y, \"o\")"
   ]
  },
  {
   "cell_type": "markdown",
   "metadata": {},
   "source": [
    "### Calculate R-squared"
   ]
  },
  {
   "cell_type": "code",
   "execution_count": 26,
   "metadata": {},
   "outputs": [],
   "source": [
    "import scipy.stats"
   ]
  },
  {
   "cell_type": "code",
   "execution_count": 27,
   "metadata": {},
   "outputs": [],
   "source": [
    "def r2(data):\n",
    "    x, y = data.T\n",
    "    slope, intercept, r_value, p_value, stderr = scipy.stats.linregress(x, y)\n",
    "    return r_value**2"
   ]
  },
  {
   "cell_type": "code",
   "execution_count": 28,
   "metadata": {},
   "outputs": [
    {
     "data": {
      "text/plain": [
       "SAMPL6 Molecule ID                             object\n",
       "canonical isomeric SMILES                      object\n",
       "canonical isomeric SMILES w/o counter ions     object\n",
       "MW                                             object\n",
       "Heavy atom count                               object\n",
       "Rotatable bond count                           object\n",
       "Heteroatom count                               object\n",
       "Heteroatom to carbon ratio                     object\n",
       "Ring system count                              object\n",
       "Max ring size                                  object\n",
       "Microstate count                               object\n",
       "MAE                                           float64\n",
       "MAE_lower_CI                                  float64\n",
       "MAE_upper_CI                                  float64\n",
       "RMSE                                          float64\n",
       "RMSE_lower_CI                                 float64\n",
       "RMSE_upper_CI                                 float64\n",
       "dtype: object"
      ]
     },
     "execution_count": 28,
     "metadata": {},
     "output_type": "execute_result"
    }
   ],
   "source": [
    "df_cor.dtypes"
   ]
  },
  {
   "cell_type": "code",
   "execution_count": 29,
   "metadata": {},
   "outputs": [],
   "source": [
    "df_cor = pd.read_csv(\"SAMPL6_molecular_descriptors_with_moleculer_statistics.csv\", dtype={\n",
    "    \"SAMPL6 Molecule ID\": str,\n",
    "    \"canonical isomeric SMILES\": str,\n",
    "    \"canonical isomeric SMILES w/o counter ions\": str,\n",
    "    \"MW\": float,\n",
    "    \"Heavy atom count\": int,\n",
    "    \"Rotatable bond count\": int,\n",
    "    \"Heteroatom count\": int,\n",
    "    \"Heteroatom to carbon ratio\": float,\n",
    "    \"Ring system count\": int,\n",
    "    \"Max ring size\": int,\n",
    "    \"Microstate count\": int,\n",
    "})"
   ]
  },
  {
   "cell_type": "code",
   "execution_count": 30,
   "metadata": {},
   "outputs": [
    {
     "data": {
      "text/plain": [
       "SAMPL6 Molecule ID                             object\n",
       "canonical isomeric SMILES                      object\n",
       "canonical isomeric SMILES w/o counter ions     object\n",
       "MW                                            float64\n",
       "Heavy atom count                                int64\n",
       "Rotatable bond count                            int64\n",
       "Heteroatom count                                int64\n",
       "Heteroatom to carbon ratio                    float64\n",
       "Ring system count                               int64\n",
       "Max ring size                                   int64\n",
       "Microstate count                                int64\n",
       "MAE                                           float64\n",
       "MAE_lower_CI                                  float64\n",
       "MAE_upper_CI                                  float64\n",
       "RMSE                                          float64\n",
       "RMSE_lower_CI                                 float64\n",
       "RMSE_upper_CI                                 float64\n",
       "dtype: object"
      ]
     },
     "execution_count": 30,
     "metadata": {},
     "output_type": "execute_result"
    }
   ],
   "source": [
    "df_cor.dtypes"
   ]
  },
  {
   "cell_type": "code",
   "execution_count": 31,
   "metadata": {},
   "outputs": [
    {
     "data": {
      "text/plain": [
       "0.019784627276712721"
      ]
     },
     "execution_count": 31,
     "metadata": {},
     "output_type": "execute_result"
    }
   ],
   "source": [
    "r2_mw = r2(df_cor[[\"MAE\", \"MW\"]].values)\n",
    "r2_mw"
   ]
  },
  {
   "cell_type": "code",
   "execution_count": 32,
   "metadata": {},
   "outputs": [
    {
     "data": {
      "text/plain": [
       "0.009259261365347082"
      ]
     },
     "execution_count": 32,
     "metadata": {},
     "output_type": "execute_result"
    }
   ],
   "source": [
    "r2_hac = r2(df_cor[[\"MAE\", \"Heavy atom count\"]].values)\n",
    "r2_hac "
   ]
  },
  {
   "cell_type": "code",
   "execution_count": 33,
   "metadata": {},
   "outputs": [
    {
     "data": {
      "text/plain": [
       "0.0045413232457190275"
      ]
     },
     "execution_count": 33,
     "metadata": {},
     "output_type": "execute_result"
    }
   ],
   "source": [
    "r2_rbc = r2(df_cor[[\"MAE\", \"Rotatable bond count\"]].values)\n",
    "r2_rbc"
   ]
  },
  {
   "cell_type": "code",
   "execution_count": 34,
   "metadata": {},
   "outputs": [
    {
     "data": {
      "text/plain": [
       "9.6361300408264475e-05"
      ]
     },
     "execution_count": 34,
     "metadata": {},
     "output_type": "execute_result"
    }
   ],
   "source": [
    "r2_het = r2(df_cor[[\"MAE\", \"Heteroatom count\"]].values)\n",
    "r2_het"
   ]
  },
  {
   "cell_type": "code",
   "execution_count": 35,
   "metadata": {},
   "outputs": [
    {
     "data": {
      "text/plain": [
       "0.01433501261583954"
      ]
     },
     "execution_count": 35,
     "metadata": {},
     "output_type": "execute_result"
    }
   ],
   "source": [
    "r2_hetcr = r2(df_cor[[\"MAE\", \"Heteroatom to carbon ratio\"]].values)\n",
    "r2_hetcr"
   ]
  },
  {
   "cell_type": "code",
   "execution_count": 36,
   "metadata": {},
   "outputs": [
    {
     "data": {
      "text/plain": [
       "0.014434385518383353"
      ]
     },
     "execution_count": 36,
     "metadata": {},
     "output_type": "execute_result"
    }
   ],
   "source": [
    "r2_ring = r2(df_cor[[\"MAE\", \"Ring system count\"]].values)\n",
    "r2_ring"
   ]
  },
  {
   "cell_type": "code",
   "execution_count": 37,
   "metadata": {},
   "outputs": [
    {
     "data": {
      "text/plain": [
       "0.12716974894330813"
      ]
     },
     "execution_count": 37,
     "metadata": {},
     "output_type": "execute_result"
    }
   ],
   "source": [
    "r2_mrs = r2(df_cor[[\"MAE\", \"Max ring size\"]].values)\n",
    "r2_mrs"
   ]
  },
  {
   "cell_type": "code",
   "execution_count": 38,
   "metadata": {},
   "outputs": [
    {
     "data": {
      "text/plain": [
       "0.0091281075313429331"
      ]
     },
     "execution_count": 38,
     "metadata": {},
     "output_type": "execute_result"
    }
   ],
   "source": [
    "r2_micro = r2(df_cor[[\"MAE\", \"Microstate count\"]].values)\n",
    "r2_micro"
   ]
  },
  {
   "cell_type": "markdown",
   "metadata": {
    "collapsed": true
   },
   "source": [
    "### Are there any correlation between descriptors and MAE?"
   ]
  },
  {
   "cell_type": "code",
   "execution_count": 39,
   "metadata": {},
   "outputs": [],
   "source": [
    "def plot_correlation(x, y, data, title=None, color=None, kind='joint', ax=None):\n",
    "    # Extract only pKa values.\n",
    "    data = data[[x, y]]\n",
    "\n",
    "    if kind == 'joint':\n",
    "        grid = sns.jointplot(x=x, y=y, data=data,\n",
    "                             kind='reg', joint_kws={'ci': None}, stat_func=None, color=color)\n",
    "        ax = grid.ax_joint\n",
    "        grid.fig.subplots_adjust(top=0.95)\n",
    "        grid.fig.suptitle(title)\n",
    "    elif kind == 'reg':\n",
    "        plt.figure(figsize=(3, 3))\n",
    "        ax = sns.regplot(x=x, y=y, data=data, color=color, ax=ax)\n",
    "        ax.set_title(title)\n",
    "        "
   ]
  },
  {
   "cell_type": "code",
   "execution_count": 40,
   "metadata": {},
   "outputs": [
    {
     "data": {
      "image/png": "[encoded data removed]",
      "text/plain": [
       "<Figure size 216x216 with 1 Axes>"
      ]
     },
     "metadata": {
      "needs_background": "light"
     },
     "output_type": "display_data"
    }
   ],
   "source": [
    "plot_correlation(x=\"MAE\", y=\"MW\", data=df_cor, kind=\"reg\")"
   ]
  },
  {
   "cell_type": "code",
   "execution_count": 41,
   "metadata": {},
   "outputs": [
    {
     "data": {
      "image/png": "[encoded data removed]",
      "text/plain": [
       "<Figure size 432x432 with 3 Axes>"
      ]
     },
     "metadata": {
      "needs_background": "light"
     },
     "output_type": "display_data"
    }
   ],
   "source": [
    "plot_correlation(x=\"MAE\", y=\"MW\", data=df_cor)"
   ]
  },
  {
   "cell_type": "code",
   "execution_count": 42,
   "metadata": {},
   "outputs": [
    {
     "data": {
      "image/png": "[encoded data removed]",
      "text/plain": [
       "<Figure size 432x432 with 3 Axes>"
      ]
     },
     "metadata": {
      "needs_background": "light"
     },
     "output_type": "display_data"
    }
   ],
   "source": [
    "plot_correlation(x=\"MAE\", y=\"Max ring size\", data=df_cor)"
   ]
  },
  {
   "cell_type": "code",
   "execution_count": 43,
   "metadata": {},
   "outputs": [
    {
     "data": {
      "image/png": "[encoded data removed]",
      "text/plain": [
       "<Figure size 432x432 with 3 Axes>"
      ]
     },
     "metadata": {
      "needs_background": "light"
     },
     "output_type": "display_data"
    }
   ],
   "source": [
    "plot_correlation(x=\"Max ring size\", y=\"MAE\", data=df_cor)"
   ]
  },
  {
   "cell_type": "code",
   "execution_count": 44,
   "metadata": {},
   "outputs": [
    {
     "data": {
      "image/png": "[encoded data removed]",
      "text/plain": [
       "<Figure size 432x432 with 3 Axes>"
      ]
     },
     "metadata": {
      "needs_background": "light"
     },
     "output_type": "display_data"
    }
   ],
   "source": [
    "plot_correlation(x=\"MAE\", y=\"Rotatable bond count\", data=df_cor)"
   ]
  },
  {
   "cell_type": "markdown",
   "metadata": {
    "collapsed": true
   },
   "source": [
    "### Correlation plots for slides"
   ]
  },
  {
   "cell_type": "code",
   "execution_count": 45,
   "metadata": {},
   "outputs": [],
   "source": [
    "def plot_correlation(x, y, data, title=None, color=None, kind='joint', ax=None):\n",
    "    # Extract only pKa values.\n",
    "    data = data[[x, y]]\n",
    "\n",
    "    if kind == 'joint':\n",
    "        grid = sns.jointplot(x=x, y=y, data=data,\n",
    "                             kind='reg', joint_kws={'ci': None}, stat_func=None, color=color)\n",
    "        ax = grid.ax_joint\n",
    "        grid.fig.subplots_adjust(top=0.95)\n",
    "        grid.fig.suptitle(title)\n",
    "    elif kind == 'reg':\n",
    "        plt.figure(figsize=(3, 3),dpi=200)\n",
    "        ax = sns.regplot(x=x, y=y, data=data, color=color, ax=ax)\n",
    "        ax.set_title(title)"
   ]
  },
  {
   "cell_type": "code",
   "execution_count": 46,
   "metadata": {},
   "outputs": [
    {
     "data": {
      "image/png": "[encoded data removed]",
      "text/plain": [
       "<Figure size 1200x1200 with 4 Axes>"
      ]
     },
     "metadata": {
      "needs_background": "light"
     },
     "output_type": "display_data"
    }
   ],
   "source": [
    "fig, ((ax1, ax2), (ax3, ax4)) = plt.subplots(2, 2, sharex=False, figsize=(6, 6), dpi=200)\n",
    "\n",
    "sns.regplot(x=\"MAE\", y=\"MW\", data=df_cor, color=None, ax=ax1)\n",
    "ax1.set_title(\"$R^2={}$\".format(round(r2_mw,2)))\n",
    "\n",
    "sns.regplot(x=\"MAE\", y=\"Heavy atom count\", data=df_cor, color=None, ax=ax2)\n",
    "ax2.set_title(\"$R^2={}$\".format(round(r2_hac ,2)))\n",
    "\n",
    "sns.regplot(x=\"MAE\", y=\"Rotatable bond count\", data=df_cor, color=None, ax=ax3)\n",
    "ax3.set_title(\"$R^2={}$\".format(round(r2_rbc,2)))\n",
    "\n",
    "sns.regplot(x=\"MAE\", y=\"Heteroatom count\", data=df_cor, color=None, ax=ax4)\n",
    "ax4.set_title(\"$R^2={}$\".format(round(r2_het,2)))\n",
    "ax4.set_ylim(2,10)\n",
    "\n",
    "plt.tight_layout()"
   ]
  },
  {
   "cell_type": "code",
   "execution_count": 48,
   "metadata": {},
   "outputs": [
    {
     "data": {
      "image/png": "[encoded data removed]",
      "text/plain": [
       "<Figure size 1200x1200 with 4 Axes>"
      ]
     },
     "metadata": {
      "needs_background": "light"
     },
     "output_type": "display_data"
    }
   ],
   "source": [
    "fig, ((ax1, ax2), (ax3, ax4)) = plt.subplots(2, 2, sharex=False, figsize=(6, 6), dpi=200)\n",
    "\n",
    "sns.regplot(x=\"MAE\", y=\"Heteroatom to carbon ratio\", data=df_cor, color=None, ax=ax1)\n",
    "ax1.set_title(\"$R^2={}$\".format(round(r2_hetcr,2)))\n",
    "\n",
    "sns.regplot(x=\"MAE\", y=\"Ring system count\", data=df_cor, color=None, ax=ax2)\n",
    "ax2.set_title(\"$R^2={}$\".format(round(r2_ring ,2)))\n",
    "\n",
    "sns.regplot(x=\"MAE\", y=\"Max ring size\", data=df_cor, color=None, ax=ax3)\n",
    "ax3.set_title(\"$R^2={}$\".format(round(r2_mrs,2)))\n",
    "\n",
    "sns.regplot(x=\"MAE\", y=\"Microstate count\", data=df_cor, color=None, ax=ax4)\n",
    "ax4.set_title(\"$R^2={}$\".format(round(r2_micro,2)))\n",
    "#ax4.set_ylim(2,10)\n",
    "\n",
    "plt.tight_layout()"
   ]
  },
  {
   "cell_type": "code",
   "execution_count": null,
   "metadata": {},
   "outputs": [],
   "source": []
  }
 ],
 "metadata": {
  "kernelspec": {
   "display_name": "Python 3",
   "language": "python",
   "name": "python3"
  },
  "language_info": {
   "codemirror_mode": {
    "name": "ipython",
    "version": 3
   },
   "file_extension": ".py",
   "mimetype": "text/x-python",
   "name": "python",
   "nbconvert_exporter": "python",
   "pygments_lexer": "ipython3",
   "version": "3.6.7"
  }
 },
 "nbformat": 4,
 "nbformat_minor": 2
}

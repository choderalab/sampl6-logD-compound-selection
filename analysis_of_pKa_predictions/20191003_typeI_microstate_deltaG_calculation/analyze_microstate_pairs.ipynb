{
 "cells": [
  {
   "cell_type": "code",
   "execution_count": 1,
   "metadata": {},
   "outputs": [],
   "source": [
    "import pandas as pd\n",
    "import numpy as np"
   ]
  },
  {
   "cell_type": "code",
   "execution_count": 2,
   "metadata": {},
   "outputs": [
    {
     "data": {
      "text/html": [
       "<div>\n",
       "<style scoped>\n",
       "    .dataframe tbody tr th:only-of-type {\n",
       "        vertical-align: middle;\n",
       "    }\n",
       "\n",
       "    .dataframe tbody tr th {\n",
       "        vertical-align: top;\n",
       "    }\n",
       "\n",
       "    .dataframe thead th {\n",
       "        text-align: right;\n",
       "    }\n",
       "</style>\n",
       "<table border=\"1\" class=\"dataframe\">\n",
       "  <thead>\n",
       "    <tr style=\"text-align: right;\">\n",
       "      <th></th>\n",
       "      <th>Microstate ID of A</th>\n",
       "      <th>Microstate ID of HA</th>\n",
       "      <th>Molecule ID</th>\n",
       "      <th>pKa (exp)</th>\n",
       "      <th>pKa SEM (exp)</th>\n",
       "      <th>pKa ID</th>\n",
       "      <th>Microstate identification source</th>\n",
       "    </tr>\n",
       "  </thead>\n",
       "  <tbody>\n",
       "    <tr>\n",
       "      <th>0</th>\n",
       "      <td>SM07_micro004</td>\n",
       "      <td>SM07_micro006</td>\n",
       "      <td>SM07</td>\n",
       "      <td>6.08</td>\n",
       "      <td>0.01</td>\n",
       "      <td>SM07_pKa1</td>\n",
       "      <td>NMR measurement</td>\n",
       "    </tr>\n",
       "    <tr>\n",
       "      <th>1</th>\n",
       "      <td>SM14_micro001</td>\n",
       "      <td>SM14_micro002</td>\n",
       "      <td>SM14</td>\n",
       "      <td>5.30</td>\n",
       "      <td>0.01</td>\n",
       "      <td>SM14_pKa2</td>\n",
       "      <td>NMR measurement</td>\n",
       "    </tr>\n",
       "    <tr>\n",
       "      <th>2</th>\n",
       "      <td>SM14_micro002</td>\n",
       "      <td>SM14_micro003</td>\n",
       "      <td>SM14</td>\n",
       "      <td>2.58</td>\n",
       "      <td>0.01</td>\n",
       "      <td>SM14_pKa1</td>\n",
       "      <td>NMR measurement</td>\n",
       "    </tr>\n",
       "    <tr>\n",
       "      <th>3</th>\n",
       "      <td>SM02_micro002</td>\n",
       "      <td>SM02_micro004</td>\n",
       "      <td>SM02</td>\n",
       "      <td>5.03</td>\n",
       "      <td>0.01</td>\n",
       "      <td>SM02_pKa1</td>\n",
       "      <td>Estimated based on SM07 NMR measurement</td>\n",
       "    </tr>\n",
       "    <tr>\n",
       "      <th>4</th>\n",
       "      <td>SM04_micro003</td>\n",
       "      <td>SM04_micro002</td>\n",
       "      <td>SM04</td>\n",
       "      <td>6.02</td>\n",
       "      <td>0.01</td>\n",
       "      <td>SM04_pKa1</td>\n",
       "      <td>Estimated based on SM07 NMR measurement</td>\n",
       "    </tr>\n",
       "    <tr>\n",
       "      <th>5</th>\n",
       "      <td>SM09_micro003</td>\n",
       "      <td>SM09_micro001</td>\n",
       "      <td>SM09</td>\n",
       "      <td>5.37</td>\n",
       "      <td>0.01</td>\n",
       "      <td>SM09_pKa1</td>\n",
       "      <td>Estimated based on SM07 NMR measurement</td>\n",
       "    </tr>\n",
       "    <tr>\n",
       "      <th>6</th>\n",
       "      <td>SM12_micro012</td>\n",
       "      <td>SM12_micro006</td>\n",
       "      <td>SM12</td>\n",
       "      <td>5.28</td>\n",
       "      <td>0.01</td>\n",
       "      <td>SM12_pKa1</td>\n",
       "      <td>Estimated based on SM07 NMR measurement</td>\n",
       "    </tr>\n",
       "    <tr>\n",
       "      <th>7</th>\n",
       "      <td>SM13_micro005</td>\n",
       "      <td>SM13_micro001</td>\n",
       "      <td>SM13</td>\n",
       "      <td>5.77</td>\n",
       "      <td>0.01</td>\n",
       "      <td>SM13_pKa1</td>\n",
       "      <td>Estimated based on SM07 NMR measurement</td>\n",
       "    </tr>\n",
       "    <tr>\n",
       "      <th>8</th>\n",
       "      <td>SM15_micro004</td>\n",
       "      <td>SM15_micro002</td>\n",
       "      <td>SM15</td>\n",
       "      <td>8.94</td>\n",
       "      <td>0.01</td>\n",
       "      <td>SM15_pKa2</td>\n",
       "      <td>Estimated based on SM14 NMR measurement</td>\n",
       "    </tr>\n",
       "    <tr>\n",
       "      <th>9</th>\n",
       "      <td>SM15_micro002</td>\n",
       "      <td>SM15_micro003</td>\n",
       "      <td>SM15</td>\n",
       "      <td>4.70</td>\n",
       "      <td>0.01</td>\n",
       "      <td>SM15_pKa1</td>\n",
       "      <td>Estimated based on SM14 NMR measurement</td>\n",
       "    </tr>\n",
       "  </tbody>\n",
       "</table>\n",
       "</div>"
      ],
      "text/plain": [
       "  Microstate ID of A Microstate ID of HA Molecule ID  pKa (exp)  \\\n",
       "0      SM07_micro004       SM07_micro006        SM07       6.08   \n",
       "1      SM14_micro001       SM14_micro002        SM14       5.30   \n",
       "2      SM14_micro002       SM14_micro003        SM14       2.58   \n",
       "3      SM02_micro002       SM02_micro004        SM02       5.03   \n",
       "4      SM04_micro003       SM04_micro002        SM04       6.02   \n",
       "5      SM09_micro003       SM09_micro001        SM09       5.37   \n",
       "6      SM12_micro012       SM12_micro006        SM12       5.28   \n",
       "7      SM13_micro005       SM13_micro001        SM13       5.77   \n",
       "8      SM15_micro004       SM15_micro002        SM15       8.94   \n",
       "9      SM15_micro002       SM15_micro003        SM15       4.70   \n",
       "\n",
       "   pKa SEM (exp)     pKa ID         Microstate identification source  \n",
       "0           0.01  SM07_pKa1                          NMR measurement  \n",
       "1           0.01  SM14_pKa2                          NMR measurement  \n",
       "2           0.01  SM14_pKa1                          NMR measurement  \n",
       "3           0.01  SM02_pKa1  Estimated based on SM07 NMR measurement  \n",
       "4           0.01  SM04_pKa1  Estimated based on SM07 NMR measurement  \n",
       "5           0.01  SM09_pKa1  Estimated based on SM07 NMR measurement  \n",
       "6           0.01  SM12_pKa1  Estimated based on SM07 NMR measurement  \n",
       "7           0.01  SM13_pKa1  Estimated based on SM07 NMR measurement  \n",
       "8           0.01  SM15_pKa2  Estimated based on SM14 NMR measurement  \n",
       "9           0.01  SM15_pKa1  Estimated based on SM14 NMR measurement  "
      ]
     },
     "execution_count": 2,
     "metadata": {},
     "output_type": "execute_result"
    }
   ],
   "source": [
    "df_exp = pd.read_csv(\"experimental_microstates.csv\")\n",
    "df_exp\n"
   ]
  },
  {
   "cell_type": "code",
   "execution_count": 3,
   "metadata": {},
   "outputs": [
    {
     "ename": "FileNotFoundError",
     "evalue": "File b'typeI_submission_collection.csv' does not exist",
     "output_type": "error",
     "traceback": [
      "\u001b[0;31m---------------------------------------------------------------------------\u001b[0m",
      "\u001b[0;31mFileNotFoundError\u001b[0m                         Traceback (most recent call last)",
      "\u001b[0;32m<ipython-input-3-e8cef56f0792>\u001b[0m in \u001b[0;36m<module>\u001b[0;34m\u001b[0m\n\u001b[0;32m----> 1\u001b[0;31m \u001b[0mdf_col\u001b[0m \u001b[0;34m=\u001b[0m \u001b[0mpd\u001b[0m\u001b[0;34m.\u001b[0m\u001b[0mread_csv\u001b[0m\u001b[0;34m(\u001b[0m\u001b[0;34m\"typeI_submission_collection.csv\"\u001b[0m\u001b[0;34m)\u001b[0m\u001b[0;34m\u001b[0m\u001b[0;34m\u001b[0m\u001b[0m\n\u001b[0m\u001b[1;32m      2\u001b[0m \u001b[0mdf_col\u001b[0m\u001b[0;34m.\u001b[0m\u001b[0mhead\u001b[0m\u001b[0;34m(\u001b[0m\u001b[0;34m)\u001b[0m\u001b[0;34m\u001b[0m\u001b[0;34m\u001b[0m\u001b[0m\n",
      "\u001b[0;32m~/opt/anaconda/envs/sampl6_pKa/lib/python3.6/site-packages/pandas/io/parsers.py\u001b[0m in \u001b[0;36mparser_f\u001b[0;34m(filepath_or_buffer, sep, delimiter, header, names, index_col, usecols, squeeze, prefix, mangle_dupe_cols, dtype, engine, converters, true_values, false_values, skipinitialspace, skiprows, nrows, na_values, keep_default_na, na_filter, verbose, skip_blank_lines, parse_dates, infer_datetime_format, keep_date_col, date_parser, dayfirst, iterator, chunksize, compression, thousands, decimal, lineterminator, quotechar, quoting, escapechar, comment, encoding, dialect, tupleize_cols, error_bad_lines, warn_bad_lines, skipfooter, doublequote, delim_whitespace, low_memory, memory_map, float_precision)\u001b[0m\n\u001b[1;32m    676\u001b[0m                     skip_blank_lines=skip_blank_lines)\n\u001b[1;32m    677\u001b[0m \u001b[0;34m\u001b[0m\u001b[0m\n\u001b[0;32m--> 678\u001b[0;31m         \u001b[0;32mreturn\u001b[0m \u001b[0m_read\u001b[0m\u001b[0;34m(\u001b[0m\u001b[0mfilepath_or_buffer\u001b[0m\u001b[0;34m,\u001b[0m \u001b[0mkwds\u001b[0m\u001b[0;34m)\u001b[0m\u001b[0;34m\u001b[0m\u001b[0;34m\u001b[0m\u001b[0m\n\u001b[0m\u001b[1;32m    679\u001b[0m \u001b[0;34m\u001b[0m\u001b[0m\n\u001b[1;32m    680\u001b[0m     \u001b[0mparser_f\u001b[0m\u001b[0;34m.\u001b[0m\u001b[0m__name__\u001b[0m \u001b[0;34m=\u001b[0m \u001b[0mname\u001b[0m\u001b[0;34m\u001b[0m\u001b[0;34m\u001b[0m\u001b[0m\n",
      "\u001b[0;32m~/opt/anaconda/envs/sampl6_pKa/lib/python3.6/site-packages/pandas/io/parsers.py\u001b[0m in \u001b[0;36m_read\u001b[0;34m(filepath_or_buffer, kwds)\u001b[0m\n\u001b[1;32m    438\u001b[0m \u001b[0;34m\u001b[0m\u001b[0m\n\u001b[1;32m    439\u001b[0m     \u001b[0;31m# Create the parser.\u001b[0m\u001b[0;34m\u001b[0m\u001b[0;34m\u001b[0m\u001b[0;34m\u001b[0m\u001b[0m\n\u001b[0;32m--> 440\u001b[0;31m     \u001b[0mparser\u001b[0m \u001b[0;34m=\u001b[0m \u001b[0mTextFileReader\u001b[0m\u001b[0;34m(\u001b[0m\u001b[0mfilepath_or_buffer\u001b[0m\u001b[0;34m,\u001b[0m \u001b[0;34m**\u001b[0m\u001b[0mkwds\u001b[0m\u001b[0;34m)\u001b[0m\u001b[0;34m\u001b[0m\u001b[0;34m\u001b[0m\u001b[0m\n\u001b[0m\u001b[1;32m    441\u001b[0m \u001b[0;34m\u001b[0m\u001b[0m\n\u001b[1;32m    442\u001b[0m     \u001b[0;32mif\u001b[0m \u001b[0mchunksize\u001b[0m \u001b[0;32mor\u001b[0m \u001b[0miterator\u001b[0m\u001b[0;34m:\u001b[0m\u001b[0;34m\u001b[0m\u001b[0;34m\u001b[0m\u001b[0m\n",
      "\u001b[0;32m~/opt/anaconda/envs/sampl6_pKa/lib/python3.6/site-packages/pandas/io/parsers.py\u001b[0m in \u001b[0;36m__init__\u001b[0;34m(self, f, engine, **kwds)\u001b[0m\n\u001b[1;32m    785\u001b[0m             \u001b[0mself\u001b[0m\u001b[0;34m.\u001b[0m\u001b[0moptions\u001b[0m\u001b[0;34m[\u001b[0m\u001b[0;34m'has_index_names'\u001b[0m\u001b[0;34m]\u001b[0m \u001b[0;34m=\u001b[0m \u001b[0mkwds\u001b[0m\u001b[0;34m[\u001b[0m\u001b[0;34m'has_index_names'\u001b[0m\u001b[0;34m]\u001b[0m\u001b[0;34m\u001b[0m\u001b[0;34m\u001b[0m\u001b[0m\n\u001b[1;32m    786\u001b[0m \u001b[0;34m\u001b[0m\u001b[0m\n\u001b[0;32m--> 787\u001b[0;31m         \u001b[0mself\u001b[0m\u001b[0;34m.\u001b[0m\u001b[0m_make_engine\u001b[0m\u001b[0;34m(\u001b[0m\u001b[0mself\u001b[0m\u001b[0;34m.\u001b[0m\u001b[0mengine\u001b[0m\u001b[0;34m)\u001b[0m\u001b[0;34m\u001b[0m\u001b[0;34m\u001b[0m\u001b[0m\n\u001b[0m\u001b[1;32m    788\u001b[0m \u001b[0;34m\u001b[0m\u001b[0m\n\u001b[1;32m    789\u001b[0m     \u001b[0;32mdef\u001b[0m \u001b[0mclose\u001b[0m\u001b[0;34m(\u001b[0m\u001b[0mself\u001b[0m\u001b[0;34m)\u001b[0m\u001b[0;34m:\u001b[0m\u001b[0;34m\u001b[0m\u001b[0;34m\u001b[0m\u001b[0m\n",
      "\u001b[0;32m~/opt/anaconda/envs/sampl6_pKa/lib/python3.6/site-packages/pandas/io/parsers.py\u001b[0m in \u001b[0;36m_make_engine\u001b[0;34m(self, engine)\u001b[0m\n\u001b[1;32m   1012\u001b[0m     \u001b[0;32mdef\u001b[0m \u001b[0m_make_engine\u001b[0m\u001b[0;34m(\u001b[0m\u001b[0mself\u001b[0m\u001b[0;34m,\u001b[0m \u001b[0mengine\u001b[0m\u001b[0;34m=\u001b[0m\u001b[0;34m'c'\u001b[0m\u001b[0;34m)\u001b[0m\u001b[0;34m:\u001b[0m\u001b[0;34m\u001b[0m\u001b[0;34m\u001b[0m\u001b[0m\n\u001b[1;32m   1013\u001b[0m         \u001b[0;32mif\u001b[0m \u001b[0mengine\u001b[0m \u001b[0;34m==\u001b[0m \u001b[0;34m'c'\u001b[0m\u001b[0;34m:\u001b[0m\u001b[0;34m\u001b[0m\u001b[0;34m\u001b[0m\u001b[0m\n\u001b[0;32m-> 1014\u001b[0;31m             \u001b[0mself\u001b[0m\u001b[0;34m.\u001b[0m\u001b[0m_engine\u001b[0m \u001b[0;34m=\u001b[0m \u001b[0mCParserWrapper\u001b[0m\u001b[0;34m(\u001b[0m\u001b[0mself\u001b[0m\u001b[0;34m.\u001b[0m\u001b[0mf\u001b[0m\u001b[0;34m,\u001b[0m \u001b[0;34m**\u001b[0m\u001b[0mself\u001b[0m\u001b[0;34m.\u001b[0m\u001b[0moptions\u001b[0m\u001b[0;34m)\u001b[0m\u001b[0;34m\u001b[0m\u001b[0;34m\u001b[0m\u001b[0m\n\u001b[0m\u001b[1;32m   1015\u001b[0m         \u001b[0;32melse\u001b[0m\u001b[0;34m:\u001b[0m\u001b[0;34m\u001b[0m\u001b[0;34m\u001b[0m\u001b[0m\n\u001b[1;32m   1016\u001b[0m             \u001b[0;32mif\u001b[0m \u001b[0mengine\u001b[0m \u001b[0;34m==\u001b[0m \u001b[0;34m'python'\u001b[0m\u001b[0;34m:\u001b[0m\u001b[0;34m\u001b[0m\u001b[0;34m\u001b[0m\u001b[0m\n",
      "\u001b[0;32m~/opt/anaconda/envs/sampl6_pKa/lib/python3.6/site-packages/pandas/io/parsers.py\u001b[0m in \u001b[0;36m__init__\u001b[0;34m(self, src, **kwds)\u001b[0m\n\u001b[1;32m   1706\u001b[0m         \u001b[0mkwds\u001b[0m\u001b[0;34m[\u001b[0m\u001b[0;34m'usecols'\u001b[0m\u001b[0;34m]\u001b[0m \u001b[0;34m=\u001b[0m \u001b[0mself\u001b[0m\u001b[0;34m.\u001b[0m\u001b[0musecols\u001b[0m\u001b[0;34m\u001b[0m\u001b[0;34m\u001b[0m\u001b[0m\n\u001b[1;32m   1707\u001b[0m \u001b[0;34m\u001b[0m\u001b[0m\n\u001b[0;32m-> 1708\u001b[0;31m         \u001b[0mself\u001b[0m\u001b[0;34m.\u001b[0m\u001b[0m_reader\u001b[0m \u001b[0;34m=\u001b[0m \u001b[0mparsers\u001b[0m\u001b[0;34m.\u001b[0m\u001b[0mTextReader\u001b[0m\u001b[0;34m(\u001b[0m\u001b[0msrc\u001b[0m\u001b[0;34m,\u001b[0m \u001b[0;34m**\u001b[0m\u001b[0mkwds\u001b[0m\u001b[0;34m)\u001b[0m\u001b[0;34m\u001b[0m\u001b[0;34m\u001b[0m\u001b[0m\n\u001b[0m\u001b[1;32m   1709\u001b[0m \u001b[0;34m\u001b[0m\u001b[0m\n\u001b[1;32m   1710\u001b[0m         \u001b[0mpassed_names\u001b[0m \u001b[0;34m=\u001b[0m \u001b[0mself\u001b[0m\u001b[0;34m.\u001b[0m\u001b[0mnames\u001b[0m \u001b[0;32mis\u001b[0m \u001b[0;32mNone\u001b[0m\u001b[0;34m\u001b[0m\u001b[0;34m\u001b[0m\u001b[0m\n",
      "\u001b[0;32mpandas/_libs/parsers.pyx\u001b[0m in \u001b[0;36mpandas._libs.parsers.TextReader.__cinit__\u001b[0;34m()\u001b[0m\n",
      "\u001b[0;32mpandas/_libs/parsers.pyx\u001b[0m in \u001b[0;36mpandas._libs.parsers.TextReader._setup_parser_source\u001b[0;34m()\u001b[0m\n",
      "\u001b[0;31mFileNotFoundError\u001b[0m: File b'typeI_submission_collection.csv' does not exist"
     ]
    }
   ],
   "source": [
    "df_col = pd.read_csv(\"typeI_submission_collection.csv\")\n",
    "df_col.head()"
   ]
  },
  {
   "cell_type": "code",
   "execution_count": null,
   "metadata": {},
   "outputs": [],
   "source": [
    "df_col[df_col[\"Molecule ID\"] == \"SM14\"]"
   ]
  },
  {
   "cell_type": "code",
   "execution_count": null,
   "metadata": {},
   "outputs": [],
   "source": [
    "df_exp_microstates = df_exp.rename(columns={'Microstate ID of A': 'Exp. Microstate ID of A', 'Microstate ID of HA': 'Exp. Microstate ID of HA'})\n",
    "df_exp_microstates = df_exp_microstates.drop(columns=['Molecule ID', \"pKa (exp)\", 'pKa SEM (exp)'])\n",
    "df_exp_microstates"
   ]
  },
  {
   "cell_type": "markdown",
   "metadata": {},
   "source": [
    "1. Add experimental microstates to collection\n",
    "2. Drop entries of molecules with unknown experimental microstate\n",
    "3. check for matches and give a score"
   ]
  },
  {
   "cell_type": "code",
   "execution_count": null,
   "metadata": {},
   "outputs": [],
   "source": [
    "df_col_ms = pd.merge(df_col, df_exp_microstates, on=\"pKa ID\", how=\"outer\" )\n",
    "# Drop rows whose \"Exp. Microstate ID of A\" column has NaN value\n",
    "df_col_ms = df_col_ms.dropna(subset=[\"Exp. Microstate ID of A\"])\n",
    "# Drop rows whose \"receipt_id\" column has NaN value\n",
    "#df_col_ms = df_col_ms.dropna(subset=[\"receipt_id\"])\n",
    "df_col_ms = df_col_ms.reset_index()\n",
    "df_col_ms = df_col_ms.drop(columns=['index'])\n",
    "df_col_ms.tail()"
   ]
  },
  {
   "cell_type": "code",
   "execution_count": null,
   "metadata": {},
   "outputs": [],
   "source": [
    "df_col_ms[df_col_ms[\"Molecule ID\"] == \"SM14\"]"
   ]
  },
  {
   "cell_type": "code",
   "execution_count": null,
   "metadata": {},
   "outputs": [],
   "source": [
    "# Add a score column based on microstate ID match\n",
    "\n",
    "df_col_ms[\"Microstate pair match\"] = None\n",
    "\n",
    "for i, row in enumerate(df_col_ms.iterrows()):\n",
    "    pred_ms_A = row[1][\"Microstate ID of A\"]\n",
    "    pred_ms_HA = row[1][\"Microstate ID of HA\"]\n",
    "    print(\"{} and {}\".format(exp_ms_A, exp_ms_HA))\n",
    "    pred_ms_pair = str(pred_ms_A) + \" \" + str(pred_ms_HA)\n",
    "    \n",
    "    exp_ms_A = row[1][\"Exp. Microstate ID of A\"]\n",
    "    exp_ms_HA = row[1][\"Exp. Microstate ID of HA\"]\n",
    "    exp_ms_pair = str(exp_ms_A) + \" \" + str(exp_ms_HA)\n",
    "    \n",
    "    if pred_ms_pair == exp_ms_pair:\n",
    "        df_col_ms.loc[i,\"Microstate pair match\"] = 1\n",
    "        print(pred_ms_pair )\n",
    "        print(exp_ms_pair)\n",
    "        print(\"1\")\n",
    "    else:\n",
    "        df_col_ms.loc[i,\"Microstate pair match\"] = 0    \n",
    "        print(pred_ms_pair )\n",
    "        print(exp_ms_pair)\n",
    "        print(\"0\")\n",
    "               "
   ]
  },
  {
   "cell_type": "code",
   "execution_count": null,
   "metadata": {},
   "outputs": [],
   "source": [
    "df_col_ms.head()"
   ]
  },
  {
   "cell_type": "code",
   "execution_count": null,
   "metadata": {},
   "outputs": [],
   "source": [
    "submission_IDs = list(set(df_col_ms[\"receipt_id\"].values))\n",
    "#submission_IDs = list(set(df_col_ms[\"receipt_id\"].to_list()))\n",
    "\n",
    "submission_IDs "
   ]
  },
  {
   "cell_type": "code",
   "execution_count": null,
   "metadata": {},
   "outputs": [],
   "source": [
    "microstate_pair_relative_accuracy = []\n",
    "number_of_known_microstate_pairs = 10\n",
    "\n",
    "for submission_ID in submission_IDs:\n",
    "    # Take subset of df_col_ms based on submission ID\n",
    "    df_submission = df_col_ms[df_col_ms[\"receipt_id\"] == submission_ID]\n",
    "    # Count how many times \"Microstate pair match\" column has value 1\n",
    "    pair_match = df_submission[\"Microstate pair match\"].values\n",
    "    relative_accuracy = (np.sum(pair_match)/number_of_known_microstate_pairs)*100\n",
    "    print(\"Relative accuracy of {}:\".format(submission_ID), relative_accuracy)\n",
    "    microstate_pair_relative_accuracy.append(relative_accuracy)\n",
    "   \n",
    "microstate_pair_relative_accuracy"
   ]
  },
  {
   "cell_type": "code",
   "execution_count": null,
   "metadata": {},
   "outputs": [],
   "source": [
    "data = {'Submission ID': submission_IDs, 'Relative accuracy of microstate pairs(%)': microstate_pair_relative_accuracy}\n",
    "df_rel_acc = pd.DataFrame.from_dict(data)\n",
    "\n",
    "df_rel_acc = df_rel_acc.sort_values(by=\"Relative accuracy of microstate pairs(%)\", ascending=False) #.reset_index(inplace=True)\n",
    "df_rel_acc"
   ]
  },
  {
   "cell_type": "code",
   "execution_count": null,
   "metadata": {},
   "outputs": [],
   "source": [
    "import matplotlib\n",
    "import matplotlib.pyplot as plt\n",
    "import seaborn as sns\n",
    "%matplotlib inline\n",
    "plt.rcParams[\"figure.figsize\"] = [4,4]"
   ]
  },
  {
   "cell_type": "code",
   "execution_count": null,
   "metadata": {},
   "outputs": [],
   "source": [
    "def barplot(df, x_label, y_label, title):\n",
    "    \"\"\"Creates bar plot of a given dataframe.\n",
    "\n",
    "    Args:\n",
    "        df: Pandas Dataframe that should have columns with columnnames specified in other arguments.\n",
    "        x_label: str, column name of x axis categories\n",
    "        y_label: str, column name of y axis values\n",
    "        title: str, the title of the plot\n",
    "\n",
    "    \"\"\"\n",
    "    # Plot style\n",
    "    plt.close()\n",
    "    plt.style.use([\"seaborn-talk\", \"seaborn-whitegrid\"])\n",
    "    plt.rcParams['axes.labelsize'] = 18\n",
    "    plt.rcParams['xtick.labelsize'] = 14\n",
    "    plt.rcParams['ytick.labelsize'] = 16\n",
    "    plt.ylim(0,100)\n",
    "    #plt.tight_layout()\n",
    "\n",
    "    # Plot\n",
    "    data = df\n",
    "    x = range(len(data[y_label]))\n",
    "    y = data[y_label]\n",
    "    plt.bar(x, y)\n",
    "    plt.xticks(x, data[x_label], rotation=90)\n",
    "    plt.xlabel(x_label)\n",
    "    plt.ylabel(y_label)\n",
    "    if len(title) > 70:\n",
    "        plt.title(title[:70]+\"...\")\n",
    "    else:\n",
    "        plt.title(title)\n",
    "    plt.tight_layout()"
   ]
  },
  {
   "cell_type": "code",
   "execution_count": null,
   "metadata": {},
   "outputs": [],
   "source": [
    "barplot(df = df_rel_acc, \n",
    "        x_label = \"Submission ID\", \n",
    "        y_label = \"Relative accuracy of microstate pairs(%)\", \n",
    "        title = \"Relative accuracy of microstate pairs in Type I submissions\" )\n",
    "plt.savefig(\"TypeI_microstate_pair_relative_accuracy.pdf\")"
   ]
  },
  {
   "cell_type": "markdown",
   "metadata": {},
   "source": [
    "## Analyze relative microstate pair accuracy for each molecule"
   ]
  },
  {
   "cell_type": "code",
   "execution_count": null,
   "metadata": {},
   "outputs": [],
   "source": [
    "df_col_ms.head()"
   ]
  },
  {
   "cell_type": "code",
   "execution_count": null,
   "metadata": {},
   "outputs": [],
   "source": [
    "mol_IDs = list(set(df_col_ms[\"Molecule ID\"].values))\n",
    "mol_IDs"
   ]
  },
  {
   "cell_type": "code",
   "execution_count": null,
   "metadata": {},
   "outputs": [],
   "source": []
  }
 ],
 "metadata": {
  "kernelspec": {
   "display_name": "Python 3",
   "language": "python",
   "name": "python3"
  },
  "language_info": {
   "codemirror_mode": {
    "name": "ipython",
    "version": 3
   },
   "file_extension": ".py",
   "mimetype": "text/x-python",
   "name": "python",
   "nbconvert_exporter": "python",
   "pygments_lexer": "ipython3",
   "version": "3.6.7"
  }
 },
 "nbformat": 4,
 "nbformat_minor": 2
}

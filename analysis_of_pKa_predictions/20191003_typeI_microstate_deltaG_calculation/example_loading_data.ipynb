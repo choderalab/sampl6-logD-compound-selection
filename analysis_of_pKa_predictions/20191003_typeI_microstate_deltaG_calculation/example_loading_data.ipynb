{
 "cells": [
  {
   "cell_type": "code",
   "execution_count": 6,
   "metadata": {},
   "outputs": [],
   "source": [
    "from titrato.reports import SAMPL6DataProvider, SAMPL6ReportGenerator"
   ]
  },
  {
   "cell_type": "code",
   "execution_count": 8,
   "metadata": {},
   "outputs": [
    {
     "data": {
      "text/plain": [
       "{'free_energies': array([[28.92046877, 28.69021026, 28.45995175, ...,  6.35513486,\n",
       "          6.12487635,  5.89461784],\n",
       "        [11.90436493, 11.90436493, 11.90436493, ..., 11.90436493,\n",
       "         11.90436493, 11.90436493],\n",
       "        [-7.34524645, -7.11498794, -6.88472943, ..., 15.22008746,\n",
       "         15.45034597, 15.68060448],\n",
       "        ...,\n",
       "        [ 3.96044636,  4.42096338,  4.8814804 , ..., 49.09111418,\n",
       "         49.5516312 , 50.01214822],\n",
       "        [23.5093938 , 23.96991082, 24.43042784, ..., 68.64006162,\n",
       "         69.10057864, 69.56109566],\n",
       "        [26.43367687, 27.1244524 , 27.81522792, ..., 94.1296786 ,\n",
       "         94.82045413, 95.51122966]]),\n",
       " 'populations': array([[1.59793637e-16, 2.53218375e-16, 4.01248913e-16, ...,\n",
       "         1.73438633e-03, 2.18248305e-03, 2.74603171e-03],\n",
       "        [3.92246865e-09, 4.93736481e-09, 6.21460985e-09, ...,\n",
       "         6.74754581e-06, 6.74451739e-06, 6.74070851e-06],\n",
       "        [8.98585654e-01, 8.98452698e-01, 8.98284424e-01, ...,\n",
       "         2.44988581e-07, 1.94514006e-07, 1.54420711e-07],\n",
       "        ...,\n",
       "        [1.10550187e-05, 8.78001418e-06, 6.97290694e-06, ...,\n",
       "         4.77689661e-22, 3.01266525e-22, 1.89978978e-22],\n",
       "        [3.57733392e-14, 2.84115690e-14, 2.25638846e-14, ...,\n",
       "         1.54577344e-30, 9.74879367e-31, 6.14759923e-31],\n",
       "        [1.92114206e-15, 1.21197934e-15, 7.64564042e-16, ...,\n",
       "         1.31566658e-41, 6.59099343e-42, 3.30145626e-42]]),\n",
       " 'ph_values': array([ 2. ,  2.1,  2.2,  2.3,  2.4,  2.5,  2.6,  2.7,  2.8,  2.9,  3. ,\n",
       "         3.1,  3.2,  3.3,  3.4,  3.5,  3.6,  3.7,  3.8,  3.9,  4. ,  4.1,\n",
       "         4.2,  4.3,  4.4,  4.5,  4.6,  4.7,  4.8,  4.9,  5. ,  5.1,  5.2,\n",
       "         5.3,  5.4,  5.5,  5.6,  5.7,  5.8,  5.9,  6. ,  6.1,  6.2,  6.3,\n",
       "         6.4,  6.5,  6.6,  6.7,  6.8,  6.9,  7. ,  7.1,  7.2,  7.3,  7.4,\n",
       "         7.5,  7.6,  7.7,  7.8,  7.9,  8. ,  8.1,  8.2,  8.3,  8.4,  8.5,\n",
       "         8.6,  8.7,  8.8,  8.9,  9. ,  9.1,  9.2,  9.3,  9.4,  9.5,  9.6,\n",
       "         9.7,  9.8,  9.9, 10. , 10.1, 10.2, 10.3, 10.4, 10.5, 10.6, 10.7,\n",
       "        10.8, 10.9, 11. , 11.1, 11.2, 11.3, 11.4, 11.5, 11.6, 11.7, 11.8,\n",
       "        11.9, 12. ]),\n",
       " 'state_ids': ['SM07_micro012',\n",
       "  'SM07_micro002',\n",
       "  'SM07_micro006',\n",
       "  'SM07_micro003',\n",
       "  'SM07_micro007',\n",
       "  'SM07_micro004',\n",
       "  'SM07_micro011',\n",
       "  'SM07_micro013',\n",
       "  'SM07_micro014',\n",
       "  'SM07_micro015',\n",
       "  'SM07_micro016'],\n",
       " 'mean_charge': array([ 9.99430746e-01,  9.99278322e-01,  9.99087553e-01,  9.98848330e-01,\n",
       "         9.98547994e-01,  9.98170678e-01,  9.97696489e-01,  9.97100494e-01,\n",
       "         9.96351455e-01,  9.95410279e-01,  9.94228099e-01,  9.92743941e-01,\n",
       "         9.90881889e-01,  9.88547695e-01,  9.85624775e-01,  9.81969574e-01,\n",
       "         9.77406359e-01,  9.71721595e-01,  9.64658271e-01,  9.55910776e-01,\n",
       "         9.45121378e-01,  9.31879812e-01,  9.15728118e-01,  8.96173465e-01,\n",
       "         8.72712038e-01,  8.44866826e-01,  8.12240789e-01,  7.74583893e-01,\n",
       "         7.31867725e-01,  6.84355478e-01,  6.32650008e-01,  5.77701231e-01,\n",
       "         5.20759377e-01,  4.63272957e-01,  4.06746475e-01,  3.52586258e-01,\n",
       "         3.01966969e-01,  2.55744156e-01,  2.14423332e-01,  1.78180409e-01,\n",
       "         1.46917777e-01,  1.20337146e-01,  9.80130084e-02,  7.94562169e-02,\n",
       "         6.41628571e-02,  5.16479374e-02,  4.14658834e-02,  3.32208363e-02,\n",
       "         2.65697824e-02,  2.12210864e-02,  1.69303922e-02,  1.34952678e-02,\n",
       "         1.07494926e-02,  8.55752496e-03,  6.80944327e-03,  5.41648696e-03,\n",
       "         4.30722660e-03,  3.42433450e-03,  2.72189867e-03,  2.16321145e-03,\n",
       "         1.71896330e-03,  1.36577621e-03,  1.08501853e-03,  8.61850628e-04,\n",
       "         6.84458558e-04,  5.43440112e-04,  4.31313680e-04,  3.42125881e-04,\n",
       "         2.71138352e-04,  2.14577825e-04,  1.69436712e-04,  1.33313903e-04,\n",
       "         1.04287505e-04,  8.08128808e-05,  6.16406311e-05,  4.57502133e-05,\n",
       "         3.22956914e-05,  2.05607481e-05,  9.92057867e-06, -1.91355867e-07,\n",
       "        -1.03134794e-05, -2.09847584e-05, -3.27733872e-05, -4.63070280e-05,\n",
       "        -6.23062083e-05, -8.16226513e-05, -1.05284570e-04, -1.34551326e-04,\n",
       "        -1.70980338e-04, -2.16509771e-04, -2.73561365e-04, -3.45168781e-04,\n",
       "        -4.35138172e-04, -5.48249327e-04, -6.90507751e-04, -8.69460589e-04,\n",
       "        -1.09459238e-03, -1.37782040e-03, -1.73411385e-03, -2.18226671e-03,\n",
       "        -2.74585996e-03]),\n",
       " 'charges': array([-1,  0,  1,  0,  1,  0,  1,  2,  2,  2,  3]),\n",
       " 'pkas': array([ 10.36,   9.39,   7.89,  10.91,   5.43,   2.72,  -2.65,  14.56,\n",
       "         -8.2 ,  -3.85,  -1.96, -10.45,  -0.76,  -5.38,  -2.94,  -9.58,\n",
       "          0.73]),\n",
       " 'sems': array([1.87, 2.26, 1.87, 2.26, 2.26, 0.49, 1.74, 1.87, 1.75, 0.73, 0.83,\n",
       "        1.75, 0.32, 0.66, 2.26, 2.11, 2.26]),\n",
       " 'augmented_graph': <networkx.classes.digraph.DiGraph at 0x115965e48>,\n",
       " 'graph': <networkx.classes.digraph.DiGraph at 0x115965ef0>,\n",
       " 'dataframe':         Protonated   Deprotonated    pKa   SEM Molecule\n",
       " 98   SM07_micro006  SM07_micro002  10.36  1.87     SM07\n",
       " 99   SM07_micro002  SM07_micro012   9.39  2.26     SM07\n",
       " 100  SM07_micro007  SM07_micro003   7.89  1.87     SM07\n",
       " 101  SM07_micro003  SM07_micro012  10.91  2.26     SM07\n",
       " 102  SM07_micro006  SM07_micro004   5.43  2.26     SM07\n",
       " 103  SM07_micro007  SM07_micro004   2.72  0.49     SM07\n",
       " 104  SM07_micro011  SM07_micro004  -2.65  1.74     SM07\n",
       " 105  SM07_micro004  SM07_micro012  14.56  1.87     SM07\n",
       " 106  SM07_micro013  SM07_micro006  -8.20  1.75     SM07\n",
       " 107  SM07_micro014  SM07_micro006  -3.85  0.73     SM07\n",
       " 108  SM07_micro014  SM07_micro007  -1.96  0.83     SM07\n",
       " 109  SM07_micro015  SM07_micro007 -10.45  1.75     SM07\n",
       " 110  SM07_micro013  SM07_micro011  -0.76  0.32     SM07\n",
       " 111  SM07_micro015  SM07_micro011  -5.38  0.66     SM07\n",
       " 112  SM07_micro016  SM07_micro013  -2.94  2.26     SM07\n",
       " 113  SM07_micro016  SM07_micro014  -9.58  2.11     SM07\n",
       " 114  SM07_micro016  SM07_micro015   0.73  2.26     SM07}"
      ]
     },
     "execution_count": 8,
     "metadata": {},
     "output_type": "execute_result"
    }
   ],
   "source": [
    "#!/usr/bin/env python\n",
    "# coding: utf-8\n",
    "\n",
    "# In[3]:\n",
    "\n",
    "\n",
    "from titrato.reports import SAMPL6DataProvider, SAMPL6ReportGenerator\n",
    "from titrato.stats import area_curve_vectorized, area_between_curves, BootstrapDistribution\n",
    "import seaborn as sns\n",
    "import logging\n",
    "from matplotlib import pyplot as plt\n",
    "import numpy as np\n",
    "import pandas as pd\n",
    "\n",
    "logger = logging.getLogger()\n",
    "logger.setLevel(logging.INFO)\n",
    "from titrato.reports import log\n",
    "import matplotlib.patches as mpatches\n",
    "import matplotlib.lines as mlines\n",
    "import matplotlib.pyplot as plt\n",
    "\n",
    "\n",
    "# In[4]:\n",
    "\n",
    "\n",
    "epiktypei = SAMPL6DataProvider(\"typeI-raw-microscopic.csv\", \"typei\", \"Epik-micropka\", bootstrap_options={\"n_samples\": 1})\n",
    "#epiktypeiii = SAMPL6DataProvider(\"Epik/typeIII-raw-sequential.csv\", \"typeiii\", \"Epik-scan\", bootstrap_options={\"n_samples\": 1}, typeiii_charge_file=\"Epik/output/sequential/charges_at_pH_7.csv\")\n",
    "jaguartypei = SAMPL6DataProvider(\"typeI-raw-jaguar.csv\", \"typei\", \"Jaguar\", bootstrap_options={\"n_samples\": 1})\n",
    "exp = SAMPL6DataProvider(\"SAMPL6_experimental_pkas.csv\", \"exp\", \"Experiment\", bootstrap_options={\"n_samples\": 3})\n",
    "\n",
    "SM07_exp = exp.load(\"SM07\")\n",
    "SM07_epik_pka = epiktypei.load(\"SM07\")\n",
    "SM07_jag = jaguartypei.load(\"SM07\")\n",
    "\n",
    "# show properties as example\n",
    "\n",
    "SM07_jag.__dict__\n",
    "\n"
   ]
  },
  {
   "cell_type": "code",
   "execution_count": 9,
   "metadata": {},
   "outputs": [
    {
     "data": {
      "image/png": "[encoded data removed]",
      "text/plain": [
       "<Figure size 432x288 with 1 Axes>"
      ]
     },
     "metadata": {},
     "output_type": "display_data"
    }
   ],
   "source": [
    "\n",
    "for s, state in enumerate(SM07_jag.state_ids):\n",
    "    charge = SM07_jag.charges[s]\n",
    "    label = state + \"-jaguar\"\n",
    "#     if np.mean(SM07_jag.populations[s]) < 0.001:\n",
    "#         continue\n",
    "    color= SAMPL6ReportGenerator._figprops[\"colors_per_charge\"][charge]\n",
    "    plt.plot(SM07_jag.ph_values, SM07_jag.populations[s],lw=2, ls='-.', color=color, label=label)"
   ]
  },
  {
   "cell_type": "code",
   "execution_count": 11,
   "metadata": {},
   "outputs": [
    {
     "data": {
      "text/plain": [
       "array([[1.59793637e-16, 2.53218375e-16, 4.01248913e-16, ...,\n",
       "        1.73438633e-03, 2.18248305e-03, 2.74603171e-03],\n",
       "       [3.92246865e-09, 4.93736481e-09, 6.21460985e-09, ...,\n",
       "        6.74754581e-06, 6.74451739e-06, 6.74070851e-06],\n",
       "       [8.98585654e-01, 8.98452698e-01, 8.98284424e-01, ...,\n",
       "        2.44988581e-07, 1.94514006e-07, 1.54420711e-07],\n",
       "       ...,\n",
       "       [1.10550187e-05, 8.78001418e-06, 6.97290694e-06, ...,\n",
       "        4.77689661e-22, 3.01266525e-22, 1.89978978e-22],\n",
       "       [3.57733392e-14, 2.84115690e-14, 2.25638846e-14, ...,\n",
       "        1.54577344e-30, 9.74879367e-31, 6.14759923e-31],\n",
       "       [1.92114206e-15, 1.21197934e-15, 7.64564042e-16, ...,\n",
       "        1.31566658e-41, 6.59099343e-42, 3.30145626e-42]])"
      ]
     },
     "execution_count": 11,
     "metadata": {},
     "output_type": "execute_result"
    }
   ],
   "source": [
    "SM07_jag.populations"
   ]
  },
  {
   "cell_type": "code",
   "execution_count": 12,
   "metadata": {},
   "outputs": [
    {
     "data": {
      "text/plain": [
       "array([[28.92046877, 28.69021026, 28.45995175, ...,  6.35513486,\n",
       "         6.12487635,  5.89461784],\n",
       "       [11.90436493, 11.90436493, 11.90436493, ..., 11.90436493,\n",
       "        11.90436493, 11.90436493],\n",
       "       [-7.34524645, -7.11498794, -6.88472943, ..., 15.22008746,\n",
       "        15.45034597, 15.68060448],\n",
       "       ...,\n",
       "       [ 3.96044636,  4.42096338,  4.8814804 , ..., 49.09111418,\n",
       "        49.5516312 , 50.01214822],\n",
       "       [23.5093938 , 23.96991082, 24.43042784, ..., 68.64006162,\n",
       "        69.10057864, 69.56109566],\n",
       "       [26.43367687, 27.1244524 , 27.81522792, ..., 94.1296786 ,\n",
       "        94.82045413, 95.51122966]])"
      ]
     },
     "execution_count": 12,
     "metadata": {},
     "output_type": "execute_result"
    }
   ],
   "source": [
    "SM07_jag.free_energies"
   ]
  },
  {
   "cell_type": "code",
   "execution_count": 13,
   "metadata": {},
   "outputs": [
    {
     "data": {
      "text/plain": [
       "array([ 2. ,  2.1,  2.2,  2.3,  2.4,  2.5,  2.6,  2.7,  2.8,  2.9,  3. ,\n",
       "        3.1,  3.2,  3.3,  3.4,  3.5,  3.6,  3.7,  3.8,  3.9,  4. ,  4.1,\n",
       "        4.2,  4.3,  4.4,  4.5,  4.6,  4.7,  4.8,  4.9,  5. ,  5.1,  5.2,\n",
       "        5.3,  5.4,  5.5,  5.6,  5.7,  5.8,  5.9,  6. ,  6.1,  6.2,  6.3,\n",
       "        6.4,  6.5,  6.6,  6.7,  6.8,  6.9,  7. ,  7.1,  7.2,  7.3,  7.4,\n",
       "        7.5,  7.6,  7.7,  7.8,  7.9,  8. ,  8.1,  8.2,  8.3,  8.4,  8.5,\n",
       "        8.6,  8.7,  8.8,  8.9,  9. ,  9.1,  9.2,  9.3,  9.4,  9.5,  9.6,\n",
       "        9.7,  9.8,  9.9, 10. , 10.1, 10.2, 10.3, 10.4, 10.5, 10.6, 10.7,\n",
       "       10.8, 10.9, 11. , 11.1, 11.2, 11.3, 11.4, 11.5, 11.6, 11.7, 11.8,\n",
       "       11.9, 12. ])"
      ]
     },
     "execution_count": 13,
     "metadata": {},
     "output_type": "execute_result"
    }
   ],
   "source": [
    "SM07_jag.ph_values"
   ]
  },
  {
   "cell_type": "code",
   "execution_count": 18,
   "metadata": {},
   "outputs": [
    {
     "data": {
      "image/png": "[encoded data removed]",
      "text/plain": [
       "<Figure size 432x288 with 1 Axes>"
      ]
     },
     "metadata": {},
     "output_type": "display_data"
    }
   ],
   "source": [
    "for s, state in enumerate(SM07_jag.state_ids):\n",
    "    charge = SM07_jag.charges[s]\n",
    "    label = state + \"-jaguar\"\n",
    "#     if np.mean(SM07_jag.populations[s]) < 0.001:\n",
    "#         continue\n",
    "    color= SAMPL6ReportGenerator._figprops[\"colors_per_charge\"][charge]\n",
    "    plt.plot(SM07_jag.ph_values, SM07_jag.free_energies[s],lw=2, ls='-.', color=color, label=label)"
   ]
  },
  {
   "cell_type": "code",
   "execution_count": 19,
   "metadata": {},
   "outputs": [
    {
     "data": {
      "text/plain": [
       "['SM07_micro012',\n",
       " 'SM07_micro002',\n",
       " 'SM07_micro006',\n",
       " 'SM07_micro003',\n",
       " 'SM07_micro007',\n",
       " 'SM07_micro004',\n",
       " 'SM07_micro011',\n",
       " 'SM07_micro013',\n",
       " 'SM07_micro014',\n",
       " 'SM07_micro015',\n",
       " 'SM07_micro016']"
      ]
     },
     "execution_count": 19,
     "metadata": {},
     "output_type": "execute_result"
    }
   ],
   "source": [
    "SM07_jag.state_ids"
   ]
  },
  {
   "cell_type": "code",
   "execution_count": 21,
   "metadata": {},
   "outputs": [
    {
     "data": {
      "text/plain": [
       "101"
      ]
     },
     "execution_count": 21,
     "metadata": {},
     "output_type": "execute_result"
    }
   ],
   "source": [
    "len(SM07_jag.free_energies[0])"
   ]
  },
  {
   "cell_type": "code",
   "execution_count": 22,
   "metadata": {},
   "outputs": [
    {
     "data": {
      "text/plain": [
       "101"
      ]
     },
     "execution_count": 22,
     "metadata": {},
     "output_type": "execute_result"
    }
   ],
   "source": [
    "len(SM07_jag.ph_values)"
   ]
  },
  {
   "cell_type": "code",
   "execution_count": 26,
   "metadata": {},
   "outputs": [
    {
     "data": {
      "text/plain": [
       "array([0, 1])"
      ]
     },
     "execution_count": 26,
     "metadata": {},
     "output_type": "execute_result"
    }
   ],
   "source": [
    "SM07_exp.charges"
   ]
  },
  {
   "cell_type": "code",
   "execution_count": 27,
   "metadata": {},
   "outputs": [
    {
     "data": {
      "text/plain": [
       "array([[ 0.        ,  0.        ,  0.        ,  0.        ,  0.        ,\n",
       "         0.        ,  0.        ,  0.        ,  0.        ,  0.        ,\n",
       "         0.        ,  0.        ,  0.        ,  0.        ,  0.        ,\n",
       "         0.        ,  0.        ,  0.        ,  0.        ,  0.        ,\n",
       "         0.        ,  0.        ,  0.        ,  0.        ,  0.        ,\n",
       "         0.        ,  0.        ,  0.        ,  0.        ,  0.        ,\n",
       "         0.        ,  0.        ,  0.        ,  0.        ,  0.        ,\n",
       "         0.        ,  0.        ,  0.        ,  0.        ,  0.        ,\n",
       "         0.        ,  0.        ,  0.        ,  0.        ,  0.        ,\n",
       "         0.        ,  0.        ,  0.        ,  0.        ,  0.        ,\n",
       "         0.        ,  0.        ,  0.        ,  0.        ,  0.        ,\n",
       "         0.        ,  0.        ,  0.        ,  0.        ,  0.        ,\n",
       "         0.        ,  0.        ,  0.        ,  0.        ,  0.        ,\n",
       "         0.        ,  0.        ,  0.        ,  0.        ,  0.        ,\n",
       "         0.        ,  0.        ,  0.        ,  0.        ,  0.        ,\n",
       "         0.        ,  0.        ,  0.        ,  0.        ,  0.        ,\n",
       "         0.        ,  0.        ,  0.        ,  0.        ,  0.        ,\n",
       "         0.        ,  0.        ,  0.        ,  0.        ,  0.        ,\n",
       "         0.        ,  0.        ,  0.        ,  0.        ,  0.        ,\n",
       "         0.        ,  0.        ,  0.        ,  0.        ,  0.        ,\n",
       "         0.        ],\n",
       "       [-9.39454718, -9.16428867, -8.93403016, -8.70377165, -8.47351314,\n",
       "        -8.24325463, -8.01299612, -7.78273761, -7.55247911, -7.3222206 ,\n",
       "        -7.09196209, -6.86170358, -6.63144507, -6.40118656, -6.17092805,\n",
       "        -5.94066954, -5.71041103, -5.48015252, -5.24989401, -5.0196355 ,\n",
       "        -4.78937699, -4.55911848, -4.32885997, -4.09860147, -3.86834296,\n",
       "        -3.63808445, -3.40782594, -3.17756743, -2.94730892, -2.71705041,\n",
       "        -2.4867919 , -2.25653339, -2.02627488, -1.79601637, -1.56575786,\n",
       "        -1.33549935, -1.10524084, -0.87498234, -0.64472383, -0.41446532,\n",
       "        -0.18420681,  0.0460517 ,  0.27631021,  0.50656872,  0.73682723,\n",
       "         0.96708574,  1.19734425,  1.42760276,  1.65786127,  1.88811978,\n",
       "         2.11837829,  2.34863679,  2.5788953 ,  2.80915381,  3.03941232,\n",
       "         3.26967083,  3.49992934,  3.73018785,  3.96044636,  4.19070487,\n",
       "         4.42096338,  4.65122189,  4.8814804 ,  5.11173891,  5.34199742,\n",
       "         5.57225593,  5.80251443,  6.03277294,  6.26303145,  6.49328996,\n",
       "         6.72354847,  6.95380698,  7.18406549,  7.414324  ,  7.64458251,\n",
       "         7.87484102,  8.10509953,  8.33535804,  8.56561655,  8.79587506,\n",
       "         9.02613356,  9.25639207,  9.48665058,  9.71690909,  9.9471676 ,\n",
       "        10.17742611, 10.40768462, 10.63794313, 10.86820164, 11.09846015,\n",
       "        11.32871866, 11.55897717, 11.78923568, 12.01949419, 12.24975269,\n",
       "        12.4800112 , 12.71026971, 12.94052822, 13.17078673, 13.40104524,\n",
       "        13.63130375]])"
      ]
     },
     "execution_count": 27,
     "metadata": {},
     "output_type": "execute_result"
    }
   ],
   "source": [
    "SM07_exp.free_energies"
   ]
  },
  {
   "cell_type": "code",
   "execution_count": 28,
   "metadata": {},
   "outputs": [
    {
     "data": {
      "text/plain": [
       "array([6.08])"
      ]
     },
     "execution_count": 28,
     "metadata": {},
     "output_type": "execute_result"
    }
   ],
   "source": [
    "SM07_exp.pkas"
   ]
  },
  {
   "cell_type": "code",
   "execution_count": 29,
   "metadata": {},
   "outputs": [
    {
     "data": {
      "text/plain": [
       "['Deprotonated', '+1 protons (pKa=6.08)']"
      ]
     },
     "execution_count": 29,
     "metadata": {},
     "output_type": "execute_result"
    }
   ],
   "source": [
    "SM07_exp.state_ids"
   ]
  },
  {
   "cell_type": "code",
   "execution_count": null,
   "metadata": {},
   "outputs": [],
   "source": []
  }
 ],
 "metadata": {
  "kernelspec": {
   "display_name": "Python 3",
   "language": "python",
   "name": "python3"
  },
  "language_info": {
   "codemirror_mode": {
    "name": "ipython",
    "version": 3
   },
   "file_extension": ".py",
   "mimetype": "text/x-python",
   "name": "python",
   "nbconvert_exporter": "python",
   "pygments_lexer": "ipython3",
   "version": "3.6.7"
  }
 },
 "nbformat": 4,
 "nbformat_minor": 2
}

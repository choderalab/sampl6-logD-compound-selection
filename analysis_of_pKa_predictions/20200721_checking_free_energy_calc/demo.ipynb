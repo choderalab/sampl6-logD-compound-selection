{
 "cells": [
  {
   "cell_type": "code",
   "execution_count": 1,
   "metadata": {},
   "outputs": [],
   "source": [
    "from titrato import MicropKaTitrationCurve, plot_free_energy_vs_ph, plot_population_vs_ph, plot_micropka_network, tabulate_cycles, tabulate_free_energy\n",
    "from IPython.display import Markdown\n",
    "import matplotlib.pyplot as plt\n",
    "import numpy as np"
   ]
  },
  {
   "cell_type": "markdown",
   "metadata": {},
   "source": [
    "# Free energy analysis demonstration\n",
    "\n",
    "This notebook demonstrates how to use the `titrato` library for analyzing pKa values and microscopic free energies.\n",
    "\n",
    "## Loading data\n",
    "Load a csv file containing the data using the `MicropKaTitrationCurve` class, which is intended for analyzing microscopic pKa values, one molecule at a time. It loads pKa values frome one file, and microstate charge information from another file.\n",
    "\n",
    "\n",
    "### pKa file\n",
    "\n",
    "The pKa file provides microscopic pKa values in CSV format (headers included):\n",
    "Microstates are named with an identifier for the molecule, followed by an underscore, followed by a unique name for to identify the microscopic state.\n",
    "Multiple molecules and their microstates can be included in a single file.\n",
    "\n",
    "Example format:\n",
    "```\n",
    "Protonated,Deprotonated,pKa,SEM\n",
    "SM01_micro001,SM01_micro005, -2.64,1.77\n",
    "SM01_micro001,SM01_micro006,  7.67,1.77\n",
    "SM01_micro004,SM01_micro002, 15.70,1.77\n",
    "SM01_micro010,SM01_micro002, 10.54,1.77\n",
    "SM01_micro005,SM01_micro004,  8.70,1.77\n",
    "SM01_micro006,SM01_micro004, -1.61,1.77\n",
    "SM01_micro008,SM01_micro004, -5.20,1.77\n",
    "SM01_micro009,SM01_micro005, -6.55,1.77\n",
    "SM01_micro005,SM01_micro010, 13.85,1.77\n",
    "SM01_micro009,SM01_micro008,  7.35,1.77\n",
    "```\n",
    "\n",
    "### Charge file:\n",
    "The charge file has listings of the molecular charge of each microstate. It has a CSV format (headers included) as follows\n",
    "```csv\n",
    "Molecule,Microstate ID,Charge\n",
    "SM01,SM01_micro001,1\n",
    "SM01,SM01_micro002,-2\n",
    "SM01,SM01_micro004,-1\n",
    "SM01,SM01_micro005,0\n",
    "SM01,SM01_micro006,0\n",
    "SM01,SM01_micro008,0\n",
    "SM01,SM01_micro009,1\n",
    "SM01,SM01_micro010,-1\n",
    "```\n"
   ]
  },
  {
   "cell_type": "code",
   "execution_count": 2,
   "metadata": {},
   "outputs": [],
   "source": [
    "# Run this cell for documentation on the titration curve representation\n",
    "MicropKaTitrationCurve.from_id?"
   ]
  },
  {
   "cell_type": "code",
   "execution_count": 3,
   "metadata": {},
   "outputs": [],
   "source": [
    "# Specify the molecule name, the data file location, the charge file location, and optional ph space (default is from 0-14)\n",
    "curve = MicropKaTitrationCurve.from_id(\n",
    "    \"SM14\",\n",
    "    \"./demo-pka-wuuvc-976-typeI-ECRISM-4.csv\",\n",
    "    \"./demo-SAMPL6-microstate-charges.csv\",\n",
    "    ph_values=np.linspace(0, 14, 141),\n",
    ")"
   ]
  },
  {
   "cell_type": "markdown",
   "metadata": {},
   "source": [
    "## Cycle analysis\n",
    "\n",
    "Obtain all cycles of specified length, and display as a markdown table.\n",
    "Warning, the algorithm used is not well optimized for the molecules with larger networks.\n"
   ]
  },
  {
   "cell_type": "code",
   "execution_count": 4,
   "metadata": {},
   "outputs": [
    {
     "data": {
      "application/vnd.jupyter.widget-view+json": {
       "model_id": "d2fe3086827941329d2e52586f6f7d88",
       "version_major": 2,
       "version_minor": 0
      },
      "text/plain": [
       "HBox(children=(IntProgress(value=1, bar_style='info', description='cycles', max=1, style=ProgressStyle(descrip…"
      ]
     },
     "metadata": {},
     "output_type": "display_data"
    },
    {
     "name": "stdout",
     "output_type": "stream",
     "text": [
      "\n"
     ]
    },
    {
     "data": {
      "text/markdown": [
       "cycle | sum pKa \n",
       " -----|----- \n",
       "  ['SM14_micro003', 'SM14_micro004', 'SM14_micro001', 'SM14_micro002'] | 0.000 \n",
       " ['SM14_micro003', 'SM14_micro002', 'SM14_micro001', 'SM14_micro004'] | 0.000 \n",
       " ['SM14_micro002', 'SM14_micro005', 'SM14_micro006', 'SM14_micro001'] | 0.000 \n",
       " ['SM14_micro002', 'SM14_micro001', 'SM14_micro006', 'SM14_micro005'] | -0.000 \n"
      ],
      "text/plain": [
       "<IPython.core.display.Markdown object>"
      ]
     },
     "execution_count": 4,
     "metadata": {},
     "output_type": "execute_result"
    }
   ],
   "source": [
    "# Obtain all cycles of lenght 4 \n",
    "Markdown(tabulate_cycles(curve, length=4))"
   ]
  },
  {
   "cell_type": "markdown",
   "metadata": {},
   "source": [
    "Plotting the network is also possible."
   ]
  },
  {
   "cell_type": "code",
   "execution_count": 5,
   "metadata": {
    "scrolled": false
   },
   "outputs": [
    {
     "ename": "ModuleNotFoundError",
     "evalue": "No module named 'pydot'",
     "output_type": "error",
     "traceback": [
      "\u001b[0;31m---------------------------------------------------------------------------\u001b[0m",
      "\u001b[0;31mModuleNotFoundError\u001b[0m                       Traceback (most recent call last)",
      "\u001b[0;32m<ipython-input-5-209351121fd4>\u001b[0m in \u001b[0;36m<module>\u001b[0;34m\u001b[0m\n\u001b[1;32m      1\u001b[0m \u001b[0;31m# Plot each state, with pKa values on the arrows.\u001b[0m\u001b[0;34m\u001b[0m\u001b[0;34m\u001b[0m\u001b[0;34m\u001b[0m\u001b[0m\n\u001b[1;32m      2\u001b[0m \u001b[0;31m# Color indicates the charge of each state, see colorbar.\u001b[0m\u001b[0;34m\u001b[0m\u001b[0;34m\u001b[0m\u001b[0;34m\u001b[0m\u001b[0m\n\u001b[0;32m----> 3\u001b[0;31m \u001b[0mfig1\u001b[0m\u001b[0;34m,\u001b[0m \u001b[0max1\u001b[0m \u001b[0;34m=\u001b[0m \u001b[0mplot_micropka_network\u001b[0m\u001b[0;34m(\u001b[0m\u001b[0mcurve\u001b[0m\u001b[0;34m)\u001b[0m\u001b[0;34m\u001b[0m\u001b[0;34m\u001b[0m\u001b[0m\n\u001b[0m",
      "\u001b[0;32m~/opt/anaconda/envs/sampl6_pKa/lib/python3.6/site-packages/titrato-0.0.5_demo_1.gbe44034-py3.6.egg/titrato/reports.py\u001b[0m in \u001b[0;36mplot_micropka_network\u001b[0;34m(titrationcurve)\u001b[0m\n\u001b[1;32m   1733\u001b[0m \u001b[0;34m\u001b[0m\u001b[0m\n\u001b[1;32m   1734\u001b[0m     \u001b[0mfig\u001b[0m \u001b[0;34m=\u001b[0m \u001b[0mplt\u001b[0m\u001b[0;34m.\u001b[0m\u001b[0mfigure\u001b[0m\u001b[0;34m(\u001b[0m\u001b[0mfigsize\u001b[0m\u001b[0;34m=\u001b[0m\u001b[0;34m(\u001b[0m\u001b[0;36m7\u001b[0m\u001b[0;34m,\u001b[0m \u001b[0;36m11\u001b[0m\u001b[0;34m)\u001b[0m\u001b[0;34m,\u001b[0m \u001b[0mdpi\u001b[0m\u001b[0;34m=\u001b[0m\u001b[0;36m75\u001b[0m\u001b[0;34m)\u001b[0m\u001b[0;34m\u001b[0m\u001b[0;34m\u001b[0m\u001b[0m\n\u001b[0;32m-> 1735\u001b[0;31m     \u001b[0mpos\u001b[0m \u001b[0;34m=\u001b[0m \u001b[0mpydot_layout\u001b[0m\u001b[0;34m(\u001b[0m\u001b[0mtitrationcurve\u001b[0m\u001b[0;34m.\u001b[0m\u001b[0mgraph\u001b[0m\u001b[0;34m,\u001b[0m \u001b[0mprog\u001b[0m\u001b[0;34m=\u001b[0m\u001b[0;34m\"dot\"\u001b[0m\u001b[0;34m)\u001b[0m\u001b[0;34m\u001b[0m\u001b[0;34m\u001b[0m\u001b[0m\n\u001b[0m\u001b[1;32m   1736\u001b[0m     nx.draw_networkx_nodes(\n\u001b[1;32m   1737\u001b[0m         \u001b[0mtitrationcurve\u001b[0m\u001b[0;34m.\u001b[0m\u001b[0mgraph\u001b[0m\u001b[0;34m,\u001b[0m\u001b[0;34m\u001b[0m\u001b[0;34m\u001b[0m\u001b[0m\n",
      "\u001b[0;32m~/opt/anaconda/envs/sampl6_pKa/lib/python3.6/site-packages/networkx/drawing/nx_pydot.py\u001b[0m in \u001b[0;36mpydot_layout\u001b[0;34m(G, prog, root)\u001b[0m\n\u001b[1;32m    307\u001b[0m \u001b[0;34m\u001b[0m\u001b[0m\n\u001b[1;32m    308\u001b[0m     \"\"\"\n\u001b[0;32m--> 309\u001b[0;31m     \u001b[0mpydot\u001b[0m \u001b[0;34m=\u001b[0m \u001b[0m_import_pydot\u001b[0m\u001b[0;34m(\u001b[0m\u001b[0;34m)\u001b[0m\u001b[0;34m\u001b[0m\u001b[0;34m\u001b[0m\u001b[0m\n\u001b[0m\u001b[1;32m    310\u001b[0m     \u001b[0mP\u001b[0m \u001b[0;34m=\u001b[0m \u001b[0mto_pydot\u001b[0m\u001b[0;34m(\u001b[0m\u001b[0mG\u001b[0m\u001b[0;34m)\u001b[0m\u001b[0;34m\u001b[0m\u001b[0;34m\u001b[0m\u001b[0m\n\u001b[1;32m    311\u001b[0m     \u001b[0;32mif\u001b[0m \u001b[0mroot\u001b[0m \u001b[0;32mis\u001b[0m \u001b[0;32mnot\u001b[0m \u001b[0;32mNone\u001b[0m\u001b[0;34m:\u001b[0m\u001b[0;34m\u001b[0m\u001b[0;34m\u001b[0m\u001b[0m\n",
      "\u001b[0;32m~/opt/anaconda/envs/sampl6_pKa/lib/python3.6/site-packages/networkx/drawing/nx_pydot.py\u001b[0m in \u001b[0;36m_import_pydot\u001b[0;34m()\u001b[0m\n\u001b[1;32m    365\u001b[0m     '''\n\u001b[1;32m    366\u001b[0m \u001b[0;34m\u001b[0m\u001b[0m\n\u001b[0;32m--> 367\u001b[0;31m     \u001b[0;32mimport\u001b[0m \u001b[0mpydot\u001b[0m\u001b[0;34m\u001b[0m\u001b[0;34m\u001b[0m\u001b[0m\n\u001b[0m\u001b[1;32m    368\u001b[0m     \u001b[0;32mreturn\u001b[0m \u001b[0mpydot\u001b[0m\u001b[0;34m\u001b[0m\u001b[0;34m\u001b[0m\u001b[0m\n\u001b[1;32m    369\u001b[0m \u001b[0;34m\u001b[0m\u001b[0m\n",
      "\u001b[0;31mModuleNotFoundError\u001b[0m: No module named 'pydot'"
     ]
    },
    {
     "data": {
      "text/plain": [
       "<Figure size 525x825 with 0 Axes>"
      ]
     },
     "metadata": {},
     "output_type": "display_data"
    }
   ],
   "source": [
    "# Plot each state, with pKa values on the arrows.\n",
    "# Color indicates the charge of each state, see colorbar.\n",
    "fig1, ax1 = plot_micropka_network(curve)\n"
   ]
  },
  {
   "cell_type": "markdown",
   "metadata": {},
   "source": [
    "## Analyzing the free energy of each state.\n",
    "\n",
    "\n",
    "The free energy of each state can be derived using the pKa values provided.\n",
    "This script uses the most deprotonated state as the pKa reference.\n",
    "However, by convention the free energy value for the lowest energy neutral state is 0 at every pH. This produces titration curves with intuitive slopes that match the charge of each species."
   ]
  },
  {
   "cell_type": "code",
   "execution_count": null,
   "metadata": {},
   "outputs": [],
   "source": [
    "Markdown(tabulate_free_energy(curve, base_e=False,ph=2.0))"
   ]
  },
  {
   "cell_type": "code",
   "execution_count": null,
   "metadata": {},
   "outputs": [],
   "source": [
    "tabulate_free_energy(curve, base_e=False,ph=0.0)"
   ]
  },
  {
   "cell_type": "markdown",
   "metadata": {},
   "source": [
    "The free energy as a function of pH can be plotted. "
   ]
  },
  {
   "cell_type": "code",
   "execution_count": null,
   "metadata": {},
   "outputs": [],
   "source": [
    "fig2, ax2 = plot_free_energy_vs_ph(curve,base_e=False, color_by_charge=False, mono_color=False)\n",
    "leg2 = plt.legend(fontsize=12)"
   ]
  },
  {
   "cell_type": "markdown",
   "metadata": {},
   "source": [
    "Populations can be derived from the free energy."
   ]
  },
  {
   "cell_type": "code",
   "execution_count": null,
   "metadata": {},
   "outputs": [],
   "source": [
    "fig3, ax3 = plot_population_vs_ph(curve,mono_color=False)\n",
    "leg3 = plt.legend(fontsize=12)"
   ]
  },
  {
   "cell_type": "markdown",
   "metadata": {},
   "source": [
    "Some prefer these plotted in log units."
   ]
  },
  {
   "cell_type": "code",
   "execution_count": null,
   "metadata": {},
   "outputs": [],
   "source": [
    "fig4, ax4 = plot_population_vs_ph(curve,mono_color=False)\n",
    "plt.yscale(\"log\")\n",
    "leg4 = plt.legend(fontsize=12)"
   ]
  },
  {
   "cell_type": "code",
   "execution_count": null,
   "metadata": {},
   "outputs": [],
   "source": []
  },
  {
   "cell_type": "code",
   "execution_count": null,
   "metadata": {},
   "outputs": [],
   "source": []
  },
  {
   "cell_type": "code",
   "execution_count": null,
   "metadata": {},
   "outputs": [],
   "source": []
  },
  {
   "cell_type": "code",
   "execution_count": null,
   "metadata": {},
   "outputs": [],
   "source": []
  },
  {
   "cell_type": "code",
   "execution_count": null,
   "metadata": {},
   "outputs": [],
   "source": []
  }
 ],
 "metadata": {
  "kernelspec": {
   "display_name": "Python 3",
   "language": "python",
   "name": "python3"
  },
  "language_info": {
   "codemirror_mode": {
    "name": "ipython",
    "version": 3
   },
   "file_extension": ".py",
   "mimetype": "text/x-python",
   "name": "python",
   "nbconvert_exporter": "python",
   "pygments_lexer": "ipython3",
   "version": "3.6.7"
  },
  "varInspector": {
   "cols": {
    "lenName": 16,
    "lenType": 16,
    "lenVar": 40
   },
   "kernels_config": {
    "python": {
     "delete_cmd_postfix": "",
     "delete_cmd_prefix": "del ",
     "library": "var_list.py",
     "varRefreshCmd": "print(var_dic_list())"
    },
    "r": {
     "delete_cmd_postfix": ") ",
     "delete_cmd_prefix": "rm(",
     "library": "var_list.r",
     "varRefreshCmd": "cat(var_dic_list()) "
    }
   },
   "position": {
    "height": "144px",
    "left": "997px",
    "right": "20px",
    "top": "120px",
    "width": "350px"
   },
   "types_to_exclude": [
    "module",
    "function",
    "builtin_function_or_method",
    "instance",
    "_Feature"
   ],
   "window_display": false
  }
 },
 "nbformat": 4,
 "nbformat_minor": 2
}

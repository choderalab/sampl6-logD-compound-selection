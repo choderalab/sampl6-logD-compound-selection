{
 "cells": [
  {
   "cell_type": "markdown",
   "metadata": {},
   "source": [
    "## For the analysis of type III macroscopic pKa submissions\n",
    "\n",
    "### TO DO\n",
    "1. parsing submission files\n",
    "2. parsing experiment CSV\n",
    "3. matching of experimental pKas to predicted pKas\n",
    "    - minimum-error principle\n",
    "    - keep the order of pKa values\n",
    "4. calculate RMSE and MUE for each molecule"
   ]
  },
  {
   "cell_type": "code",
   "execution_count": 28,
   "metadata": {
    "collapsed": true
   },
   "outputs": [],
   "source": [
    "import pandas as pd\n",
    "import numpy as np\n",
    "from scipy import stats"
   ]
  },
  {
   "cell_type": "markdown",
   "metadata": {},
   "source": [
    "#### Calculating root mean squared error (RMSE)\n",
    "\n",
    "$ RMSE = \\sqrt{\\frac{1}{n}\\sum_{i=1}^{n}{({pred}_i - {exp}_i})} $"
   ]
  },
  {
   "cell_type": "code",
   "execution_count": 29,
   "metadata": {},
   "outputs": [
    {
     "name": "stdout",
     "output_type": "stream",
     "text": [
      "RMSE: 0.387284994115\n"
     ]
    }
   ],
   "source": [
    "# calculate RMSE\n",
    "d = [0.000, 0.166, 0.333]\n",
    "p = [0.000, 0.254, 0.998]\n",
    "\n",
    "def rmse(predicted_values, experimental_values):\n",
    "    return np.sqrt(((predicted_values - experimental_values) ** 2).mean())\n",
    "\n",
    "rmse = rmse(np.array(d), np.array(p))\n",
    "print(\"RMSE: \" + str(rmse))"
   ]
  },
  {
   "cell_type": "markdown",
   "metadata": {},
   "source": [
    "#### Calculating mean absolute error (MAE)\n",
    "\n",
    "$ MAE = \\frac{1}{n}\\sum_{i=1}^{n}{ |{ {pred}_i - {exp}_i } | } $"
   ]
  },
  {
   "cell_type": "code",
   "execution_count": 101,
   "metadata": {},
   "outputs": [
    {
     "name": "stdout",
     "output_type": "stream",
     "text": [
      "MAE:  0.251\n"
     ]
    }
   ],
   "source": [
    "def mae(predicted_values, experimental_values):\n",
    "    return abs(predicted_values - experimental_values).mean()\n",
    "\n",
    "mae = mae(np.array(d), np.array(p))\n",
    "print(\"MAE: \", str(mae))"
   ]
  },
  {
   "cell_type": "markdown",
   "metadata": {},
   "source": [
    "### 3. How to match experimental pKas to predicted pKas?"
   ]
  },
  {
   "cell_type": "markdown",
   "metadata": {},
   "source": [
    "#### Matchning predicted pKas to minimum error prediction\n",
    "For each molecule\n",
    "1. Determine the number of experimental pKas\n",
    "2. Determine the number of predicted pKas\n",
    "3. Map each predicted pKa to closest experimental value (minimum absolute error)\n",
    "4. If multiple predicted pKas are mapped to the same experimental value, then only the one with smallest absolute error will be analyzed.  "
   ]
  },
  {
   "cell_type": "code",
   "execution_count": 79,
   "metadata": {},
   "outputs": [
    {
     "data": {
      "text/html": [
       "<div>\n",
       "<style>\n",
       "    .dataframe thead tr:only-child th {\n",
       "        text-align: right;\n",
       "    }\n",
       "\n",
       "    .dataframe thead th {\n",
       "        text-align: left;\n",
       "    }\n",
       "\n",
       "    .dataframe tbody tr th {\n",
       "        vertical-align: top;\n",
       "    }\n",
       "</style>\n",
       "<table border=\"1\" class=\"dataframe\">\n",
       "  <thead>\n",
       "    <tr style=\"text-align: right;\">\n",
       "      <th></th>\n",
       "      <th>3.5</th>\n",
       "      <th>6.7</th>\n",
       "    </tr>\n",
       "  </thead>\n",
       "  <tbody>\n",
       "    <tr>\n",
       "      <th>2.1</th>\n",
       "      <td>1.4</td>\n",
       "      <td>4.6</td>\n",
       "    </tr>\n",
       "    <tr>\n",
       "      <th>7.4</th>\n",
       "      <td>3.9</td>\n",
       "      <td>0.7</td>\n",
       "    </tr>\n",
       "    <tr>\n",
       "      <th>9.0</th>\n",
       "      <td>5.5</td>\n",
       "      <td>2.3</td>\n",
       "    </tr>\n",
       "    <tr>\n",
       "      <th>9.5</th>\n",
       "      <td>6</td>\n",
       "      <td>2.8</td>\n",
       "    </tr>\n",
       "  </tbody>\n",
       "</table>\n",
       "</div>"
      ],
      "text/plain": [
       "     3.5  6.7\n",
       "2.1  1.4  4.6\n",
       "7.4  3.9  0.7\n",
       "9.0  5.5  2.3\n",
       "9.5    6  2.8"
      ]
     },
     "execution_count": 79,
     "metadata": {},
     "output_type": "execute_result"
    }
   ],
   "source": [
    "pred_pKa1 = 2.1\n",
    "pred_pKa2 = 7.4\n",
    "pred_pKa3 = 9.0\n",
    "pred_pKa4 = 9.5\n",
    "\n",
    "exp_pKa1 = 3.5\n",
    "exp_pKa2 = 6.7\n",
    "\n",
    "exp_pKas = np.array([exp_pKa1, exp_pKa2])\n",
    "pred_pKas = np.array([pred_pKa1, pred_pKa2, pred_pKa3, pred_pKa4])\n",
    "\n",
    "# create a dataframe to store absolute errors for all possible experimental and predicted pKa matches\n",
    "# columns: experimental pKa\n",
    "# rows: predicted pKa\n",
    "df_abs_error = pd.DataFrame(index = pred_pKas, columns = exp_pKas)\n",
    "\n",
    "# iterate over predicted pKas to find the experimental pKa that gives the minimum absolute error.\n",
    "for i, pred_pKa in enumerate(pred_pKas):\n",
    "    for j, exp_pKa in enumerate(exp_pKas):\n",
    "        absolute_error = np.abs( pred_pKa - exp_pKa)\n",
    "        df_abs_error.loc[pred_pKa,exp_pKa] = absolute_error\n",
    "        \n",
    "df_abs_error"
   ]
  },
  {
   "cell_type": "code",
   "execution_count": 87,
   "metadata": {},
   "outputs": [
    {
     "data": {
      "text/html": [
       "<div>\n",
       "<style>\n",
       "    .dataframe thead tr:only-child th {\n",
       "        text-align: right;\n",
       "    }\n",
       "\n",
       "    .dataframe thead th {\n",
       "        text-align: left;\n",
       "    }\n",
       "\n",
       "    .dataframe tbody tr th {\n",
       "        vertical-align: top;\n",
       "    }\n",
       "</style>\n",
       "<table border=\"1\" class=\"dataframe\">\n",
       "  <thead>\n",
       "    <tr style=\"text-align: right;\">\n",
       "      <th></th>\n",
       "      <th>pred pKa</th>\n",
       "      <th>matched exp pKa</th>\n",
       "      <th>absolute error</th>\n",
       "      <th>duplicate_match</th>\n",
       "    </tr>\n",
       "  </thead>\n",
       "  <tbody>\n",
       "    <tr>\n",
       "      <th>0</th>\n",
       "      <td>2.1</td>\n",
       "      <td>3.5</td>\n",
       "      <td>1.4</td>\n",
       "      <td>False</td>\n",
       "    </tr>\n",
       "    <tr>\n",
       "      <th>1</th>\n",
       "      <td>7.4</td>\n",
       "      <td>6.7</td>\n",
       "      <td>0.7</td>\n",
       "      <td>True</td>\n",
       "    </tr>\n",
       "    <tr>\n",
       "      <th>2</th>\n",
       "      <td>9.0</td>\n",
       "      <td>6.7</td>\n",
       "      <td>2.3</td>\n",
       "      <td>True</td>\n",
       "    </tr>\n",
       "    <tr>\n",
       "      <th>3</th>\n",
       "      <td>9.5</td>\n",
       "      <td>6.7</td>\n",
       "      <td>2.8</td>\n",
       "      <td>True</td>\n",
       "    </tr>\n",
       "  </tbody>\n",
       "</table>\n",
       "</div>"
      ],
      "text/plain": [
       "   pred pKa  matched exp pKa  absolute error  duplicate_match\n",
       "0       2.1              3.5             1.4            False\n",
       "1       7.4              6.7             0.7             True\n",
       "2       9.0              6.7             2.3             True\n",
       "3       9.5              6.7             2.8             True"
      ]
     },
     "execution_count": 87,
     "metadata": {},
     "output_type": "execute_result"
    }
   ],
   "source": [
    "# Find the nearest experimental pKa for each predicted pKa\n",
    "df_pKa_match = pd.DataFrame()\n",
    "df_pKa_match[\"pred pKa\"] = np.NaN\n",
    "df_pKa_match[\"matched exp pKa\"] = np.NaN\n",
    "df_pKa_match[\"absolute error\"] = np.NaN\n",
    "\n",
    "for i, pred_pKa in enumerate(pred_pKas):\n",
    "    min_abs_error = min(df_abs_error.loc[pred_pKa, :])\n",
    "    \n",
    "    # Find the column name (experimental pKa) that corresponds to minimum absolute error\n",
    "    matched_exp_pKa = df_abs_error.loc[:, df_abs_error.loc[pred_pKa,:].values == min_abs_error].columns.values[0]\n",
    "    #print(\"pred pKa: \", pred_pKa, \" exp pKa: \", matched_exp_pKa)\n",
    "    df_pKa_match.loc[i, \"pred pKa\"]= pred_pKa\n",
    "    df_pKa_match.loc[i, \"matched exp pKa\"]= matched_exp_pKa\n",
    "    df_pKa_match.loc[i, \"absolute error\"] = min_abs_error\n",
    "    \n",
    "# If multiple predicted pKas are matched to same experimental pKa, keep the closer match\n",
    "# The unmatched predicted pKa will be assigned exp pKa np.NaN\n",
    "df_pKa_match['duplicate_match'] = df_pKa_match.duplicated(\"matched exp pKa\", keep=False)\n",
    "df_pKa_match"
   ]
  },
  {
   "cell_type": "code",
   "execution_count": 97,
   "metadata": {},
   "outputs": [
    {
     "data": {
      "text/html": [
       "<div>\n",
       "<style>\n",
       "    .dataframe thead tr:only-child th {\n",
       "        text-align: right;\n",
       "    }\n",
       "\n",
       "    .dataframe thead th {\n",
       "        text-align: left;\n",
       "    }\n",
       "\n",
       "    .dataframe tbody tr th {\n",
       "        vertical-align: top;\n",
       "    }\n",
       "</style>\n",
       "<table border=\"1\" class=\"dataframe\">\n",
       "  <thead>\n",
       "    <tr style=\"text-align: right;\">\n",
       "      <th></th>\n",
       "      <th>pred pKa</th>\n",
       "      <th>matched exp pKa</th>\n",
       "      <th>absolute error</th>\n",
       "      <th>duplicate_match</th>\n",
       "    </tr>\n",
       "  </thead>\n",
       "  <tbody>\n",
       "    <tr>\n",
       "      <th>0</th>\n",
       "      <td>2.1</td>\n",
       "      <td>3.5</td>\n",
       "      <td>1.4</td>\n",
       "      <td>False</td>\n",
       "    </tr>\n",
       "    <tr>\n",
       "      <th>1</th>\n",
       "      <td>7.4</td>\n",
       "      <td>6.7</td>\n",
       "      <td>0.7</td>\n",
       "      <td>True</td>\n",
       "    </tr>\n",
       "    <tr>\n",
       "      <th>2</th>\n",
       "      <td>9.0</td>\n",
       "      <td>NaN</td>\n",
       "      <td>2.3</td>\n",
       "      <td>True</td>\n",
       "    </tr>\n",
       "    <tr>\n",
       "      <th>3</th>\n",
       "      <td>9.5</td>\n",
       "      <td>NaN</td>\n",
       "      <td>2.8</td>\n",
       "      <td>True</td>\n",
       "    </tr>\n",
       "  </tbody>\n",
       "</table>\n",
       "</div>"
      ],
      "text/plain": [
       "   pred pKa  matched exp pKa  absolute error  duplicate_match\n",
       "0       2.1              3.5             1.4            False\n",
       "1       7.4              6.7             0.7             True\n",
       "2       9.0              NaN             2.3             True\n",
       "3       9.5              NaN             2.8             True"
      ]
     },
     "execution_count": 97,
     "metadata": {},
     "output_type": "execute_result"
    }
   ],
   "source": [
    "# Among dublicate matches, find the predicted pKa with minimum absolute error\n",
    "df_dublicate_matches = df_pKa_match.loc[df_pKa_match[\"duplicate_match\"] == True]\n",
    "min_abs_error_of_duplicates = min(df_dublicate_matches.loc[:, \"absolute error\"])\n",
    "\n",
    "for row in df_dublicate_matches.iterrows():\n",
    "    index = row[0]\n",
    "    abs_error = row[1][\"absolute error\"]\n",
    "    pred_pKa = row[1][\"pred pKa\"]\n",
    "    \n",
    "    # for dublicates with bigger absolute error, modify matched exp pKa to np.NaN\n",
    "    if abs_error == min_abs_error_of_duplicates:\n",
    "        continue\n",
    "    else:\n",
    "        df_pKa_match.loc[index, \"matched exp pKa\"] = np.NaN\n",
    "\n",
    "df_pKa_match"
   ]
  },
  {
   "cell_type": "code",
   "execution_count": 98,
   "metadata": {},
   "outputs": [
    {
     "data": {
      "text/html": [
       "<div>\n",
       "<style>\n",
       "    .dataframe thead tr:only-child th {\n",
       "        text-align: right;\n",
       "    }\n",
       "\n",
       "    .dataframe thead th {\n",
       "        text-align: left;\n",
       "    }\n",
       "\n",
       "    .dataframe tbody tr th {\n",
       "        vertical-align: top;\n",
       "    }\n",
       "</style>\n",
       "<table border=\"1\" class=\"dataframe\">\n",
       "  <thead>\n",
       "    <tr style=\"text-align: right;\">\n",
       "      <th></th>\n",
       "      <th>pred pKa</th>\n",
       "      <th>matched exp pKa</th>\n",
       "      <th>absolute error</th>\n",
       "      <th>duplicate_match</th>\n",
       "    </tr>\n",
       "  </thead>\n",
       "  <tbody>\n",
       "    <tr>\n",
       "      <th>0</th>\n",
       "      <td>2.1</td>\n",
       "      <td>3.5</td>\n",
       "      <td>1.4</td>\n",
       "      <td>False</td>\n",
       "    </tr>\n",
       "    <tr>\n",
       "      <th>1</th>\n",
       "      <td>7.4</td>\n",
       "      <td>6.7</td>\n",
       "      <td>0.7</td>\n",
       "      <td>True</td>\n",
       "    </tr>\n",
       "    <tr>\n",
       "      <th>2</th>\n",
       "      <td>9.0</td>\n",
       "      <td>NaN</td>\n",
       "      <td>2.3</td>\n",
       "      <td>True</td>\n",
       "    </tr>\n",
       "    <tr>\n",
       "      <th>3</th>\n",
       "      <td>9.5</td>\n",
       "      <td>NaN</td>\n",
       "      <td>2.8</td>\n",
       "      <td>True</td>\n",
       "    </tr>\n",
       "  </tbody>\n",
       "</table>\n",
       "</div>"
      ],
      "text/plain": [
       "   pred pKa  matched exp pKa  absolute error  duplicate_match\n",
       "0       2.1              3.5             1.4            False\n",
       "1       7.4              6.7             0.7             True\n",
       "2       9.0              NaN             2.3             True\n",
       "3       9.5              NaN             2.8             True"
      ]
     },
     "execution_count": 98,
     "metadata": {},
     "output_type": "execute_result"
    }
   ],
   "source": [
    "def match_exp_and_pred_pKas(exp_pKas, pred_pKas):\n",
    "    \"\"\"\n",
    "    Finds closest match between N experimental and M predicted pKas, based on \n",
    "    minimum absolute error. If multiple predicted pKas are mapped to the \n",
    "    same experimental value, predicted pKa with smallest pKa will be matched to\n",
    "    experimental pKa and others will be matched to NaN.\n",
    "    \n",
    "    Args:\n",
    "        exp_pKas: Numpy array of experimental pKas\n",
    "        pred_pKas: Numpy array of predicted pKas\n",
    "    \n",
    "    Returns:\n",
    "        Pandas DataFrame with predicted pKas and matched experimental pKa columns\n",
    "    \n",
    "    \"\"\"\n",
    "    \n",
    "    # create a dataframe to store absolute errors for all possible experimental and predicted pKa matches\n",
    "    # columns: experimental pKa\n",
    "    # rows: predicted pKa\n",
    "    df_abs_error = pd.DataFrame(index = pred_pKas, columns = exp_pKas)\n",
    "\n",
    "    # iterate over predicted pKas to find the experimental pKa that gives the minimum absolute error.\n",
    "    for i, pred_pKa in enumerate(pred_pKas):\n",
    "        for j, exp_pKa in enumerate(exp_pKas):\n",
    "            absolute_error = np.abs( pred_pKa - exp_pKa)\n",
    "            df_abs_error.loc[pred_pKa,exp_pKa] = absolute_error\n",
    "\n",
    "    # Find the nearest experimental pKa for each predicted pKa\n",
    "    df_pKa_match = pd.DataFrame()\n",
    "    df_pKa_match[\"pred pKa\"] = np.NaN\n",
    "    df_pKa_match[\"matched exp pKa\"] = np.NaN\n",
    "    df_pKa_match[\"absolute error\"] = np.NaN\n",
    "\n",
    "    for i, pred_pKa in enumerate(pred_pKas):\n",
    "        min_abs_error = min(df_abs_error.loc[pred_pKa, :])\n",
    "\n",
    "        # Find the column name (experimental pKa) that corresponds to minimum absolute error\n",
    "        matched_exp_pKa = df_abs_error.loc[:, df_abs_error.loc[pred_pKa,:].values == min_abs_error].columns.values[0]\n",
    "        #print(\"pred pKa: \", pred_pKa, \" exp pKa: \", matched_exp_pKa)\n",
    "        df_pKa_match.loc[i, \"pred pKa\"]= pred_pKa\n",
    "        df_pKa_match.loc[i, \"matched exp pKa\"]= matched_exp_pKa\n",
    "        df_pKa_match.loc[i, \"absolute error\"] = min_abs_error\n",
    "\n",
    "    # If multiple predicted pKas are matched to same experimental pKa, keep the closer match\n",
    "    # The unmatched predicted pKa will be assigned exp pKa np.NaN\n",
    "    df_pKa_match['duplicate_match'] = df_pKa_match.duplicated(\"matched exp pKa\", keep=False)\n",
    "    \n",
    "    # Among dublicate matches, find the predicted pKa with minimum absolute error\n",
    "    df_dublicate_matches = df_pKa_match.loc[df_pKa_match[\"duplicate_match\"] == True]\n",
    "    min_abs_error_of_duplicates = min(df_dublicate_matches.loc[:, \"absolute error\"])\n",
    "\n",
    "    for row in df_dublicate_matches.iterrows():\n",
    "        index = row[0]\n",
    "        abs_error = row[1][\"absolute error\"]\n",
    "        pred_pKa = row[1][\"pred pKa\"]\n",
    "\n",
    "        # for dublicates with bigger absolute error, modify matched exp pKa to np.NaN\n",
    "        if abs_error == min_abs_error_of_duplicates:\n",
    "            continue\n",
    "        else:\n",
    "            df_pKa_match.loc[index, \"matched exp pKa\"] = np.NaN\n",
    "    \n",
    "    return df_pKa_match \n",
    "\n",
    "df_pKa_match  = match_exp_and_pred_pKas(exp_pKas, pred_pKas)\n",
    "df_pKa_match"
   ]
  },
  {
   "cell_type": "code",
   "execution_count": null,
   "metadata": {
    "collapsed": true
   },
   "outputs": [],
   "source": [
    ""
   ]
  }
 ],
 "metadata": {
  "kernelspec": {
   "display_name": "Python 3",
   "language": "python",
   "name": "python3"
  },
  "language_info": {
   "codemirror_mode": {
    "name": "ipython",
    "version": 3.0
   },
   "file_extension": ".py",
   "mimetype": "text/x-python",
   "name": "python",
   "nbconvert_exporter": "python",
   "pygments_lexer": "ipython3",
   "version": "3.5.3"
  }
 },
 "nbformat": 4,
 "nbformat_minor": 0
}
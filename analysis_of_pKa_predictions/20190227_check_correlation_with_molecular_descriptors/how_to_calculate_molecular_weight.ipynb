{
 "cells": [
  {
   "cell_type": "code",
   "execution_count": 1,
   "metadata": {},
   "outputs": [],
   "source": [
    "from openeye import oechem\n",
    "from openeye import oemolprop"
   ]
  },
  {
   "cell_type": "code",
   "execution_count": 2,
   "metadata": {},
   "outputs": [],
   "source": [
    "# Maximum and minumum values stated here actually doesn't matter \n",
    "# because I won't filter molecules.\n",
    "def get_filter_rules():\n",
    "\n",
    "    FILTER_RULES = \"\"\"\n",
    "# This file defines the rules for filtering multi-structure files based on\n",
    "# properties and substructure patterns.\n",
    "\n",
    "MIN_MOLWT      130       \"Minimum molecular weight\"\n",
    "MAX_MOLWT      781       \"Maximum molecular weight\"\n",
    "\"\"\"\n",
    "    return FILTER_RULES\n",
    "\n",
    "def calc_mw(mol):\n",
    "    \"\"\"\n",
    "    Calculates molecular weight of given mol object\n",
    "    \"\"\"\n",
    "    ifs = oechem.oeisstream(get_filter_rules())\n",
    "    filter = oemolprop.OEFilter(ifs)\n",
    "    \n",
    "    ostr = oechem.oeosstream()\n",
    "    pwnd = False\n",
    "    filter.SetTable(ostr, pwnd)\n",
    "    \n",
    "    headers = ostr.str().split(b'\\t')\n",
    "    ostr.clear()  # remove the header row from the stream\n",
    "    \n",
    "    filter(mol)\n",
    "    \n",
    "    fields = ostr.str().decode(\"UTF-8\").split('\\t')\n",
    "    ostr.clear()  # remove this row from the stream\n",
    "    \n",
    "    filterdict = dict(zip(headers, fields))\n",
    "    \n",
    "    mw = float(filterdict[b\"molecular weight\"])\n",
    "    \n",
    "    return mw"
   ]
  },
  {
   "cell_type": "code",
   "execution_count": 3,
   "metadata": {},
   "outputs": [
    {
     "data": {
      "text/plain": [
       "217.22"
      ]
     },
     "execution_count": 3,
     "metadata": {},
     "output_type": "execute_result"
    }
   ],
   "source": [
    "# Create OE mol object from SMILES\n",
    "smiles = \"c1cc2c(cc1O)c3c(o2)C(=O)NCCC3\"\n",
    "mol = oechem.OEGraphMol()\n",
    "oechem.OESmilesToMol(mol, str(smiles))\n",
    "\n",
    "# Get molecular weight (g/mol)\n",
    "calc_mw(mol)"
   ]
  },
  {
   "cell_type": "code",
   "execution_count": null,
   "metadata": {},
   "outputs": [],
   "source": []
  }
 ],
 "metadata": {
  "kernelspec": {
   "display_name": "Python 3",
   "language": "python",
   "name": "python3"
  },
  "language_info": {
   "codemirror_mode": {
    "name": "ipython",
    "version": 3
   },
   "file_extension": ".py",
   "mimetype": "text/x-python",
   "name": "python",
   "nbconvert_exporter": "python",
   "pygments_lexer": "ipython3",
   "version": "3.6.7"
  }
 },
 "nbformat": 4,
 "nbformat_minor": 2
}

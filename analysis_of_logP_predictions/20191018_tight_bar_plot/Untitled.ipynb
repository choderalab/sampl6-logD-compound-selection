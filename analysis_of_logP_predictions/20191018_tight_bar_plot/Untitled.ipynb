{
 "cells": [
  {
   "cell_type": "code",
   "execution_count": 1,
   "metadata": {
    "collapsed": true
   },
   "outputs": [],
   "source": [
    "import pandas as pd\n",
    "import numpy as np\n",
    "import seaborn as sns\n",
    "from matplotlib import pyplot as plt\n",
    "import scipy.stats"
   ]
  },
  {
   "cell_type": "code",
   "execution_count": 2,
   "metadata": {
    "collapsed": true
   },
   "outputs": [],
   "source": [
    "def barplot_with_CI_errorbars_colored_by_label(df, x_label, y_label, y_lower_label, y_upper_label, color_label, figsize=False):\n",
    "    \"\"\"Creates bar plot of a given dataframe with asymmetric error bars for y axis.\n",
    "\n",
    "        Args:\n",
    "            df: Pandas Dataframe that should have columns with columnnames specified in other arguments.\n",
    "            x_label: str, column name of x axis categories\n",
    "            y_label: str, column name of y axis values\n",
    "            y_lower_label: str, column name of lower error values of y axis\n",
    "            y_upper_label: str, column name of upper error values of y axis\n",
    "            color_label: str, column name of label that will determine the color of bars\n",
    "            figsize: tuple, size in inches. Default value is False.\n",
    "\n",
    "        \"\"\"\n",
    "    # Column names for new columns for delta y_err which is calculated as | y_err - y |\n",
    "    delta_lower_yerr_label = \"$\\Delta$\" + y_lower_label\n",
    "    delta_upper_yerr_label = \"$\\Delta$\" + y_upper_label\n",
    "    data = df  # Pandas DataFrame\n",
    "    data.loc[:, delta_lower_yerr_label] = data.loc[:, y_label] - data.loc[:, y_lower_label]\n",
    "    data.loc[:, delta_upper_yerr_label] = data.loc[:, y_upper_label] - data.loc[:, y_label]\n",
    "\n",
    "    # Color\n",
    "    #current_palette = sns.color_palette()\n",
    "    #sns_color = current_palette[2] # Error bar color\n",
    "\n",
    "    # Zesty colorblind-friendly color palette\n",
    "    color0 = \"#0F2080\"\n",
    "    color1 = \"#F5793A\"\n",
    "    color2 = \"#A95AA1\"\n",
    "    color3 = \"#85C0F9\"\n",
    "    current_palette = [color0, color1, color2, color3]\n",
    "    error_color = 'gray'\n",
    "\n",
    "    # Bar colors\n",
    "    if color_label == \"category\":\n",
    "        category_list = [\"Physical\", \"Empirical\", \"Mixed\", \"Other\"]\n",
    "    elif color_label == \"reassigned_category\":\n",
    "        category_list = [\"Physical (MM)\", \"Empirical\", \"Mixed\", \"Physical (QM)\"]\n",
    "    elif color_label == \"type\":\n",
    "        category_list = [\"Standard\", \"Reference\"]\n",
    "    else:\n",
    "        Exception(\"Error: Unsupported label used for coloring\")\n",
    "    bar_color_dict = {}\n",
    "    for i, cat in enumerate(category_list):\n",
    "        bar_color_dict[cat] = current_palette[i]\n",
    "    print(\"bar_color_dict:\\n\", bar_color_dict)\n",
    "\n",
    "\n",
    "    # Plot style\n",
    "    plt.close()\n",
    "    plt.style.use([\"seaborn-talk\", \"seaborn-whitegrid\"])\n",
    "    plt.rcParams['axes.labelsize'] = 20 # 18\n",
    "    plt.rcParams['xtick.labelsize'] = 14\n",
    "    plt.rcParams['ytick.labelsize'] = 18 #16\n",
    "    plt.rcParams['legend.fontsize'] = 16\n",
    "    plt.rcParams['legend.handlelength'] = 2\n",
    "    # plt.tight_layout()\n",
    "\n",
    "    # If figsize is specified\n",
    "    if figsize != False:\n",
    "        plt.figure(figsize=figsize)\n",
    "\n",
    "    # Plot\n",
    "    x = range(len(data[y_label]))\n",
    "    y = data[y_label]\n",
    "    #barlist = plt.bar(x, y)\n",
    "    fig, ax = plt.subplots(figsize=figsize)\n",
    "    barlist = ax.bar(x, y)\n",
    "\n",
    "    plt.xticks(x, data[x_label], rotation=90)\n",
    "    plt.errorbar(x, y, yerr=(data[delta_lower_yerr_label], data[delta_upper_yerr_label]),\n",
    "                 fmt=\"none\", ecolor=error_color, capsize=3, elinewidth=2, capthick=True)\n",
    "    plt.xlabel(x_label)\n",
    "    plt.ylabel(y_label)\n",
    "\n",
    "    # Reset color of bars based on color label\n",
    "    #print(\"data.columns:\\n\",data.columns)\n",
    "    #print(\"\\nData:\\n\", data)\n",
    "    for i, c_label in enumerate(data.loc[:, color_label]):\n",
    "        barlist[i].set_color(bar_color_dict[c_label])\n",
    "\n",
    "    # create legend\n",
    "    from matplotlib.lines import Line2D\n",
    "    if color_label == 'category':\n",
    "        custom_lines = [Line2D([0], [0], color=bar_color_dict[\"Physical\"], lw=5),\n",
    "                        Line2D([0], [0], color=bar_color_dict[\"Empirical\"], lw=5),\n",
    "                        Line2D([0], [0], color=bar_color_dict[\"Mixed\"], lw=5),\n",
    "                        Line2D([0], [0], color=bar_color_dict[\"Other\"], lw=5)]\n",
    "    elif color_label == 'reassigned_category':\n",
    "        custom_lines = [Line2D([0], [0], color=bar_color_dict[\"Physical (MM)\"], lw=5),\n",
    "                        Line2D([0], [0], color=bar_color_dict[\"Empirical\"], lw=5),\n",
    "                        Line2D([0], [0], color=bar_color_dict[\"Mixed\"], lw=5),\n",
    "                        Line2D([0], [0], color=bar_color_dict[\"Physical (QM)\"], lw=5)]\n",
    "    elif color_label == 'type':\n",
    "        custom_lines = [Line2D([0], [0], color=bar_color_dict[\"Standard\"], lw=5),\n",
    "                        Line2D([0], [0], color=bar_color_dict[\"Reference\"], lw=5)]"
   ]
  },
  {
   "cell_type": "code",
   "execution_count": 7,
   "metadata": {
    "collapsed": false
   },
   "outputs": [
    {
     "name": "stdout",
     "output_type": "stream",
     "text": [
      "bar_color_dict:\n",
      " {'Physical (MM)': '#0F2080', 'Empirical': '#F5793A', 'Mixed': '#A95AA1', 'Physical (QM)': '#85C0F9'}\n"
     ]
    }
   ],
   "source": [
    "df_statistics = pd.read_csv(\"statistics.csv\")\n",
    "directory_path=\".\"\n",
    "       \n",
    "\n",
    "# RMSE comparison plot with each category colored separately\n",
    "barplot_with_CI_errorbars_colored_by_label(df=df_statistics, x_label=\"ID\", y_label=\"RMSE\",\n",
    "                            y_lower_label=\"RMSE_lower_bound\",\n",
    "                            y_upper_label=\"RMSE_upper_bound\", color_label = \"reassigned_category\", figsize=(28,10))\n",
    "plt.ylim(0.0, 7.0)\n",
    "plt.savefig(directory_path + \"/test_tight_plot.pdf\",  bbox_inches='tight')"
   ]
  },
  {
   "cell_type": "code",
   "execution_count": null,
   "metadata": {
    "collapsed": true
   },
   "outputs": [],
   "source": []
  }
 ],
 "metadata": {
  "kernelspec": {
   "display_name": "Python 3",
   "language": "python",
   "name": "python3"
  },
  "language_info": {
   "codemirror_mode": {
    "name": "ipython",
    "version": 3
   },
   "file_extension": ".py",
   "mimetype": "text/x-python",
   "name": "python",
   "nbconvert_exporter": "python",
   "pygments_lexer": "ipython3",
   "version": "3.6.0"
  }
 },
 "nbformat": 4,
 "nbformat_minor": 2
}

{
 "cells": [
  {
   "cell_type": "code",
   "execution_count": 9,
   "metadata": {
    "collapsed": false
   },
   "outputs": [
    {
     "ename": "ModuleNotFoundError",
     "evalue": "No module named 'joypy'",
     "output_type": "error",
     "traceback": [
      "\u001b[0;31m---------------------------------------------------------------------------\u001b[0m",
      "\u001b[0;31mModuleNotFoundError\u001b[0m                       Traceback (most recent call last)",
      "\u001b[0;32m<ipython-input-9-f554b985eeae>\u001b[0m in \u001b[0;36m<module>\u001b[0;34m()\u001b[0m\n\u001b[1;32m      3\u001b[0m \u001b[0;32mfrom\u001b[0m \u001b[0mmatplotlib\u001b[0m \u001b[0;32mimport\u001b[0m \u001b[0mcolors\u001b[0m \u001b[0;32mas\u001b[0m \u001b[0mmcolors\u001b[0m\u001b[0;34m\u001b[0m\u001b[0m\n\u001b[1;32m      4\u001b[0m \u001b[0;32mfrom\u001b[0m \u001b[0mmatplotlib\u001b[0m \u001b[0;32mimport\u001b[0m \u001b[0mcm\u001b[0m\u001b[0;34m\u001b[0m\u001b[0m\n\u001b[0;32m----> 5\u001b[0;31m \u001b[0;32mimport\u001b[0m \u001b[0mjoypy\u001b[0m\u001b[0;34m\u001b[0m\u001b[0m\n\u001b[0m\u001b[1;32m      6\u001b[0m \u001b[0;34m\u001b[0m\u001b[0m\n\u001b[1;32m      7\u001b[0m \u001b[0;32mimport\u001b[0m \u001b[0mpandas\u001b[0m \u001b[0;32mas\u001b[0m \u001b[0mpd\u001b[0m\u001b[0;34m\u001b[0m\u001b[0m\n",
      "\u001b[0;31mModuleNotFoundError\u001b[0m: No module named 'joypy'"
     ]
    }
   ],
   "source": [
    "%matplotlib inline\n",
    "import matplotlib.pyplot as plt\n",
    "from matplotlib import colors as mcolors\n",
    "from matplotlib import cm\n",
    "import joypy\n",
    "\n",
    "import pandas as pd\n",
    "import numpy as np\n",
    "#import seaborn as sns"
   ]
  },
  {
   "cell_type": "markdown",
   "metadata": {},
   "source": [
    "# Select Colors"
   ]
  },
  {
   "cell_type": "code",
   "execution_count": 5,
   "metadata": {
    "collapsed": false
   },
   "outputs": [],
   "source": [
    "colors = dict(mcolors.BASE_COLORS, **mcolors.CSS4_COLORS)\n",
    "\n",
    "#zesty_color_palette \n",
    "color0 = colors[\"mediumblue\"]\n",
    "color1 = colors[\"coral\"]\n",
    "color2 = colors[\"deepskyblue\"] #\"deepskyblue\"\n",
    "color3 = colors[\"mediumorchid\"]\n",
    "\n",
    "zesty_color_palette = [color0, color1, color2, color3]"
   ]
  },
  {
   "cell_type": "markdown",
   "metadata": {},
   "source": [
    "# Make a barplot to check colors"
   ]
  },
  {
   "cell_type": "code",
   "execution_count": 6,
   "metadata": {
    "collapsed": true
   },
   "outputs": [],
   "source": [
    "def barplot_with_CI_errorbars(df, x_label, y_label, y_lower_label, y_upper_label, figsize=False):\n",
    "    \"\"\"Creates bar plot of a given dataframe with asymmetric error bars for y axis.\n",
    "\n",
    "    Args:\n",
    "        df: Pandas Dataframe that should have columns with columnnames specified in other arguments.\n",
    "        x_label: str, column name of x axis categories\n",
    "        y_label: str, column name of y axis values\n",
    "        y_lower_label: str, column name of lower error values of y axis\n",
    "        y_upper_label: str, column name of upper error values of y axis\n",
    "        figsize: tuple, size in inches. Default value is False.\n",
    "\n",
    "    \"\"\"\n",
    "    # Column names for new columns for delta y_err which is calculated as | y_err - y |\n",
    "    delta_lower_yerr_label = \"$\\Delta$\" + y_lower_label\n",
    "    delta_upper_yerr_label = \"$\\Delta$\" + y_upper_label\n",
    "    data = df  # Pandas DataFrame\n",
    "    data.loc[:,delta_lower_yerr_label] = data.loc[:,y_label] - data.loc[:,y_lower_label]\n",
    "    data.loc[:,delta_upper_yerr_label] = data.loc[:,y_upper_label] - data.loc[:,y_label]\n",
    "\n",
    "    # Color\n",
    "    #current_palette = sns.color_palette()\n",
    "    #sns_color = current_palette[2]\n",
    "\n",
    "    # Plot style\n",
    "    plt.close()\n",
    "    plt.style.use([\"seaborn-talk\", \"seaborn-whitegrid\"])\n",
    "    plt.rcParams['axes.labelsize'] = 20 # 18\n",
    "    plt.rcParams['xtick.labelsize'] = 14\n",
    "    plt.rcParams['ytick.labelsize'] = 18 #16\n",
    "    plt.rcParams['legend.fontsize'] = 16\n",
    "    plt.rcParams['legend.handlelength'] = 2\n",
    "    #plt.tight_layout()\n",
    "\n",
    "    # If figsize is specified\n",
    "    if figsize != False:\n",
    "        plt.figure(figsize=figsize)\n",
    "\n",
    "    # Plot\n",
    "    x = range(len(data[y_label]))\n",
    "    y = data[y_label]\n",
    "    plt.bar(x[0], y[0], color=color0)\n",
    "    plt.bar(x[1], y[1], color=color1)\n",
    "    plt.bar(x[2], y[2], color=color2)\n",
    "    plt.bar(x[3], y[3], color=color3)\n",
    "    plt.xticks(x, data[x_label], rotation=90)\n",
    "    plt.errorbar(x, y, yerr=(data[delta_lower_yerr_label], data[delta_upper_yerr_label]),\n",
    "                 fmt=\"none\", ecolor=\"grey\", capsize=3, capthick=True)\n",
    "    plt.xlabel(x_label)\n",
    "    plt.ylabel(y_label)"
   ]
  },
  {
   "cell_type": "code",
   "execution_count": 7,
   "metadata": {
    "collapsed": false
   },
   "outputs": [
    {
     "data": {
      "text/html": [
       "<div>\n",
       "<table border=\"1\" class=\"dataframe\">\n",
       "  <thead>\n",
       "    <tr style=\"text-align: right;\">\n",
       "      <th></th>\n",
       "      <th>ID</th>\n",
       "      <th>RMSE</th>\n",
       "      <th>RMSE_lower_CI</th>\n",
       "      <th>RMSE_upper_CI</th>\n",
       "    </tr>\n",
       "  </thead>\n",
       "  <tbody>\n",
       "    <tr>\n",
       "      <th>0</th>\n",
       "      <td>aaaaa</td>\n",
       "      <td>10</td>\n",
       "      <td>9.0</td>\n",
       "      <td>11.0</td>\n",
       "    </tr>\n",
       "    <tr>\n",
       "      <th>1</th>\n",
       "      <td>bbbbb</td>\n",
       "      <td>9</td>\n",
       "      <td>7.0</td>\n",
       "      <td>10.0</td>\n",
       "    </tr>\n",
       "    <tr>\n",
       "      <th>2</th>\n",
       "      <td>cccccc</td>\n",
       "      <td>2</td>\n",
       "      <td>0.0</td>\n",
       "      <td>2.5</td>\n",
       "    </tr>\n",
       "    <tr>\n",
       "      <th>3</th>\n",
       "      <td>ddddd</td>\n",
       "      <td>5</td>\n",
       "      <td>3.5</td>\n",
       "      <td>8.0</td>\n",
       "    </tr>\n",
       "  </tbody>\n",
       "</table>\n",
       "</div>"
      ],
      "text/plain": [
       "       ID  RMSE  RMSE_lower_CI  RMSE_upper_CI\n",
       "0   aaaaa    10            9.0           11.0\n",
       "1   bbbbb     9            7.0           10.0\n",
       "2  cccccc     2            0.0            2.5\n",
       "3   ddddd     5            3.5            8.0"
      ]
     },
     "execution_count": 7,
     "metadata": {},
     "output_type": "execute_result"
    }
   ],
   "source": [
    "data = [[\"aaaaa\", 10, 9, 11], [\"bbbbb\", 9, 7, 10], [\"cccccc\", 2, 0, 2.5], [\"ddddd\", 5, 3.5, 8]]\n",
    "df = pd.DataFrame(data, columns = ['ID', 'RMSE', 'RMSE_lower_CI', 'RMSE_upper_CI']) \n",
    "df "
   ]
  },
  {
   "cell_type": "code",
   "execution_count": 8,
   "metadata": {
    "collapsed": false
   },
   "outputs": [
    {
     "data": {
      "image/png": "[encoded data removed]",
      "text/plain": [
       "<matplotlib.figure.Figure at 0x11d368cf8>"
      ]
     },
     "metadata": {},
     "output_type": "display_data"
    }
   ],
   "source": [
    "barplot_with_CI_errorbars(df=df, x_label=\"ID\", y_label=\"RMSE\", y_lower_label=\"RMSE_lower_CI\", y_upper_label=\"RMSE_upper_CI\", figsize=False)"
   ]
  },
  {
   "cell_type": "code",
   "execution_count": null,
   "metadata": {
    "collapsed": true
   },
   "outputs": [],
   "source": []
  }
 ],
 "metadata": {
  "kernelspec": {
   "display_name": "Python 3",
   "language": "python",
   "name": "python3"
  },
  "language_info": {
   "codemirror_mode": {
    "name": "ipython",
    "version": 3
   },
   "file_extension": ".py",
   "mimetype": "text/x-python",
   "name": "python",
   "nbconvert_exporter": "python",
   "pygments_lexer": "ipython3",
   "version": "3.6.0"
  }
 },
 "nbformat": 4,
 "nbformat_minor": 2
}
